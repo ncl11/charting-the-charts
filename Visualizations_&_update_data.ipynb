{
 "cells": [
  {
   "cell_type": "code",
   "execution_count": 29,
   "metadata": {},
   "outputs": [
    {
     "name": "stdout",
     "output_type": "stream",
     "text": [
      "Alpha -10\n",
      "train RMSE: 119662.16154608905\n",
      "train R2 0.9596427474343802\n",
      "test RMSE: 246239.39492140207\n",
      "test R2 0.7275983828230643\n"
     ]
    }
   ],
   "source": [
    "from sklearn.linear_model import LinearRegression\n",
    "from sklearn.linear_model import Ridge\n",
    "from sklearn.metrics import mean_squared_error, r2_score\n",
    "from sklearn.preprocessing import StandardScaler\n",
    "import numpy as np\n",
    "from matplotlib import pyplot as plt\n",
    "\n",
    "df_weekly = pd.read_csv('6_mo_weekly.csv', sep='\\t')\n",
    "\n",
    "train = df_weekly[df_weekly['Date'] <= '2020-10-15']\n",
    "train = train.drop(['Date', 'Release', 'Y'],axis=1)\n",
    "y_train = train['Week + 1']\n",
    "X_train = train.drop('Week + 1', axis = 1)\n",
    "\n",
    "test = df_weekly[df_weekly['Date'] > '2020-10-15']\n",
    "test = test.drop(['Date', 'Release', 'Y'],axis=1)\n",
    "y_test = test['Week + 1']\n",
    "X_test = test.drop('Week + 1', axis=1)\n",
    "\n",
    "        \n",
    "#scaler = StandardScaler()\n",
    "#train_t = scaler.fit_transform(X_train)\n",
    "#val_t = scaler.transform(X_test)\n",
    "\n",
    "#X_train = pd.DataFrame(train_t)\n",
    "#X_test = pd.DataFrame(val_t)\n",
    "\n",
    "\n",
    "train_rmse_list = []\n",
    "train_r2_list = []\n",
    "test_rmse_list = []\n",
    "test_r2_list = []\n",
    "\n",
    "alphas = [-10] #[2**k for k in range(-10,10)]\n",
    "for alpha in alphas:\n",
    "    linreg = Ridge(alpha = alpha, fit_intercept=True)\n",
    "    linreg.fit(X_train, y_train)\n",
    "#    print('intercept:',linreg.intercept_)\n",
    "#    print('theta:',linreg.coef_)\n",
    "        \n",
    "    mean = np.mean(y_train)\n",
    "\n",
    "    y_train_pred = linreg.predict(X_train)\n",
    "    y_test_pred = linreg.predict(X_test)\n",
    "\n",
    "    train_rmse = mean_squared_error(y_train, y_train_pred,squared = False)\n",
    "    train_r2 = r2_score(y_train,y_train_pred)\n",
    "\n",
    "    test_rmse = mean_squared_error(y_test, y_test_pred, squared = False)\n",
    "    test_r2 = r2_score(y_test, y_test_pred)\n",
    "\n",
    "    print('Alpha', alpha)\n",
    "    print('train RMSE:',(train_rmse))\n",
    "    print('train R2', train_r2)\n",
    "    print('test RMSE:',(test_rmse))\n",
    "    print('test R2', test_r2)\n",
    "    train_rmse_list.append(train_rmse)\n",
    "\n",
    "    train_r2_list.append(train_r2)\n",
    "    test_rmse_list.append(test_rmse)\n",
    "    test_r2_list.append(test_r2)"
   ]
  },
  {
   "cell_type": "code",
   "execution_count": 48,
   "metadata": {},
   "outputs": [
    {
     "name": "stdout",
     "output_type": "stream",
     "text": [
      "2020-12-14 00:00:00 [2167080.73058371]\n"
     ]
    },
    {
     "data": {
      "application/vnd.plotly.v1+json": {
       "config": {
        "plotlyServerURL": "https://plot.ly"
       },
       "data": [
        {
         "line": {
          "color": "orange",
          "width": 2
         },
         "mode": "lines",
         "name": "Gross",
         "type": "scatter",
         "x": [
          "2020-11-23T00:00:00",
          "2020-11-30T00:00:00",
          "2020-12-07T00:00:00"
         ],
         "y": [
          14274455,
          6065810,
          3970375
         ]
        },
        {
         "line": {
          "color": "red",
          "width": 2
         },
         "mode": "markers",
         "name": "Google Trends",
         "type": "scatter",
         "x": [
          "2020-12-14T00:00:00"
         ],
         "y": [
          2167080.730583711
         ]
        }
       ],
       "layout": {
        "paper_bgcolor": "#23272c",
        "plot_bgcolor": "#23272c",
        "template": {
         "data": {
          "bar": [
           {
            "error_x": {
             "color": "#f2f5fa"
            },
            "error_y": {
             "color": "#f2f5fa"
            },
            "marker": {
             "line": {
              "color": "rgb(17,17,17)",
              "width": 0.5
             }
            },
            "type": "bar"
           }
          ],
          "barpolar": [
           {
            "marker": {
             "line": {
              "color": "rgb(17,17,17)",
              "width": 0.5
             }
            },
            "type": "barpolar"
           }
          ],
          "carpet": [
           {
            "aaxis": {
             "endlinecolor": "#A2B1C6",
             "gridcolor": "#506784",
             "linecolor": "#506784",
             "minorgridcolor": "#506784",
             "startlinecolor": "#A2B1C6"
            },
            "baxis": {
             "endlinecolor": "#A2B1C6",
             "gridcolor": "#506784",
             "linecolor": "#506784",
             "minorgridcolor": "#506784",
             "startlinecolor": "#A2B1C6"
            },
            "type": "carpet"
           }
          ],
          "choropleth": [
           {
            "colorbar": {
             "outlinewidth": 0,
             "ticks": ""
            },
            "type": "choropleth"
           }
          ],
          "contour": [
           {
            "colorbar": {
             "outlinewidth": 0,
             "ticks": ""
            },
            "colorscale": [
             [
              0,
              "#0d0887"
             ],
             [
              0.1111111111111111,
              "#46039f"
             ],
             [
              0.2222222222222222,
              "#7201a8"
             ],
             [
              0.3333333333333333,
              "#9c179e"
             ],
             [
              0.4444444444444444,
              "#bd3786"
             ],
             [
              0.5555555555555556,
              "#d8576b"
             ],
             [
              0.6666666666666666,
              "#ed7953"
             ],
             [
              0.7777777777777778,
              "#fb9f3a"
             ],
             [
              0.8888888888888888,
              "#fdca26"
             ],
             [
              1,
              "#f0f921"
             ]
            ],
            "type": "contour"
           }
          ],
          "contourcarpet": [
           {
            "colorbar": {
             "outlinewidth": 0,
             "ticks": ""
            },
            "type": "contourcarpet"
           }
          ],
          "heatmap": [
           {
            "colorbar": {
             "outlinewidth": 0,
             "ticks": ""
            },
            "colorscale": [
             [
              0,
              "#0d0887"
             ],
             [
              0.1111111111111111,
              "#46039f"
             ],
             [
              0.2222222222222222,
              "#7201a8"
             ],
             [
              0.3333333333333333,
              "#9c179e"
             ],
             [
              0.4444444444444444,
              "#bd3786"
             ],
             [
              0.5555555555555556,
              "#d8576b"
             ],
             [
              0.6666666666666666,
              "#ed7953"
             ],
             [
              0.7777777777777778,
              "#fb9f3a"
             ],
             [
              0.8888888888888888,
              "#fdca26"
             ],
             [
              1,
              "#f0f921"
             ]
            ],
            "type": "heatmap"
           }
          ],
          "heatmapgl": [
           {
            "colorbar": {
             "outlinewidth": 0,
             "ticks": ""
            },
            "colorscale": [
             [
              0,
              "#0d0887"
             ],
             [
              0.1111111111111111,
              "#46039f"
             ],
             [
              0.2222222222222222,
              "#7201a8"
             ],
             [
              0.3333333333333333,
              "#9c179e"
             ],
             [
              0.4444444444444444,
              "#bd3786"
             ],
             [
              0.5555555555555556,
              "#d8576b"
             ],
             [
              0.6666666666666666,
              "#ed7953"
             ],
             [
              0.7777777777777778,
              "#fb9f3a"
             ],
             [
              0.8888888888888888,
              "#fdca26"
             ],
             [
              1,
              "#f0f921"
             ]
            ],
            "type": "heatmapgl"
           }
          ],
          "histogram": [
           {
            "marker": {
             "colorbar": {
              "outlinewidth": 0,
              "ticks": ""
             }
            },
            "type": "histogram"
           }
          ],
          "histogram2d": [
           {
            "colorbar": {
             "outlinewidth": 0,
             "ticks": ""
            },
            "colorscale": [
             [
              0,
              "#0d0887"
             ],
             [
              0.1111111111111111,
              "#46039f"
             ],
             [
              0.2222222222222222,
              "#7201a8"
             ],
             [
              0.3333333333333333,
              "#9c179e"
             ],
             [
              0.4444444444444444,
              "#bd3786"
             ],
             [
              0.5555555555555556,
              "#d8576b"
             ],
             [
              0.6666666666666666,
              "#ed7953"
             ],
             [
              0.7777777777777778,
              "#fb9f3a"
             ],
             [
              0.8888888888888888,
              "#fdca26"
             ],
             [
              1,
              "#f0f921"
             ]
            ],
            "type": "histogram2d"
           }
          ],
          "histogram2dcontour": [
           {
            "colorbar": {
             "outlinewidth": 0,
             "ticks": ""
            },
            "colorscale": [
             [
              0,
              "#0d0887"
             ],
             [
              0.1111111111111111,
              "#46039f"
             ],
             [
              0.2222222222222222,
              "#7201a8"
             ],
             [
              0.3333333333333333,
              "#9c179e"
             ],
             [
              0.4444444444444444,
              "#bd3786"
             ],
             [
              0.5555555555555556,
              "#d8576b"
             ],
             [
              0.6666666666666666,
              "#ed7953"
             ],
             [
              0.7777777777777778,
              "#fb9f3a"
             ],
             [
              0.8888888888888888,
              "#fdca26"
             ],
             [
              1,
              "#f0f921"
             ]
            ],
            "type": "histogram2dcontour"
           }
          ],
          "mesh3d": [
           {
            "colorbar": {
             "outlinewidth": 0,
             "ticks": ""
            },
            "type": "mesh3d"
           }
          ],
          "parcoords": [
           {
            "line": {
             "colorbar": {
              "outlinewidth": 0,
              "ticks": ""
             }
            },
            "type": "parcoords"
           }
          ],
          "pie": [
           {
            "automargin": true,
            "type": "pie"
           }
          ],
          "scatter": [
           {
            "marker": {
             "line": {
              "color": "#283442"
             }
            },
            "type": "scatter"
           }
          ],
          "scatter3d": [
           {
            "line": {
             "colorbar": {
              "outlinewidth": 0,
              "ticks": ""
             }
            },
            "marker": {
             "colorbar": {
              "outlinewidth": 0,
              "ticks": ""
             }
            },
            "type": "scatter3d"
           }
          ],
          "scattercarpet": [
           {
            "marker": {
             "colorbar": {
              "outlinewidth": 0,
              "ticks": ""
             }
            },
            "type": "scattercarpet"
           }
          ],
          "scattergeo": [
           {
            "marker": {
             "colorbar": {
              "outlinewidth": 0,
              "ticks": ""
             }
            },
            "type": "scattergeo"
           }
          ],
          "scattergl": [
           {
            "marker": {
             "line": {
              "color": "#283442"
             }
            },
            "type": "scattergl"
           }
          ],
          "scattermapbox": [
           {
            "marker": {
             "colorbar": {
              "outlinewidth": 0,
              "ticks": ""
             }
            },
            "type": "scattermapbox"
           }
          ],
          "scatterpolar": [
           {
            "marker": {
             "colorbar": {
              "outlinewidth": 0,
              "ticks": ""
             }
            },
            "type": "scatterpolar"
           }
          ],
          "scatterpolargl": [
           {
            "marker": {
             "colorbar": {
              "outlinewidth": 0,
              "ticks": ""
             }
            },
            "type": "scatterpolargl"
           }
          ],
          "scatterternary": [
           {
            "marker": {
             "colorbar": {
              "outlinewidth": 0,
              "ticks": ""
             }
            },
            "type": "scatterternary"
           }
          ],
          "surface": [
           {
            "colorbar": {
             "outlinewidth": 0,
             "ticks": ""
            },
            "colorscale": [
             [
              0,
              "#0d0887"
             ],
             [
              0.1111111111111111,
              "#46039f"
             ],
             [
              0.2222222222222222,
              "#7201a8"
             ],
             [
              0.3333333333333333,
              "#9c179e"
             ],
             [
              0.4444444444444444,
              "#bd3786"
             ],
             [
              0.5555555555555556,
              "#d8576b"
             ],
             [
              0.6666666666666666,
              "#ed7953"
             ],
             [
              0.7777777777777778,
              "#fb9f3a"
             ],
             [
              0.8888888888888888,
              "#fdca26"
             ],
             [
              1,
              "#f0f921"
             ]
            ],
            "type": "surface"
           }
          ],
          "table": [
           {
            "cells": {
             "fill": {
              "color": "#506784"
             },
             "line": {
              "color": "rgb(17,17,17)"
             }
            },
            "header": {
             "fill": {
              "color": "#2a3f5f"
             },
             "line": {
              "color": "rgb(17,17,17)"
             }
            },
            "type": "table"
           }
          ]
         },
         "layout": {
          "annotationdefaults": {
           "arrowcolor": "#f2f5fa",
           "arrowhead": 0,
           "arrowwidth": 1
          },
          "coloraxis": {
           "colorbar": {
            "outlinewidth": 0,
            "ticks": ""
           }
          },
          "colorscale": {
           "diverging": [
            [
             0,
             "#8e0152"
            ],
            [
             0.1,
             "#c51b7d"
            ],
            [
             0.2,
             "#de77ae"
            ],
            [
             0.3,
             "#f1b6da"
            ],
            [
             0.4,
             "#fde0ef"
            ],
            [
             0.5,
             "#f7f7f7"
            ],
            [
             0.6,
             "#e6f5d0"
            ],
            [
             0.7,
             "#b8e186"
            ],
            [
             0.8,
             "#7fbc41"
            ],
            [
             0.9,
             "#4d9221"
            ],
            [
             1,
             "#276419"
            ]
           ],
           "sequential": [
            [
             0,
             "#0d0887"
            ],
            [
             0.1111111111111111,
             "#46039f"
            ],
            [
             0.2222222222222222,
             "#7201a8"
            ],
            [
             0.3333333333333333,
             "#9c179e"
            ],
            [
             0.4444444444444444,
             "#bd3786"
            ],
            [
             0.5555555555555556,
             "#d8576b"
            ],
            [
             0.6666666666666666,
             "#ed7953"
            ],
            [
             0.7777777777777778,
             "#fb9f3a"
            ],
            [
             0.8888888888888888,
             "#fdca26"
            ],
            [
             1,
             "#f0f921"
            ]
           ],
           "sequentialminus": [
            [
             0,
             "#0d0887"
            ],
            [
             0.1111111111111111,
             "#46039f"
            ],
            [
             0.2222222222222222,
             "#7201a8"
            ],
            [
             0.3333333333333333,
             "#9c179e"
            ],
            [
             0.4444444444444444,
             "#bd3786"
            ],
            [
             0.5555555555555556,
             "#d8576b"
            ],
            [
             0.6666666666666666,
             "#ed7953"
            ],
            [
             0.7777777777777778,
             "#fb9f3a"
            ],
            [
             0.8888888888888888,
             "#fdca26"
            ],
            [
             1,
             "#f0f921"
            ]
           ]
          },
          "colorway": [
           "#636efa",
           "#EF553B",
           "#00cc96",
           "#ab63fa",
           "#FFA15A",
           "#19d3f3",
           "#FF6692",
           "#B6E880",
           "#FF97FF",
           "#FECB52"
          ],
          "font": {
           "color": "#f2f5fa"
          },
          "geo": {
           "bgcolor": "rgb(17,17,17)",
           "lakecolor": "rgb(17,17,17)",
           "landcolor": "rgb(17,17,17)",
           "showlakes": true,
           "showland": true,
           "subunitcolor": "#506784"
          },
          "hoverlabel": {
           "align": "left"
          },
          "hovermode": "closest",
          "mapbox": {
           "style": "dark"
          },
          "paper_bgcolor": "rgb(17,17,17)",
          "plot_bgcolor": "rgb(17,17,17)",
          "polar": {
           "angularaxis": {
            "gridcolor": "#506784",
            "linecolor": "#506784",
            "ticks": ""
           },
           "bgcolor": "rgb(17,17,17)",
           "radialaxis": {
            "gridcolor": "#506784",
            "linecolor": "#506784",
            "ticks": ""
           }
          },
          "scene": {
           "xaxis": {
            "backgroundcolor": "rgb(17,17,17)",
            "gridcolor": "#506784",
            "gridwidth": 2,
            "linecolor": "#506784",
            "showbackground": true,
            "ticks": "",
            "zerolinecolor": "#C8D4E3"
           },
           "yaxis": {
            "backgroundcolor": "rgb(17,17,17)",
            "gridcolor": "#506784",
            "gridwidth": 2,
            "linecolor": "#506784",
            "showbackground": true,
            "ticks": "",
            "zerolinecolor": "#C8D4E3"
           },
           "zaxis": {
            "backgroundcolor": "rgb(17,17,17)",
            "gridcolor": "#506784",
            "gridwidth": 2,
            "linecolor": "#506784",
            "showbackground": true,
            "ticks": "",
            "zerolinecolor": "#C8D4E3"
           }
          },
          "shapedefaults": {
           "line": {
            "color": "#f2f5fa"
           }
          },
          "sliderdefaults": {
           "bgcolor": "#C8D4E3",
           "bordercolor": "rgb(17,17,17)",
           "borderwidth": 1,
           "tickwidth": 0
          },
          "ternary": {
           "aaxis": {
            "gridcolor": "#506784",
            "linecolor": "#506784",
            "ticks": ""
           },
           "baxis": {
            "gridcolor": "#506784",
            "linecolor": "#506784",
            "ticks": ""
           },
           "bgcolor": "rgb(17,17,17)",
           "caxis": {
            "gridcolor": "#506784",
            "linecolor": "#506784",
            "ticks": ""
           }
          },
          "title": {
           "x": 0.05
          },
          "updatemenudefaults": {
           "bgcolor": "#506784",
           "borderwidth": 0
          },
          "xaxis": {
           "automargin": true,
           "gridcolor": "#283442",
           "linecolor": "#506784",
           "ticks": "",
           "title": {
            "standoff": 15
           },
           "zerolinecolor": "#283442",
           "zerolinewidth": 2
          },
          "yaxis": {
           "automargin": true,
           "gridcolor": "#283442",
           "linecolor": "#506784",
           "ticks": "",
           "title": {
            "standoff": 15
           },
           "zerolinecolor": "#283442",
           "zerolinewidth": 2
          }
         }
        },
        "title": {
         "text": "Weekly Revenue and Trends for The Croods: A New Age"
        },
        "xaxis": {
         "range": [
          "2020-11-23T00:00:00",
          "2020-12-15T00:00:00"
         ],
         "title": {
          "text": "Date/Time"
         }
        },
        "yaxis": {
         "range": [
          0,
          17129346
         ],
         "title": {
          "text": "Normalized Rev and Trends"
         }
        }
       }
      },
      "text/html": [
       "<div>                            <div id=\"9373c290-3728-460f-9a2c-2d09ac243e92\" class=\"plotly-graph-div\" style=\"height:525px; width:100%;\"></div>            <script type=\"text/javascript\">                require([\"plotly\"], function(Plotly) {                    window.PLOTLYENV=window.PLOTLYENV || {};                                    if (document.getElementById(\"9373c290-3728-460f-9a2c-2d09ac243e92\")) {                    Plotly.newPlot(                        \"9373c290-3728-460f-9a2c-2d09ac243e92\",                        [{\"line\": {\"color\": \"orange\", \"width\": 2}, \"mode\": \"lines\", \"name\": \"Gross\", \"type\": \"scatter\", \"x\": [\"2020-11-23T00:00:00\", \"2020-11-30T00:00:00\", \"2020-12-07T00:00:00\"], \"y\": [14274455.0, 6065810.0, 3970375.0]}, {\"line\": {\"color\": \"red\", \"width\": 2}, \"mode\": \"markers\", \"name\": \"Google Trends\", \"type\": \"scatter\", \"x\": [\"2020-12-14T00:00:00\"], \"y\": [2167080.730583711]}],                        {\"paper_bgcolor\": \"#23272c\", \"plot_bgcolor\": \"#23272c\", \"template\": {\"data\": {\"bar\": [{\"error_x\": {\"color\": \"#f2f5fa\"}, \"error_y\": {\"color\": \"#f2f5fa\"}, \"marker\": {\"line\": {\"color\": \"rgb(17,17,17)\", \"width\": 0.5}}, \"type\": \"bar\"}], \"barpolar\": [{\"marker\": {\"line\": {\"color\": \"rgb(17,17,17)\", \"width\": 0.5}}, \"type\": \"barpolar\"}], \"carpet\": [{\"aaxis\": {\"endlinecolor\": \"#A2B1C6\", \"gridcolor\": \"#506784\", \"linecolor\": \"#506784\", \"minorgridcolor\": \"#506784\", \"startlinecolor\": \"#A2B1C6\"}, \"baxis\": {\"endlinecolor\": \"#A2B1C6\", \"gridcolor\": \"#506784\", \"linecolor\": \"#506784\", \"minorgridcolor\": \"#506784\", \"startlinecolor\": \"#A2B1C6\"}, \"type\": \"carpet\"}], \"choropleth\": [{\"colorbar\": {\"outlinewidth\": 0, \"ticks\": \"\"}, \"type\": \"choropleth\"}], \"contour\": [{\"colorbar\": {\"outlinewidth\": 0, \"ticks\": \"\"}, \"colorscale\": [[0.0, \"#0d0887\"], [0.1111111111111111, \"#46039f\"], [0.2222222222222222, \"#7201a8\"], [0.3333333333333333, \"#9c179e\"], [0.4444444444444444, \"#bd3786\"], [0.5555555555555556, \"#d8576b\"], [0.6666666666666666, \"#ed7953\"], [0.7777777777777778, \"#fb9f3a\"], [0.8888888888888888, \"#fdca26\"], [1.0, \"#f0f921\"]], \"type\": \"contour\"}], \"contourcarpet\": [{\"colorbar\": {\"outlinewidth\": 0, \"ticks\": \"\"}, \"type\": \"contourcarpet\"}], \"heatmap\": [{\"colorbar\": {\"outlinewidth\": 0, \"ticks\": \"\"}, \"colorscale\": [[0.0, \"#0d0887\"], [0.1111111111111111, \"#46039f\"], [0.2222222222222222, \"#7201a8\"], [0.3333333333333333, \"#9c179e\"], [0.4444444444444444, \"#bd3786\"], [0.5555555555555556, \"#d8576b\"], [0.6666666666666666, \"#ed7953\"], [0.7777777777777778, \"#fb9f3a\"], [0.8888888888888888, \"#fdca26\"], [1.0, \"#f0f921\"]], \"type\": \"heatmap\"}], \"heatmapgl\": [{\"colorbar\": {\"outlinewidth\": 0, \"ticks\": \"\"}, \"colorscale\": [[0.0, \"#0d0887\"], [0.1111111111111111, \"#46039f\"], [0.2222222222222222, \"#7201a8\"], [0.3333333333333333, \"#9c179e\"], [0.4444444444444444, \"#bd3786\"], [0.5555555555555556, \"#d8576b\"], [0.6666666666666666, \"#ed7953\"], [0.7777777777777778, \"#fb9f3a\"], [0.8888888888888888, \"#fdca26\"], [1.0, \"#f0f921\"]], \"type\": \"heatmapgl\"}], \"histogram\": [{\"marker\": {\"colorbar\": {\"outlinewidth\": 0, \"ticks\": \"\"}}, \"type\": \"histogram\"}], \"histogram2d\": [{\"colorbar\": {\"outlinewidth\": 0, \"ticks\": \"\"}, \"colorscale\": [[0.0, \"#0d0887\"], [0.1111111111111111, \"#46039f\"], [0.2222222222222222, \"#7201a8\"], [0.3333333333333333, \"#9c179e\"], [0.4444444444444444, \"#bd3786\"], [0.5555555555555556, \"#d8576b\"], [0.6666666666666666, \"#ed7953\"], [0.7777777777777778, \"#fb9f3a\"], [0.8888888888888888, \"#fdca26\"], [1.0, \"#f0f921\"]], \"type\": \"histogram2d\"}], \"histogram2dcontour\": [{\"colorbar\": {\"outlinewidth\": 0, \"ticks\": \"\"}, \"colorscale\": [[0.0, \"#0d0887\"], [0.1111111111111111, \"#46039f\"], [0.2222222222222222, \"#7201a8\"], [0.3333333333333333, \"#9c179e\"], [0.4444444444444444, \"#bd3786\"], [0.5555555555555556, \"#d8576b\"], [0.6666666666666666, \"#ed7953\"], [0.7777777777777778, \"#fb9f3a\"], [0.8888888888888888, \"#fdca26\"], [1.0, \"#f0f921\"]], \"type\": \"histogram2dcontour\"}], \"mesh3d\": [{\"colorbar\": {\"outlinewidth\": 0, \"ticks\": \"\"}, \"type\": \"mesh3d\"}], \"parcoords\": [{\"line\": {\"colorbar\": {\"outlinewidth\": 0, \"ticks\": \"\"}}, \"type\": \"parcoords\"}], \"pie\": [{\"automargin\": true, \"type\": \"pie\"}], \"scatter\": [{\"marker\": {\"line\": {\"color\": \"#283442\"}}, \"type\": \"scatter\"}], \"scatter3d\": [{\"line\": {\"colorbar\": {\"outlinewidth\": 0, \"ticks\": \"\"}}, \"marker\": {\"colorbar\": {\"outlinewidth\": 0, \"ticks\": \"\"}}, \"type\": \"scatter3d\"}], \"scattercarpet\": [{\"marker\": {\"colorbar\": {\"outlinewidth\": 0, \"ticks\": \"\"}}, \"type\": \"scattercarpet\"}], \"scattergeo\": [{\"marker\": {\"colorbar\": {\"outlinewidth\": 0, \"ticks\": \"\"}}, \"type\": \"scattergeo\"}], \"scattergl\": [{\"marker\": {\"line\": {\"color\": \"#283442\"}}, \"type\": \"scattergl\"}], \"scattermapbox\": [{\"marker\": {\"colorbar\": {\"outlinewidth\": 0, \"ticks\": \"\"}}, \"type\": \"scattermapbox\"}], \"scatterpolar\": [{\"marker\": {\"colorbar\": {\"outlinewidth\": 0, \"ticks\": \"\"}}, \"type\": \"scatterpolar\"}], \"scatterpolargl\": [{\"marker\": {\"colorbar\": {\"outlinewidth\": 0, \"ticks\": \"\"}}, \"type\": \"scatterpolargl\"}], \"scatterternary\": [{\"marker\": {\"colorbar\": {\"outlinewidth\": 0, \"ticks\": \"\"}}, \"type\": \"scatterternary\"}], \"surface\": [{\"colorbar\": {\"outlinewidth\": 0, \"ticks\": \"\"}, \"colorscale\": [[0.0, \"#0d0887\"], [0.1111111111111111, \"#46039f\"], [0.2222222222222222, \"#7201a8\"], [0.3333333333333333, \"#9c179e\"], [0.4444444444444444, \"#bd3786\"], [0.5555555555555556, \"#d8576b\"], [0.6666666666666666, \"#ed7953\"], [0.7777777777777778, \"#fb9f3a\"], [0.8888888888888888, \"#fdca26\"], [1.0, \"#f0f921\"]], \"type\": \"surface\"}], \"table\": [{\"cells\": {\"fill\": {\"color\": \"#506784\"}, \"line\": {\"color\": \"rgb(17,17,17)\"}}, \"header\": {\"fill\": {\"color\": \"#2a3f5f\"}, \"line\": {\"color\": \"rgb(17,17,17)\"}}, \"type\": \"table\"}]}, \"layout\": {\"annotationdefaults\": {\"arrowcolor\": \"#f2f5fa\", \"arrowhead\": 0, \"arrowwidth\": 1}, \"coloraxis\": {\"colorbar\": {\"outlinewidth\": 0, \"ticks\": \"\"}}, \"colorscale\": {\"diverging\": [[0, \"#8e0152\"], [0.1, \"#c51b7d\"], [0.2, \"#de77ae\"], [0.3, \"#f1b6da\"], [0.4, \"#fde0ef\"], [0.5, \"#f7f7f7\"], [0.6, \"#e6f5d0\"], [0.7, \"#b8e186\"], [0.8, \"#7fbc41\"], [0.9, \"#4d9221\"], [1, \"#276419\"]], \"sequential\": [[0.0, \"#0d0887\"], [0.1111111111111111, \"#46039f\"], [0.2222222222222222, \"#7201a8\"], [0.3333333333333333, \"#9c179e\"], [0.4444444444444444, \"#bd3786\"], [0.5555555555555556, \"#d8576b\"], [0.6666666666666666, \"#ed7953\"], [0.7777777777777778, \"#fb9f3a\"], [0.8888888888888888, \"#fdca26\"], [1.0, \"#f0f921\"]], \"sequentialminus\": [[0.0, \"#0d0887\"], [0.1111111111111111, \"#46039f\"], [0.2222222222222222, \"#7201a8\"], [0.3333333333333333, \"#9c179e\"], [0.4444444444444444, \"#bd3786\"], [0.5555555555555556, \"#d8576b\"], [0.6666666666666666, \"#ed7953\"], [0.7777777777777778, \"#fb9f3a\"], [0.8888888888888888, \"#fdca26\"], [1.0, \"#f0f921\"]]}, \"colorway\": [\"#636efa\", \"#EF553B\", \"#00cc96\", \"#ab63fa\", \"#FFA15A\", \"#19d3f3\", \"#FF6692\", \"#B6E880\", \"#FF97FF\", \"#FECB52\"], \"font\": {\"color\": \"#f2f5fa\"}, \"geo\": {\"bgcolor\": \"rgb(17,17,17)\", \"lakecolor\": \"rgb(17,17,17)\", \"landcolor\": \"rgb(17,17,17)\", \"showlakes\": true, \"showland\": true, \"subunitcolor\": \"#506784\"}, \"hoverlabel\": {\"align\": \"left\"}, \"hovermode\": \"closest\", \"mapbox\": {\"style\": \"dark\"}, \"paper_bgcolor\": \"rgb(17,17,17)\", \"plot_bgcolor\": \"rgb(17,17,17)\", \"polar\": {\"angularaxis\": {\"gridcolor\": \"#506784\", \"linecolor\": \"#506784\", \"ticks\": \"\"}, \"bgcolor\": \"rgb(17,17,17)\", \"radialaxis\": {\"gridcolor\": \"#506784\", \"linecolor\": \"#506784\", \"ticks\": \"\"}}, \"scene\": {\"xaxis\": {\"backgroundcolor\": \"rgb(17,17,17)\", \"gridcolor\": \"#506784\", \"gridwidth\": 2, \"linecolor\": \"#506784\", \"showbackground\": true, \"ticks\": \"\", \"zerolinecolor\": \"#C8D4E3\"}, \"yaxis\": {\"backgroundcolor\": \"rgb(17,17,17)\", \"gridcolor\": \"#506784\", \"gridwidth\": 2, \"linecolor\": \"#506784\", \"showbackground\": true, \"ticks\": \"\", \"zerolinecolor\": \"#C8D4E3\"}, \"zaxis\": {\"backgroundcolor\": \"rgb(17,17,17)\", \"gridcolor\": \"#506784\", \"gridwidth\": 2, \"linecolor\": \"#506784\", \"showbackground\": true, \"ticks\": \"\", \"zerolinecolor\": \"#C8D4E3\"}}, \"shapedefaults\": {\"line\": {\"color\": \"#f2f5fa\"}}, \"sliderdefaults\": {\"bgcolor\": \"#C8D4E3\", \"bordercolor\": \"rgb(17,17,17)\", \"borderwidth\": 1, \"tickwidth\": 0}, \"ternary\": {\"aaxis\": {\"gridcolor\": \"#506784\", \"linecolor\": \"#506784\", \"ticks\": \"\"}, \"baxis\": {\"gridcolor\": \"#506784\", \"linecolor\": \"#506784\", \"ticks\": \"\"}, \"bgcolor\": \"rgb(17,17,17)\", \"caxis\": {\"gridcolor\": \"#506784\", \"linecolor\": \"#506784\", \"ticks\": \"\"}}, \"title\": {\"x\": 0.05}, \"updatemenudefaults\": {\"bgcolor\": \"#506784\", \"borderwidth\": 0}, \"xaxis\": {\"automargin\": true, \"gridcolor\": \"#283442\", \"linecolor\": \"#506784\", \"ticks\": \"\", \"title\": {\"standoff\": 15}, \"zerolinecolor\": \"#283442\", \"zerolinewidth\": 2}, \"yaxis\": {\"automargin\": true, \"gridcolor\": \"#283442\", \"linecolor\": \"#506784\", \"ticks\": \"\", \"title\": {\"standoff\": 15}, \"zerolinecolor\": \"#283442\", \"zerolinewidth\": 2}}}, \"title\": {\"text\": \"Weekly Revenue and Trends for The Croods: A New Age\"}, \"xaxis\": {\"range\": [\"2020-11-23T00:00:00\", \"2020-12-15T00:00:00\"], \"title\": {\"text\": \"Date/Time\"}}, \"yaxis\": {\"range\": [0, 17129346.0], \"title\": {\"text\": \"Normalized Rev and Trends\"}}},                        {\"responsive\": true}                    ).then(function(){\n",
       "                            \n",
       "var gd = document.getElementById('9373c290-3728-460f-9a2c-2d09ac243e92');\n",
       "var x = new MutationObserver(function (mutations, observer) {{\n",
       "        var display = window.getComputedStyle(gd).display;\n",
       "        if (!display || display === 'none') {{\n",
       "            console.log([gd, 'removed!']);\n",
       "            Plotly.purge(gd);\n",
       "            observer.disconnect();\n",
       "        }}\n",
       "}});\n",
       "\n",
       "// Listen for the removal of the full notebook cells\n",
       "var notebookContainer = gd.closest('#notebook-container');\n",
       "if (notebookContainer) {{\n",
       "    x.observe(notebookContainer, {childList: true});\n",
       "}}\n",
       "\n",
       "// Listen for the clearing of the current output cell\n",
       "var outputEl = gd.closest('.output');\n",
       "if (outputEl) {{\n",
       "    x.observe(outputEl, {childList: true});\n",
       "}}\n",
       "\n",
       "                        })                };                });            </script>        </div>"
      ]
     },
     "metadata": {},
     "output_type": "display_data"
    }
   ],
   "source": [
    "import plotly.graph_objects as go\n",
    "import pandas as pd\n",
    "from datetime import timedelta\n",
    "import dash\n",
    "import dash_core_components as dcc\n",
    "import dash_html_components as html\n",
    "import numpy as np\n",
    "import plotly.graph_objects as go\n",
    "from model import train_model\n",
    "#from database import fetch_all_bpa_as_df\n",
    "\n",
    "\n",
    "\n",
    "COLORS = ['rgb(67,67,67)', 'rgb(115,115,115)', 'rgb(49,130,189)', 'rgb(189,189,189)']\n",
    "def static_stacked_trend_graph(stack=False):\n",
    "    \"\"\"\n",
    "    Returns scatter line plot of all power sources and power load.\n",
    "    If `stack` is `True`, the 4 power sources are stacked together to show the overall power\n",
    "    production.\n",
    "    \"\"\"\n",
    "    i=0\n",
    "    df = pd.read_csv('3_mo_weekly.csv', sep='\\t')\n",
    "    df['Date_dt'] = df['Date'].astype('datetime64[ns]')\n",
    "    date = df['Date_dt'].iloc[-1]\n",
    "    #movie_list = df[df['Date_dt'] == date].sort_values(by=['Weekly'], ascending=False)['Release'][0:4]\n",
    "    \n",
    "    df_test = df.groupby('Release').filter(lambda x : x['Release'].shape[0]>=2)\n",
    "    movie_list = df_test[df_test['Date_dt'] == date].sort_values(by=['Weekly'], ascending=False)['Release']\n",
    "\n",
    "    df = df[df['Release'] == movie_list.iloc[i]]\n",
    "    if df is None:\n",
    "        return go.Figure()\n",
    "    \n",
    "    x = df['Date_dt'] \n",
    "    \n",
    "    predict_date = df['Date_dt'].iloc[-1]  + timedelta(days=7)\n",
    "    \n",
    "    y_pred = train_model().predict([df.drop(['Release', 'Date', 'Y', 'Week + 1', 'Date_dt'], axis=1).iloc[-1]])\n",
    "    trends = df['google trends']/np.sum(df['google trends'])\n",
    "    rev = df['Weekly']/np.sum(df['Weekly'])\n",
    "    \n",
    "    fig = go.Figure()\n",
    "    \n",
    "    print(predict_date, y_pred)\n",
    "    \n",
    "    fig.add_trace(go.Scatter(x=x, y=df['Weekly'], mode='lines', name='Gross',\n",
    "                             line={'width': 2, 'color': 'orange'},\n",
    "                             stackgroup='stack' if stack else None))\n",
    "    fig.add_trace(go.Scatter(x=[predict_date], y=y_pred, mode='markers', name='Google Trends',\n",
    "                             line={'width': 2, 'color': 'red'},\n",
    "                             stackgroup='stack' if stack else None))\n",
    "    fig.update_layout(yaxis=dict(range=[0, 1.2*df['Weekly'].max()]), xaxis=dict(range=[x.iloc[0], predict_date+timedelta(days=1)]))\n",
    "\n",
    "    title = f'Weekly Revenue and Trends for {movie_list.iloc[i]}'\n",
    "    if stack:\n",
    "        title += ' [Stacked]'\n",
    "    fig.update_layout(template='plotly_dark',\n",
    "                      title=title,\n",
    "                      plot_bgcolor='#23272c',\n",
    "                      paper_bgcolor='#23272c',\n",
    "                      yaxis_title='Normalized Rev and Trends',\n",
    "                      xaxis_title='Date/Time')\n",
    "    return fig\n",
    "static_stacked_trend_graph()"
   ]
  },
  {
   "cell_type": "code",
   "execution_count": 42,
   "metadata": {},
   "outputs": [
    {
     "name": "stdout",
     "output_type": "stream",
     "text": [
      "2.81 3970375.0\n",
      "0.215904 686390.0\n",
      "8.211538461538463 477130.0\n",
      "8.333333333333334 400000.0\n",
      "0.208416 341629.0\n",
      "1.48 320510.0\n",
      "0.56576 245000.0\n",
      "0.0 239000.0\n",
      "0.9875478260869563 234140.0\n",
      "0.0 196871.0\n",
      "2.673684210526316 189000.0\n",
      "2.16 184925.0\n",
      "2.8125 160000.0\n",
      "2.3684210526315788 136000.0\n",
      "0.2834 134000.0\n",
      "0.0 95360.0\n",
      "0.0288288 61846.0\n",
      "0.17846399999999998 57223.0\n",
      "0.8858754098360654 33288.0\n",
      "1.3581176470588234 26861.0\n"
     ]
    },
    {
     "data": {
      "application/vnd.plotly.v1+json": {
       "config": {
        "plotlyServerURL": "https://plot.ly"
       },
       "data": [
        {
         "line": {
          "color": "orange",
          "width": 2
         },
         "mode": "markers",
         "name": "The Croods: A New Age",
         "type": "scatter",
         "x": [
          2.81
         ],
         "y": [
          3970375
         ]
        },
        {
         "line": {
          "color": "orange",
          "width": 2
         },
         "mode": "markers",
         "name": "Half Brothers",
         "type": "scatter",
         "x": [
          0.215904
         ],
         "y": [
          686390
         ]
        },
        {
         "line": {
          "color": "orange",
          "width": 2
         },
         "mode": "markers",
         "name": "Freaky",
         "type": "scatter",
         "x": [
          8.211538461538463
         ],
         "y": [
          477130
         ]
        },
        {
         "line": {
          "color": "orange",
          "width": 2
         },
         "mode": "markers",
         "name": "Elf2020 Re-release",
         "type": "scatter",
         "x": [
          8.333333333333334
         ],
         "y": [
          400000
         ]
        },
        {
         "line": {
          "color": "orange",
          "width": 2
         },
         "mode": "markers",
         "name": "The War with Grandpa",
         "type": "scatter",
         "x": [
          0.208416
         ],
         "y": [
          341629
         ]
        },
        {
         "line": {
          "color": "orange",
          "width": 2
         },
         "mode": "markers",
         "name": "All My Life",
         "type": "scatter",
         "x": [
          1.48
         ],
         "y": [
          320510
         ]
        },
        {
         "line": {
          "color": "orange",
          "width": 2
         },
         "mode": "markers",
         "name": "The Polar Express2020 Re-release",
         "type": "scatter",
         "x": [
          0.56576
         ],
         "y": [
          245000
         ]
        },
        {
         "line": {
          "color": "orange",
          "width": 2
         },
         "mode": "markers",
         "name": "National Lampoon's Christmas Vacation2020 Re-release",
         "type": "scatter",
         "x": [
          0
         ],
         "y": [
          239000
         ]
        },
        {
         "line": {
          "color": "orange",
          "width": 2
         },
         "mode": "markers",
         "name": "Come Play",
         "type": "scatter",
         "x": [
          0.9875478260869563
         ],
         "y": [
          234140
         ]
        },
        {
         "line": {
          "color": "orange",
          "width": 2
         },
         "mode": "markers",
         "name": "Honest Thief",
         "type": "scatter",
         "x": [
          0
         ],
         "y": [
          196871
         ]
        },
        {
         "line": {
          "color": "orange",
          "width": 2
         },
         "mode": "markers",
         "name": "Wonder Woman2020 Re-release",
         "type": "scatter",
         "x": [
          2.673684210526316
         ],
         "y": [
          189000
         ]
        },
        {
         "line": {
          "color": "orange",
          "width": 2
         },
         "mode": "markers",
         "name": "Let Him Go",
         "type": "scatter",
         "x": [
          2.16
         ],
         "y": [
          184925
         ]
        },
        {
         "line": {
          "color": "orange",
          "width": 2
         },
         "mode": "markers",
         "name": "The Grinch2020 Re-release",
         "type": "scatter",
         "x": [
          2.8125
         ],
         "y": [
          160000
         ]
        },
        {
         "line": {
          "color": "orange",
          "width": 2
         },
         "mode": "markers",
         "name": "Die Hard2020 Re-release",
         "type": "scatter",
         "x": [
          2.3684210526315788
         ],
         "y": [
          136000
         ]
        },
        {
         "line": {
          "color": "orange",
          "width": 2
         },
         "mode": "markers",
         "name": "How the Grinch Stole Christmas2020 Re-release",
         "type": "scatter",
         "x": [
          0.2834
         ],
         "y": [
          134000
         ]
        },
        {
         "line": {
          "color": "orange",
          "width": 2
         },
         "mode": "markers",
         "name": "Wild Mountain Thyme",
         "type": "scatter",
         "x": [
          0
         ],
         "y": [
          95360
         ]
        },
        {
         "line": {
          "color": "orange",
          "width": 2
         },
         "mode": "markers",
         "name": "The Forgotten Carols",
         "type": "scatter",
         "x": [
          0.0288288
         ],
         "y": [
          61846
         ]
        },
        {
         "line": {
          "color": "orange",
          "width": 2
         },
         "mode": "markers",
         "name": "The Last Vermeer",
         "type": "scatter",
         "x": [
          0.17846399999999998
         ],
         "y": [
          57223
         ]
        },
        {
         "line": {
          "color": "orange",
          "width": 2
         },
         "mode": "markers",
         "name": "The Godfather: Part III2020 Re-release",
         "type": "scatter",
         "x": [
          0.8858754098360654
         ],
         "y": [
          33288
         ]
        },
        {
         "line": {
          "color": "orange",
          "width": 2
         },
         "mode": "markers",
         "name": "Vanguard",
         "type": "scatter",
         "x": [
          1.3581176470588234
         ],
         "y": [
          26861
         ]
        }
       ],
       "layout": {
        "paper_bgcolor": "#23272c",
        "plot_bgcolor": "#23272c",
        "template": {
         "data": {
          "bar": [
           {
            "error_x": {
             "color": "#f2f5fa"
            },
            "error_y": {
             "color": "#f2f5fa"
            },
            "marker": {
             "line": {
              "color": "rgb(17,17,17)",
              "width": 0.5
             }
            },
            "type": "bar"
           }
          ],
          "barpolar": [
           {
            "marker": {
             "line": {
              "color": "rgb(17,17,17)",
              "width": 0.5
             }
            },
            "type": "barpolar"
           }
          ],
          "carpet": [
           {
            "aaxis": {
             "endlinecolor": "#A2B1C6",
             "gridcolor": "#506784",
             "linecolor": "#506784",
             "minorgridcolor": "#506784",
             "startlinecolor": "#A2B1C6"
            },
            "baxis": {
             "endlinecolor": "#A2B1C6",
             "gridcolor": "#506784",
             "linecolor": "#506784",
             "minorgridcolor": "#506784",
             "startlinecolor": "#A2B1C6"
            },
            "type": "carpet"
           }
          ],
          "choropleth": [
           {
            "colorbar": {
             "outlinewidth": 0,
             "ticks": ""
            },
            "type": "choropleth"
           }
          ],
          "contour": [
           {
            "colorbar": {
             "outlinewidth": 0,
             "ticks": ""
            },
            "colorscale": [
             [
              0,
              "#0d0887"
             ],
             [
              0.1111111111111111,
              "#46039f"
             ],
             [
              0.2222222222222222,
              "#7201a8"
             ],
             [
              0.3333333333333333,
              "#9c179e"
             ],
             [
              0.4444444444444444,
              "#bd3786"
             ],
             [
              0.5555555555555556,
              "#d8576b"
             ],
             [
              0.6666666666666666,
              "#ed7953"
             ],
             [
              0.7777777777777778,
              "#fb9f3a"
             ],
             [
              0.8888888888888888,
              "#fdca26"
             ],
             [
              1,
              "#f0f921"
             ]
            ],
            "type": "contour"
           }
          ],
          "contourcarpet": [
           {
            "colorbar": {
             "outlinewidth": 0,
             "ticks": ""
            },
            "type": "contourcarpet"
           }
          ],
          "heatmap": [
           {
            "colorbar": {
             "outlinewidth": 0,
             "ticks": ""
            },
            "colorscale": [
             [
              0,
              "#0d0887"
             ],
             [
              0.1111111111111111,
              "#46039f"
             ],
             [
              0.2222222222222222,
              "#7201a8"
             ],
             [
              0.3333333333333333,
              "#9c179e"
             ],
             [
              0.4444444444444444,
              "#bd3786"
             ],
             [
              0.5555555555555556,
              "#d8576b"
             ],
             [
              0.6666666666666666,
              "#ed7953"
             ],
             [
              0.7777777777777778,
              "#fb9f3a"
             ],
             [
              0.8888888888888888,
              "#fdca26"
             ],
             [
              1,
              "#f0f921"
             ]
            ],
            "type": "heatmap"
           }
          ],
          "heatmapgl": [
           {
            "colorbar": {
             "outlinewidth": 0,
             "ticks": ""
            },
            "colorscale": [
             [
              0,
              "#0d0887"
             ],
             [
              0.1111111111111111,
              "#46039f"
             ],
             [
              0.2222222222222222,
              "#7201a8"
             ],
             [
              0.3333333333333333,
              "#9c179e"
             ],
             [
              0.4444444444444444,
              "#bd3786"
             ],
             [
              0.5555555555555556,
              "#d8576b"
             ],
             [
              0.6666666666666666,
              "#ed7953"
             ],
             [
              0.7777777777777778,
              "#fb9f3a"
             ],
             [
              0.8888888888888888,
              "#fdca26"
             ],
             [
              1,
              "#f0f921"
             ]
            ],
            "type": "heatmapgl"
           }
          ],
          "histogram": [
           {
            "marker": {
             "colorbar": {
              "outlinewidth": 0,
              "ticks": ""
             }
            },
            "type": "histogram"
           }
          ],
          "histogram2d": [
           {
            "colorbar": {
             "outlinewidth": 0,
             "ticks": ""
            },
            "colorscale": [
             [
              0,
              "#0d0887"
             ],
             [
              0.1111111111111111,
              "#46039f"
             ],
             [
              0.2222222222222222,
              "#7201a8"
             ],
             [
              0.3333333333333333,
              "#9c179e"
             ],
             [
              0.4444444444444444,
              "#bd3786"
             ],
             [
              0.5555555555555556,
              "#d8576b"
             ],
             [
              0.6666666666666666,
              "#ed7953"
             ],
             [
              0.7777777777777778,
              "#fb9f3a"
             ],
             [
              0.8888888888888888,
              "#fdca26"
             ],
             [
              1,
              "#f0f921"
             ]
            ],
            "type": "histogram2d"
           }
          ],
          "histogram2dcontour": [
           {
            "colorbar": {
             "outlinewidth": 0,
             "ticks": ""
            },
            "colorscale": [
             [
              0,
              "#0d0887"
             ],
             [
              0.1111111111111111,
              "#46039f"
             ],
             [
              0.2222222222222222,
              "#7201a8"
             ],
             [
              0.3333333333333333,
              "#9c179e"
             ],
             [
              0.4444444444444444,
              "#bd3786"
             ],
             [
              0.5555555555555556,
              "#d8576b"
             ],
             [
              0.6666666666666666,
              "#ed7953"
             ],
             [
              0.7777777777777778,
              "#fb9f3a"
             ],
             [
              0.8888888888888888,
              "#fdca26"
             ],
             [
              1,
              "#f0f921"
             ]
            ],
            "type": "histogram2dcontour"
           }
          ],
          "mesh3d": [
           {
            "colorbar": {
             "outlinewidth": 0,
             "ticks": ""
            },
            "type": "mesh3d"
           }
          ],
          "parcoords": [
           {
            "line": {
             "colorbar": {
              "outlinewidth": 0,
              "ticks": ""
             }
            },
            "type": "parcoords"
           }
          ],
          "pie": [
           {
            "automargin": true,
            "type": "pie"
           }
          ],
          "scatter": [
           {
            "marker": {
             "line": {
              "color": "#283442"
             }
            },
            "type": "scatter"
           }
          ],
          "scatter3d": [
           {
            "line": {
             "colorbar": {
              "outlinewidth": 0,
              "ticks": ""
             }
            },
            "marker": {
             "colorbar": {
              "outlinewidth": 0,
              "ticks": ""
             }
            },
            "type": "scatter3d"
           }
          ],
          "scattercarpet": [
           {
            "marker": {
             "colorbar": {
              "outlinewidth": 0,
              "ticks": ""
             }
            },
            "type": "scattercarpet"
           }
          ],
          "scattergeo": [
           {
            "marker": {
             "colorbar": {
              "outlinewidth": 0,
              "ticks": ""
             }
            },
            "type": "scattergeo"
           }
          ],
          "scattergl": [
           {
            "marker": {
             "line": {
              "color": "#283442"
             }
            },
            "type": "scattergl"
           }
          ],
          "scattermapbox": [
           {
            "marker": {
             "colorbar": {
              "outlinewidth": 0,
              "ticks": ""
             }
            },
            "type": "scattermapbox"
           }
          ],
          "scatterpolar": [
           {
            "marker": {
             "colorbar": {
              "outlinewidth": 0,
              "ticks": ""
             }
            },
            "type": "scatterpolar"
           }
          ],
          "scatterpolargl": [
           {
            "marker": {
             "colorbar": {
              "outlinewidth": 0,
              "ticks": ""
             }
            },
            "type": "scatterpolargl"
           }
          ],
          "scatterternary": [
           {
            "marker": {
             "colorbar": {
              "outlinewidth": 0,
              "ticks": ""
             }
            },
            "type": "scatterternary"
           }
          ],
          "surface": [
           {
            "colorbar": {
             "outlinewidth": 0,
             "ticks": ""
            },
            "colorscale": [
             [
              0,
              "#0d0887"
             ],
             [
              0.1111111111111111,
              "#46039f"
             ],
             [
              0.2222222222222222,
              "#7201a8"
             ],
             [
              0.3333333333333333,
              "#9c179e"
             ],
             [
              0.4444444444444444,
              "#bd3786"
             ],
             [
              0.5555555555555556,
              "#d8576b"
             ],
             [
              0.6666666666666666,
              "#ed7953"
             ],
             [
              0.7777777777777778,
              "#fb9f3a"
             ],
             [
              0.8888888888888888,
              "#fdca26"
             ],
             [
              1,
              "#f0f921"
             ]
            ],
            "type": "surface"
           }
          ],
          "table": [
           {
            "cells": {
             "fill": {
              "color": "#506784"
             },
             "line": {
              "color": "rgb(17,17,17)"
             }
            },
            "header": {
             "fill": {
              "color": "#2a3f5f"
             },
             "line": {
              "color": "rgb(17,17,17)"
             }
            },
            "type": "table"
           }
          ]
         },
         "layout": {
          "annotationdefaults": {
           "arrowcolor": "#f2f5fa",
           "arrowhead": 0,
           "arrowwidth": 1
          },
          "coloraxis": {
           "colorbar": {
            "outlinewidth": 0,
            "ticks": ""
           }
          },
          "colorscale": {
           "diverging": [
            [
             0,
             "#8e0152"
            ],
            [
             0.1,
             "#c51b7d"
            ],
            [
             0.2,
             "#de77ae"
            ],
            [
             0.3,
             "#f1b6da"
            ],
            [
             0.4,
             "#fde0ef"
            ],
            [
             0.5,
             "#f7f7f7"
            ],
            [
             0.6,
             "#e6f5d0"
            ],
            [
             0.7,
             "#b8e186"
            ],
            [
             0.8,
             "#7fbc41"
            ],
            [
             0.9,
             "#4d9221"
            ],
            [
             1,
             "#276419"
            ]
           ],
           "sequential": [
            [
             0,
             "#0d0887"
            ],
            [
             0.1111111111111111,
             "#46039f"
            ],
            [
             0.2222222222222222,
             "#7201a8"
            ],
            [
             0.3333333333333333,
             "#9c179e"
            ],
            [
             0.4444444444444444,
             "#bd3786"
            ],
            [
             0.5555555555555556,
             "#d8576b"
            ],
            [
             0.6666666666666666,
             "#ed7953"
            ],
            [
             0.7777777777777778,
             "#fb9f3a"
            ],
            [
             0.8888888888888888,
             "#fdca26"
            ],
            [
             1,
             "#f0f921"
            ]
           ],
           "sequentialminus": [
            [
             0,
             "#0d0887"
            ],
            [
             0.1111111111111111,
             "#46039f"
            ],
            [
             0.2222222222222222,
             "#7201a8"
            ],
            [
             0.3333333333333333,
             "#9c179e"
            ],
            [
             0.4444444444444444,
             "#bd3786"
            ],
            [
             0.5555555555555556,
             "#d8576b"
            ],
            [
             0.6666666666666666,
             "#ed7953"
            ],
            [
             0.7777777777777778,
             "#fb9f3a"
            ],
            [
             0.8888888888888888,
             "#fdca26"
            ],
            [
             1,
             "#f0f921"
            ]
           ]
          },
          "colorway": [
           "#636efa",
           "#EF553B",
           "#00cc96",
           "#ab63fa",
           "#FFA15A",
           "#19d3f3",
           "#FF6692",
           "#B6E880",
           "#FF97FF",
           "#FECB52"
          ],
          "font": {
           "color": "#f2f5fa"
          },
          "geo": {
           "bgcolor": "rgb(17,17,17)",
           "lakecolor": "rgb(17,17,17)",
           "landcolor": "rgb(17,17,17)",
           "showlakes": true,
           "showland": true,
           "subunitcolor": "#506784"
          },
          "hoverlabel": {
           "align": "left"
          },
          "hovermode": "closest",
          "mapbox": {
           "style": "dark"
          },
          "paper_bgcolor": "rgb(17,17,17)",
          "plot_bgcolor": "rgb(17,17,17)",
          "polar": {
           "angularaxis": {
            "gridcolor": "#506784",
            "linecolor": "#506784",
            "ticks": ""
           },
           "bgcolor": "rgb(17,17,17)",
           "radialaxis": {
            "gridcolor": "#506784",
            "linecolor": "#506784",
            "ticks": ""
           }
          },
          "scene": {
           "xaxis": {
            "backgroundcolor": "rgb(17,17,17)",
            "gridcolor": "#506784",
            "gridwidth": 2,
            "linecolor": "#506784",
            "showbackground": true,
            "ticks": "",
            "zerolinecolor": "#C8D4E3"
           },
           "yaxis": {
            "backgroundcolor": "rgb(17,17,17)",
            "gridcolor": "#506784",
            "gridwidth": 2,
            "linecolor": "#506784",
            "showbackground": true,
            "ticks": "",
            "zerolinecolor": "#C8D4E3"
           },
           "zaxis": {
            "backgroundcolor": "rgb(17,17,17)",
            "gridcolor": "#506784",
            "gridwidth": 2,
            "linecolor": "#506784",
            "showbackground": true,
            "ticks": "",
            "zerolinecolor": "#C8D4E3"
           }
          },
          "shapedefaults": {
           "line": {
            "color": "#f2f5fa"
           }
          },
          "sliderdefaults": {
           "bgcolor": "#C8D4E3",
           "bordercolor": "rgb(17,17,17)",
           "borderwidth": 1,
           "tickwidth": 0
          },
          "ternary": {
           "aaxis": {
            "gridcolor": "#506784",
            "linecolor": "#506784",
            "ticks": ""
           },
           "baxis": {
            "gridcolor": "#506784",
            "linecolor": "#506784",
            "ticks": ""
           },
           "bgcolor": "rgb(17,17,17)",
           "caxis": {
            "gridcolor": "#506784",
            "linecolor": "#506784",
            "ticks": ""
           }
          },
          "title": {
           "x": 0.05
          },
          "updatemenudefaults": {
           "bgcolor": "#506784",
           "borderwidth": 0
          },
          "xaxis": {
           "automargin": true,
           "gridcolor": "#283442",
           "linecolor": "#506784",
           "ticks": "",
           "title": {
            "standoff": 15
           },
           "zerolinecolor": "#283442",
           "zerolinewidth": 2
          },
          "yaxis": {
           "automargin": true,
           "gridcolor": "#283442",
           "linecolor": "#506784",
           "ticks": "",
           "title": {
            "standoff": 15
           },
           "zerolinecolor": "#283442",
           "zerolinewidth": 2
          }
         }
        },
        "title": {
         "text": "Revenue and trends"
        },
        "xaxis": {
         "title": {
          "text": "Date/Time"
         }
        },
        "yaxis": {
         "title": {
          "text": "MW"
         }
        }
       }
      },
      "text/html": [
       "<div>                            <div id=\"eb90b2ae-9dcd-4fe8-95d8-7564e22ddf21\" class=\"plotly-graph-div\" style=\"height:525px; width:100%;\"></div>            <script type=\"text/javascript\">                require([\"plotly\"], function(Plotly) {                    window.PLOTLYENV=window.PLOTLYENV || {};                                    if (document.getElementById(\"eb90b2ae-9dcd-4fe8-95d8-7564e22ddf21\")) {                    Plotly.newPlot(                        \"eb90b2ae-9dcd-4fe8-95d8-7564e22ddf21\",                        [{\"line\": {\"color\": \"orange\", \"width\": 2}, \"mode\": \"markers\", \"name\": \"The Croods: A New Age\", \"type\": \"scatter\", \"x\": [2.81], \"y\": [3970375.0]}, {\"line\": {\"color\": \"orange\", \"width\": 2}, \"mode\": \"markers\", \"name\": \"Half Brothers\", \"type\": \"scatter\", \"x\": [0.215904], \"y\": [686390.0]}, {\"line\": {\"color\": \"orange\", \"width\": 2}, \"mode\": \"markers\", \"name\": \"Freaky\", \"type\": \"scatter\", \"x\": [8.211538461538463], \"y\": [477130.0]}, {\"line\": {\"color\": \"orange\", \"width\": 2}, \"mode\": \"markers\", \"name\": \"Elf2020 Re-release\", \"type\": \"scatter\", \"x\": [8.333333333333334], \"y\": [400000.0]}, {\"line\": {\"color\": \"orange\", \"width\": 2}, \"mode\": \"markers\", \"name\": \"The War with Grandpa\", \"type\": \"scatter\", \"x\": [0.208416], \"y\": [341629.0]}, {\"line\": {\"color\": \"orange\", \"width\": 2}, \"mode\": \"markers\", \"name\": \"All My Life\", \"type\": \"scatter\", \"x\": [1.48], \"y\": [320510.0]}, {\"line\": {\"color\": \"orange\", \"width\": 2}, \"mode\": \"markers\", \"name\": \"The Polar Express2020 Re-release\", \"type\": \"scatter\", \"x\": [0.56576], \"y\": [245000.0]}, {\"line\": {\"color\": \"orange\", \"width\": 2}, \"mode\": \"markers\", \"name\": \"National Lampoon's Christmas Vacation2020 Re-release\", \"type\": \"scatter\", \"x\": [0.0], \"y\": [239000.0]}, {\"line\": {\"color\": \"orange\", \"width\": 2}, \"mode\": \"markers\", \"name\": \"Come Play\", \"type\": \"scatter\", \"x\": [0.9875478260869563], \"y\": [234140.0]}, {\"line\": {\"color\": \"orange\", \"width\": 2}, \"mode\": \"markers\", \"name\": \"Honest Thief\", \"type\": \"scatter\", \"x\": [0.0], \"y\": [196871.0]}, {\"line\": {\"color\": \"orange\", \"width\": 2}, \"mode\": \"markers\", \"name\": \"Wonder Woman2020 Re-release\", \"type\": \"scatter\", \"x\": [2.673684210526316], \"y\": [189000.0]}, {\"line\": {\"color\": \"orange\", \"width\": 2}, \"mode\": \"markers\", \"name\": \"Let Him Go\", \"type\": \"scatter\", \"x\": [2.16], \"y\": [184925.0]}, {\"line\": {\"color\": \"orange\", \"width\": 2}, \"mode\": \"markers\", \"name\": \"The Grinch2020 Re-release\", \"type\": \"scatter\", \"x\": [2.8125], \"y\": [160000.0]}, {\"line\": {\"color\": \"orange\", \"width\": 2}, \"mode\": \"markers\", \"name\": \"Die Hard2020 Re-release\", \"type\": \"scatter\", \"x\": [2.3684210526315788], \"y\": [136000.0]}, {\"line\": {\"color\": \"orange\", \"width\": 2}, \"mode\": \"markers\", \"name\": \"How the Grinch Stole Christmas2020 Re-release\", \"type\": \"scatter\", \"x\": [0.2834], \"y\": [134000.0]}, {\"line\": {\"color\": \"orange\", \"width\": 2}, \"mode\": \"markers\", \"name\": \"Wild Mountain Thyme\", \"type\": \"scatter\", \"x\": [0.0], \"y\": [95360.0]}, {\"line\": {\"color\": \"orange\", \"width\": 2}, \"mode\": \"markers\", \"name\": \"The Forgotten Carols\", \"type\": \"scatter\", \"x\": [0.0288288], \"y\": [61846.0]}, {\"line\": {\"color\": \"orange\", \"width\": 2}, \"mode\": \"markers\", \"name\": \"The Last Vermeer\", \"type\": \"scatter\", \"x\": [0.17846399999999998], \"y\": [57223.0]}, {\"line\": {\"color\": \"orange\", \"width\": 2}, \"mode\": \"markers\", \"name\": \"The Godfather: Part III2020 Re-release\", \"type\": \"scatter\", \"x\": [0.8858754098360654], \"y\": [33288.0]}, {\"line\": {\"color\": \"orange\", \"width\": 2}, \"mode\": \"markers\", \"name\": \"Vanguard\", \"type\": \"scatter\", \"x\": [1.3581176470588234], \"y\": [26861.0]}],                        {\"paper_bgcolor\": \"#23272c\", \"plot_bgcolor\": \"#23272c\", \"template\": {\"data\": {\"bar\": [{\"error_x\": {\"color\": \"#f2f5fa\"}, \"error_y\": {\"color\": \"#f2f5fa\"}, \"marker\": {\"line\": {\"color\": \"rgb(17,17,17)\", \"width\": 0.5}}, \"type\": \"bar\"}], \"barpolar\": [{\"marker\": {\"line\": {\"color\": \"rgb(17,17,17)\", \"width\": 0.5}}, \"type\": \"barpolar\"}], \"carpet\": [{\"aaxis\": {\"endlinecolor\": \"#A2B1C6\", \"gridcolor\": \"#506784\", \"linecolor\": \"#506784\", \"minorgridcolor\": \"#506784\", \"startlinecolor\": \"#A2B1C6\"}, \"baxis\": {\"endlinecolor\": \"#A2B1C6\", \"gridcolor\": \"#506784\", \"linecolor\": \"#506784\", \"minorgridcolor\": \"#506784\", \"startlinecolor\": \"#A2B1C6\"}, \"type\": \"carpet\"}], \"choropleth\": [{\"colorbar\": {\"outlinewidth\": 0, \"ticks\": \"\"}, \"type\": \"choropleth\"}], \"contour\": [{\"colorbar\": {\"outlinewidth\": 0, \"ticks\": \"\"}, \"colorscale\": [[0.0, \"#0d0887\"], [0.1111111111111111, \"#46039f\"], [0.2222222222222222, \"#7201a8\"], [0.3333333333333333, \"#9c179e\"], [0.4444444444444444, \"#bd3786\"], [0.5555555555555556, \"#d8576b\"], [0.6666666666666666, \"#ed7953\"], [0.7777777777777778, \"#fb9f3a\"], [0.8888888888888888, \"#fdca26\"], [1.0, \"#f0f921\"]], \"type\": \"contour\"}], \"contourcarpet\": [{\"colorbar\": {\"outlinewidth\": 0, \"ticks\": \"\"}, \"type\": \"contourcarpet\"}], \"heatmap\": [{\"colorbar\": {\"outlinewidth\": 0, \"ticks\": \"\"}, \"colorscale\": [[0.0, \"#0d0887\"], [0.1111111111111111, \"#46039f\"], [0.2222222222222222, \"#7201a8\"], [0.3333333333333333, \"#9c179e\"], [0.4444444444444444, \"#bd3786\"], [0.5555555555555556, \"#d8576b\"], [0.6666666666666666, \"#ed7953\"], [0.7777777777777778, \"#fb9f3a\"], [0.8888888888888888, \"#fdca26\"], [1.0, \"#f0f921\"]], \"type\": \"heatmap\"}], \"heatmapgl\": [{\"colorbar\": {\"outlinewidth\": 0, \"ticks\": \"\"}, \"colorscale\": [[0.0, \"#0d0887\"], [0.1111111111111111, \"#46039f\"], [0.2222222222222222, \"#7201a8\"], [0.3333333333333333, \"#9c179e\"], [0.4444444444444444, \"#bd3786\"], [0.5555555555555556, \"#d8576b\"], [0.6666666666666666, \"#ed7953\"], [0.7777777777777778, \"#fb9f3a\"], [0.8888888888888888, \"#fdca26\"], [1.0, \"#f0f921\"]], \"type\": \"heatmapgl\"}], \"histogram\": [{\"marker\": {\"colorbar\": {\"outlinewidth\": 0, \"ticks\": \"\"}}, \"type\": \"histogram\"}], \"histogram2d\": [{\"colorbar\": {\"outlinewidth\": 0, \"ticks\": \"\"}, \"colorscale\": [[0.0, \"#0d0887\"], [0.1111111111111111, \"#46039f\"], [0.2222222222222222, \"#7201a8\"], [0.3333333333333333, \"#9c179e\"], [0.4444444444444444, \"#bd3786\"], [0.5555555555555556, \"#d8576b\"], [0.6666666666666666, \"#ed7953\"], [0.7777777777777778, \"#fb9f3a\"], [0.8888888888888888, \"#fdca26\"], [1.0, \"#f0f921\"]], \"type\": \"histogram2d\"}], \"histogram2dcontour\": [{\"colorbar\": {\"outlinewidth\": 0, \"ticks\": \"\"}, \"colorscale\": [[0.0, \"#0d0887\"], [0.1111111111111111, \"#46039f\"], [0.2222222222222222, \"#7201a8\"], [0.3333333333333333, \"#9c179e\"], [0.4444444444444444, \"#bd3786\"], [0.5555555555555556, \"#d8576b\"], [0.6666666666666666, \"#ed7953\"], [0.7777777777777778, \"#fb9f3a\"], [0.8888888888888888, \"#fdca26\"], [1.0, \"#f0f921\"]], \"type\": \"histogram2dcontour\"}], \"mesh3d\": [{\"colorbar\": {\"outlinewidth\": 0, \"ticks\": \"\"}, \"type\": \"mesh3d\"}], \"parcoords\": [{\"line\": {\"colorbar\": {\"outlinewidth\": 0, \"ticks\": \"\"}}, \"type\": \"parcoords\"}], \"pie\": [{\"automargin\": true, \"type\": \"pie\"}], \"scatter\": [{\"marker\": {\"line\": {\"color\": \"#283442\"}}, \"type\": \"scatter\"}], \"scatter3d\": [{\"line\": {\"colorbar\": {\"outlinewidth\": 0, \"ticks\": \"\"}}, \"marker\": {\"colorbar\": {\"outlinewidth\": 0, \"ticks\": \"\"}}, \"type\": \"scatter3d\"}], \"scattercarpet\": [{\"marker\": {\"colorbar\": {\"outlinewidth\": 0, \"ticks\": \"\"}}, \"type\": \"scattercarpet\"}], \"scattergeo\": [{\"marker\": {\"colorbar\": {\"outlinewidth\": 0, \"ticks\": \"\"}}, \"type\": \"scattergeo\"}], \"scattergl\": [{\"marker\": {\"line\": {\"color\": \"#283442\"}}, \"type\": \"scattergl\"}], \"scattermapbox\": [{\"marker\": {\"colorbar\": {\"outlinewidth\": 0, \"ticks\": \"\"}}, \"type\": \"scattermapbox\"}], \"scatterpolar\": [{\"marker\": {\"colorbar\": {\"outlinewidth\": 0, \"ticks\": \"\"}}, \"type\": \"scatterpolar\"}], \"scatterpolargl\": [{\"marker\": {\"colorbar\": {\"outlinewidth\": 0, \"ticks\": \"\"}}, \"type\": \"scatterpolargl\"}], \"scatterternary\": [{\"marker\": {\"colorbar\": {\"outlinewidth\": 0, \"ticks\": \"\"}}, \"type\": \"scatterternary\"}], \"surface\": [{\"colorbar\": {\"outlinewidth\": 0, \"ticks\": \"\"}, \"colorscale\": [[0.0, \"#0d0887\"], [0.1111111111111111, \"#46039f\"], [0.2222222222222222, \"#7201a8\"], [0.3333333333333333, \"#9c179e\"], [0.4444444444444444, \"#bd3786\"], [0.5555555555555556, \"#d8576b\"], [0.6666666666666666, \"#ed7953\"], [0.7777777777777778, \"#fb9f3a\"], [0.8888888888888888, \"#fdca26\"], [1.0, \"#f0f921\"]], \"type\": \"surface\"}], \"table\": [{\"cells\": {\"fill\": {\"color\": \"#506784\"}, \"line\": {\"color\": \"rgb(17,17,17)\"}}, \"header\": {\"fill\": {\"color\": \"#2a3f5f\"}, \"line\": {\"color\": \"rgb(17,17,17)\"}}, \"type\": \"table\"}]}, \"layout\": {\"annotationdefaults\": {\"arrowcolor\": \"#f2f5fa\", \"arrowhead\": 0, \"arrowwidth\": 1}, \"coloraxis\": {\"colorbar\": {\"outlinewidth\": 0, \"ticks\": \"\"}}, \"colorscale\": {\"diverging\": [[0, \"#8e0152\"], [0.1, \"#c51b7d\"], [0.2, \"#de77ae\"], [0.3, \"#f1b6da\"], [0.4, \"#fde0ef\"], [0.5, \"#f7f7f7\"], [0.6, \"#e6f5d0\"], [0.7, \"#b8e186\"], [0.8, \"#7fbc41\"], [0.9, \"#4d9221\"], [1, \"#276419\"]], \"sequential\": [[0.0, \"#0d0887\"], [0.1111111111111111, \"#46039f\"], [0.2222222222222222, \"#7201a8\"], [0.3333333333333333, \"#9c179e\"], [0.4444444444444444, \"#bd3786\"], [0.5555555555555556, \"#d8576b\"], [0.6666666666666666, \"#ed7953\"], [0.7777777777777778, \"#fb9f3a\"], [0.8888888888888888, \"#fdca26\"], [1.0, \"#f0f921\"]], \"sequentialminus\": [[0.0, \"#0d0887\"], [0.1111111111111111, \"#46039f\"], [0.2222222222222222, \"#7201a8\"], [0.3333333333333333, \"#9c179e\"], [0.4444444444444444, \"#bd3786\"], [0.5555555555555556, \"#d8576b\"], [0.6666666666666666, \"#ed7953\"], [0.7777777777777778, \"#fb9f3a\"], [0.8888888888888888, \"#fdca26\"], [1.0, \"#f0f921\"]]}, \"colorway\": [\"#636efa\", \"#EF553B\", \"#00cc96\", \"#ab63fa\", \"#FFA15A\", \"#19d3f3\", \"#FF6692\", \"#B6E880\", \"#FF97FF\", \"#FECB52\"], \"font\": {\"color\": \"#f2f5fa\"}, \"geo\": {\"bgcolor\": \"rgb(17,17,17)\", \"lakecolor\": \"rgb(17,17,17)\", \"landcolor\": \"rgb(17,17,17)\", \"showlakes\": true, \"showland\": true, \"subunitcolor\": \"#506784\"}, \"hoverlabel\": {\"align\": \"left\"}, \"hovermode\": \"closest\", \"mapbox\": {\"style\": \"dark\"}, \"paper_bgcolor\": \"rgb(17,17,17)\", \"plot_bgcolor\": \"rgb(17,17,17)\", \"polar\": {\"angularaxis\": {\"gridcolor\": \"#506784\", \"linecolor\": \"#506784\", \"ticks\": \"\"}, \"bgcolor\": \"rgb(17,17,17)\", \"radialaxis\": {\"gridcolor\": \"#506784\", \"linecolor\": \"#506784\", \"ticks\": \"\"}}, \"scene\": {\"xaxis\": {\"backgroundcolor\": \"rgb(17,17,17)\", \"gridcolor\": \"#506784\", \"gridwidth\": 2, \"linecolor\": \"#506784\", \"showbackground\": true, \"ticks\": \"\", \"zerolinecolor\": \"#C8D4E3\"}, \"yaxis\": {\"backgroundcolor\": \"rgb(17,17,17)\", \"gridcolor\": \"#506784\", \"gridwidth\": 2, \"linecolor\": \"#506784\", \"showbackground\": true, \"ticks\": \"\", \"zerolinecolor\": \"#C8D4E3\"}, \"zaxis\": {\"backgroundcolor\": \"rgb(17,17,17)\", \"gridcolor\": \"#506784\", \"gridwidth\": 2, \"linecolor\": \"#506784\", \"showbackground\": true, \"ticks\": \"\", \"zerolinecolor\": \"#C8D4E3\"}}, \"shapedefaults\": {\"line\": {\"color\": \"#f2f5fa\"}}, \"sliderdefaults\": {\"bgcolor\": \"#C8D4E3\", \"bordercolor\": \"rgb(17,17,17)\", \"borderwidth\": 1, \"tickwidth\": 0}, \"ternary\": {\"aaxis\": {\"gridcolor\": \"#506784\", \"linecolor\": \"#506784\", \"ticks\": \"\"}, \"baxis\": {\"gridcolor\": \"#506784\", \"linecolor\": \"#506784\", \"ticks\": \"\"}, \"bgcolor\": \"rgb(17,17,17)\", \"caxis\": {\"gridcolor\": \"#506784\", \"linecolor\": \"#506784\", \"ticks\": \"\"}}, \"title\": {\"x\": 0.05}, \"updatemenudefaults\": {\"bgcolor\": \"#506784\", \"borderwidth\": 0}, \"xaxis\": {\"automargin\": true, \"gridcolor\": \"#283442\", \"linecolor\": \"#506784\", \"ticks\": \"\", \"title\": {\"standoff\": 15}, \"zerolinecolor\": \"#283442\", \"zerolinewidth\": 2}, \"yaxis\": {\"automargin\": true, \"gridcolor\": \"#283442\", \"linecolor\": \"#506784\", \"ticks\": \"\", \"title\": {\"standoff\": 15}, \"zerolinecolor\": \"#283442\", \"zerolinewidth\": 2}}}, \"title\": {\"text\": \"Revenue and trends\"}, \"xaxis\": {\"title\": {\"text\": \"Date/Time\"}}, \"yaxis\": {\"title\": {\"text\": \"MW\"}}},                        {\"responsive\": true}                    ).then(function(){\n",
       "                            \n",
       "var gd = document.getElementById('eb90b2ae-9dcd-4fe8-95d8-7564e22ddf21');\n",
       "var x = new MutationObserver(function (mutations, observer) {{\n",
       "        var display = window.getComputedStyle(gd).display;\n",
       "        if (!display || display === 'none') {{\n",
       "            console.log([gd, 'removed!']);\n",
       "            Plotly.purge(gd);\n",
       "            observer.disconnect();\n",
       "        }}\n",
       "}});\n",
       "\n",
       "// Listen for the removal of the full notebook cells\n",
       "var notebookContainer = gd.closest('#notebook-container');\n",
       "if (notebookContainer) {{\n",
       "    x.observe(notebookContainer, {childList: true});\n",
       "}}\n",
       "\n",
       "// Listen for the clearing of the current output cell\n",
       "var outputEl = gd.closest('.output');\n",
       "if (outputEl) {{\n",
       "    x.observe(outputEl, {childList: true});\n",
       "}}\n",
       "\n",
       "                        })                };                });            </script>        </div>"
      ]
     },
     "metadata": {},
     "output_type": "display_data"
    }
   ],
   "source": [
    "import plotly.graph_objects as go\n",
    "import pandas as pd\n",
    "from datetime import timedelta\n",
    "\n",
    "\n",
    "COLORS = ['rgb(67,67,67)', 'rgb(115,115,115)', 'rgb(49,130,189)', 'rgb(189,189,189)']\n",
    "def static_stacked_trend_graph(stack=False):\n",
    "    \"\"\"\n",
    "    Returns scatter line plot of all power sources and power load.\n",
    "    If `stack` is `True`, the 4 power sources are stacked together to show the overall power\n",
    "    production.\n",
    "    \"\"\"\n",
    "    i=1\n",
    "#    df = pd.read_csv('1_year_weekly.csv', sep='\\t')\n",
    "#    df['Date_dt'] = df['Date'].astype('datetime64[ns]')\n",
    "#    date = df['Date_dt'].iloc[-1]\n",
    "#    movie_list = df[df['Date_dt'] == date].sort_values(by=['Weekly'], ascending=False)['Release'][0:10]\n",
    "#    \n",
    "#    df = df[df['Release'] == movie_list.iloc[i]]\n",
    "#    if df is None:\n",
    "#        return go.Figure()\n",
    "    \n",
    "    #x = df['Date_dt'] \n",
    "    #predict_date = df['Date_dt'].iloc[-1]  + timedelta(days=7)\n",
    "    \n",
    "    #linreg.predict(df.iloc[-1])\n",
    "    \n",
    "    \n",
    "    df = pd.read_csv('3_mo_weekly.csv', sep='\\t')\n",
    "    df['Date_dt'] = df['Date'].astype('datetime64[ns]')\n",
    "    date = df['Date_dt'].iloc[-1]\n",
    "\n",
    "    \n",
    "    fig = go.Figure()\n",
    "    movie_list = df[df['Date_dt'] == date].sort_values(by=['Weekly'], ascending=False)['Release'][0:20]\n",
    "    #movie = movie_list.iloc[0]\n",
    "    for movie in movie_list:\n",
    "        date = df['Date_dt'].iloc[-1]\n",
    "       # print(movie, date)\n",
    "        trend = df[(df['Release'] == movie) & (df['Date_dt'] == date)]['google trends'].iloc[0]\n",
    "        rev = df[(df['Release'] == movie) & (df['Date_dt'] == date)]['Weekly'].iloc[0]\n",
    "        fig.add_trace(go.Scatter(x=[trend], y=[rev], mode='markers', name=movie,\n",
    "                         line={'width': 2, 'color': 'orange'},\n",
    "                         stackgroup='stack' if stack else None))\n",
    "        print(trend, rev)\n",
    "    \n",
    "    title = f'Revenue and trends'\n",
    "    if stack:\n",
    "        title += ' [Stacked]'\n",
    "    fig.update_layout(template='plotly_dark',\n",
    "                      title=title,\n",
    "                      plot_bgcolor='#23272c',\n",
    "                      paper_bgcolor='#23272c',\n",
    "                      yaxis_title='MW',\n",
    "                      xaxis_title='Date/Time')\n",
    "    return fig\n",
    "static_stacked_trend_graph()"
   ]
  },
  {
   "cell_type": "code",
   "execution_count": 43,
   "metadata": {},
   "outputs": [
    {
     "data": {
      "application/vnd.plotly.v1+json": {
       "config": {
        "plotlyServerURL": "https://plot.ly"
       },
       "data": [
        {
         "line": {
          "color": "red",
          "width": 2
         },
         "mode": "markers",
         "name": "The SpongeBob Movie: Sponge on the Run",
         "type": "scatter",
         "x": [
          12.170454545454547
         ],
         "y": [
          876759
         ]
        },
        {
         "line": {
          "color": "blue",
          "width": 2
         },
         "mode": "markers",
         "name": "Centigrade",
         "type": "scatter",
         "x": [
          0.2636081632653061
         ],
         "y": [
          6480
         ]
        },
        {
         "line": {
          "color": "orange",
          "width": 2
         },
         "mode": "markers",
         "name": "The Personal History of David Copperfield",
         "type": "scatter",
         "x": [
          0.733824
         ],
         "y": [
          475800
         ]
        },
        {
         "line": {
          "color": "red",
          "width": 2
         },
         "mode": "markers",
         "name": "Made in Italy",
         "type": "scatter",
         "x": [
          0.834912
         ],
         "y": [
          5800
         ]
        },
        {
         "line": {
          "color": "blue",
          "width": 2
         },
         "mode": "markers",
         "name": "The New Mutants",
         "type": "scatter",
         "x": [
          5.88
         ],
         "y": [
          7037017
         ]
        },
        {
         "line": {
          "color": "orange",
          "width": 2
         },
         "mode": "markers",
         "name": "Bill & Ted Face the Music",
         "type": "scatter",
         "x": [
          0.4691232000000001
         ],
         "y": [
          1125007
         ]
        },
        {
         "line": {
          "color": "white",
          "width": 2
         },
         "mode": "markers",
         "name": "The Gentlemen",
         "type": "scatter",
         "x": [
          0.14976
         ],
         "y": [
          17272
         ]
        },
        {
         "line": {
          "color": "red",
          "width": 2
         },
         "mode": "markers",
         "name": "Tulsa",
         "type": "scatter",
         "x": [
          0.35817599999999994
         ],
         "y": [
          80500
         ]
        },
        {
         "line": {
          "color": "blue",
          "width": 2
         },
         "mode": "markers",
         "name": "Unhinged",
         "type": "scatter",
         "x": [
          2.99
         ],
         "y": [
          3819220
         ]
        },
        {
         "line": {
          "color": "orange",
          "width": 2
         },
         "mode": "markers",
         "name": "The Eight Hundred",
         "type": "scatter",
         "x": [
          0.24336
         ],
         "y": [
          118161
         ]
        },
        {
         "line": {
          "color": "white",
          "width": 2
         },
         "mode": "markers",
         "name": "Words on Bathroom Walls",
         "type": "scatter",
         "x": [
          1.8304
         ],
         "y": [
          646438
         ]
        },
        {
         "line": {
          "color": "red",
          "width": 2
         },
         "mode": "markers",
         "name": "The Rental",
         "type": "scatter",
         "x": [
          1.006451612903226
         ],
         "y": [
          50276
         ]
        },
        {
         "line": {
          "color": "blue",
          "width": 2
         },
         "mode": "markers",
         "name": "Tesla",
         "type": "scatter",
         "x": [
          2.19
         ],
         "y": [
          34098
         ]
        },
        {
         "line": {
          "color": "white",
          "width": 2
         },
         "mode": "markers",
         "name": "Words on Bathroom Walls",
         "type": "scatter",
         "x": [
          1.6186181818181817
         ],
         "y": [
          455438
         ]
        },
        {
         "line": {
          "color": "red",
          "width": 2
         },
         "mode": "markers",
         "name": "The New Mutants",
         "type": "scatter",
         "x": [
          6.0600000000000005
         ],
         "y": [
          4753312
         ]
        },
        {
         "line": {
          "color": "blue",
          "width": 2
         },
         "mode": "markers",
         "name": "Tulsa",
         "type": "scatter",
         "x": [
          0.32697600000000004
         ],
         "y": [
          41729
         ]
        },
        {
         "line": {
          "color": "white",
          "width": 2
         },
         "mode": "markers",
         "name": "Bill & Ted Face the Music",
         "type": "scatter",
         "x": [
          0.6525792
         ],
         "y": [
          1142565
         ]
        },
        {
         "line": {
          "color": "red",
          "width": 2
         },
         "mode": "markers",
         "name": "The SpongeBob Movie: Sponge on the Run",
         "type": "scatter",
         "x": [
          4.375
         ],
         "y": [
          345000
         ]
        },
        {
         "line": {
          "color": "blue",
          "width": 2
         },
         "mode": "markers",
         "name": "Tesla",
         "type": "scatter",
         "x": [
          0.8
         ],
         "y": [
          4732
         ]
        },
        {
         "line": {
          "color": "orange",
          "width": 2
         },
         "mode": "markers",
         "name": "Unhinged",
         "type": "scatter",
         "x": [
          2.44
         ],
         "y": [
          2598055
         ]
        },
        {
         "line": {
          "color": "white",
          "width": 2
         },
         "mode": "markers",
         "name": "Made in Italy",
         "type": "scatter",
         "x": [
          0.48297599999999996
         ],
         "y": [
          2011
         ]
        },
        {
         "line": {
          "color": "red",
          "width": 2
         },
         "mode": "markers",
         "name": "The Eight Hundred",
         "type": "scatter",
         "x": [
          0.40809599999999996
         ],
         "y": [
          132054
         ]
        },
        {
         "line": {
          "color": "blue",
          "width": 2
         },
         "mode": "markers",
         "name": "Centigrade",
         "type": "scatter",
         "x": [
          0.1948408163265306
         ],
         "y": [
          3225
         ]
        },
        {
         "line": {
          "color": "orange",
          "width": 2
         },
         "mode": "markers",
         "name": "The Personal History of David Copperfield",
         "type": "scatter",
         "x": [
          1.5874560000000002
         ],
         "y": [
          515111
         ]
        },
        {
         "line": {
          "color": "white",
          "width": 2
         },
         "mode": "markers",
         "name": "The SpongeBob Movie: Sponge on the Run",
         "type": "scatter",
         "x": [
          4.136363636363637
         ],
         "y": [
          225829
         ]
        },
        {
         "line": {
          "color": "blue",
          "width": 2
         },
         "mode": "markers",
         "name": "The Personal History of David Copperfield",
         "type": "scatter",
         "x": [
          0.6589439999999999
         ],
         "y": [
          276815
         ]
        },
        {
         "line": {
          "color": "orange",
          "width": 2
         },
         "mode": "markers",
         "name": "The New Mutants",
         "type": "scatter",
         "x": [
          3.3600000000000003
         ],
         "y": [
          2622098
         ]
        },
        {
         "line": {
          "color": "blue",
          "width": 2
         },
         "mode": "markers",
         "name": "Bill & Ted Face the Music",
         "type": "scatter",
         "x": [
          0.33022080000000004
         ],
         "y": [
          383248
         ]
        },
        {
         "line": {
          "color": "orange",
          "width": 2
         },
         "mode": "markers",
         "name": "She Dies Tomorrow",
         "type": "scatter",
         "x": [
          0.0576576
         ],
         "y": [
          26914
         ]
        },
        {
         "line": {
          "color": "white",
          "width": 2
         },
         "mode": "markers",
         "name": "Unhinged",
         "type": "scatter",
         "x": [
          1.56
         ],
         "y": [
          1846957
         ]
        },
        {
         "line": {
          "color": "red",
          "width": 2
         },
         "mode": "markers",
         "name": "The Broken Hearts Gallery",
         "type": "scatter",
         "x": [
          1.2292129032258066
         ],
         "y": [
          1126401
         ]
        },
        {
         "line": {
          "color": "blue",
          "width": 2
         },
         "mode": "markers",
         "name": "The Eight Hundred",
         "type": "scatter",
         "x": [
          0.31823999999999997
         ],
         "y": [
          45127
         ]
        },
        {
         "line": {
          "color": "orange",
          "width": 2
         },
         "mode": "markers",
         "name": "Words on Bathroom Walls",
         "type": "scatter",
         "x": [
          0.7361939393939392
         ],
         "y": [
          298524
         ]
        },
        {
         "line": {
          "color": "white",
          "width": 2
         },
         "mode": "markers",
         "name": "Tulsa",
         "type": "scatter",
         "x": [
          0.23462399999999997
         ],
         "y": [
          32702
         ]
        },
        {
         "line": {
          "color": "red",
          "width": 2
         },
         "mode": "markers",
         "name": "The Nest",
         "type": "scatter",
         "x": [
          1.3399999999999999
         ],
         "y": [
          42577
         ]
        },
        {
         "line": {
          "color": "blue",
          "width": 2
         },
         "mode": "markers",
         "name": "The Personal History of David Copperfield",
         "type": "scatter",
         "x": [
          0.441792
         ],
         "y": [
          175655
         ]
        },
        {
         "line": {
          "color": "orange",
          "width": 2
         },
         "mode": "markers",
         "name": "The Broken Hearts Gallery",
         "type": "scatter",
         "x": [
          1.1379612903225809
         ],
         "y": [
          1015060
         ]
        },
        {
         "line": {
          "color": "white",
          "width": 2
         },
         "mode": "markers",
         "name": "Unhinged",
         "type": "scatter",
         "x": [
          1.45
         ],
         "y": [
          1466941
         ]
        },
        {
         "line": {
          "color": "red",
          "width": 2
         },
         "mode": "markers",
         "name": "No Escape",
         "type": "scatter",
         "x": [
          0.5300148148148147
         ],
         "y": [
          46844
         ]
        },
        {
         "line": {
          "color": "blue",
          "width": 2
         },
         "mode": "markers",
         "name": "The SpongeBob Movie: Sponge on the Run",
         "type": "scatter",
         "x": [
          5.727272727272727
         ],
         "y": [
          219688
         ]
        },
        {
         "line": {
          "color": "orange",
          "width": 2
         },
         "mode": "markers",
         "name": "Infidel",
         "type": "scatter",
         "x": [
          2.672131147540984
         ],
         "y": [
          856240
         ]
        },
        {
         "line": {
          "color": "white",
          "width": 2
         },
         "mode": "markers",
         "name": "The Secrets We Keep",
         "type": "scatter",
         "x": [
          0.544128
         ],
         "y": [
          83628
         ]
        },
        {
         "line": {
          "color": "blue",
          "width": 2
         },
         "mode": "markers",
         "name": "Foster Boy",
         "type": "scatter",
         "x": [
          0.039936
         ],
         "y": [
          3446
         ]
        },
        {
         "line": {
          "color": "orange",
          "width": 2
         },
         "mode": "markers",
         "name": "The New Mutants",
         "type": "scatter",
         "x": [
          2.31
         ],
         "y": [
          1750026
         ]
        },
        {
         "line": {
          "color": "white",
          "width": 2
         },
         "mode": "markers",
         "name": "The Way I See It",
         "type": "scatter",
         "x": [
          0.23712
         ],
         "y": [
          17795
         ]
        },
        {
         "line": {
          "color": "red",
          "width": 2
         },
         "mode": "markers",
         "name": "She Dies Tomorrow",
         "type": "scatter",
         "x": [
          0.10745280000000001
         ],
         "y": [
          29594
         ]
        },
        {
         "line": {
          "color": "blue",
          "width": 2
         },
         "mode": "markers",
         "name": "Words on Bathroom Walls",
         "type": "scatter",
         "x": [
          0.4992
         ],
         "y": [
          203991
         ]
        },
        {
         "line": {
          "color": "orange",
          "width": 2
         },
         "mode": "markers",
         "name": "The Eight Hundred",
         "type": "scatter",
         "x": [
          0.235872
         ],
         "y": [
          13811
         ]
        },
        {
         "line": {
          "color": "white",
          "width": 2
         },
         "mode": "markers",
         "name": "Bill & Ted Face the Music",
         "type": "scatter",
         "x": [
          0.39049920000000005
         ],
         "y": [
          250881
         ]
        },
        {
         "line": {
          "color": "blue",
          "width": 2
         },
         "mode": "markers",
         "name": "Tulsa",
         "type": "scatter",
         "x": [
          0.258336
         ],
         "y": [
          36813
         ]
        },
        {
         "line": {
          "color": "white",
          "width": 2
         },
         "mode": "markers",
         "name": "Infidel",
         "type": "scatter",
         "x": [
          2.6885245901639343
         ],
         "y": [
          867754
         ]
        },
        {
         "line": {
          "color": "red",
          "width": 2
         },
         "mode": "markers",
         "name": "The New Mutants",
         "type": "scatter",
         "x": [
          2.0100000000000002
         ],
         "y": [
          1077583
         ]
        },
        {
         "line": {
          "color": "blue",
          "width": 2
         },
         "mode": "markers",
         "name": "The Last Shift",
         "type": "scatter",
         "x": [
          0.35922162162162163
         ],
         "y": [
          159428
         ]
        },
        {
         "line": {
          "color": "orange",
          "width": 2
         },
         "mode": "markers",
         "name": "Foster Boy",
         "type": "scatter",
         "x": [
          0.197184
         ],
         "y": [
          7385
         ]
        },
        {
         "line": {
          "color": "white",
          "width": 2
         },
         "mode": "markers",
         "name": "Shortcut",
         "type": "scatter",
         "x": [
          0.3096888888888889
         ],
         "y": [
          166025
         ]
        },
        {
         "line": {
          "color": "red",
          "width": 2
         },
         "mode": "markers",
         "name": "The Nest",
         "type": "scatter",
         "x": [
          1.06
         ],
         "y": [
          18585
         ]
        },
        {
         "line": {
          "color": "blue",
          "width": 2
         },
         "mode": "markers",
         "name": "The Personal History of David Copperfield",
         "type": "scatter",
         "x": [
          0.37439999999999996
         ],
         "y": [
          86975
         ]
        },
        {
         "line": {
          "color": "orange",
          "width": 2
         },
         "mode": "markers",
         "name": "She Dies Tomorrow",
         "type": "scatter",
         "x": [
          0.0825552
         ],
         "y": [
          14183
         ]
        },
        {
         "line": {
          "color": "white",
          "width": 2
         },
         "mode": "markers",
         "name": "The Broken Hearts Gallery",
         "type": "scatter",
         "x": [
          1.0145032258064517
         ],
         "y": [
          560498
         ]
        },
        {
         "line": {
          "color": "blue",
          "width": 2
         },
         "mode": "markers",
         "name": "On the Basis of Sex2020 Re-release",
         "type": "scatter",
         "x": [
          1.666666666666667
         ],
         "y": [
          33385
         ]
        },
        {
         "line": {
          "color": "orange",
          "width": 2
         },
         "mode": "markers",
         "name": "Kajillionaire",
         "type": "scatter",
         "x": [
          0.046176
         ],
         "y": [
          137775
         ]
        },
        {
         "line": {
          "color": "white",
          "width": 2
         },
         "mode": "markers",
         "name": "Ava",
         "type": "scatter",
         "x": [
          0.975609756097561
         ],
         "y": [
          105850
         ]
        },
        {
         "line": {
          "color": "red",
          "width": 2
         },
         "mode": "markers",
         "name": "Bill & Ted Face the Music",
         "type": "scatter",
         "x": [
          0.0550368
         ],
         "y": [
          101616
         ]
        },
        {
         "line": {
          "color": "blue",
          "width": 2
         },
         "mode": "markers",
         "name": "The Way I See It",
         "type": "scatter",
         "x": [
          0.21216
         ],
         "y": [
          12820
         ]
        },
        {
         "line": {
          "color": "orange",
          "width": 2
         },
         "mode": "markers",
         "name": "The SpongeBob Movie: Sponge on the Run",
         "type": "scatter",
         "x": [
          6.681818181818182
         ],
         "y": [
          121289
         ]
        },
        {
         "line": {
          "color": "white",
          "width": 2
         },
         "mode": "markers",
         "name": "No Escape",
         "type": "scatter",
         "x": [
          0.6779259259259259
         ],
         "y": [
          36436
         ]
        },
        {
         "line": {
          "color": "red",
          "width": 2
         },
         "mode": "markers",
         "name": "Star Wars: Episode V - The Empire Strikes Back2020 Re-release",
         "type": "scatter",
         "x": [
          7.105263157894737
         ],
         "y": [
          587000
         ]
        },
        {
         "line": {
          "color": "blue",
          "width": 2
         },
         "mode": "markers",
         "name": "Words on Bathroom Walls",
         "type": "scatter",
         "x": [
          0.726109090909091
         ],
         "y": [
          99532
         ]
        },
        {
         "line": {
          "color": "orange",
          "width": 2
         },
         "mode": "markers",
         "name": "The Secrets We Keep",
         "type": "scatter",
         "x": [
          0.544128
         ],
         "y": [
          46470
         ]
        },
        {
         "line": {
          "color": "white",
          "width": 2
         },
         "mode": "markers",
         "name": "Tulsa",
         "type": "scatter",
         "x": [
          0.198432
         ],
         "y": [
          32604
         ]
        },
        {
         "line": {
          "color": "blue",
          "width": 2
         },
         "mode": "markers",
         "name": "Unhinged",
         "type": "scatter",
         "x": [
          1.02
         ],
         "y": [
          900900
         ]
        },
        {
         "line": {
          "color": "orange",
          "width": 2
         },
         "mode": "markers",
         "name": "Foster Boy",
         "type": "scatter",
         "x": [
          0.167232
         ],
         "y": [
          1929
         ]
        },
        {
         "line": {
          "color": "white",
          "width": 2
         },
         "mode": "markers",
         "name": "Tulsa",
         "type": "scatter",
         "x": [
          0.195936
         ],
         "y": [
          32365
         ]
        },
        {
         "line": {
          "color": "red",
          "width": 2
         },
         "mode": "markers",
         "name": "No Escape",
         "type": "scatter",
         "x": [
          0.40059259259259256
         ],
         "y": [
          16586
         ]
        },
        {
         "line": {
          "color": "blue",
          "width": 2
         },
         "mode": "markers",
         "name": "Infidel",
         "type": "scatter",
         "x": [
          1.8196721311475408
         ],
         "y": [
          672002
         ]
        },
        {
         "line": {
          "color": "orange",
          "width": 2
         },
         "mode": "markers",
         "name": "She Dies Tomorrow",
         "type": "scatter",
         "x": [
          0.0864864
         ],
         "y": [
          13956
         ]
        },
        {
         "line": {
          "color": "white",
          "width": 2
         },
         "mode": "markers",
         "name": "Shortcut",
         "type": "scatter",
         "x": [
          0.4784
         ],
         "y": [
          336920
         ]
        },
        {
         "line": {
          "color": "red",
          "width": 2
         },
         "mode": "markers",
         "name": "The Broken Hearts Gallery",
         "type": "scatter",
         "x": [
          1.2131096774193548
         ],
         "y": [
          412771
         ]
        },
        {
         "line": {
          "color": "orange",
          "width": 2
         },
         "mode": "markers",
         "name": "A Call to Spy",
         "type": "scatter",
         "x": [
          0.813696
         ],
         "y": [
          35098
         ]
        },
        {
         "line": {
          "color": "white",
          "width": 2
         },
         "mode": "markers",
         "name": "Words on Bathroom Walls",
         "type": "scatter",
         "x": [
          0.5546666666666666
         ],
         "y": [
          88895
         ]
        },
        {
         "line": {
          "color": "red",
          "width": 2
         },
         "mode": "markers",
         "name": "Hocus Pocus2020 Re-release",
         "type": "scatter",
         "x": [
          2.4
         ],
         "y": [
          1925000
         ]
        },
        {
         "line": {
          "color": "blue",
          "width": 2
         },
         "mode": "markers",
         "name": "Unhinged",
         "type": "scatter",
         "x": [
          1.35
         ],
         "y": [
          1119136
         ]
        },
        {
         "line": {
          "color": "orange",
          "width": 2
         },
         "mode": "markers",
         "name": "The Call",
         "type": "scatter",
         "x": [
          2.122448979591837
         ],
         "y": [
          138237
         ]
        },
        {
         "line": {
          "color": "white",
          "width": 2
         },
         "mode": "markers",
         "name": "The Last Shift",
         "type": "scatter",
         "x": [
          0.5767783783783783
         ],
         "y": [
          226369
         ]
        },
        {
         "line": {
          "color": "red",
          "width": 2
         },
         "mode": "markers",
         "name": "On the Basis of Sex2020 Re-release",
         "type": "scatter",
         "x": [
          0.5050505050505051
         ],
         "y": [
          18700
         ]
        },
        {
         "line": {
          "color": "blue",
          "width": 2
         },
         "mode": "markers",
         "name": "The Personal History of David Copperfield",
         "type": "scatter",
         "x": [
          0.217152
         ],
         "y": [
          52733
         ]
        },
        {
         "line": {
          "color": "orange",
          "width": 2
         },
         "mode": "markers",
         "name": "The Secrets We Keep",
         "type": "scatter",
         "x": [
          0.294528
         ],
         "y": [
          18856
         ]
        },
        {
         "line": {
          "color": "white",
          "width": 2
         },
         "mode": "markers",
         "name": "The New Mutants",
         "type": "scatter",
         "x": [
          2.2199999999999998
         ],
         "y": [
          1354173
         ]
        },
        {
         "line": {
          "color": "red",
          "width": 2
         },
         "mode": "markers",
         "name": "The SpongeBob Movie: Sponge on the Run",
         "type": "scatter",
         "x": [
          6.681818181818181
         ],
         "y": [
          123649
         ]
        },
        {
         "line": {
          "color": "blue",
          "width": 2
         },
         "mode": "markers",
         "name": "Possessor",
         "type": "scatter",
         "x": [
          0.2983724137931034
         ],
         "y": [
          252664
         ]
        },
        {
         "line": {
          "color": "orange",
          "width": 2
         },
         "mode": "markers",
         "name": "Ava",
         "type": "scatter",
         "x": [
          2.2439024390243905
         ],
         "y": [
          153714
         ]
        },
        {
         "line": {
          "color": "white",
          "width": 2
         },
         "mode": "markers",
         "name": "Kajillionaire",
         "type": "scatter",
         "x": [
          0.227136
         ],
         "y": [
          169750
         ]
        },
        {
         "line": {
          "color": "red",
          "width": 2
         },
         "mode": "markers",
         "name": "Star Wars: Episode V - The Empire Strikes Back2020 Re-release",
         "type": "scatter",
         "x": [
          13.618421052631577
         ],
         "y": [
          335000
         ]
        },
        {
         "line": {
          "color": "blue",
          "width": 2
         },
         "mode": "markers",
         "name": "Bill & Ted Face the Music",
         "type": "scatter",
         "x": [
          0.052416000000000004
         ],
         "y": [
          56981
         ]
        },
        {
         "line": {
          "color": "red",
          "width": 2
         },
         "mode": "markers",
         "name": "The Way I See It",
         "type": "scatter",
         "x": [
          0.1248
         ],
         "y": [
          3610
         ]
        },
        {
         "line": {
          "color": "white",
          "width": 2
         },
         "mode": "markers",
         "name": "Shortcut",
         "type": "scatter",
         "x": [
          0.3582222222222222
         ],
         "y": [
          88164
         ]
        },
        {
         "line": {
          "color": "blue",
          "width": 2
         },
         "mode": "markers",
         "name": "Possessor",
         "type": "scatter",
         "x": [
          0.2352551724137931
         ],
         "y": [
          233545
         ]
        },
        {
         "line": {
          "color": "orange",
          "width": 2
         },
         "mode": "markers",
         "name": "Hocus Pocus2020 Re-release",
         "type": "scatter",
         "x": [
          2.18
         ],
         "y": [
          1161000
         ]
        },
        {
         "line": {
          "color": "white",
          "width": 2
         },
         "mode": "markers",
         "name": "Pray: The Story of Patrick Peyton",
         "type": "scatter",
         "x": [
          0.7113599999999999
         ],
         "y": [
          24397
         ]
        },
        {
         "line": {
          "color": "red",
          "width": 2
         },
         "mode": "markers",
         "name": "Kajillionaire",
         "type": "scatter",
         "x": [
          0.101088
         ],
         "y": [
          69930
         ]
        },
        {
         "line": {
          "color": "blue",
          "width": 2
         },
         "mode": "markers",
         "name": "No Escape",
         "type": "scatter",
         "x": [
          0.32047407407407397
         ],
         "y": [
          9880
         ]
        },
        {
         "line": {
          "color": "orange",
          "width": 2
         },
         "mode": "markers",
         "name": "Infidel",
         "type": "scatter",
         "x": [
          1.1639344262295082
         ],
         "y": [
          331089
         ]
        },
        {
         "line": {
          "color": "white",
          "width": 2
         },
         "mode": "markers",
         "name": "She Dies Tomorrow",
         "type": "scatter",
         "x": [
          0.026208000000000002
         ],
         "y": [
          17835
         ]
        },
        {
         "line": {
          "color": "red",
          "width": 2
         },
         "mode": "markers",
         "name": "Star Wars: Episode V - The Empire Strikes Back2020 Re-release",
         "type": "scatter",
         "x": [
          12.078947368421051
         ],
         "y": [
          145000
         ]
        },
        {
         "line": {
          "color": "blue",
          "width": 2
         },
         "mode": "markers",
         "name": "Ava",
         "type": "scatter",
         "x": [
          1.731707317073171
         ],
         "y": [
          76056
         ]
        },
        {
         "line": {
          "color": "orange",
          "width": 2
         },
         "mode": "markers",
         "name": "The War with Grandpa",
         "type": "scatter",
         "x": [
          2.2509381818181815
         ],
         "y": [
          3623880
         ]
        },
        {
         "line": {
          "color": "white",
          "width": 2
         },
         "mode": "markers",
         "name": "The SpongeBob Movie: Sponge on the Run",
         "type": "scatter",
         "x": [
          6.602272727272726
         ],
         "y": [
          65088
         ]
        },
        {
         "line": {
          "color": "red",
          "width": 2
         },
         "mode": "markers",
         "name": "Henchmen2020 Re-release",
         "type": "scatter",
         "x": [
          0.051542399999999995
         ],
         "y": [
          30223
         ]
        },
        {
         "line": {
          "color": "blue",
          "width": 2
         },
         "mode": "markers",
         "name": "The Secrets We Keep",
         "type": "scatter",
         "x": [
          0.109824
         ],
         "y": [
          1415
         ]
        },
        {
         "line": {
          "color": "orange",
          "width": 2
         },
         "mode": "markers",
         "name": "Coco",
         "type": "scatter",
         "x": [
          1.4302325581395348
         ],
         "y": [
          603000
         ]
        },
        {
         "line": {
          "color": "white",
          "width": 2
         },
         "mode": "markers",
         "name": "Tulsa",
         "type": "scatter",
         "x": [
          0.16099199999999994
         ],
         "y": [
          15525
         ]
        },
        {
         "line": {
          "color": "red",
          "width": 2
         },
         "mode": "markers",
         "name": "The Personal History of David Copperfield",
         "type": "scatter",
         "x": [
          0.247104
         ],
         "y": [
          17436
         ]
        },
        {
         "line": {
          "color": "blue",
          "width": 2
         },
         "mode": "markers",
         "name": "The New Mutants",
         "type": "scatter",
         "x": [
          1.8599999999999999
         ],
         "y": [
          956978
         ]
        },
        {
         "line": {
          "color": "orange",
          "width": 2
         },
         "mode": "markers",
         "name": "Bill & Ted Face the Music",
         "type": "scatter",
         "x": [
          0.1153152
         ],
         "y": [
          83430
         ]
        },
        {
         "line": {
          "color": "white",
          "width": 2
         },
         "mode": "markers",
         "name": "Unhinged",
         "type": "scatter",
         "x": [
          1.43
         ],
         "y": [
          903695
         ]
        },
        {
         "line": {
          "color": "blue",
          "width": 2
         },
         "mode": "markers",
         "name": "The Wolf of Snow Hollow",
         "type": "scatter",
         "x": [
          0.61776
         ],
         "y": [
          91943
         ]
        },
        {
         "line": {
          "color": "white",
          "width": 2
         },
         "mode": "markers",
         "name": "A Call to Spy",
         "type": "scatter",
         "x": [
          0.34944000000000003
         ],
         "y": [
          39430
         ]
        },
        {
         "line": {
          "color": "red",
          "width": 2
         },
         "mode": "markers",
         "name": "Words on Bathroom Walls",
         "type": "scatter",
         "x": [
          0.11597575757575755
         ],
         "y": [
          52171
         ]
        },
        {
         "line": {
          "color": "blue",
          "width": 2
         },
         "mode": "markers",
         "name": "Heaven",
         "type": "scatter",
         "x": [
          0.72
         ],
         "y": [
          8250
         ]
        },
        {
         "line": {
          "color": "orange",
          "width": 2
         },
         "mode": "markers",
         "name": "The Last Shift",
         "type": "scatter",
         "x": [
          0.5211243243243243
         ],
         "y": [
          78232
         ]
        },
        {
         "line": {
          "color": "white",
          "width": 2
         },
         "mode": "markers",
         "name": "The Call",
         "type": "scatter",
         "x": [
          4.244897959183673
         ],
         "y": [
          127306
         ]
        },
        {
         "line": {
          "color": "red",
          "width": 2
         },
         "mode": "markers",
         "name": "Yellow Rose",
         "type": "scatter",
         "x": [
          0.314496
         ],
         "y": [
          150330
         ]
        },
        {
         "line": {
          "color": "blue",
          "width": 2
         },
         "mode": "markers",
         "name": "The Broken Hearts Gallery",
         "type": "scatter",
         "x": [
          0.6119225806451613
         ],
         "y": [
          176644
         ]
        },
        {
         "line": {
          "color": "orange",
          "width": 2
         },
         "mode": "markers",
         "name": "Yellow Rose",
         "type": "scatter",
         "x": [
          0.63648
         ],
         "y": [
          140059
         ]
        },
        {
         "line": {
          "color": "red",
          "width": 2
         },
         "mode": "markers",
         "name": "No Escape",
         "type": "scatter",
         "x": [
          0.4437333333333333
         ],
         "y": [
          5910
         ]
        },
        {
         "line": {
          "color": "orange",
          "width": 2
         },
         "mode": "markers",
         "name": "Tulsa",
         "type": "scatter",
         "x": [
          0.229632
         ],
         "y": [
          7685
         ]
        },
        {
         "line": {
          "color": "red",
          "width": 2
         },
         "mode": "markers",
         "name": "Unhinged",
         "type": "scatter",
         "x": [
          1.24
         ],
         "y": [
          661309
         ]
        },
        {
         "line": {
          "color": "blue",
          "width": 2
         },
         "mode": "markers",
         "name": "Words on Bathroom Walls",
         "type": "scatter",
         "x": [
          0.20673939393939395
         ],
         "y": [
          22995
         ]
        },
        {
         "line": {
          "color": "orange",
          "width": 2
         },
         "mode": "markers",
         "name": "The Wolf of Snow Hollow",
         "type": "scatter",
         "x": [
          0.7675199999999998
         ],
         "y": [
          76665
         ]
        },
        {
         "line": {
          "color": "white",
          "width": 2
         },
         "mode": "markers",
         "name": "Possessor",
         "type": "scatter",
         "x": [
          0.21517241379310345
         ],
         "y": [
          143954
         ]
        },
        {
         "line": {
          "color": "red",
          "width": 2
         },
         "mode": "markers",
         "name": "The SpongeBob Movie: Sponge on the Run",
         "type": "scatter",
         "x": [
          7.874999999999998
         ],
         "y": [
          69201
         ]
        },
        {
         "line": {
          "color": "blue",
          "width": 2
         },
         "mode": "markers",
         "name": "Pray: The Story of Patrick Peyton",
         "type": "scatter",
         "x": [
          0.7188479999999998
         ],
         "y": [
          20385
         ]
        },
        {
         "line": {
          "color": "orange",
          "width": 2
         },
         "mode": "markers",
         "name": "The Personal History of David Copperfield",
         "type": "scatter",
         "x": [
          0.32198400000000005
         ],
         "y": [
          8533
         ]
        },
        {
         "line": {
          "color": "white",
          "width": 2
         },
         "mode": "markers",
         "name": "The Nightmare Before Christmas2020 Re-release",
         "type": "scatter",
         "x": [
          1.0800872727272723
         ],
         "y": [
          1323000
         ]
        },
        {
         "line": {
          "color": "red",
          "width": 2
         },
         "mode": "markers",
         "name": "The New Mutants",
         "type": "scatter",
         "x": [
          2.7
         ],
         "y": [
          712921
         ]
        },
        {
         "line": {
          "color": "blue",
          "width": 2
         },
         "mode": "markers",
         "name": "The Last Shift",
         "type": "scatter",
         "x": [
          0.09612972972972973
         ],
         "y": [
          22022
         ]
        },
        {
         "line": {
          "color": "white",
          "width": 2
         },
         "mode": "markers",
         "name": "The Kid Detective",
         "type": "scatter",
         "x": [
          0.2188368
         ],
         "y": [
          140218
         ]
        },
        {
         "line": {
          "color": "red",
          "width": 2
         },
         "mode": "markers",
         "name": "The Call",
         "type": "scatter",
         "x": [
          4.4489795918367365
         ],
         "y": [
          88555
         ]
        },
        {
         "line": {
          "color": "blue",
          "width": 2
         },
         "mode": "markers",
         "name": "She Dies Tomorrow",
         "type": "scatter",
         "x": [
          0.0864864
         ],
         "y": [
          15482
         ]
        },
        {
         "line": {
          "color": "orange",
          "width": 2
         },
         "mode": "markers",
         "name": "Shithouse",
         "type": "scatter",
         "x": [
          0.0926016
         ],
         "y": [
          5545
         ]
        },
        {
         "line": {
          "color": "white",
          "width": 2
         },
         "mode": "markers",
         "name": "The Broken Hearts Gallery",
         "type": "scatter",
         "x": [
          0.39184516129032254
         ],
         "y": [
          60054
         ]
        },
        {
         "line": {
          "color": "red",
          "width": 2
         },
         "mode": "markers",
         "name": "Star Wars: Episode V - The Empire Strikes Back2020 Re-release",
         "type": "scatter",
         "x": [
          12.907894736842104
         ],
         "y": [
          79000
         ]
        },
        {
         "line": {
          "color": "blue",
          "width": 2
         },
         "mode": "markers",
         "name": "Shortcut",
         "type": "scatter",
         "x": [
          0.18488888888888888
         ],
         "y": [
          28879
         ]
        },
        {
         "line": {
          "color": "orange",
          "width": 2
         },
         "mode": "markers",
         "name": "The War with Grandpa",
         "type": "scatter",
         "x": [
          1.6428218181818182
         ],
         "y": [
          3636975
         ]
        },
        {
         "line": {
          "color": "red",
          "width": 2
         },
         "mode": "markers",
         "name": "2 Hearts",
         "type": "scatter",
         "x": [
          1.0199172413793103
         ],
         "y": [
          522937
         ]
        },
        {
         "line": {
          "color": "orange",
          "width": 2
         },
         "mode": "markers",
         "name": "Bill & Ted Face the Music",
         "type": "scatter",
         "x": [
          0.1205568
         ],
         "y": [
          12352
         ]
        },
        {
         "line": {
          "color": "red",
          "width": 2
         },
         "mode": "markers",
         "name": "Ava",
         "type": "scatter",
         "x": [
          1.7804878048780493
         ],
         "y": [
          39759
         ]
        },
        {
         "line": {
          "color": "blue",
          "width": 2
         },
         "mode": "markers",
         "name": "Coco",
         "type": "scatter",
         "x": [
          1.4069767441860463
         ],
         "y": [
          131000
         ]
        },
        {
         "line": {
          "color": "white",
          "width": 2
         },
         "mode": "markers",
         "name": "Heaven",
         "type": "scatter",
         "x": [
          1.58
         ],
         "y": [
          18899
         ]
        },
        {
         "line": {
          "color": "red",
          "width": 2
         },
         "mode": "markers",
         "name": "A Call to Spy",
         "type": "scatter",
         "x": [
          0.244608
         ],
         "y": [
          23932
         ]
        },
        {
         "line": {
          "color": "blue",
          "width": 2
         },
         "mode": "markers",
         "name": "Infidel",
         "type": "scatter",
         "x": [
          0.8032786885245902
         ],
         "y": [
          150540
         ]
        },
        {
         "line": {
          "color": "orange",
          "width": 2
         },
         "mode": "markers",
         "name": "Henchmen2020 Re-release",
         "type": "scatter",
         "x": [
          0.05066880000000001
         ],
         "y": [
          17177
         ]
        },
        {
         "line": {
          "color": "white",
          "width": 2
         },
         "mode": "markers",
         "name": "Love and Monsters",
         "type": "scatter",
         "x": [
          3.63
         ],
         "y": [
          270302
         ]
        },
        {
         "line": {
          "color": "red",
          "width": 2
         },
         "mode": "markers",
         "name": "Honest Thief",
         "type": "scatter",
         "x": [
          1.28
         ],
         "y": [
          3607966
         ]
        },
        {
         "line": {
          "color": "blue",
          "width": 2
         },
         "mode": "markers",
         "name": "Kajillionaire",
         "type": "scatter",
         "x": [
          0.190944
         ],
         "y": [
          31940
         ]
        },
        {
         "line": {
          "color": "orange",
          "width": 2
         },
         "mode": "markers",
         "name": "Hocus Pocus2020 Re-release",
         "type": "scatter",
         "x": [
          2.22
         ],
         "y": [
          756000
         ]
        },
        {
         "line": {
          "color": "white",
          "width": 2
         },
         "mode": "markers",
         "name": "Pray: The Story of Patrick Peyton",
         "type": "scatter",
         "x": [
          1.003392
         ],
         "y": [
          9173
         ]
        },
        {
         "line": {
          "color": "red",
          "width": 2
         },
         "mode": "markers",
         "name": "The Nightmare Before Christmas2020 Re-release",
         "type": "scatter",
         "x": [
          0.5445818181818182
         ],
         "y": [
          321000
         ]
        },
        {
         "line": {
          "color": "blue",
          "width": 2
         },
         "mode": "markers",
         "name": "Infidel",
         "type": "scatter",
         "x": [
          0.29508196721311475
         ],
         "y": [
          41370
         ]
        },
        {
         "line": {
          "color": "orange",
          "width": 2
         },
         "mode": "markers",
         "name": "After We Collided",
         "type": "scatter",
         "x": [
          22.619047619047624
         ],
         "y": [
          284811
         ]
        },
        {
         "line": {
          "color": "white",
          "width": 2
         },
         "mode": "markers",
         "name": "The Addams Family2020 Re-release",
         "type": "scatter",
         "x": [
          0.8400000000000001
         ],
         "y": [
          153748
         ]
        },
        {
         "line": {
          "color": "red",
          "width": 2
         },
         "mode": "markers",
         "name": "Unhinged",
         "type": "scatter",
         "x": [
          2.08
         ],
         "y": [
          272765
         ]
        },
        {
         "line": {
          "color": "blue",
          "width": 2
         },
         "mode": "markers",
         "name": "Tulsa",
         "type": "scatter",
         "x": [
          0.134784
         ],
         "y": [
          1552
         ]
        },
        {
         "line": {
          "color": "red",
          "width": 2
         },
         "mode": "markers",
         "name": "The Empty Man",
         "type": "scatter",
         "x": [
          1.41
         ],
         "y": [
          765714
         ]
        },
        {
         "line": {
          "color": "blue",
          "width": 2
         },
         "mode": "markers",
         "name": "The Last Shift",
         "type": "scatter",
         "x": [
          0.06071351351351353
         ],
         "y": [
          8687
         ]
        },
        {
         "line": {
          "color": "orange",
          "width": 2
         },
         "mode": "markers",
         "name": "Honest Thief",
         "type": "scatter",
         "x": [
          1.96
         ],
         "y": [
          2309454
         ]
        },
        {
         "line": {
          "color": "white",
          "width": 2
         },
         "mode": "markers",
         "name": "She Dies Tomorrow",
         "type": "scatter",
         "x": [
          0.028828799999999998
         ],
         "y": [
          7123
         ]
        },
        {
         "line": {
          "color": "red",
          "width": 2
         },
         "mode": "markers",
         "name": "Shithouse",
         "type": "scatter",
         "x": [
          0.06683040000000001
         ],
         "y": [
          5809
         ]
        },
        {
         "line": {
          "color": "orange",
          "width": 2
         },
         "mode": "markers",
         "name": "Hocus Pocus2020 Re-release",
         "type": "scatter",
         "x": [
          1.3599999999999999
         ],
         "y": [
          296000
         ]
        },
        {
         "line": {
          "color": "white",
          "width": 2
         },
         "mode": "markers",
         "name": "Heaven",
         "type": "scatter",
         "x": [
          1.15
         ],
         "y": [
          4499
         ]
        },
        {
         "line": {
          "color": "blue",
          "width": 2
         },
         "mode": "markers",
         "name": "The Personal History of David Copperfield",
         "type": "scatter",
         "x": [
          0.119808
         ],
         "y": [
          2273
         ]
        },
        {
         "line": {
          "color": "orange",
          "width": 2
         },
         "mode": "markers",
         "name": "The New Mutants",
         "type": "scatter",
         "x": [
          1.23
         ],
         "y": [
          298739
         ]
        },
        {
         "line": {
          "color": "red",
          "width": 2
         },
         "mode": "markers",
         "name": "The Call",
         "type": "scatter",
         "x": [
          3.2244897959183683
         ],
         "y": [
          43394
         ]
        },
        {
         "line": {
          "color": "blue",
          "width": 2
         },
         "mode": "markers",
         "name": "The War with Grandpa",
         "type": "scatter",
         "x": [
          0.8259490909090909
         ],
         "y": [
          1621335
         ]
        },
        {
         "line": {
          "color": "orange",
          "width": 2
         },
         "mode": "markers",
         "name": "Love and Monsters",
         "type": "scatter",
         "x": [
          5.82
         ],
         "y": [
          207917
         ]
        },
        {
         "line": {
          "color": "red",
          "width": 2
         },
         "mode": "markers",
         "name": "Monsters Inc.2020 Re-release",
         "type": "scatter",
         "x": [
          0.0624
         ],
         "y": [
          272000
         ]
        },
        {
         "line": {
          "color": "blue",
          "width": 2
         },
         "mode": "markers",
         "name": "Ava",
         "type": "scatter",
         "x": [
          1
         ],
         "y": [
          14389
         ]
        },
        {
         "line": {
          "color": "orange",
          "width": 2
         },
         "mode": "markers",
         "name": "Yellow Rose",
         "type": "scatter",
         "x": [
          0.16723200000000002
         ],
         "y": [
          35702
         ]
        },
        {
         "line": {
          "color": "white",
          "width": 2
         },
         "mode": "markers",
         "name": "2 Hearts",
         "type": "scatter",
         "x": [
          0.9940965517241378
         ],
         "y": [
          330190
         ]
        },
        {
         "line": {
          "color": "red",
          "width": 2
         },
         "mode": "markers",
         "name": "Possessor",
         "type": "scatter",
         "x": [
          0.08320000000000001
         ],
         "y": [
          41559
         ]
        },
        {
         "line": {
          "color": "blue",
          "width": 2
         },
         "mode": "markers",
         "name": "The Wolf of Snow Hollow",
         "type": "scatter",
         "x": [
          0.3744
         ],
         "y": [
          12015
         ]
        },
        {
         "line": {
          "color": "orange",
          "width": 2
         },
         "mode": "markers",
         "name": "Words on Bathroom Walls",
         "type": "scatter",
         "x": [
          0.20673939393939395
         ],
         "y": [
          6276
         ]
        },
        {
         "line": {
          "color": "red",
          "width": 2
         },
         "mode": "markers",
         "name": "Bill & Ted Face the Music",
         "type": "scatter",
         "x": [
          0.1126944
         ],
         "y": [
          3655
         ]
        },
        {
         "line": {
          "color": "blue",
          "width": 2
         },
         "mode": "markers",
         "name": "The SpongeBob Movie: Sponge on the Run",
         "type": "scatter",
         "x": [
          5.011363636363637
         ],
         "y": [
          30449
         ]
        },
        {
         "line": {
          "color": "white",
          "width": 2
         },
         "mode": "markers",
         "name": "No Escape",
         "type": "scatter",
         "x": [
          0.3728592592592592
         ],
         "y": [
          2146
         ]
        },
        {
         "line": {
          "color": "red",
          "width": 2
         },
         "mode": "markers",
         "name": "Kajillionaire",
         "type": "scatter",
         "x": [
          0.09984
         ],
         "y": [
          7440
         ]
        },
        {
         "line": {
          "color": "blue",
          "width": 2
         },
         "mode": "markers",
         "name": "Shortcut",
         "type": "scatter",
         "x": [
          0.05546666666666666
         ],
         "y": [
          4071
         ]
        },
        {
         "line": {
          "color": "orange",
          "width": 2
         },
         "mode": "markers",
         "name": "The Broken Hearts Gallery",
         "type": "scatter",
         "x": [
          0.5582451612903226
         ],
         "y": [
          17768
         ]
        },
        {
         "line": {
          "color": "white",
          "width": 2
         },
         "mode": "markers",
         "name": "A Call to Spy",
         "type": "scatter",
         "x": [
          0.284544
         ],
         "y": [
          12137
         ]
        },
        {
         "line": {
          "color": "red",
          "width": 2
         },
         "mode": "markers",
         "name": "The Kid Detective",
         "type": "scatter",
         "x": [
          0.235872
         ],
         "y": [
          124459
         ]
        },
        {
         "line": {
          "color": "blue",
          "width": 2
         },
         "mode": "markers",
         "name": "Tulsa",
         "type": "scatter",
         "x": [
          0.133536
         ],
         "y": [
          866
         ]
        },
        {
         "line": {
          "color": "orange",
          "width": 2
         },
         "mode": "markers",
         "name": "The Wolf of Snow Hollow",
         "type": "scatter",
         "x": [
          0.18096
         ],
         "y": [
          1275
         ]
        },
        {
         "line": {
          "color": "white",
          "width": 2
         },
         "mode": "markers",
         "name": "Ava",
         "type": "scatter",
         "x": [
          0.8536585365853658
         ],
         "y": [
          8354
         ]
        },
        {
         "line": {
          "color": "red",
          "width": 2
         },
         "mode": "markers",
         "name": "The Broken Hearts Gallery",
         "type": "scatter",
         "x": [
          0.11809032258064515
         ],
         "y": [
          8057
         ]
        },
        {
         "line": {
          "color": "blue",
          "width": 2
         },
         "mode": "markers",
         "name": "The Addams Family2020 Re-release",
         "type": "scatter",
         "x": [
          2.94
         ],
         "y": [
          219027
         ]
        },
        {
         "line": {
          "color": "orange",
          "width": 2
         },
         "mode": "markers",
         "name": "The Empty Man",
         "type": "scatter",
         "x": [
          2.31
         ],
         "y": [
          757354
         ]
        },
        {
         "line": {
          "color": "white",
          "width": 2
         },
         "mode": "markers",
         "name": "The SpongeBob Movie: Sponge on the Run",
         "type": "scatter",
         "x": [
          4.136363636363637
         ],
         "y": [
          12049
         ]
        },
        {
         "line": {
          "color": "red",
          "width": 2
         },
         "mode": "markers",
         "name": "Spell",
         "type": "scatter",
         "x": [
          3.18
         ],
         "y": [
          160755
         ]
        },
        {
         "line": {
          "color": "blue",
          "width": 2
         },
         "mode": "markers",
         "name": "Alita: Battle Angel",
         "type": "scatter",
         "x": [
          0.277056
         ],
         "y": [
          93000
         ]
        },
        {
         "line": {
          "color": "orange",
          "width": 2
         },
         "mode": "markers",
         "name": "The Call",
         "type": "scatter",
         "x": [
          2.530612244897959
         ],
         "y": [
          37047
         ]
        },
        {
         "line": {
          "color": "white",
          "width": 2
         },
         "mode": "markers",
         "name": "Heaven",
         "type": "scatter",
         "x": [
          0.97
         ],
         "y": [
          785
         ]
        },
        {
         "line": {
          "color": "blue",
          "width": 2
         },
         "mode": "markers",
         "name": "The Last Shift",
         "type": "scatter",
         "x": [
          0.0860108108108108
         ],
         "y": [
          2489
         ]
        },
        {
         "line": {
          "color": "orange",
          "width": 2
         },
         "mode": "markers",
         "name": "Possessor",
         "type": "scatter",
         "x": [
          0.04877241379310345
         ],
         "y": [
          24252
         ]
        },
        {
         "line": {
          "color": "white",
          "width": 2
         },
         "mode": "markers",
         "name": "2 Hearts",
         "type": "scatter",
         "x": [
          0.4303448275862069
         ],
         "y": [
          151450
         ]
        },
        {
         "line": {
          "color": "red",
          "width": 2
         },
         "mode": "markers",
         "name": "No Escape",
         "type": "scatter",
         "x": [
          0.4375703703703704
         ],
         "y": [
          1330
         ]
        },
        {
         "line": {
          "color": "orange",
          "width": 2
         },
         "mode": "markers",
         "name": "Yellow Rose",
         "type": "scatter",
         "x": [
          0.072384
         ],
         "y": [
          5401
         ]
        },
        {
         "line": {
          "color": "white",
          "width": 2
         },
         "mode": "markers",
         "name": "Monsters Inc.2020 Re-release",
         "type": "scatter",
         "x": [
          0.019968
         ],
         "y": [
          181000
         ]
        },
        {
         "line": {
          "color": "red",
          "width": 2
         },
         "mode": "markers",
         "name": "Unhinged",
         "type": "scatter",
         "x": [
          1.38
         ],
         "y": [
          144902
         ]
        },
        {
         "line": {
          "color": "blue",
          "width": 2
         },
         "mode": "markers",
         "name": "Hocus Pocus2020 Re-release",
         "type": "scatter",
         "x": [
          2.16
         ],
         "y": [
          356000
         ]
        },
        {
         "line": {
          "color": "orange",
          "width": 2
         },
         "mode": "markers",
         "name": "The New Mutants",
         "type": "scatter",
         "x": [
          1.23
         ],
         "y": [
          176851
         ]
        },
        {
         "line": {
          "color": "white",
          "width": 2
         },
         "mode": "markers",
         "name": "Infidel",
         "type": "scatter",
         "x": [
          0.19672131147540986
         ],
         "y": [
          14331
         ]
        },
        {
         "line": {
          "color": "red",
          "width": 2
         },
         "mode": "markers",
         "name": "Pray: The Story of Patrick Peyton",
         "type": "scatter",
         "x": [
          0.576576
         ],
         "y": [
          2416
         ]
        },
        {
         "line": {
          "color": "blue",
          "width": 2
         },
         "mode": "markers",
         "name": "Love and Monsters",
         "type": "scatter",
         "x": [
          2.8200000000000003
         ],
         "y": [
          141935
         ]
        },
        {
         "line": {
          "color": "orange",
          "width": 2
         },
         "mode": "markers",
         "name": "A Call to Spy",
         "type": "scatter",
         "x": [
          0.1248
         ],
         "y": [
          8546
         ]
        },
        {
         "line": {
          "color": "white",
          "width": 2
         },
         "mode": "markers",
         "name": "After We Collided",
         "type": "scatter",
         "x": [
          30.714285714285722
         ],
         "y": [
          119458
         ]
        },
        {
         "line": {
          "color": "red",
          "width": 2
         },
         "mode": "markers",
         "name": "The Nightmare Before Christmas2020 Re-release",
         "type": "scatter",
         "x": [
          1.5883636363636362
         ],
         "y": [
          301000
         ]
        },
        {
         "line": {
          "color": "blue",
          "width": 2
         },
         "mode": "markers",
         "name": "Lupin III: The First",
         "type": "scatter",
         "x": [
          0.0751296
         ],
         "y": [
          1850
         ]
        },
        {
         "line": {
          "color": "orange",
          "width": 2
         },
         "mode": "markers",
         "name": "Come Play",
         "type": "scatter",
         "x": [
          2.54
         ],
         "y": [
          2425275
         ]
        },
        {
         "line": {
          "color": "white",
          "width": 2
         },
         "mode": "markers",
         "name": "The War with Grandpa",
         "type": "scatter",
         "x": [
          0.6534981818181818
         ],
         "y": [
          1165264
         ]
        },
        {
         "line": {
          "color": "blue",
          "width": 2
         },
         "mode": "markers",
         "name": "Honest Thief",
         "type": "scatter",
         "x": [
          1.24
         ],
         "y": [
          1520098
         ]
        },
        {
         "line": {
          "color": "orange",
          "width": 2
         },
         "mode": "markers",
         "name": "She Dies Tomorrow",
         "type": "scatter",
         "x": [
          0.028828799999999998
         ],
         "y": [
          8319
         ]
        },
        {
         "line": {
          "color": "red",
          "width": 2
         },
         "mode": "markers",
         "name": "Shithouse",
         "type": "scatter",
         "x": [
          0.028392000000000008
         ],
         "y": [
          1721
         ]
        },
        {
         "line": {
          "color": "blue",
          "width": 2
         },
         "mode": "markers",
         "name": "The Kid Detective",
         "type": "scatter",
         "x": [
          0.08386560000000001
         ],
         "y": [
          38362
         ]
        },
        {
         "line": {
          "color": "orange",
          "width": 2
         },
         "mode": "markers",
         "name": "Words on Bathroom Walls",
         "type": "scatter",
         "x": [
          0.12606060606060607
         ],
         "y": [
          1665
         ]
        },
        {
         "line": {
          "color": "white",
          "width": 2
         },
         "mode": "markers",
         "name": "The Last Shift",
         "type": "scatter",
         "x": [
          0.0860108108108108
         ],
         "y": [
          709
         ]
        },
        {
         "line": {
          "color": "red",
          "width": 2
         },
         "mode": "markers",
         "name": "The Empty Man",
         "type": "scatter",
         "x": [
          1.59
         ],
         "y": [
          410629
         ]
        },
        {
         "line": {
          "color": "orange",
          "width": 2
         },
         "mode": "markers",
         "name": "The SpongeBob Movie: Sponge on the Run",
         "type": "scatter",
         "x": [
          26.88636363636364
         ],
         "y": [
          18651
         ]
        },
        {
         "line": {
          "color": "white",
          "width": 2
         },
         "mode": "markers",
         "name": "The Informer",
         "type": "scatter",
         "x": [
          0.466752
         ],
         "y": [
          133475
         ]
        },
        {
         "line": {
          "color": "red",
          "width": 2
         },
         "mode": "markers",
         "name": "The New Mutants",
         "type": "scatter",
         "x": [
          2.19
         ],
         "y": [
          174032
         ]
        },
        {
         "line": {
          "color": "blue",
          "width": 2
         },
         "mode": "markers",
         "name": "Come Play",
         "type": "scatter",
         "x": [
          4.12
         ],
         "y": [
          2381485
         ]
        },
        {
         "line": {
          "color": "orange",
          "width": 2
         },
         "mode": "markers",
         "name": "The Kid Detective",
         "type": "scatter",
         "x": [
          0.11662560000000002
         ],
         "y": [
          7071
         ]
        },
        {
         "line": {
          "color": "white",
          "width": 2
         },
         "mode": "markers",
         "name": "The War with Grandpa",
         "type": "scatter",
         "x": [
          1.4340654545454545
         ],
         "y": [
          1793645
         ]
        },
        {
         "line": {
          "color": "red",
          "width": 2
         },
         "mode": "markers",
         "name": "Tulsa",
         "type": "scatter",
         "x": [
          0.15100799999999998
         ],
         "y": [
          1469
         ]
        },
        {
         "line": {
          "color": "blue",
          "width": 2
         },
         "mode": "markers",
         "name": "The Call",
         "type": "scatter",
         "x": [
          2.4897959183673466
         ],
         "y": [
          19684
         ]
        },
        {
         "line": {
          "color": "orange",
          "width": 2
         },
         "mode": "markers",
         "name": "Possessor",
         "type": "scatter",
         "x": [
          0.09324137931034483
         ],
         "y": [
          4659
         ]
        },
        {
         "line": {
          "color": "white",
          "width": 2
         },
         "mode": "markers",
         "name": "Pray: The Story of Patrick Peyton",
         "type": "scatter",
         "x": [
          0.8910719999999999
         ],
         "y": [
          4649
         ]
        },
        {
         "line": {
          "color": "red",
          "width": 2
         },
         "mode": "markers",
         "name": "A Call to Spy",
         "type": "scatter",
         "x": [
          0.22464
         ],
         "y": [
          10182
         ]
        },
        {
         "line": {
          "color": "blue",
          "width": 2
         },
         "mode": "markers",
         "name": "No Escape",
         "type": "scatter",
         "x": [
          0.1448296296296296
         ],
         "y": [
          393
         ]
        },
        {
         "line": {
          "color": "orange",
          "width": 2
         },
         "mode": "markers",
         "name": "After We Collided",
         "type": "scatter",
         "x": [
          18.333333333333336
         ],
         "y": [
          89103
         ]
        },
        {
         "line": {
          "color": "white",
          "width": 2
         },
         "mode": "markers",
         "name": "Kindred",
         "type": "scatter",
         "x": [
          0.3025043478260869
         ],
         "y": [
          6795
         ]
        },
        {
         "line": {
          "color": "blue",
          "width": 2
         },
         "mode": "markers",
         "name": "2 Hearts",
         "type": "scatter",
         "x": [
          0.3614896551724138
         ],
         "y": [
          86998
         ]
        },
        {
         "line": {
          "color": "orange",
          "width": 2
         },
         "mode": "markers",
         "name": "Honest Thief",
         "type": "scatter",
         "x": [
          1.74
         ],
         "y": [
          1476412
         ]
        },
        {
         "line": {
          "color": "white",
          "width": 2
         },
         "mode": "markers",
         "name": "Words on Bathroom Walls",
         "type": "scatter",
         "x": [
          0.07563636363636364
         ],
         "y": [
          2480
         ]
        },
        {
         "line": {
          "color": "red",
          "width": 2
         },
         "mode": "markers",
         "name": "Infidel",
         "type": "scatter",
         "x": [
          0.2295081967213115
         ],
         "y": [
          5083
         ]
        },
        {
         "line": {
          "color": "blue",
          "width": 2
         },
         "mode": "markers",
         "name": "She Dies Tomorrow",
         "type": "scatter",
         "x": [
          0.057657599999999996
         ],
         "y": [
          1355
         ]
        },
        {
         "line": {
          "color": "white",
          "width": 2
         },
         "mode": "markers",
         "name": "Let Him Go",
         "type": "scatter",
         "x": [
          5.7299999999999995
         ],
         "y": [
          4000470
         ]
        },
        {
         "line": {
          "color": "red",
          "width": 2
         },
         "mode": "markers",
         "name": "Heaven",
         "type": "scatter",
         "x": [
          0.94
         ],
         "y": [
          737
         ]
        },
        {
         "line": {
          "color": "blue",
          "width": 2
         },
         "mode": "markers",
         "name": "The Addams Family2020 Re-release",
         "type": "scatter",
         "x": [
          0.78
         ],
         "y": [
          67464
         ]
        },
        {
         "line": {
          "color": "orange",
          "width": 2
         },
         "mode": "markers",
         "name": "True to the Game 2",
         "type": "scatter",
         "x": [
          1.3728000000000002
         ],
         "y": [
          274631
         ]
        },
        {
         "line": {
          "color": "white",
          "width": 2
         },
         "mode": "markers",
         "name": "Love and Monsters",
         "type": "scatter",
         "x": [
          2.73
         ],
         "y": [
          141767
         ]
        },
        {
         "line": {
          "color": "red",
          "width": 2
         },
         "mode": "markers",
         "name": "Toy Story2020 Re-release",
         "type": "scatter",
         "x": [
          0.5700324324324324
         ],
         "y": [
          505000
         ]
        },
        {
         "line": {
          "color": "blue",
          "width": 2
         },
         "mode": "markers",
         "name": "The Broken Hearts Gallery",
         "type": "scatter",
         "x": [
          0.2361806451612903
         ],
         "y": [
          14789
         ]
        },
        {
         "line": {
          "color": "orange",
          "width": 2
         },
         "mode": "markers",
         "name": "Ava",
         "type": "scatter",
         "x": [
          0.3170731707317073
         ],
         "y": [
          3258
         ]
        },
        {
         "line": {
          "color": "white",
          "width": 2
         },
         "mode": "markers",
         "name": "Spell",
         "type": "scatter",
         "x": [
          4.94
         ],
         "y": [
          173635
         ]
        },
        {
         "line": {
          "color": "red",
          "width": 2
         },
         "mode": "markers",
         "name": "Unhinged",
         "type": "scatter",
         "x": [
          1.26
         ],
         "y": [
          116401
         ]
        },
        {
         "line": {
          "color": "blue",
          "width": 2
         },
         "mode": "markers",
         "name": "Words on Bathroom Walls",
         "type": "scatter",
         "x": [
          0.6252606060606061
         ],
         "y": [
          1335
         ]
        },
        {
         "line": {
          "color": "orange",
          "width": 2
         },
         "mode": "markers",
         "name": "Elf2020 Re-release",
         "type": "scatter",
         "x": [
          0.9534883720930232
         ],
         "y": [
          93000
         ]
        },
        {
         "line": {
          "color": "white",
          "width": 2
         },
         "mode": "markers",
         "name": "2 Hearts",
         "type": "scatter",
         "x": [
          0.12910344827586204
         ],
         "y": [
          28077
         ]
        },
        {
         "line": {
          "color": "blue",
          "width": 2
         },
         "mode": "markers",
         "name": "The Last Shift",
         "type": "scatter",
         "x": [
          0.030356756756756764
         ],
         "y": [
          100002
         ]
        },
        {
         "line": {
          "color": "orange",
          "width": 2
         },
         "mode": "markers",
         "name": "Unhinged",
         "type": "scatter",
         "x": [
          1.2200000000000002
         ],
         "y": [
          40458
         ]
        },
        {
         "line": {
          "color": "white",
          "width": 2
         },
         "mode": "markers",
         "name": "Come Play",
         "type": "scatter",
         "x": [
          2.3
         ],
         "y": [
          968600
         ]
        },
        {
         "line": {
          "color": "red",
          "width": 2
         },
         "mode": "markers",
         "name": "A Call to Spy",
         "type": "scatter",
         "x": [
          0.039936
         ],
         "y": [
          5567
         ]
        },
        {
         "line": {
          "color": "blue",
          "width": 2
         },
         "mode": "markers",
         "name": "The War with Grandpa",
         "type": "scatter",
         "x": [
          0.6625745454545454
         ],
         "y": [
          1083440
         ]
        },
        {
         "line": {
          "color": "orange",
          "width": 2
         },
         "mode": "markers",
         "name": "After We Collided",
         "type": "scatter",
         "x": [
          7.61904761904762
         ],
         "y": [
          21806
         ]
        },
        {
         "line": {
          "color": "red",
          "width": 2
         },
         "mode": "markers",
         "name": "Come Away",
         "type": "scatter",
         "x": [
          0.6154520547945205
         ],
         "y": [
          58199
         ]
        },
        {
         "line": {
          "color": "orange",
          "width": 2
         },
         "mode": "markers",
         "name": "Tulsa",
         "type": "scatter",
         "x": [
          0.119808
         ],
         "y": [
          865
         ]
        },
        {
         "line": {
          "color": "white",
          "width": 2
         },
         "mode": "markers",
         "name": "Ammonite",
         "type": "scatter",
         "x": [
          0.32
         ],
         "y": [
          55196
         ]
        },
        {
         "line": {
          "color": "red",
          "width": 2
         },
         "mode": "markers",
         "name": "True to the Game 2",
         "type": "scatter",
         "x": [
          2.134736842105263
         ],
         "y": [
          260903
         ]
        },
        {
         "line": {
          "color": "blue",
          "width": 2
         },
         "mode": "markers",
         "name": "Toy Story2020 Re-release",
         "type": "scatter",
         "x": [
          0.35078918918918917
         ],
         "y": [
          117000
         ]
        },
        {
         "line": {
          "color": "orange",
          "width": 2
         },
         "mode": "markers",
         "name": "The SpongeBob Movie: Sponge on the Run",
         "type": "scatter",
         "x": [
          18.21590909090909
         ],
         "y": [
          7151
         ]
        },
        {
         "line": {
          "color": "white",
          "width": 2
         },
         "mode": "markers",
         "name": "The New Mutants",
         "type": "scatter",
         "x": [
          2.4000000000000004
         ],
         "y": [
          106825
         ]
        },
        {
         "line": {
          "color": "red",
          "width": 2
         },
         "mode": "markers",
         "name": "The Kid Detective",
         "type": "scatter",
         "x": [
          0.0275184
         ],
         "y": [
          778
         ]
        },
        {
         "line": {
          "color": "blue",
          "width": 2
         },
         "mode": "markers",
         "name": "Yellow Rose",
         "type": "scatter",
         "x": [
          0.017472
         ],
         "y": [
          2797
         ]
        },
        {
         "line": {
          "color": "orange",
          "width": 2
         },
         "mode": "markers",
         "name": "The Informer",
         "type": "scatter",
         "x": [
          0.334464
         ],
         "y": [
          76334
         ]
        },
        {
         "line": {
          "color": "white",
          "width": 2
         },
         "mode": "markers",
         "name": "Spell",
         "type": "scatter",
         "x": [
          1.96
         ],
         "y": [
          58739
         ]
        },
        {
         "line": {
          "color": "red",
          "width": 2
         },
         "mode": "markers",
         "name": "Pray: The Story of Patrick Peyton",
         "type": "scatter",
         "x": [
          0.569088
         ],
         "y": [
          2885
         ]
        },
        {
         "line": {
          "color": "blue",
          "width": 2
         },
         "mode": "markers",
         "name": "Infidel",
         "type": "scatter",
         "x": [
          0.14754098360655735
         ],
         "y": [
          1427
         ]
        },
        {
         "line": {
          "color": "orange",
          "width": 2
         },
         "mode": "markers",
         "name": "Heaven",
         "type": "scatter",
         "x": [
          0.56
         ],
         "y": [
          174
         ]
        },
        {
         "line": {
          "color": "white",
          "width": 2
         },
         "mode": "markers",
         "name": "The Addams Family2020 Re-release",
         "type": "scatter",
         "x": [
          0.12
         ],
         "y": [
          4708
         ]
        },
        {
         "line": {
          "color": "red",
          "width": 2
         },
         "mode": "markers",
         "name": "Kindred",
         "type": "scatter",
         "x": [
          0.09495652173913044
         ],
         "y": [
          1343
         ]
        },
        {
         "line": {
          "color": "blue",
          "width": 2
         },
         "mode": "markers",
         "name": "Honest Thief",
         "type": "scatter",
         "x": [
          1.92
         ],
         "y": [
          739388
         ]
        },
        {
         "line": {
          "color": "orange",
          "width": 2
         },
         "mode": "markers",
         "name": "The Empty Man",
         "type": "scatter",
         "x": [
          0.63
         ],
         "y": [
          130508
         ]
        },
        {
         "line": {
          "color": "white",
          "width": 2
         },
         "mode": "markers",
         "name": "Freaky",
         "type": "scatter",
         "x": [
          6.1904761904761925
         ],
         "y": [
          2203240
         ]
        },
        {
         "line": {
          "color": "red",
          "width": 2
         },
         "mode": "markers",
         "name": "The Call",
         "type": "scatter",
         "x": [
          2.040816326530612
         ],
         "y": [
          2525
         ]
        },
        {
         "line": {
          "color": "blue",
          "width": 2
         },
         "mode": "markers",
         "name": "Love and Monsters",
         "type": "scatter",
         "x": [
          1.92
         ],
         "y": [
          75321
         ]
        },
        {
         "line": {
          "color": "orange",
          "width": 2
         },
         "mode": "markers",
         "name": "Let Him Go",
         "type": "scatter",
         "x": [
          3.1500000000000004
         ],
         "y": [
          1843485
         ]
        },
        {
         "line": {
          "color": "white",
          "width": 2
         },
         "mode": "markers",
         "name": "The Broken Hearts Gallery",
         "type": "scatter",
         "x": [
          0.19860645161290325
         ],
         "y": [
          4702
         ]
        },
        {
         "line": {
          "color": "red",
          "width": 2
         },
         "mode": "markers",
         "name": "Guardians of the Galaxy2020 Re-release",
         "type": "scatter",
         "x": [
          0.23462399999999997
         ],
         "y": [
          221000
         ]
        },
        {
         "line": {
          "color": "orange",
          "width": 2
         },
         "mode": "markers",
         "name": "The War with Grandpa",
         "type": "scatter",
         "x": [
          0.6716509090909091
         ],
         "y": [
          428367
         ]
        },
        {
         "line": {
          "color": "white",
          "width": 2
         },
         "mode": "markers",
         "name": "After We Collided",
         "type": "scatter",
         "x": [
          7.380952380952383
         ],
         "y": [
          4454
         ]
        },
        {
         "line": {
          "color": "red",
          "width": 2
         },
         "mode": "markers",
         "name": "Spell",
         "type": "scatter",
         "x": [
          0.9
         ],
         "y": [
          15391
         ]
        },
        {
         "line": {
          "color": "orange",
          "width": 2
         },
         "mode": "markers",
         "name": "Elf2020 Re-release",
         "type": "scatter",
         "x": [
          0.8604651162790697
         ],
         "y": [
          50000
         ]
        },
        {
         "line": {
          "color": "white",
          "width": 2
         },
         "mode": "markers",
         "name": "The Broken Hearts Gallery",
         "type": "scatter",
         "x": [
          0.18787096774193549
         ],
         "y": [
          1273
         ]
        },
        {
         "line": {
          "color": "red",
          "width": 2
         },
         "mode": "markers",
         "name": "Buddy Games",
         "type": "scatter",
         "x": [
          0.214656
         ],
         "y": [
          35045
         ]
        },
        {
         "line": {
          "color": "blue",
          "width": 2
         },
         "mode": "markers",
         "name": "The Santa Clause2020 Re-release",
         "type": "scatter",
         "x": [
          0.6000000000000001
         ],
         "y": [
          106000
         ]
        },
        {
         "line": {
          "color": "orange",
          "width": 2
         },
         "mode": "markers",
         "name": "Come Away",
         "type": "scatter",
         "x": [
          0.5607452054794521
         ],
         "y": [
          33336
         ]
        },
        {
         "line": {
          "color": "white",
          "width": 2
         },
         "mode": "markers",
         "name": "Ammonite",
         "type": "scatter",
         "x": [
          0.13
         ],
         "y": [
          7075
         ]
        },
        {
         "line": {
          "color": "red",
          "width": 2
         },
         "mode": "markers",
         "name": "True to the Game 2",
         "type": "scatter",
         "x": [
          1.3596631578947367
         ],
         "y": [
          134732
         ]
        },
        {
         "line": {
          "color": "blue",
          "width": 2
         },
         "mode": "markers",
         "name": "The Empty Man",
         "type": "scatter",
         "x": [
          0.27
         ],
         "y": [
          25551
         ]
        },
        {
         "line": {
          "color": "orange",
          "width": 2
         },
         "mode": "markers",
         "name": "Guardians of the Galaxy2020 Re-release",
         "type": "scatter",
         "x": [
          0.364416
         ],
         "y": [
          33000
         ]
        },
        {
         "line": {
          "color": "white",
          "width": 2
         },
         "mode": "markers",
         "name": "Freaky",
         "type": "scatter",
         "x": [
          5.238095238095238
         ],
         "y": [
          1078200
         ]
        },
        {
         "line": {
          "color": "red",
          "width": 2
         },
         "mode": "markers",
         "name": "Love and Monsters",
         "type": "scatter",
         "x": [
          1.02
         ],
         "y": [
          22201
         ]
        },
        {
         "line": {
          "color": "blue",
          "width": 2
         },
         "mode": "markers",
         "name": "Come Play",
         "type": "scatter",
         "x": [
          2.3
         ],
         "y": [
          354335
         ]
        },
        {
         "line": {
          "color": "orange",
          "width": 2
         },
         "mode": "markers",
         "name": "The Call",
         "type": "scatter",
         "x": [
          3.0204081632653064
         ],
         "y": [
          759
         ]
        },
        {
         "line": {
          "color": "white",
          "width": 2
         },
         "mode": "markers",
         "name": "2 Hearts",
         "type": "scatter",
         "x": [
          0.17644137931034481
         ],
         "y": [
          5647
         ]
        },
        {
         "line": {
          "color": "blue",
          "width": 2
         },
         "mode": "markers",
         "name": "Embattled",
         "type": "scatter",
         "x": [
          0.09727058823529412
         ],
         "y": [
          2803
         ]
        },
        {
         "line": {
          "color": "orange",
          "width": 2
         },
         "mode": "markers",
         "name": "Honest Thief",
         "type": "scatter",
         "x": [
          0.92
         ],
         "y": [
          307101
         ]
        },
        {
         "line": {
          "color": "white",
          "width": 2
         },
         "mode": "markers",
         "name": "The Informer",
         "type": "scatter",
         "x": [
          0.23711999999999997
         ],
         "y": [
          26157
         ]
        },
        {
         "line": {
          "color": "red",
          "width": 2
         },
         "mode": "markers",
         "name": "Let Him Go",
         "type": "scatter",
         "x": [
          2.34
         ],
         "y": [
          563645
         ]
        },
        {
         "line": {
          "color": "blue",
          "width": 2
         },
         "mode": "markers",
         "name": "The New Mutants",
         "type": "scatter",
         "x": [
          2.31
         ],
         "y": [
          45496
         ]
        },
        {
         "line": {
          "color": "orange",
          "width": 2
         },
         "mode": "markers",
         "name": "Vanguard",
         "type": "scatter",
         "x": [
          0.49
         ],
         "y": [
          97652
         ]
        },
        {
         "line": {
          "color": "white",
          "width": 2
         },
         "mode": "markers",
         "name": "The Last Vermeer",
         "type": "scatter",
         "x": [
          0.063648
         ],
         "y": [
          55891
         ]
        },
        {
         "line": {
          "color": "red",
          "width": 2
         },
         "mode": "markers",
         "name": "Infidel",
         "type": "scatter",
         "x": [
          0.1639344262295082
         ],
         "y": [
          222
         ]
        },
        {
         "line": {
          "color": "blue",
          "width": 2
         },
         "mode": "markers",
         "name": "Pray: The Story of Patrick Peyton",
         "type": "scatter",
         "x": [
          0.7188479999999999
         ],
         "y": [
          859
         ]
        },
        {
         "line": {
          "color": "red",
          "width": 2
         },
         "mode": "markers",
         "name": "Words on Bathroom Walls",
         "type": "scatter",
         "x": [
          0.38826666666666665
         ],
         "y": [
          101
         ]
        },
        {
         "line": {
          "color": "blue",
          "width": 2
         },
         "mode": "markers",
         "name": "Words on Bathroom Walls",
         "type": "scatter",
         "x": [
          0.11597575757575758
         ],
         "y": [
          18
         ]
        },
        {
         "line": {
          "color": "orange",
          "width": 2
         },
         "mode": "markers",
         "name": "Let Him Go",
         "type": "scatter",
         "x": [
          5.79
         ],
         "y": [
          511465
         ]
        },
        {
         "line": {
          "color": "white",
          "width": 2
         },
         "mode": "markers",
         "name": "Ammonite",
         "type": "scatter",
         "x": [
          0.09
         ],
         "y": [
          4500
         ]
        },
        {
         "line": {
          "color": "red",
          "width": 2
         },
         "mode": "markers",
         "name": "The War with Grandpa",
         "type": "scatter",
         "x": [
          0.8077963636363635
         ],
         "y": [
          671014
         ]
        },
        {
         "line": {
          "color": "blue",
          "width": 2
         },
         "mode": "markers",
         "name": "Frozen2020 Re-release",
         "type": "scatter",
         "x": [
          1.33
         ],
         "y": [
          85000
         ]
        },
        {
         "line": {
          "color": "orange",
          "width": 2
         },
         "mode": "markers",
         "name": "Honest Thief",
         "type": "scatter",
         "x": [
          0.92
         ],
         "y": [
          354020
         ]
        },
        {
         "line": {
          "color": "white",
          "width": 2
         },
         "mode": "markers",
         "name": "Last Call",
         "type": "scatter",
         "x": [
          0.03744
         ],
         "y": [
          1653
         ]
        },
        {
         "line": {
          "color": "red",
          "width": 2
         },
         "mode": "markers",
         "name": "True to the Game 2",
         "type": "scatter",
         "x": [
          0.8341894736842105
         ],
         "y": [
          130808
         ]
        },
        {
         "line": {
          "color": "blue",
          "width": 2
         },
         "mode": "markers",
         "name": "Vanguard",
         "type": "scatter",
         "x": [
          1.2999999999999998
         ],
         "y": [
          210975
         ]
        },
        {
         "line": {
          "color": "white",
          "width": 2
         },
         "mode": "markers",
         "name": "After We Collided",
         "type": "scatter",
         "x": [
          6.42857142857143
         ],
         "y": [
          1619
         ]
        },
        {
         "line": {
          "color": "red",
          "width": 2
         },
         "mode": "markers",
         "name": "Stardust",
         "type": "scatter",
         "x": [
          0.128544
         ],
         "y": [
          2972
         ]
        },
        {
         "line": {
          "color": "blue",
          "width": 2
         },
         "mode": "markers",
         "name": "Pray: The Story of Patrick Peyton",
         "type": "scatter",
         "x": [
          0.344448
         ],
         "y": [
          110
         ]
        },
        {
         "line": {
          "color": "white",
          "width": 2
         },
         "mode": "markers",
         "name": "2 Hearts",
         "type": "scatter",
         "x": [
          0.09037241379310346
         ],
         "y": [
          1976
         ]
        },
        {
         "line": {
          "color": "red",
          "width": 2
         },
         "mode": "markers",
         "name": "Elf2020 Re-release",
         "type": "scatter",
         "x": [
          3.581395348837209
         ],
         "y": [
          260000
         ]
        },
        {
         "line": {
          "color": "blue",
          "width": 2
         },
         "mode": "markers",
         "name": "The Empty Man",
         "type": "scatter",
         "x": [
          0.42000000000000004
         ],
         "y": [
          9757
         ]
        },
        {
         "line": {
          "color": "orange",
          "width": 2
         },
         "mode": "markers",
         "name": "Come Play",
         "type": "scatter",
         "x": [
          2.4
         ],
         "y": [
          368045
         ]
        },
        {
         "line": {
          "color": "white",
          "width": 2
         },
         "mode": "markers",
         "name": "Come Away",
         "type": "scatter",
         "x": [
          0.5026191780821917
         ],
         "y": [
          12996
         ]
        },
        {
         "line": {
          "color": "red",
          "width": 2
         },
         "mode": "markers",
         "name": "The Call",
         "type": "scatter",
         "x": [
          1.0612244897959184
         ],
         "y": [
          250
         ]
        },
        {
         "line": {
          "color": "blue",
          "width": 2
         },
         "mode": "markers",
         "name": "The Santa Clause2020 Re-release",
         "type": "scatter",
         "x": [
          1.17
         ],
         "y": [
          140000
         ]
        },
        {
         "line": {
          "color": "orange",
          "width": 2
         },
         "mode": "markers",
         "name": "Embattled",
         "type": "scatter",
         "x": [
          0.1963764705882353
         ],
         "y": [
          7902
         ]
        },
        {
         "line": {
          "color": "white",
          "width": 2
         },
         "mode": "markers",
         "name": "The New Mutants",
         "type": "scatter",
         "x": [
          1.5299999999999998
         ],
         "y": [
          10316
         ]
        },
        {
         "line": {
          "color": "red",
          "width": 2
         },
         "mode": "markers",
         "name": "The Grinch",
         "type": "scatter",
         "x": [
          1.52
         ],
         "y": [
          50000
         ]
        },
        {
         "line": {
          "color": "blue",
          "width": 2
         },
         "mode": "markers",
         "name": "The Informer",
         "type": "scatter",
         "x": [
          0.154752
         ],
         "y": [
          9313
         ]
        },
        {
         "line": {
          "color": "white",
          "width": 2
         },
         "mode": "markers",
         "name": "Freaky",
         "type": "scatter",
         "x": [
          3.7301587301587302
         ],
         "y": [
          898670
         ]
        },
        {
         "line": {
          "color": "red",
          "width": 2
         },
         "mode": "markers",
         "name": "The Last Vermeer",
         "type": "scatter",
         "x": [
          0.344448
         ],
         "y": [
          176694
         ]
        },
        {
         "line": {
          "color": "blue",
          "width": 2
         },
         "mode": "markers",
         "name": "The Croods: A New Age",
         "type": "scatter",
         "x": [
          11.35
         ],
         "y": [
          8778895
         ]
        },
        {
         "line": {
          "color": "orange",
          "width": 2
         },
         "mode": "markers",
         "name": "Buddy Games",
         "type": "scatter",
         "x": [
          0.6864
         ],
         "y": [
          112664
         ]
        },
        {
         "line": {
          "color": "white",
          "width": 2
         },
         "mode": "markers",
         "name": "Die Hard2020 Re-release",
         "type": "scatter",
         "x": [
          2.48
         ],
         "y": [
          189000
         ]
        },
        {
         "line": {
          "color": "red",
          "width": 2
         },
         "mode": "markers",
         "name": "Let Him Go",
         "type": "scatter",
         "x": [
          5.4
         ],
         "y": [
          317885
         ]
        },
        {
         "line": {
          "color": "blue",
          "width": 2
         },
         "mode": "markers",
         "name": "Come Play",
         "type": "scatter",
         "x": [
          2.28
         ],
         "y": [
          316900
         ]
        },
        {
         "line": {
          "color": "orange",
          "width": 2
         },
         "mode": "markers",
         "name": "Honest Thief",
         "type": "scatter",
         "x": [
          2.0599999999999996
         ],
         "y": [
          282588
         ]
        },
        {
         "line": {
          "color": "white",
          "width": 2
         },
         "mode": "markers",
         "name": "The Last Vermeer",
         "type": "scatter",
         "x": [
          0.321984
         ],
         "y": [
          115299
         ]
        },
        {
         "line": {
          "color": "red",
          "width": 2
         },
         "mode": "markers",
         "name": "Pray: The Story of Patrick Peyton",
         "type": "scatter",
         "x": [
          0.42681600000000003
         ],
         "y": [
          257
         ]
        },
        {
         "line": {
          "color": "blue",
          "width": 2
         },
         "mode": "markers",
         "name": "Elf2020 Re-release",
         "type": "scatter",
         "x": [
          4.883720930232559
         ],
         "y": [
          315000
         ]
        },
        {
         "line": {
          "color": "orange",
          "width": 2
         },
         "mode": "markers",
         "name": "The Godfather: Part III2020 Re-release",
         "type": "scatter",
         "x": [
          0.89856
         ],
         "y": [
          54602
         ]
        },
        {
         "line": {
          "color": "red",
          "width": 2
         },
         "mode": "markers",
         "name": "Last Call",
         "type": "scatter",
         "x": [
          0.21964799999999995
         ],
         "y": [
          1515
         ]
        },
        {
         "line": {
          "color": "blue",
          "width": 2
         },
         "mode": "markers",
         "name": "The Grinch",
         "type": "scatter",
         "x": [
          4.06
         ],
         "y": [
          81000
         ]
        },
        {
         "line": {
          "color": "white",
          "width": 2
         },
         "mode": "markers",
         "name": "Vanguard",
         "type": "scatter",
         "x": [
          1.2000000000000002
         ],
         "y": [
          85227
         ]
        },
        {
         "line": {
          "color": "red",
          "width": 2
         },
         "mode": "markers",
         "name": "The Grinch2020 Re-release",
         "type": "scatter",
         "x": [
          4.06
         ],
         "y": [
          81000
         ]
        },
        {
         "line": {
          "color": "blue",
          "width": 2
         },
         "mode": "markers",
         "name": "2 Hearts",
         "type": "scatter",
         "x": [
          0.1807448275862069
         ],
         "y": [
          862
         ]
        },
        {
         "line": {
          "color": "orange",
          "width": 2
         },
         "mode": "markers",
         "name": "The New Mutants",
         "type": "scatter",
         "x": [
          1.9500000000000002
         ],
         "y": [
          5348
         ]
        },
        {
         "line": {
          "color": "white",
          "width": 2
         },
         "mode": "markers",
         "name": "The Climb",
         "type": "scatter",
         "x": [
          0.09508571428571427
         ],
         "y": [
          2148
         ]
        },
        {
         "line": {
          "color": "red",
          "width": 2
         },
         "mode": "markers",
         "name": "Freaky",
         "type": "scatter",
         "x": [
          8.492063492063494
         ],
         "y": [
          713195
         ]
        },
        {
         "line": {
          "color": "blue",
          "width": 2
         },
         "mode": "markers",
         "name": "Buddy Games",
         "type": "scatter",
         "x": [
          0.4592639999999999
         ],
         "y": [
          70860
         ]
        },
        {
         "line": {
          "color": "orange",
          "width": 2
         },
         "mode": "markers",
         "name": "The Polar Express2020 Re-release",
         "type": "scatter",
         "x": [
          0.8483240506329114
         ],
         "y": [
          155000
         ]
        },
        {
         "line": {
          "color": "white",
          "width": 2
         },
         "mode": "markers",
         "name": "Embattled",
         "type": "scatter",
         "x": [
          0.04588235294117647
         ],
         "y": [
          1197
         ]
        },
        {
         "line": {
          "color": "red",
          "width": 2
         },
         "mode": "markers",
         "name": "Stardust",
         "type": "scatter",
         "x": [
          0.102336
         ],
         "y": [
          1749
         ]
        },
        {
         "line": {
          "color": "blue",
          "width": 2
         },
         "mode": "markers",
         "name": "After We Collided",
         "type": "scatter",
         "x": [
          9.285714285714288
         ],
         "y": [
          957
         ]
        },
        {
         "line": {
          "color": "orange",
          "width": 2
         },
         "mode": "markers",
         "name": "Come Away",
         "type": "scatter",
         "x": [
          0.03761095890410959
         ],
         "y": [
          1418
         ]
        },
        {
         "line": {
          "color": "white",
          "width": 2
         },
         "mode": "markers",
         "name": "The War with Grandpa",
         "type": "scatter",
         "x": [
          0.7351854545454544
         ],
         "y": [
          414811
         ]
        },
        {
         "line": {
          "color": "red",
          "width": 2
         },
         "mode": "markers",
         "name": "All My Life",
         "type": "scatter",
         "x": [
          2.25
         ],
         "y": [
          370315
         ]
        },
        {
         "line": {
          "color": "blue",
          "width": 2
         },
         "mode": "markers",
         "name": "Half Brothers",
         "type": "scatter",
         "x": [
          0.35443199999999997
         ],
         "y": [
          700160
         ]
        },
        {
         "line": {
          "color": "orange",
          "width": 2
         },
         "mode": "markers",
         "name": "Frozen2020 Re-release",
         "type": "scatter",
         "x": [
          1.73
         ],
         "y": [
          60000
         ]
        },
        {
         "line": {
          "color": "white",
          "width": 2
         },
         "mode": "markers",
         "name": "The Empty Man",
         "type": "scatter",
         "x": [
          0.15000000000000002
         ],
         "y": [
          3631
         ]
        },
        {
         "line": {
          "color": "red",
          "width": 2
         },
         "mode": "markers",
         "name": "True to the Game 2",
         "type": "scatter",
         "x": [
          0.3087157894736842
         ],
         "y": [
          83064
         ]
        },
        {
         "line": {
          "color": "blue",
          "width": 2
         },
         "mode": "markers",
         "name": "The Croods: A New Age",
         "type": "scatter",
         "x": [
          11.45
         ],
         "y": [
          6065810
         ]
        },
        {
         "line": {
          "color": "orange",
          "width": 2
         },
         "mode": "markers",
         "name": "The Croods: A New Age",
         "type": "scatter",
         "x": [
          10.600000000000001
         ],
         "y": [
          3970375
         ]
        },
        {
         "line": {
          "color": "white",
          "width": 2
         },
         "mode": "markers",
         "name": "National Lampoon's Christmas Vacation2020 Re-release",
         "type": "scatter",
         "x": [
          0.0821184
         ],
         "y": [
          239000
         ]
        },
        {
         "line": {
          "color": "red",
          "width": 2
         },
         "mode": "markers",
         "name": "The Forgotten Carols",
         "type": "scatter",
         "x": [
          0.0563472
         ],
         "y": [
          61846
         ]
        },
        {
         "line": {
          "color": "orange",
          "width": 2
         },
         "mode": "markers",
         "name": "Freaky",
         "type": "scatter",
         "x": [
          7.380952380952383
         ],
         "y": [
          477130
         ]
        },
        {
         "line": {
          "color": "white",
          "width": 2
         },
         "mode": "markers",
         "name": "The Last Vermeer",
         "type": "scatter",
         "x": [
          0.295776
         ],
         "y": [
          57223
         ]
        },
        {
         "line": {
          "color": "red",
          "width": 2
         },
         "mode": "markers",
         "name": "The War with Grandpa",
         "type": "scatter",
         "x": [
          0.8259490909090909
         ],
         "y": [
          341629
         ]
        },
        {
         "line": {
          "color": "blue",
          "width": 2
         },
         "mode": "markers",
         "name": "The Climb",
         "type": "scatter",
         "x": [
          0.09508571428571427
         ],
         "y": [
          1137
         ]
        },
        {
         "line": {
          "color": "orange",
          "width": 2
         },
         "mode": "markers",
         "name": "Let Him Go",
         "type": "scatter",
         "x": [
          4.35
         ],
         "y": [
          184925
         ]
        },
        {
         "line": {
          "color": "white",
          "width": 2
         },
         "mode": "markers",
         "name": "Die Hard2020 Re-release",
         "type": "scatter",
         "x": [
          2.42
         ],
         "y": [
          136000
         ]
        },
        {
         "line": {
          "color": "red",
          "width": 2
         },
         "mode": "markers",
         "name": "Elf2020 Re-release",
         "type": "scatter",
         "x": [
          5.325581395348838
         ],
         "y": [
          400000
         ]
        },
        {
         "line": {
          "color": "blue",
          "width": 2
         },
         "mode": "markers",
         "name": "Wonder Woman2020 Re-release",
         "type": "scatter",
         "x": [
          3.18
         ],
         "y": [
          189000
         ]
        },
        {
         "line": {
          "color": "orange",
          "width": 2
         },
         "mode": "markers",
         "name": "2 Hearts",
         "type": "scatter",
         "x": [
          0.08606896551724137
         ],
         "y": [
          114
         ]
        },
        {
         "line": {
          "color": "white",
          "width": 2
         },
         "mode": "markers",
         "name": "The Grinch2020 Re-release",
         "type": "scatter",
         "x": [
          4.94
         ],
         "y": [
          160000
         ]
        },
        {
         "line": {
          "color": "red",
          "width": 2
         },
         "mode": "markers",
         "name": "Wild Mountain Thyme",
         "type": "scatter",
         "x": [
          1.0764
         ],
         "y": [
          95360
         ]
        },
        {
         "line": {
          "color": "blue",
          "width": 2
         },
         "mode": "markers",
         "name": "Vanguard",
         "type": "scatter",
         "x": [
          0.93
         ],
         "y": [
          26861
         ]
        },
        {
         "line": {
          "color": "orange",
          "width": 2
         },
         "mode": "markers",
         "name": "The Empty Man",
         "type": "scatter",
         "x": [
          0.36
         ],
         "y": [
          5843
         ]
        },
        {
         "line": {
          "color": "white",
          "width": 2
         },
         "mode": "markers",
         "name": "Half Brothers",
         "type": "scatter",
         "x": [
          0.631488
         ],
         "y": [
          686390
         ]
        },
        {
         "line": {
          "color": "red",
          "width": 2
         },
         "mode": "markers",
         "name": "The New Mutants",
         "type": "scatter",
         "x": [
          1.32
         ],
         "y": [
          12788
         ]
        },
        {
         "line": {
          "color": "blue",
          "width": 2
         },
         "mode": "markers",
         "name": "The Godfather: Part III2020 Re-release",
         "type": "scatter",
         "x": [
          1.737216
         ],
         "y": [
          33288
         ]
        },
        {
         "line": {
          "color": "orange",
          "width": 2
         },
         "mode": "markers",
         "name": "All My Life",
         "type": "scatter",
         "x": [
          2.8499999999999996
         ],
         "y": [
          320510
         ]
        },
        {
         "line": {
          "color": "white",
          "width": 2
         },
         "mode": "markers",
         "name": "After We Collided",
         "type": "scatter",
         "x": [
          7.8571428571428585
         ],
         "y": [
          179
         ]
        },
        {
         "line": {
          "color": "red",
          "width": 2
         },
         "mode": "markers",
         "name": "Come Play",
         "type": "scatter",
         "x": [
          1.6
         ],
         "y": [
          234140
         ]
        },
        {
         "line": {
          "color": "blue",
          "width": 2
         },
         "mode": "markers",
         "name": "Pray: The Story of Patrick Peyton",
         "type": "scatter",
         "x": [
          0.164736
         ],
         "y": [
          145
         ]
        },
        {
         "line": {
          "color": "orange",
          "width": 2
         },
         "mode": "markers",
         "name": "How the Grinch Stole Christmas2020 Re-release",
         "type": "scatter",
         "x": [
          1.08576
         ],
         "y": [
          134000
         ]
        },
        {
         "line": {
          "color": "white",
          "width": 2
         },
         "mode": "markers",
         "name": "The Polar Express2020 Re-release",
         "type": "scatter",
         "x": [
          0.6066227848101267
         ],
         "y": [
          245000
         ]
        },
        {
         "line": {
          "color": "red",
          "width": 2
         },
         "mode": "markers",
         "name": "Buddy Games",
         "type": "scatter",
         "x": [
          0.16723200000000002
         ],
         "y": [
          10390
         ]
        },
        {
         "line": {
          "color": "blue",
          "width": 2
         },
         "mode": "markers",
         "name": "Honest Thief",
         "type": "scatter",
         "x": [
          2.1
         ],
         "y": [
          196871
         ]
        }
       ],
       "layout": {
        "paper_bgcolor": "#23272c",
        "plot_bgcolor": "#23272c",
        "template": {
         "data": {
          "bar": [
           {
            "error_x": {
             "color": "#f2f5fa"
            },
            "error_y": {
             "color": "#f2f5fa"
            },
            "marker": {
             "line": {
              "color": "rgb(17,17,17)",
              "width": 0.5
             }
            },
            "type": "bar"
           }
          ],
          "barpolar": [
           {
            "marker": {
             "line": {
              "color": "rgb(17,17,17)",
              "width": 0.5
             }
            },
            "type": "barpolar"
           }
          ],
          "carpet": [
           {
            "aaxis": {
             "endlinecolor": "#A2B1C6",
             "gridcolor": "#506784",
             "linecolor": "#506784",
             "minorgridcolor": "#506784",
             "startlinecolor": "#A2B1C6"
            },
            "baxis": {
             "endlinecolor": "#A2B1C6",
             "gridcolor": "#506784",
             "linecolor": "#506784",
             "minorgridcolor": "#506784",
             "startlinecolor": "#A2B1C6"
            },
            "type": "carpet"
           }
          ],
          "choropleth": [
           {
            "colorbar": {
             "outlinewidth": 0,
             "ticks": ""
            },
            "type": "choropleth"
           }
          ],
          "contour": [
           {
            "colorbar": {
             "outlinewidth": 0,
             "ticks": ""
            },
            "colorscale": [
             [
              0,
              "#0d0887"
             ],
             [
              0.1111111111111111,
              "#46039f"
             ],
             [
              0.2222222222222222,
              "#7201a8"
             ],
             [
              0.3333333333333333,
              "#9c179e"
             ],
             [
              0.4444444444444444,
              "#bd3786"
             ],
             [
              0.5555555555555556,
              "#d8576b"
             ],
             [
              0.6666666666666666,
              "#ed7953"
             ],
             [
              0.7777777777777778,
              "#fb9f3a"
             ],
             [
              0.8888888888888888,
              "#fdca26"
             ],
             [
              1,
              "#f0f921"
             ]
            ],
            "type": "contour"
           }
          ],
          "contourcarpet": [
           {
            "colorbar": {
             "outlinewidth": 0,
             "ticks": ""
            },
            "type": "contourcarpet"
           }
          ],
          "heatmap": [
           {
            "colorbar": {
             "outlinewidth": 0,
             "ticks": ""
            },
            "colorscale": [
             [
              0,
              "#0d0887"
             ],
             [
              0.1111111111111111,
              "#46039f"
             ],
             [
              0.2222222222222222,
              "#7201a8"
             ],
             [
              0.3333333333333333,
              "#9c179e"
             ],
             [
              0.4444444444444444,
              "#bd3786"
             ],
             [
              0.5555555555555556,
              "#d8576b"
             ],
             [
              0.6666666666666666,
              "#ed7953"
             ],
             [
              0.7777777777777778,
              "#fb9f3a"
             ],
             [
              0.8888888888888888,
              "#fdca26"
             ],
             [
              1,
              "#f0f921"
             ]
            ],
            "type": "heatmap"
           }
          ],
          "heatmapgl": [
           {
            "colorbar": {
             "outlinewidth": 0,
             "ticks": ""
            },
            "colorscale": [
             [
              0,
              "#0d0887"
             ],
             [
              0.1111111111111111,
              "#46039f"
             ],
             [
              0.2222222222222222,
              "#7201a8"
             ],
             [
              0.3333333333333333,
              "#9c179e"
             ],
             [
              0.4444444444444444,
              "#bd3786"
             ],
             [
              0.5555555555555556,
              "#d8576b"
             ],
             [
              0.6666666666666666,
              "#ed7953"
             ],
             [
              0.7777777777777778,
              "#fb9f3a"
             ],
             [
              0.8888888888888888,
              "#fdca26"
             ],
             [
              1,
              "#f0f921"
             ]
            ],
            "type": "heatmapgl"
           }
          ],
          "histogram": [
           {
            "marker": {
             "colorbar": {
              "outlinewidth": 0,
              "ticks": ""
             }
            },
            "type": "histogram"
           }
          ],
          "histogram2d": [
           {
            "colorbar": {
             "outlinewidth": 0,
             "ticks": ""
            },
            "colorscale": [
             [
              0,
              "#0d0887"
             ],
             [
              0.1111111111111111,
              "#46039f"
             ],
             [
              0.2222222222222222,
              "#7201a8"
             ],
             [
              0.3333333333333333,
              "#9c179e"
             ],
             [
              0.4444444444444444,
              "#bd3786"
             ],
             [
              0.5555555555555556,
              "#d8576b"
             ],
             [
              0.6666666666666666,
              "#ed7953"
             ],
             [
              0.7777777777777778,
              "#fb9f3a"
             ],
             [
              0.8888888888888888,
              "#fdca26"
             ],
             [
              1,
              "#f0f921"
             ]
            ],
            "type": "histogram2d"
           }
          ],
          "histogram2dcontour": [
           {
            "colorbar": {
             "outlinewidth": 0,
             "ticks": ""
            },
            "colorscale": [
             [
              0,
              "#0d0887"
             ],
             [
              0.1111111111111111,
              "#46039f"
             ],
             [
              0.2222222222222222,
              "#7201a8"
             ],
             [
              0.3333333333333333,
              "#9c179e"
             ],
             [
              0.4444444444444444,
              "#bd3786"
             ],
             [
              0.5555555555555556,
              "#d8576b"
             ],
             [
              0.6666666666666666,
              "#ed7953"
             ],
             [
              0.7777777777777778,
              "#fb9f3a"
             ],
             [
              0.8888888888888888,
              "#fdca26"
             ],
             [
              1,
              "#f0f921"
             ]
            ],
            "type": "histogram2dcontour"
           }
          ],
          "mesh3d": [
           {
            "colorbar": {
             "outlinewidth": 0,
             "ticks": ""
            },
            "type": "mesh3d"
           }
          ],
          "parcoords": [
           {
            "line": {
             "colorbar": {
              "outlinewidth": 0,
              "ticks": ""
             }
            },
            "type": "parcoords"
           }
          ],
          "pie": [
           {
            "automargin": true,
            "type": "pie"
           }
          ],
          "scatter": [
           {
            "marker": {
             "line": {
              "color": "#283442"
             }
            },
            "type": "scatter"
           }
          ],
          "scatter3d": [
           {
            "line": {
             "colorbar": {
              "outlinewidth": 0,
              "ticks": ""
             }
            },
            "marker": {
             "colorbar": {
              "outlinewidth": 0,
              "ticks": ""
             }
            },
            "type": "scatter3d"
           }
          ],
          "scattercarpet": [
           {
            "marker": {
             "colorbar": {
              "outlinewidth": 0,
              "ticks": ""
             }
            },
            "type": "scattercarpet"
           }
          ],
          "scattergeo": [
           {
            "marker": {
             "colorbar": {
              "outlinewidth": 0,
              "ticks": ""
             }
            },
            "type": "scattergeo"
           }
          ],
          "scattergl": [
           {
            "marker": {
             "line": {
              "color": "#283442"
             }
            },
            "type": "scattergl"
           }
          ],
          "scattermapbox": [
           {
            "marker": {
             "colorbar": {
              "outlinewidth": 0,
              "ticks": ""
             }
            },
            "type": "scattermapbox"
           }
          ],
          "scatterpolar": [
           {
            "marker": {
             "colorbar": {
              "outlinewidth": 0,
              "ticks": ""
             }
            },
            "type": "scatterpolar"
           }
          ],
          "scatterpolargl": [
           {
            "marker": {
             "colorbar": {
              "outlinewidth": 0,
              "ticks": ""
             }
            },
            "type": "scatterpolargl"
           }
          ],
          "scatterternary": [
           {
            "marker": {
             "colorbar": {
              "outlinewidth": 0,
              "ticks": ""
             }
            },
            "type": "scatterternary"
           }
          ],
          "surface": [
           {
            "colorbar": {
             "outlinewidth": 0,
             "ticks": ""
            },
            "colorscale": [
             [
              0,
              "#0d0887"
             ],
             [
              0.1111111111111111,
              "#46039f"
             ],
             [
              0.2222222222222222,
              "#7201a8"
             ],
             [
              0.3333333333333333,
              "#9c179e"
             ],
             [
              0.4444444444444444,
              "#bd3786"
             ],
             [
              0.5555555555555556,
              "#d8576b"
             ],
             [
              0.6666666666666666,
              "#ed7953"
             ],
             [
              0.7777777777777778,
              "#fb9f3a"
             ],
             [
              0.8888888888888888,
              "#fdca26"
             ],
             [
              1,
              "#f0f921"
             ]
            ],
            "type": "surface"
           }
          ],
          "table": [
           {
            "cells": {
             "fill": {
              "color": "#506784"
             },
             "line": {
              "color": "rgb(17,17,17)"
             }
            },
            "header": {
             "fill": {
              "color": "#2a3f5f"
             },
             "line": {
              "color": "rgb(17,17,17)"
             }
            },
            "type": "table"
           }
          ]
         },
         "layout": {
          "annotationdefaults": {
           "arrowcolor": "#f2f5fa",
           "arrowhead": 0,
           "arrowwidth": 1
          },
          "coloraxis": {
           "colorbar": {
            "outlinewidth": 0,
            "ticks": ""
           }
          },
          "colorscale": {
           "diverging": [
            [
             0,
             "#8e0152"
            ],
            [
             0.1,
             "#c51b7d"
            ],
            [
             0.2,
             "#de77ae"
            ],
            [
             0.3,
             "#f1b6da"
            ],
            [
             0.4,
             "#fde0ef"
            ],
            [
             0.5,
             "#f7f7f7"
            ],
            [
             0.6,
             "#e6f5d0"
            ],
            [
             0.7,
             "#b8e186"
            ],
            [
             0.8,
             "#7fbc41"
            ],
            [
             0.9,
             "#4d9221"
            ],
            [
             1,
             "#276419"
            ]
           ],
           "sequential": [
            [
             0,
             "#0d0887"
            ],
            [
             0.1111111111111111,
             "#46039f"
            ],
            [
             0.2222222222222222,
             "#7201a8"
            ],
            [
             0.3333333333333333,
             "#9c179e"
            ],
            [
             0.4444444444444444,
             "#bd3786"
            ],
            [
             0.5555555555555556,
             "#d8576b"
            ],
            [
             0.6666666666666666,
             "#ed7953"
            ],
            [
             0.7777777777777778,
             "#fb9f3a"
            ],
            [
             0.8888888888888888,
             "#fdca26"
            ],
            [
             1,
             "#f0f921"
            ]
           ],
           "sequentialminus": [
            [
             0,
             "#0d0887"
            ],
            [
             0.1111111111111111,
             "#46039f"
            ],
            [
             0.2222222222222222,
             "#7201a8"
            ],
            [
             0.3333333333333333,
             "#9c179e"
            ],
            [
             0.4444444444444444,
             "#bd3786"
            ],
            [
             0.5555555555555556,
             "#d8576b"
            ],
            [
             0.6666666666666666,
             "#ed7953"
            ],
            [
             0.7777777777777778,
             "#fb9f3a"
            ],
            [
             0.8888888888888888,
             "#fdca26"
            ],
            [
             1,
             "#f0f921"
            ]
           ]
          },
          "colorway": [
           "#636efa",
           "#EF553B",
           "#00cc96",
           "#ab63fa",
           "#FFA15A",
           "#19d3f3",
           "#FF6692",
           "#B6E880",
           "#FF97FF",
           "#FECB52"
          ],
          "font": {
           "color": "#f2f5fa"
          },
          "geo": {
           "bgcolor": "rgb(17,17,17)",
           "lakecolor": "rgb(17,17,17)",
           "landcolor": "rgb(17,17,17)",
           "showlakes": true,
           "showland": true,
           "subunitcolor": "#506784"
          },
          "hoverlabel": {
           "align": "left"
          },
          "hovermode": "closest",
          "mapbox": {
           "style": "dark"
          },
          "paper_bgcolor": "rgb(17,17,17)",
          "plot_bgcolor": "rgb(17,17,17)",
          "polar": {
           "angularaxis": {
            "gridcolor": "#506784",
            "linecolor": "#506784",
            "ticks": ""
           },
           "bgcolor": "rgb(17,17,17)",
           "radialaxis": {
            "gridcolor": "#506784",
            "linecolor": "#506784",
            "ticks": ""
           }
          },
          "scene": {
           "xaxis": {
            "backgroundcolor": "rgb(17,17,17)",
            "gridcolor": "#506784",
            "gridwidth": 2,
            "linecolor": "#506784",
            "showbackground": true,
            "ticks": "",
            "zerolinecolor": "#C8D4E3"
           },
           "yaxis": {
            "backgroundcolor": "rgb(17,17,17)",
            "gridcolor": "#506784",
            "gridwidth": 2,
            "linecolor": "#506784",
            "showbackground": true,
            "ticks": "",
            "zerolinecolor": "#C8D4E3"
           },
           "zaxis": {
            "backgroundcolor": "rgb(17,17,17)",
            "gridcolor": "#506784",
            "gridwidth": 2,
            "linecolor": "#506784",
            "showbackground": true,
            "ticks": "",
            "zerolinecolor": "#C8D4E3"
           }
          },
          "shapedefaults": {
           "line": {
            "color": "#f2f5fa"
           }
          },
          "sliderdefaults": {
           "bgcolor": "#C8D4E3",
           "bordercolor": "rgb(17,17,17)",
           "borderwidth": 1,
           "tickwidth": 0
          },
          "ternary": {
           "aaxis": {
            "gridcolor": "#506784",
            "linecolor": "#506784",
            "ticks": ""
           },
           "baxis": {
            "gridcolor": "#506784",
            "linecolor": "#506784",
            "ticks": ""
           },
           "bgcolor": "rgb(17,17,17)",
           "caxis": {
            "gridcolor": "#506784",
            "linecolor": "#506784",
            "ticks": ""
           }
          },
          "title": {
           "x": 0.05
          },
          "updatemenudefaults": {
           "bgcolor": "#506784",
           "borderwidth": 0
          },
          "xaxis": {
           "automargin": true,
           "gridcolor": "#283442",
           "linecolor": "#506784",
           "ticks": "",
           "title": {
            "standoff": 15
           },
           "zerolinecolor": "#283442",
           "zerolinewidth": 2
          },
          "yaxis": {
           "automargin": true,
           "gridcolor": "#283442",
           "linecolor": "#506784",
           "ticks": "",
           "title": {
            "standoff": 15
           },
           "zerolinecolor": "#283442",
           "zerolinewidth": 2
          }
         }
        },
        "title": {
         "text": "Google Trends vs Weekly Gross: Correlation = 0.25681619437015135"
        },
        "xaxis": {
         "title": {
          "text": "Google Trend"
         }
        },
        "yaxis": {
         "title": {
          "text": "Weekly Gross"
         }
        }
       }
      },
      "text/html": [
       "<div>                            <div id=\"4ea43e5f-fdd4-4b48-ab94-51aea595f578\" class=\"plotly-graph-div\" style=\"height:525px; width:100%;\"></div>            <script type=\"text/javascript\">                require([\"plotly\"], function(Plotly) {                    window.PLOTLYENV=window.PLOTLYENV || {};                                    if (document.getElementById(\"4ea43e5f-fdd4-4b48-ab94-51aea595f578\")) {                    Plotly.newPlot(                        \"4ea43e5f-fdd4-4b48-ab94-51aea595f578\",                        [{\"line\": {\"color\": \"red\", \"width\": 2}, \"mode\": \"markers\", \"name\": \"The SpongeBob Movie: Sponge on the Run\", \"type\": \"scatter\", \"x\": [12.170454545454547], \"y\": [876759.0]}, {\"line\": {\"color\": \"blue\", \"width\": 2}, \"mode\": \"markers\", \"name\": \"Centigrade\", \"type\": \"scatter\", \"x\": [0.2636081632653061], \"y\": [6480.0]}, {\"line\": {\"color\": \"orange\", \"width\": 2}, \"mode\": \"markers\", \"name\": \"The Personal History of David Copperfield\", \"type\": \"scatter\", \"x\": [0.733824], \"y\": [475800.0]}, {\"line\": {\"color\": \"red\", \"width\": 2}, \"mode\": \"markers\", \"name\": \"Made in Italy\", \"type\": \"scatter\", \"x\": [0.834912], \"y\": [5800.0]}, {\"line\": {\"color\": \"blue\", \"width\": 2}, \"mode\": \"markers\", \"name\": \"The New Mutants\", \"type\": \"scatter\", \"x\": [5.88], \"y\": [7037017.0]}, {\"line\": {\"color\": \"orange\", \"width\": 2}, \"mode\": \"markers\", \"name\": \"Bill & Ted Face the Music\", \"type\": \"scatter\", \"x\": [0.4691232000000001], \"y\": [1125007.0]}, {\"line\": {\"color\": \"white\", \"width\": 2}, \"mode\": \"markers\", \"name\": \"The Gentlemen\", \"type\": \"scatter\", \"x\": [0.14976], \"y\": [17272.0]}, {\"line\": {\"color\": \"red\", \"width\": 2}, \"mode\": \"markers\", \"name\": \"Tulsa\", \"type\": \"scatter\", \"x\": [0.35817599999999994], \"y\": [80500.0]}, {\"line\": {\"color\": \"blue\", \"width\": 2}, \"mode\": \"markers\", \"name\": \"Unhinged\", \"type\": \"scatter\", \"x\": [2.99], \"y\": [3819220.0]}, {\"line\": {\"color\": \"orange\", \"width\": 2}, \"mode\": \"markers\", \"name\": \"The Eight Hundred\", \"type\": \"scatter\", \"x\": [0.24336], \"y\": [118161.0]}, {\"line\": {\"color\": \"white\", \"width\": 2}, \"mode\": \"markers\", \"name\": \"Words on Bathroom Walls\", \"type\": \"scatter\", \"x\": [1.8304], \"y\": [646438.0]}, {\"line\": {\"color\": \"red\", \"width\": 2}, \"mode\": \"markers\", \"name\": \"The Rental\", \"type\": \"scatter\", \"x\": [1.006451612903226], \"y\": [50276.0]}, {\"line\": {\"color\": \"blue\", \"width\": 2}, \"mode\": \"markers\", \"name\": \"Tesla\", \"type\": \"scatter\", \"x\": [2.19], \"y\": [34098.0]}, {\"line\": {\"color\": \"white\", \"width\": 2}, \"mode\": \"markers\", \"name\": \"Words on Bathroom Walls\", \"type\": \"scatter\", \"x\": [1.6186181818181817], \"y\": [455438.0]}, {\"line\": {\"color\": \"red\", \"width\": 2}, \"mode\": \"markers\", \"name\": \"The New Mutants\", \"type\": \"scatter\", \"x\": [6.0600000000000005], \"y\": [4753312.0]}, {\"line\": {\"color\": \"blue\", \"width\": 2}, \"mode\": \"markers\", \"name\": \"Tulsa\", \"type\": \"scatter\", \"x\": [0.32697600000000004], \"y\": [41729.0]}, {\"line\": {\"color\": \"white\", \"width\": 2}, \"mode\": \"markers\", \"name\": \"Bill & Ted Face the Music\", \"type\": \"scatter\", \"x\": [0.6525792], \"y\": [1142565.0]}, {\"line\": {\"color\": \"red\", \"width\": 2}, \"mode\": \"markers\", \"name\": \"The SpongeBob Movie: Sponge on the Run\", \"type\": \"scatter\", \"x\": [4.375], \"y\": [345000.0]}, {\"line\": {\"color\": \"blue\", \"width\": 2}, \"mode\": \"markers\", \"name\": \"Tesla\", \"type\": \"scatter\", \"x\": [0.8], \"y\": [4732.0]}, {\"line\": {\"color\": \"orange\", \"width\": 2}, \"mode\": \"markers\", \"name\": \"Unhinged\", \"type\": \"scatter\", \"x\": [2.44], \"y\": [2598055.0]}, {\"line\": {\"color\": \"white\", \"width\": 2}, \"mode\": \"markers\", \"name\": \"Made in Italy\", \"type\": \"scatter\", \"x\": [0.48297599999999996], \"y\": [2011.0]}, {\"line\": {\"color\": \"red\", \"width\": 2}, \"mode\": \"markers\", \"name\": \"The Eight Hundred\", \"type\": \"scatter\", \"x\": [0.40809599999999996], \"y\": [132054.0]}, {\"line\": {\"color\": \"blue\", \"width\": 2}, \"mode\": \"markers\", \"name\": \"Centigrade\", \"type\": \"scatter\", \"x\": [0.1948408163265306], \"y\": [3225.0]}, {\"line\": {\"color\": \"orange\", \"width\": 2}, \"mode\": \"markers\", \"name\": \"The Personal History of David Copperfield\", \"type\": \"scatter\", \"x\": [1.5874560000000002], \"y\": [515111.0]}, {\"line\": {\"color\": \"white\", \"width\": 2}, \"mode\": \"markers\", \"name\": \"The SpongeBob Movie: Sponge on the Run\", \"type\": \"scatter\", \"x\": [4.136363636363637], \"y\": [225829.0]}, {\"line\": {\"color\": \"blue\", \"width\": 2}, \"mode\": \"markers\", \"name\": \"The Personal History of David Copperfield\", \"type\": \"scatter\", \"x\": [0.6589439999999999], \"y\": [276815.0]}, {\"line\": {\"color\": \"orange\", \"width\": 2}, \"mode\": \"markers\", \"name\": \"The New Mutants\", \"type\": \"scatter\", \"x\": [3.3600000000000003], \"y\": [2622098.0]}, {\"line\": {\"color\": \"blue\", \"width\": 2}, \"mode\": \"markers\", \"name\": \"Bill & Ted Face the Music\", \"type\": \"scatter\", \"x\": [0.33022080000000004], \"y\": [383248.0]}, {\"line\": {\"color\": \"orange\", \"width\": 2}, \"mode\": \"markers\", \"name\": \"She Dies Tomorrow\", \"type\": \"scatter\", \"x\": [0.0576576], \"y\": [26914.0]}, {\"line\": {\"color\": \"white\", \"width\": 2}, \"mode\": \"markers\", \"name\": \"Unhinged\", \"type\": \"scatter\", \"x\": [1.56], \"y\": [1846957.0]}, {\"line\": {\"color\": \"red\", \"width\": 2}, \"mode\": \"markers\", \"name\": \"The Broken Hearts Gallery\", \"type\": \"scatter\", \"x\": [1.2292129032258066], \"y\": [1126401.0]}, {\"line\": {\"color\": \"blue\", \"width\": 2}, \"mode\": \"markers\", \"name\": \"The Eight Hundred\", \"type\": \"scatter\", \"x\": [0.31823999999999997], \"y\": [45127.0]}, {\"line\": {\"color\": \"orange\", \"width\": 2}, \"mode\": \"markers\", \"name\": \"Words on Bathroom Walls\", \"type\": \"scatter\", \"x\": [0.7361939393939392], \"y\": [298524.0]}, {\"line\": {\"color\": \"white\", \"width\": 2}, \"mode\": \"markers\", \"name\": \"Tulsa\", \"type\": \"scatter\", \"x\": [0.23462399999999997], \"y\": [32702.0]}, {\"line\": {\"color\": \"red\", \"width\": 2}, \"mode\": \"markers\", \"name\": \"The Nest\", \"type\": \"scatter\", \"x\": [1.3399999999999999], \"y\": [42577.0]}, {\"line\": {\"color\": \"blue\", \"width\": 2}, \"mode\": \"markers\", \"name\": \"The Personal History of David Copperfield\", \"type\": \"scatter\", \"x\": [0.441792], \"y\": [175655.0]}, {\"line\": {\"color\": \"orange\", \"width\": 2}, \"mode\": \"markers\", \"name\": \"The Broken Hearts Gallery\", \"type\": \"scatter\", \"x\": [1.1379612903225809], \"y\": [1015060.0]}, {\"line\": {\"color\": \"white\", \"width\": 2}, \"mode\": \"markers\", \"name\": \"Unhinged\", \"type\": \"scatter\", \"x\": [1.45], \"y\": [1466941.0]}, {\"line\": {\"color\": \"red\", \"width\": 2}, \"mode\": \"markers\", \"name\": \"No Escape\", \"type\": \"scatter\", \"x\": [0.5300148148148147], \"y\": [46844.0]}, {\"line\": {\"color\": \"blue\", \"width\": 2}, \"mode\": \"markers\", \"name\": \"The SpongeBob Movie: Sponge on the Run\", \"type\": \"scatter\", \"x\": [5.727272727272727], \"y\": [219688.0]}, {\"line\": {\"color\": \"orange\", \"width\": 2}, \"mode\": \"markers\", \"name\": \"Infidel\", \"type\": \"scatter\", \"x\": [2.672131147540984], \"y\": [856240.0]}, {\"line\": {\"color\": \"white\", \"width\": 2}, \"mode\": \"markers\", \"name\": \"The Secrets We Keep\", \"type\": \"scatter\", \"x\": [0.544128], \"y\": [83628.0]}, {\"line\": {\"color\": \"blue\", \"width\": 2}, \"mode\": \"markers\", \"name\": \"Foster Boy\", \"type\": \"scatter\", \"x\": [0.039936], \"y\": [3446.0]}, {\"line\": {\"color\": \"orange\", \"width\": 2}, \"mode\": \"markers\", \"name\": \"The New Mutants\", \"type\": \"scatter\", \"x\": [2.31], \"y\": [1750026.0]}, {\"line\": {\"color\": \"white\", \"width\": 2}, \"mode\": \"markers\", \"name\": \"The Way I See It\", \"type\": \"scatter\", \"x\": [0.23712], \"y\": [17795.0]}, {\"line\": {\"color\": \"red\", \"width\": 2}, \"mode\": \"markers\", \"name\": \"She Dies Tomorrow\", \"type\": \"scatter\", \"x\": [0.10745280000000001], \"y\": [29594.0]}, {\"line\": {\"color\": \"blue\", \"width\": 2}, \"mode\": \"markers\", \"name\": \"Words on Bathroom Walls\", \"type\": \"scatter\", \"x\": [0.4992], \"y\": [203991.0]}, {\"line\": {\"color\": \"orange\", \"width\": 2}, \"mode\": \"markers\", \"name\": \"The Eight Hundred\", \"type\": \"scatter\", \"x\": [0.235872], \"y\": [13811.0]}, {\"line\": {\"color\": \"white\", \"width\": 2}, \"mode\": \"markers\", \"name\": \"Bill & Ted Face the Music\", \"type\": \"scatter\", \"x\": [0.39049920000000005], \"y\": [250881.0]}, {\"line\": {\"color\": \"blue\", \"width\": 2}, \"mode\": \"markers\", \"name\": \"Tulsa\", \"type\": \"scatter\", \"x\": [0.258336], \"y\": [36813.0]}, {\"line\": {\"color\": \"white\", \"width\": 2}, \"mode\": \"markers\", \"name\": \"Infidel\", \"type\": \"scatter\", \"x\": [2.6885245901639343], \"y\": [867754.0]}, {\"line\": {\"color\": \"red\", \"width\": 2}, \"mode\": \"markers\", \"name\": \"The New Mutants\", \"type\": \"scatter\", \"x\": [2.0100000000000002], \"y\": [1077583.0]}, {\"line\": {\"color\": \"blue\", \"width\": 2}, \"mode\": \"markers\", \"name\": \"The Last Shift\", \"type\": \"scatter\", \"x\": [0.35922162162162163], \"y\": [159428.0]}, {\"line\": {\"color\": \"orange\", \"width\": 2}, \"mode\": \"markers\", \"name\": \"Foster Boy\", \"type\": \"scatter\", \"x\": [0.197184], \"y\": [7385.0]}, {\"line\": {\"color\": \"white\", \"width\": 2}, \"mode\": \"markers\", \"name\": \"Shortcut\", \"type\": \"scatter\", \"x\": [0.3096888888888889], \"y\": [166025.0]}, {\"line\": {\"color\": \"red\", \"width\": 2}, \"mode\": \"markers\", \"name\": \"The Nest\", \"type\": \"scatter\", \"x\": [1.06], \"y\": [18585.0]}, {\"line\": {\"color\": \"blue\", \"width\": 2}, \"mode\": \"markers\", \"name\": \"The Personal History of David Copperfield\", \"type\": \"scatter\", \"x\": [0.37439999999999996], \"y\": [86975.0]}, {\"line\": {\"color\": \"orange\", \"width\": 2}, \"mode\": \"markers\", \"name\": \"She Dies Tomorrow\", \"type\": \"scatter\", \"x\": [0.0825552], \"y\": [14183.0]}, {\"line\": {\"color\": \"white\", \"width\": 2}, \"mode\": \"markers\", \"name\": \"The Broken Hearts Gallery\", \"type\": \"scatter\", \"x\": [1.0145032258064517], \"y\": [560498.0]}, {\"line\": {\"color\": \"blue\", \"width\": 2}, \"mode\": \"markers\", \"name\": \"On the Basis of Sex2020 Re-release\", \"type\": \"scatter\", \"x\": [1.666666666666667], \"y\": [33385.0]}, {\"line\": {\"color\": \"orange\", \"width\": 2}, \"mode\": \"markers\", \"name\": \"Kajillionaire\", \"type\": \"scatter\", \"x\": [0.046176], \"y\": [137775.0]}, {\"line\": {\"color\": \"white\", \"width\": 2}, \"mode\": \"markers\", \"name\": \"Ava\", \"type\": \"scatter\", \"x\": [0.975609756097561], \"y\": [105850.0]}, {\"line\": {\"color\": \"red\", \"width\": 2}, \"mode\": \"markers\", \"name\": \"Bill & Ted Face the Music\", \"type\": \"scatter\", \"x\": [0.0550368], \"y\": [101616.0]}, {\"line\": {\"color\": \"blue\", \"width\": 2}, \"mode\": \"markers\", \"name\": \"The Way I See It\", \"type\": \"scatter\", \"x\": [0.21216], \"y\": [12820.0]}, {\"line\": {\"color\": \"orange\", \"width\": 2}, \"mode\": \"markers\", \"name\": \"The SpongeBob Movie: Sponge on the Run\", \"type\": \"scatter\", \"x\": [6.681818181818182], \"y\": [121289.0]}, {\"line\": {\"color\": \"white\", \"width\": 2}, \"mode\": \"markers\", \"name\": \"No Escape\", \"type\": \"scatter\", \"x\": [0.6779259259259259], \"y\": [36436.0]}, {\"line\": {\"color\": \"red\", \"width\": 2}, \"mode\": \"markers\", \"name\": \"Star Wars: Episode V - The Empire Strikes Back2020 Re-release\", \"type\": \"scatter\", \"x\": [7.105263157894737], \"y\": [587000.0]}, {\"line\": {\"color\": \"blue\", \"width\": 2}, \"mode\": \"markers\", \"name\": \"Words on Bathroom Walls\", \"type\": \"scatter\", \"x\": [0.726109090909091], \"y\": [99532.0]}, {\"line\": {\"color\": \"orange\", \"width\": 2}, \"mode\": \"markers\", \"name\": \"The Secrets We Keep\", \"type\": \"scatter\", \"x\": [0.544128], \"y\": [46470.0]}, {\"line\": {\"color\": \"white\", \"width\": 2}, \"mode\": \"markers\", \"name\": \"Tulsa\", \"type\": \"scatter\", \"x\": [0.198432], \"y\": [32604.0]}, {\"line\": {\"color\": \"blue\", \"width\": 2}, \"mode\": \"markers\", \"name\": \"Unhinged\", \"type\": \"scatter\", \"x\": [1.02], \"y\": [900900.0]}, {\"line\": {\"color\": \"orange\", \"width\": 2}, \"mode\": \"markers\", \"name\": \"Foster Boy\", \"type\": \"scatter\", \"x\": [0.167232], \"y\": [1929.0]}, {\"line\": {\"color\": \"white\", \"width\": 2}, \"mode\": \"markers\", \"name\": \"Tulsa\", \"type\": \"scatter\", \"x\": [0.195936], \"y\": [32365.0]}, {\"line\": {\"color\": \"red\", \"width\": 2}, \"mode\": \"markers\", \"name\": \"No Escape\", \"type\": \"scatter\", \"x\": [0.40059259259259256], \"y\": [16586.0]}, {\"line\": {\"color\": \"blue\", \"width\": 2}, \"mode\": \"markers\", \"name\": \"Infidel\", \"type\": \"scatter\", \"x\": [1.8196721311475408], \"y\": [672002.0]}, {\"line\": {\"color\": \"orange\", \"width\": 2}, \"mode\": \"markers\", \"name\": \"She Dies Tomorrow\", \"type\": \"scatter\", \"x\": [0.0864864], \"y\": [13956.0]}, {\"line\": {\"color\": \"white\", \"width\": 2}, \"mode\": \"markers\", \"name\": \"Shortcut\", \"type\": \"scatter\", \"x\": [0.4784], \"y\": [336920.0]}, {\"line\": {\"color\": \"red\", \"width\": 2}, \"mode\": \"markers\", \"name\": \"The Broken Hearts Gallery\", \"type\": \"scatter\", \"x\": [1.2131096774193548], \"y\": [412771.0]}, {\"line\": {\"color\": \"orange\", \"width\": 2}, \"mode\": \"markers\", \"name\": \"A Call to Spy\", \"type\": \"scatter\", \"x\": [0.813696], \"y\": [35098.0]}, {\"line\": {\"color\": \"white\", \"width\": 2}, \"mode\": \"markers\", \"name\": \"Words on Bathroom Walls\", \"type\": \"scatter\", \"x\": [0.5546666666666666], \"y\": [88895.0]}, {\"line\": {\"color\": \"red\", \"width\": 2}, \"mode\": \"markers\", \"name\": \"Hocus Pocus2020 Re-release\", \"type\": \"scatter\", \"x\": [2.4], \"y\": [1925000.0]}, {\"line\": {\"color\": \"blue\", \"width\": 2}, \"mode\": \"markers\", \"name\": \"Unhinged\", \"type\": \"scatter\", \"x\": [1.35], \"y\": [1119136.0]}, {\"line\": {\"color\": \"orange\", \"width\": 2}, \"mode\": \"markers\", \"name\": \"The Call\", \"type\": \"scatter\", \"x\": [2.122448979591837], \"y\": [138237.0]}, {\"line\": {\"color\": \"white\", \"width\": 2}, \"mode\": \"markers\", \"name\": \"The Last Shift\", \"type\": \"scatter\", \"x\": [0.5767783783783783], \"y\": [226369.0]}, {\"line\": {\"color\": \"red\", \"width\": 2}, \"mode\": \"markers\", \"name\": \"On the Basis of Sex2020 Re-release\", \"type\": \"scatter\", \"x\": [0.5050505050505051], \"y\": [18700.0]}, {\"line\": {\"color\": \"blue\", \"width\": 2}, \"mode\": \"markers\", \"name\": \"The Personal History of David Copperfield\", \"type\": \"scatter\", \"x\": [0.217152], \"y\": [52733.0]}, {\"line\": {\"color\": \"orange\", \"width\": 2}, \"mode\": \"markers\", \"name\": \"The Secrets We Keep\", \"type\": \"scatter\", \"x\": [0.294528], \"y\": [18856.0]}, {\"line\": {\"color\": \"white\", \"width\": 2}, \"mode\": \"markers\", \"name\": \"The New Mutants\", \"type\": \"scatter\", \"x\": [2.2199999999999998], \"y\": [1354173.0]}, {\"line\": {\"color\": \"red\", \"width\": 2}, \"mode\": \"markers\", \"name\": \"The SpongeBob Movie: Sponge on the Run\", \"type\": \"scatter\", \"x\": [6.681818181818181], \"y\": [123649.0]}, {\"line\": {\"color\": \"blue\", \"width\": 2}, \"mode\": \"markers\", \"name\": \"Possessor\", \"type\": \"scatter\", \"x\": [0.2983724137931034], \"y\": [252664.0]}, {\"line\": {\"color\": \"orange\", \"width\": 2}, \"mode\": \"markers\", \"name\": \"Ava\", \"type\": \"scatter\", \"x\": [2.2439024390243905], \"y\": [153714.0]}, {\"line\": {\"color\": \"white\", \"width\": 2}, \"mode\": \"markers\", \"name\": \"Kajillionaire\", \"type\": \"scatter\", \"x\": [0.227136], \"y\": [169750.0]}, {\"line\": {\"color\": \"red\", \"width\": 2}, \"mode\": \"markers\", \"name\": \"Star Wars: Episode V - The Empire Strikes Back2020 Re-release\", \"type\": \"scatter\", \"x\": [13.618421052631577], \"y\": [335000.0]}, {\"line\": {\"color\": \"blue\", \"width\": 2}, \"mode\": \"markers\", \"name\": \"Bill & Ted Face the Music\", \"type\": \"scatter\", \"x\": [0.052416000000000004], \"y\": [56981.0]}, {\"line\": {\"color\": \"red\", \"width\": 2}, \"mode\": \"markers\", \"name\": \"The Way I See It\", \"type\": \"scatter\", \"x\": [0.1248], \"y\": [3610.0]}, {\"line\": {\"color\": \"white\", \"width\": 2}, \"mode\": \"markers\", \"name\": \"Shortcut\", \"type\": \"scatter\", \"x\": [0.3582222222222222], \"y\": [88164.0]}, {\"line\": {\"color\": \"blue\", \"width\": 2}, \"mode\": \"markers\", \"name\": \"Possessor\", \"type\": \"scatter\", \"x\": [0.2352551724137931], \"y\": [233545.0]}, {\"line\": {\"color\": \"orange\", \"width\": 2}, \"mode\": \"markers\", \"name\": \"Hocus Pocus2020 Re-release\", \"type\": \"scatter\", \"x\": [2.18], \"y\": [1161000.0]}, {\"line\": {\"color\": \"white\", \"width\": 2}, \"mode\": \"markers\", \"name\": \"Pray: The Story of Patrick Peyton\", \"type\": \"scatter\", \"x\": [0.7113599999999999], \"y\": [24397.0]}, {\"line\": {\"color\": \"red\", \"width\": 2}, \"mode\": \"markers\", \"name\": \"Kajillionaire\", \"type\": \"scatter\", \"x\": [0.101088], \"y\": [69930.0]}, {\"line\": {\"color\": \"blue\", \"width\": 2}, \"mode\": \"markers\", \"name\": \"No Escape\", \"type\": \"scatter\", \"x\": [0.32047407407407397], \"y\": [9880.0]}, {\"line\": {\"color\": \"orange\", \"width\": 2}, \"mode\": \"markers\", \"name\": \"Infidel\", \"type\": \"scatter\", \"x\": [1.1639344262295082], \"y\": [331089.0]}, {\"line\": {\"color\": \"white\", \"width\": 2}, \"mode\": \"markers\", \"name\": \"She Dies Tomorrow\", \"type\": \"scatter\", \"x\": [0.026208000000000002], \"y\": [17835.0]}, {\"line\": {\"color\": \"red\", \"width\": 2}, \"mode\": \"markers\", \"name\": \"Star Wars: Episode V - The Empire Strikes Back2020 Re-release\", \"type\": \"scatter\", \"x\": [12.078947368421051], \"y\": [145000.0]}, {\"line\": {\"color\": \"blue\", \"width\": 2}, \"mode\": \"markers\", \"name\": \"Ava\", \"type\": \"scatter\", \"x\": [1.731707317073171], \"y\": [76056.0]}, {\"line\": {\"color\": \"orange\", \"width\": 2}, \"mode\": \"markers\", \"name\": \"The War with Grandpa\", \"type\": \"scatter\", \"x\": [2.2509381818181815], \"y\": [3623880.0]}, {\"line\": {\"color\": \"white\", \"width\": 2}, \"mode\": \"markers\", \"name\": \"The SpongeBob Movie: Sponge on the Run\", \"type\": \"scatter\", \"x\": [6.602272727272726], \"y\": [65088.0]}, {\"line\": {\"color\": \"red\", \"width\": 2}, \"mode\": \"markers\", \"name\": \"Henchmen2020 Re-release\", \"type\": \"scatter\", \"x\": [0.051542399999999995], \"y\": [30223.0]}, {\"line\": {\"color\": \"blue\", \"width\": 2}, \"mode\": \"markers\", \"name\": \"The Secrets We Keep\", \"type\": \"scatter\", \"x\": [0.109824], \"y\": [1415.0]}, {\"line\": {\"color\": \"orange\", \"width\": 2}, \"mode\": \"markers\", \"name\": \"Coco\", \"type\": \"scatter\", \"x\": [1.4302325581395348], \"y\": [603000.0]}, {\"line\": {\"color\": \"white\", \"width\": 2}, \"mode\": \"markers\", \"name\": \"Tulsa\", \"type\": \"scatter\", \"x\": [0.16099199999999994], \"y\": [15525.0]}, {\"line\": {\"color\": \"red\", \"width\": 2}, \"mode\": \"markers\", \"name\": \"The Personal History of David Copperfield\", \"type\": \"scatter\", \"x\": [0.247104], \"y\": [17436.0]}, {\"line\": {\"color\": \"blue\", \"width\": 2}, \"mode\": \"markers\", \"name\": \"The New Mutants\", \"type\": \"scatter\", \"x\": [1.8599999999999999], \"y\": [956978.0]}, {\"line\": {\"color\": \"orange\", \"width\": 2}, \"mode\": \"markers\", \"name\": \"Bill & Ted Face the Music\", \"type\": \"scatter\", \"x\": [0.1153152], \"y\": [83430.0]}, {\"line\": {\"color\": \"white\", \"width\": 2}, \"mode\": \"markers\", \"name\": \"Unhinged\", \"type\": \"scatter\", \"x\": [1.43], \"y\": [903695.0]}, {\"line\": {\"color\": \"blue\", \"width\": 2}, \"mode\": \"markers\", \"name\": \"The Wolf of Snow Hollow\", \"type\": \"scatter\", \"x\": [0.61776], \"y\": [91943.0]}, {\"line\": {\"color\": \"white\", \"width\": 2}, \"mode\": \"markers\", \"name\": \"A Call to Spy\", \"type\": \"scatter\", \"x\": [0.34944000000000003], \"y\": [39430.0]}, {\"line\": {\"color\": \"red\", \"width\": 2}, \"mode\": \"markers\", \"name\": \"Words on Bathroom Walls\", \"type\": \"scatter\", \"x\": [0.11597575757575755], \"y\": [52171.0]}, {\"line\": {\"color\": \"blue\", \"width\": 2}, \"mode\": \"markers\", \"name\": \"Heaven\", \"type\": \"scatter\", \"x\": [0.72], \"y\": [8250.0]}, {\"line\": {\"color\": \"orange\", \"width\": 2}, \"mode\": \"markers\", \"name\": \"The Last Shift\", \"type\": \"scatter\", \"x\": [0.5211243243243243], \"y\": [78232.0]}, {\"line\": {\"color\": \"white\", \"width\": 2}, \"mode\": \"markers\", \"name\": \"The Call\", \"type\": \"scatter\", \"x\": [4.244897959183673], \"y\": [127306.0]}, {\"line\": {\"color\": \"red\", \"width\": 2}, \"mode\": \"markers\", \"name\": \"Yellow Rose\", \"type\": \"scatter\", \"x\": [0.314496], \"y\": [150330.0]}, {\"line\": {\"color\": \"blue\", \"width\": 2}, \"mode\": \"markers\", \"name\": \"The Broken Hearts Gallery\", \"type\": \"scatter\", \"x\": [0.6119225806451613], \"y\": [176644.0]}, {\"line\": {\"color\": \"orange\", \"width\": 2}, \"mode\": \"markers\", \"name\": \"Yellow Rose\", \"type\": \"scatter\", \"x\": [0.63648], \"y\": [140059.0]}, {\"line\": {\"color\": \"red\", \"width\": 2}, \"mode\": \"markers\", \"name\": \"No Escape\", \"type\": \"scatter\", \"x\": [0.4437333333333333], \"y\": [5910.0]}, {\"line\": {\"color\": \"orange\", \"width\": 2}, \"mode\": \"markers\", \"name\": \"Tulsa\", \"type\": \"scatter\", \"x\": [0.229632], \"y\": [7685.0]}, {\"line\": {\"color\": \"red\", \"width\": 2}, \"mode\": \"markers\", \"name\": \"Unhinged\", \"type\": \"scatter\", \"x\": [1.24], \"y\": [661309.0]}, {\"line\": {\"color\": \"blue\", \"width\": 2}, \"mode\": \"markers\", \"name\": \"Words on Bathroom Walls\", \"type\": \"scatter\", \"x\": [0.20673939393939395], \"y\": [22995.0]}, {\"line\": {\"color\": \"orange\", \"width\": 2}, \"mode\": \"markers\", \"name\": \"The Wolf of Snow Hollow\", \"type\": \"scatter\", \"x\": [0.7675199999999998], \"y\": [76665.0]}, {\"line\": {\"color\": \"white\", \"width\": 2}, \"mode\": \"markers\", \"name\": \"Possessor\", \"type\": \"scatter\", \"x\": [0.21517241379310345], \"y\": [143954.0]}, {\"line\": {\"color\": \"red\", \"width\": 2}, \"mode\": \"markers\", \"name\": \"The SpongeBob Movie: Sponge on the Run\", \"type\": \"scatter\", \"x\": [7.874999999999998], \"y\": [69201.0]}, {\"line\": {\"color\": \"blue\", \"width\": 2}, \"mode\": \"markers\", \"name\": \"Pray: The Story of Patrick Peyton\", \"type\": \"scatter\", \"x\": [0.7188479999999998], \"y\": [20385.0]}, {\"line\": {\"color\": \"orange\", \"width\": 2}, \"mode\": \"markers\", \"name\": \"The Personal History of David Copperfield\", \"type\": \"scatter\", \"x\": [0.32198400000000005], \"y\": [8533.0]}, {\"line\": {\"color\": \"white\", \"width\": 2}, \"mode\": \"markers\", \"name\": \"The Nightmare Before Christmas2020 Re-release\", \"type\": \"scatter\", \"x\": [1.0800872727272723], \"y\": [1323000.0]}, {\"line\": {\"color\": \"red\", \"width\": 2}, \"mode\": \"markers\", \"name\": \"The New Mutants\", \"type\": \"scatter\", \"x\": [2.7], \"y\": [712921.0]}, {\"line\": {\"color\": \"blue\", \"width\": 2}, \"mode\": \"markers\", \"name\": \"The Last Shift\", \"type\": \"scatter\", \"x\": [0.09612972972972973], \"y\": [22022.0]}, {\"line\": {\"color\": \"white\", \"width\": 2}, \"mode\": \"markers\", \"name\": \"The Kid Detective\", \"type\": \"scatter\", \"x\": [0.2188368], \"y\": [140218.0]}, {\"line\": {\"color\": \"red\", \"width\": 2}, \"mode\": \"markers\", \"name\": \"The Call\", \"type\": \"scatter\", \"x\": [4.4489795918367365], \"y\": [88555.0]}, {\"line\": {\"color\": \"blue\", \"width\": 2}, \"mode\": \"markers\", \"name\": \"She Dies Tomorrow\", \"type\": \"scatter\", \"x\": [0.0864864], \"y\": [15482.0]}, {\"line\": {\"color\": \"orange\", \"width\": 2}, \"mode\": \"markers\", \"name\": \"Shithouse\", \"type\": \"scatter\", \"x\": [0.0926016], \"y\": [5545.0]}, {\"line\": {\"color\": \"white\", \"width\": 2}, \"mode\": \"markers\", \"name\": \"The Broken Hearts Gallery\", \"type\": \"scatter\", \"x\": [0.39184516129032254], \"y\": [60054.0]}, {\"line\": {\"color\": \"red\", \"width\": 2}, \"mode\": \"markers\", \"name\": \"Star Wars: Episode V - The Empire Strikes Back2020 Re-release\", \"type\": \"scatter\", \"x\": [12.907894736842104], \"y\": [79000.0]}, {\"line\": {\"color\": \"blue\", \"width\": 2}, \"mode\": \"markers\", \"name\": \"Shortcut\", \"type\": \"scatter\", \"x\": [0.18488888888888888], \"y\": [28879.0]}, {\"line\": {\"color\": \"orange\", \"width\": 2}, \"mode\": \"markers\", \"name\": \"The War with Grandpa\", \"type\": \"scatter\", \"x\": [1.6428218181818182], \"y\": [3636975.0]}, {\"line\": {\"color\": \"red\", \"width\": 2}, \"mode\": \"markers\", \"name\": \"2 Hearts\", \"type\": \"scatter\", \"x\": [1.0199172413793103], \"y\": [522937.0]}, {\"line\": {\"color\": \"orange\", \"width\": 2}, \"mode\": \"markers\", \"name\": \"Bill & Ted Face the Music\", \"type\": \"scatter\", \"x\": [0.1205568], \"y\": [12352.0]}, {\"line\": {\"color\": \"red\", \"width\": 2}, \"mode\": \"markers\", \"name\": \"Ava\", \"type\": \"scatter\", \"x\": [1.7804878048780493], \"y\": [39759.0]}, {\"line\": {\"color\": \"blue\", \"width\": 2}, \"mode\": \"markers\", \"name\": \"Coco\", \"type\": \"scatter\", \"x\": [1.4069767441860463], \"y\": [131000.0]}, {\"line\": {\"color\": \"white\", \"width\": 2}, \"mode\": \"markers\", \"name\": \"Heaven\", \"type\": \"scatter\", \"x\": [1.58], \"y\": [18899.0]}, {\"line\": {\"color\": \"red\", \"width\": 2}, \"mode\": \"markers\", \"name\": \"A Call to Spy\", \"type\": \"scatter\", \"x\": [0.244608], \"y\": [23932.0]}, {\"line\": {\"color\": \"blue\", \"width\": 2}, \"mode\": \"markers\", \"name\": \"Infidel\", \"type\": \"scatter\", \"x\": [0.8032786885245902], \"y\": [150540.0]}, {\"line\": {\"color\": \"orange\", \"width\": 2}, \"mode\": \"markers\", \"name\": \"Henchmen2020 Re-release\", \"type\": \"scatter\", \"x\": [0.05066880000000001], \"y\": [17177.0]}, {\"line\": {\"color\": \"white\", \"width\": 2}, \"mode\": \"markers\", \"name\": \"Love and Monsters\", \"type\": \"scatter\", \"x\": [3.63], \"y\": [270302.0]}, {\"line\": {\"color\": \"red\", \"width\": 2}, \"mode\": \"markers\", \"name\": \"Honest Thief\", \"type\": \"scatter\", \"x\": [1.28], \"y\": [3607966.0]}, {\"line\": {\"color\": \"blue\", \"width\": 2}, \"mode\": \"markers\", \"name\": \"Kajillionaire\", \"type\": \"scatter\", \"x\": [0.190944], \"y\": [31940.0]}, {\"line\": {\"color\": \"orange\", \"width\": 2}, \"mode\": \"markers\", \"name\": \"Hocus Pocus2020 Re-release\", \"type\": \"scatter\", \"x\": [2.22], \"y\": [756000.0]}, {\"line\": {\"color\": \"white\", \"width\": 2}, \"mode\": \"markers\", \"name\": \"Pray: The Story of Patrick Peyton\", \"type\": \"scatter\", \"x\": [1.003392], \"y\": [9173.0]}, {\"line\": {\"color\": \"red\", \"width\": 2}, \"mode\": \"markers\", \"name\": \"The Nightmare Before Christmas2020 Re-release\", \"type\": \"scatter\", \"x\": [0.5445818181818182], \"y\": [321000.0]}, {\"line\": {\"color\": \"blue\", \"width\": 2}, \"mode\": \"markers\", \"name\": \"Infidel\", \"type\": \"scatter\", \"x\": [0.29508196721311475], \"y\": [41370.0]}, {\"line\": {\"color\": \"orange\", \"width\": 2}, \"mode\": \"markers\", \"name\": \"After We Collided\", \"type\": \"scatter\", \"x\": [22.619047619047624], \"y\": [284811.0]}, {\"line\": {\"color\": \"white\", \"width\": 2}, \"mode\": \"markers\", \"name\": \"The Addams Family2020 Re-release\", \"type\": \"scatter\", \"x\": [0.8400000000000001], \"y\": [153748.0]}, {\"line\": {\"color\": \"red\", \"width\": 2}, \"mode\": \"markers\", \"name\": \"Unhinged\", \"type\": \"scatter\", \"x\": [2.08], \"y\": [272765.0]}, {\"line\": {\"color\": \"blue\", \"width\": 2}, \"mode\": \"markers\", \"name\": \"Tulsa\", \"type\": \"scatter\", \"x\": [0.134784], \"y\": [1552.0]}, {\"line\": {\"color\": \"red\", \"width\": 2}, \"mode\": \"markers\", \"name\": \"The Empty Man\", \"type\": \"scatter\", \"x\": [1.41], \"y\": [765714.0]}, {\"line\": {\"color\": \"blue\", \"width\": 2}, \"mode\": \"markers\", \"name\": \"The Last Shift\", \"type\": \"scatter\", \"x\": [0.06071351351351353], \"y\": [8687.0]}, {\"line\": {\"color\": \"orange\", \"width\": 2}, \"mode\": \"markers\", \"name\": \"Honest Thief\", \"type\": \"scatter\", \"x\": [1.96], \"y\": [2309454.0]}, {\"line\": {\"color\": \"white\", \"width\": 2}, \"mode\": \"markers\", \"name\": \"She Dies Tomorrow\", \"type\": \"scatter\", \"x\": [0.028828799999999998], \"y\": [7123.0]}, {\"line\": {\"color\": \"red\", \"width\": 2}, \"mode\": \"markers\", \"name\": \"Shithouse\", \"type\": \"scatter\", \"x\": [0.06683040000000001], \"y\": [5809.0]}, {\"line\": {\"color\": \"orange\", \"width\": 2}, \"mode\": \"markers\", \"name\": \"Hocus Pocus2020 Re-release\", \"type\": \"scatter\", \"x\": [1.3599999999999999], \"y\": [296000.0]}, {\"line\": {\"color\": \"white\", \"width\": 2}, \"mode\": \"markers\", \"name\": \"Heaven\", \"type\": \"scatter\", \"x\": [1.15], \"y\": [4499.0]}, {\"line\": {\"color\": \"blue\", \"width\": 2}, \"mode\": \"markers\", \"name\": \"The Personal History of David Copperfield\", \"type\": \"scatter\", \"x\": [0.119808], \"y\": [2273.0]}, {\"line\": {\"color\": \"orange\", \"width\": 2}, \"mode\": \"markers\", \"name\": \"The New Mutants\", \"type\": \"scatter\", \"x\": [1.23], \"y\": [298739.0]}, {\"line\": {\"color\": \"red\", \"width\": 2}, \"mode\": \"markers\", \"name\": \"The Call\", \"type\": \"scatter\", \"x\": [3.2244897959183683], \"y\": [43394.0]}, {\"line\": {\"color\": \"blue\", \"width\": 2}, \"mode\": \"markers\", \"name\": \"The War with Grandpa\", \"type\": \"scatter\", \"x\": [0.8259490909090909], \"y\": [1621335.0]}, {\"line\": {\"color\": \"orange\", \"width\": 2}, \"mode\": \"markers\", \"name\": \"Love and Monsters\", \"type\": \"scatter\", \"x\": [5.82], \"y\": [207917.0]}, {\"line\": {\"color\": \"red\", \"width\": 2}, \"mode\": \"markers\", \"name\": \"Monsters Inc.2020 Re-release\", \"type\": \"scatter\", \"x\": [0.0624], \"y\": [272000.0]}, {\"line\": {\"color\": \"blue\", \"width\": 2}, \"mode\": \"markers\", \"name\": \"Ava\", \"type\": \"scatter\", \"x\": [1.0], \"y\": [14389.0]}, {\"line\": {\"color\": \"orange\", \"width\": 2}, \"mode\": \"markers\", \"name\": \"Yellow Rose\", \"type\": \"scatter\", \"x\": [0.16723200000000002], \"y\": [35702.0]}, {\"line\": {\"color\": \"white\", \"width\": 2}, \"mode\": \"markers\", \"name\": \"2 Hearts\", \"type\": \"scatter\", \"x\": [0.9940965517241378], \"y\": [330190.0]}, {\"line\": {\"color\": \"red\", \"width\": 2}, \"mode\": \"markers\", \"name\": \"Possessor\", \"type\": \"scatter\", \"x\": [0.08320000000000001], \"y\": [41559.0]}, {\"line\": {\"color\": \"blue\", \"width\": 2}, \"mode\": \"markers\", \"name\": \"The Wolf of Snow Hollow\", \"type\": \"scatter\", \"x\": [0.3744], \"y\": [12015.0]}, {\"line\": {\"color\": \"orange\", \"width\": 2}, \"mode\": \"markers\", \"name\": \"Words on Bathroom Walls\", \"type\": \"scatter\", \"x\": [0.20673939393939395], \"y\": [6276.0]}, {\"line\": {\"color\": \"red\", \"width\": 2}, \"mode\": \"markers\", \"name\": \"Bill & Ted Face the Music\", \"type\": \"scatter\", \"x\": [0.1126944], \"y\": [3655.0]}, {\"line\": {\"color\": \"blue\", \"width\": 2}, \"mode\": \"markers\", \"name\": \"The SpongeBob Movie: Sponge on the Run\", \"type\": \"scatter\", \"x\": [5.011363636363637], \"y\": [30449.0]}, {\"line\": {\"color\": \"white\", \"width\": 2}, \"mode\": \"markers\", \"name\": \"No Escape\", \"type\": \"scatter\", \"x\": [0.3728592592592592], \"y\": [2146.0]}, {\"line\": {\"color\": \"red\", \"width\": 2}, \"mode\": \"markers\", \"name\": \"Kajillionaire\", \"type\": \"scatter\", \"x\": [0.09984], \"y\": [7440.0]}, {\"line\": {\"color\": \"blue\", \"width\": 2}, \"mode\": \"markers\", \"name\": \"Shortcut\", \"type\": \"scatter\", \"x\": [0.05546666666666666], \"y\": [4071.0]}, {\"line\": {\"color\": \"orange\", \"width\": 2}, \"mode\": \"markers\", \"name\": \"The Broken Hearts Gallery\", \"type\": \"scatter\", \"x\": [0.5582451612903226], \"y\": [17768.0]}, {\"line\": {\"color\": \"white\", \"width\": 2}, \"mode\": \"markers\", \"name\": \"A Call to Spy\", \"type\": \"scatter\", \"x\": [0.284544], \"y\": [12137.0]}, {\"line\": {\"color\": \"red\", \"width\": 2}, \"mode\": \"markers\", \"name\": \"The Kid Detective\", \"type\": \"scatter\", \"x\": [0.235872], \"y\": [124459.0]}, {\"line\": {\"color\": \"blue\", \"width\": 2}, \"mode\": \"markers\", \"name\": \"Tulsa\", \"type\": \"scatter\", \"x\": [0.133536], \"y\": [866.0]}, {\"line\": {\"color\": \"orange\", \"width\": 2}, \"mode\": \"markers\", \"name\": \"The Wolf of Snow Hollow\", \"type\": \"scatter\", \"x\": [0.18096], \"y\": [1275.0]}, {\"line\": {\"color\": \"white\", \"width\": 2}, \"mode\": \"markers\", \"name\": \"Ava\", \"type\": \"scatter\", \"x\": [0.8536585365853658], \"y\": [8354.0]}, {\"line\": {\"color\": \"red\", \"width\": 2}, \"mode\": \"markers\", \"name\": \"The Broken Hearts Gallery\", \"type\": \"scatter\", \"x\": [0.11809032258064515], \"y\": [8057.0]}, {\"line\": {\"color\": \"blue\", \"width\": 2}, \"mode\": \"markers\", \"name\": \"The Addams Family2020 Re-release\", \"type\": \"scatter\", \"x\": [2.94], \"y\": [219027.0]}, {\"line\": {\"color\": \"orange\", \"width\": 2}, \"mode\": \"markers\", \"name\": \"The Empty Man\", \"type\": \"scatter\", \"x\": [2.31], \"y\": [757354.0]}, {\"line\": {\"color\": \"white\", \"width\": 2}, \"mode\": \"markers\", \"name\": \"The SpongeBob Movie: Sponge on the Run\", \"type\": \"scatter\", \"x\": [4.136363636363637], \"y\": [12049.0]}, {\"line\": {\"color\": \"red\", \"width\": 2}, \"mode\": \"markers\", \"name\": \"Spell\", \"type\": \"scatter\", \"x\": [3.18], \"y\": [160755.0]}, {\"line\": {\"color\": \"blue\", \"width\": 2}, \"mode\": \"markers\", \"name\": \"Alita: Battle Angel\", \"type\": \"scatter\", \"x\": [0.277056], \"y\": [93000.0]}, {\"line\": {\"color\": \"orange\", \"width\": 2}, \"mode\": \"markers\", \"name\": \"The Call\", \"type\": \"scatter\", \"x\": [2.530612244897959], \"y\": [37047.0]}, {\"line\": {\"color\": \"white\", \"width\": 2}, \"mode\": \"markers\", \"name\": \"Heaven\", \"type\": \"scatter\", \"x\": [0.97], \"y\": [785.0]}, {\"line\": {\"color\": \"blue\", \"width\": 2}, \"mode\": \"markers\", \"name\": \"The Last Shift\", \"type\": \"scatter\", \"x\": [0.0860108108108108], \"y\": [2489.0]}, {\"line\": {\"color\": \"orange\", \"width\": 2}, \"mode\": \"markers\", \"name\": \"Possessor\", \"type\": \"scatter\", \"x\": [0.04877241379310345], \"y\": [24252.0]}, {\"line\": {\"color\": \"white\", \"width\": 2}, \"mode\": \"markers\", \"name\": \"2 Hearts\", \"type\": \"scatter\", \"x\": [0.4303448275862069], \"y\": [151450.0]}, {\"line\": {\"color\": \"red\", \"width\": 2}, \"mode\": \"markers\", \"name\": \"No Escape\", \"type\": \"scatter\", \"x\": [0.4375703703703704], \"y\": [1330.0]}, {\"line\": {\"color\": \"orange\", \"width\": 2}, \"mode\": \"markers\", \"name\": \"Yellow Rose\", \"type\": \"scatter\", \"x\": [0.072384], \"y\": [5401.0]}, {\"line\": {\"color\": \"white\", \"width\": 2}, \"mode\": \"markers\", \"name\": \"Monsters Inc.2020 Re-release\", \"type\": \"scatter\", \"x\": [0.019968], \"y\": [181000.0]}, {\"line\": {\"color\": \"red\", \"width\": 2}, \"mode\": \"markers\", \"name\": \"Unhinged\", \"type\": \"scatter\", \"x\": [1.38], \"y\": [144902.0]}, {\"line\": {\"color\": \"blue\", \"width\": 2}, \"mode\": \"markers\", \"name\": \"Hocus Pocus2020 Re-release\", \"type\": \"scatter\", \"x\": [2.16], \"y\": [356000.0]}, {\"line\": {\"color\": \"orange\", \"width\": 2}, \"mode\": \"markers\", \"name\": \"The New Mutants\", \"type\": \"scatter\", \"x\": [1.23], \"y\": [176851.0]}, {\"line\": {\"color\": \"white\", \"width\": 2}, \"mode\": \"markers\", \"name\": \"Infidel\", \"type\": \"scatter\", \"x\": [0.19672131147540986], \"y\": [14331.0]}, {\"line\": {\"color\": \"red\", \"width\": 2}, \"mode\": \"markers\", \"name\": \"Pray: The Story of Patrick Peyton\", \"type\": \"scatter\", \"x\": [0.576576], \"y\": [2416.0]}, {\"line\": {\"color\": \"blue\", \"width\": 2}, \"mode\": \"markers\", \"name\": \"Love and Monsters\", \"type\": \"scatter\", \"x\": [2.8200000000000003], \"y\": [141935.0]}, {\"line\": {\"color\": \"orange\", \"width\": 2}, \"mode\": \"markers\", \"name\": \"A Call to Spy\", \"type\": \"scatter\", \"x\": [0.1248], \"y\": [8546.0]}, {\"line\": {\"color\": \"white\", \"width\": 2}, \"mode\": \"markers\", \"name\": \"After We Collided\", \"type\": \"scatter\", \"x\": [30.714285714285722], \"y\": [119458.0]}, {\"line\": {\"color\": \"red\", \"width\": 2}, \"mode\": \"markers\", \"name\": \"The Nightmare Before Christmas2020 Re-release\", \"type\": \"scatter\", \"x\": [1.5883636363636362], \"y\": [301000.0]}, {\"line\": {\"color\": \"blue\", \"width\": 2}, \"mode\": \"markers\", \"name\": \"Lupin III: The First\", \"type\": \"scatter\", \"x\": [0.0751296], \"y\": [1850.0]}, {\"line\": {\"color\": \"orange\", \"width\": 2}, \"mode\": \"markers\", \"name\": \"Come Play\", \"type\": \"scatter\", \"x\": [2.54], \"y\": [2425275.0]}, {\"line\": {\"color\": \"white\", \"width\": 2}, \"mode\": \"markers\", \"name\": \"The War with Grandpa\", \"type\": \"scatter\", \"x\": [0.6534981818181818], \"y\": [1165264.0]}, {\"line\": {\"color\": \"blue\", \"width\": 2}, \"mode\": \"markers\", \"name\": \"Honest Thief\", \"type\": \"scatter\", \"x\": [1.24], \"y\": [1520098.0]}, {\"line\": {\"color\": \"orange\", \"width\": 2}, \"mode\": \"markers\", \"name\": \"She Dies Tomorrow\", \"type\": \"scatter\", \"x\": [0.028828799999999998], \"y\": [8319.0]}, {\"line\": {\"color\": \"red\", \"width\": 2}, \"mode\": \"markers\", \"name\": \"Shithouse\", \"type\": \"scatter\", \"x\": [0.028392000000000008], \"y\": [1721.0]}, {\"line\": {\"color\": \"blue\", \"width\": 2}, \"mode\": \"markers\", \"name\": \"The Kid Detective\", \"type\": \"scatter\", \"x\": [0.08386560000000001], \"y\": [38362.0]}, {\"line\": {\"color\": \"orange\", \"width\": 2}, \"mode\": \"markers\", \"name\": \"Words on Bathroom Walls\", \"type\": \"scatter\", \"x\": [0.12606060606060607], \"y\": [1665.0]}, {\"line\": {\"color\": \"white\", \"width\": 2}, \"mode\": \"markers\", \"name\": \"The Last Shift\", \"type\": \"scatter\", \"x\": [0.0860108108108108], \"y\": [709.0]}, {\"line\": {\"color\": \"red\", \"width\": 2}, \"mode\": \"markers\", \"name\": \"The Empty Man\", \"type\": \"scatter\", \"x\": [1.59], \"y\": [410629.0]}, {\"line\": {\"color\": \"orange\", \"width\": 2}, \"mode\": \"markers\", \"name\": \"The SpongeBob Movie: Sponge on the Run\", \"type\": \"scatter\", \"x\": [26.88636363636364], \"y\": [18651.0]}, {\"line\": {\"color\": \"white\", \"width\": 2}, \"mode\": \"markers\", \"name\": \"The Informer\", \"type\": \"scatter\", \"x\": [0.466752], \"y\": [133475.0]}, {\"line\": {\"color\": \"red\", \"width\": 2}, \"mode\": \"markers\", \"name\": \"The New Mutants\", \"type\": \"scatter\", \"x\": [2.19], \"y\": [174032.0]}, {\"line\": {\"color\": \"blue\", \"width\": 2}, \"mode\": \"markers\", \"name\": \"Come Play\", \"type\": \"scatter\", \"x\": [4.12], \"y\": [2381485.0]}, {\"line\": {\"color\": \"orange\", \"width\": 2}, \"mode\": \"markers\", \"name\": \"The Kid Detective\", \"type\": \"scatter\", \"x\": [0.11662560000000002], \"y\": [7071.0]}, {\"line\": {\"color\": \"white\", \"width\": 2}, \"mode\": \"markers\", \"name\": \"The War with Grandpa\", \"type\": \"scatter\", \"x\": [1.4340654545454545], \"y\": [1793645.0]}, {\"line\": {\"color\": \"red\", \"width\": 2}, \"mode\": \"markers\", \"name\": \"Tulsa\", \"type\": \"scatter\", \"x\": [0.15100799999999998], \"y\": [1469.0]}, {\"line\": {\"color\": \"blue\", \"width\": 2}, \"mode\": \"markers\", \"name\": \"The Call\", \"type\": \"scatter\", \"x\": [2.4897959183673466], \"y\": [19684.0]}, {\"line\": {\"color\": \"orange\", \"width\": 2}, \"mode\": \"markers\", \"name\": \"Possessor\", \"type\": \"scatter\", \"x\": [0.09324137931034483], \"y\": [4659.0]}, {\"line\": {\"color\": \"white\", \"width\": 2}, \"mode\": \"markers\", \"name\": \"Pray: The Story of Patrick Peyton\", \"type\": \"scatter\", \"x\": [0.8910719999999999], \"y\": [4649.0]}, {\"line\": {\"color\": \"red\", \"width\": 2}, \"mode\": \"markers\", \"name\": \"A Call to Spy\", \"type\": \"scatter\", \"x\": [0.22464], \"y\": [10182.0]}, {\"line\": {\"color\": \"blue\", \"width\": 2}, \"mode\": \"markers\", \"name\": \"No Escape\", \"type\": \"scatter\", \"x\": [0.1448296296296296], \"y\": [393.0]}, {\"line\": {\"color\": \"orange\", \"width\": 2}, \"mode\": \"markers\", \"name\": \"After We Collided\", \"type\": \"scatter\", \"x\": [18.333333333333336], \"y\": [89103.0]}, {\"line\": {\"color\": \"white\", \"width\": 2}, \"mode\": \"markers\", \"name\": \"Kindred\", \"type\": \"scatter\", \"x\": [0.3025043478260869], \"y\": [6795.0]}, {\"line\": {\"color\": \"blue\", \"width\": 2}, \"mode\": \"markers\", \"name\": \"2 Hearts\", \"type\": \"scatter\", \"x\": [0.3614896551724138], \"y\": [86998.0]}, {\"line\": {\"color\": \"orange\", \"width\": 2}, \"mode\": \"markers\", \"name\": \"Honest Thief\", \"type\": \"scatter\", \"x\": [1.74], \"y\": [1476412.0]}, {\"line\": {\"color\": \"white\", \"width\": 2}, \"mode\": \"markers\", \"name\": \"Words on Bathroom Walls\", \"type\": \"scatter\", \"x\": [0.07563636363636364], \"y\": [2480.0]}, {\"line\": {\"color\": \"red\", \"width\": 2}, \"mode\": \"markers\", \"name\": \"Infidel\", \"type\": \"scatter\", \"x\": [0.2295081967213115], \"y\": [5083.0]}, {\"line\": {\"color\": \"blue\", \"width\": 2}, \"mode\": \"markers\", \"name\": \"She Dies Tomorrow\", \"type\": \"scatter\", \"x\": [0.057657599999999996], \"y\": [1355.0]}, {\"line\": {\"color\": \"white\", \"width\": 2}, \"mode\": \"markers\", \"name\": \"Let Him Go\", \"type\": \"scatter\", \"x\": [5.7299999999999995], \"y\": [4000470.0]}, {\"line\": {\"color\": \"red\", \"width\": 2}, \"mode\": \"markers\", \"name\": \"Heaven\", \"type\": \"scatter\", \"x\": [0.94], \"y\": [737.0]}, {\"line\": {\"color\": \"blue\", \"width\": 2}, \"mode\": \"markers\", \"name\": \"The Addams Family2020 Re-release\", \"type\": \"scatter\", \"x\": [0.78], \"y\": [67464.0]}, {\"line\": {\"color\": \"orange\", \"width\": 2}, \"mode\": \"markers\", \"name\": \"True to the Game 2\", \"type\": \"scatter\", \"x\": [1.3728000000000002], \"y\": [274631.0]}, {\"line\": {\"color\": \"white\", \"width\": 2}, \"mode\": \"markers\", \"name\": \"Love and Monsters\", \"type\": \"scatter\", \"x\": [2.73], \"y\": [141767.0]}, {\"line\": {\"color\": \"red\", \"width\": 2}, \"mode\": \"markers\", \"name\": \"Toy Story2020 Re-release\", \"type\": \"scatter\", \"x\": [0.5700324324324324], \"y\": [505000.0]}, {\"line\": {\"color\": \"blue\", \"width\": 2}, \"mode\": \"markers\", \"name\": \"The Broken Hearts Gallery\", \"type\": \"scatter\", \"x\": [0.2361806451612903], \"y\": [14789.0]}, {\"line\": {\"color\": \"orange\", \"width\": 2}, \"mode\": \"markers\", \"name\": \"Ava\", \"type\": \"scatter\", \"x\": [0.3170731707317073], \"y\": [3258.0]}, {\"line\": {\"color\": \"white\", \"width\": 2}, \"mode\": \"markers\", \"name\": \"Spell\", \"type\": \"scatter\", \"x\": [4.94], \"y\": [173635.0]}, {\"line\": {\"color\": \"red\", \"width\": 2}, \"mode\": \"markers\", \"name\": \"Unhinged\", \"type\": \"scatter\", \"x\": [1.26], \"y\": [116401.0]}, {\"line\": {\"color\": \"blue\", \"width\": 2}, \"mode\": \"markers\", \"name\": \"Words on Bathroom Walls\", \"type\": \"scatter\", \"x\": [0.6252606060606061], \"y\": [1335.0]}, {\"line\": {\"color\": \"orange\", \"width\": 2}, \"mode\": \"markers\", \"name\": \"Elf2020 Re-release\", \"type\": \"scatter\", \"x\": [0.9534883720930232], \"y\": [93000.0]}, {\"line\": {\"color\": \"white\", \"width\": 2}, \"mode\": \"markers\", \"name\": \"2 Hearts\", \"type\": \"scatter\", \"x\": [0.12910344827586204], \"y\": [28077.0]}, {\"line\": {\"color\": \"blue\", \"width\": 2}, \"mode\": \"markers\", \"name\": \"The Last Shift\", \"type\": \"scatter\", \"x\": [0.030356756756756764], \"y\": [100002.0]}, {\"line\": {\"color\": \"orange\", \"width\": 2}, \"mode\": \"markers\", \"name\": \"Unhinged\", \"type\": \"scatter\", \"x\": [1.2200000000000002], \"y\": [40458.0]}, {\"line\": {\"color\": \"white\", \"width\": 2}, \"mode\": \"markers\", \"name\": \"Come Play\", \"type\": \"scatter\", \"x\": [2.3], \"y\": [968600.0]}, {\"line\": {\"color\": \"red\", \"width\": 2}, \"mode\": \"markers\", \"name\": \"A Call to Spy\", \"type\": \"scatter\", \"x\": [0.039936], \"y\": [5567.0]}, {\"line\": {\"color\": \"blue\", \"width\": 2}, \"mode\": \"markers\", \"name\": \"The War with Grandpa\", \"type\": \"scatter\", \"x\": [0.6625745454545454], \"y\": [1083440.0]}, {\"line\": {\"color\": \"orange\", \"width\": 2}, \"mode\": \"markers\", \"name\": \"After We Collided\", \"type\": \"scatter\", \"x\": [7.61904761904762], \"y\": [21806.0]}, {\"line\": {\"color\": \"red\", \"width\": 2}, \"mode\": \"markers\", \"name\": \"Come Away\", \"type\": \"scatter\", \"x\": [0.6154520547945205], \"y\": [58199.0]}, {\"line\": {\"color\": \"orange\", \"width\": 2}, \"mode\": \"markers\", \"name\": \"Tulsa\", \"type\": \"scatter\", \"x\": [0.119808], \"y\": [865.0]}, {\"line\": {\"color\": \"white\", \"width\": 2}, \"mode\": \"markers\", \"name\": \"Ammonite\", \"type\": \"scatter\", \"x\": [0.32], \"y\": [55196.0]}, {\"line\": {\"color\": \"red\", \"width\": 2}, \"mode\": \"markers\", \"name\": \"True to the Game 2\", \"type\": \"scatter\", \"x\": [2.134736842105263], \"y\": [260903.0]}, {\"line\": {\"color\": \"blue\", \"width\": 2}, \"mode\": \"markers\", \"name\": \"Toy Story2020 Re-release\", \"type\": \"scatter\", \"x\": [0.35078918918918917], \"y\": [117000.0]}, {\"line\": {\"color\": \"orange\", \"width\": 2}, \"mode\": \"markers\", \"name\": \"The SpongeBob Movie: Sponge on the Run\", \"type\": \"scatter\", \"x\": [18.21590909090909], \"y\": [7151.0]}, {\"line\": {\"color\": \"white\", \"width\": 2}, \"mode\": \"markers\", \"name\": \"The New Mutants\", \"type\": \"scatter\", \"x\": [2.4000000000000004], \"y\": [106825.0]}, {\"line\": {\"color\": \"red\", \"width\": 2}, \"mode\": \"markers\", \"name\": \"The Kid Detective\", \"type\": \"scatter\", \"x\": [0.0275184], \"y\": [778.0]}, {\"line\": {\"color\": \"blue\", \"width\": 2}, \"mode\": \"markers\", \"name\": \"Yellow Rose\", \"type\": \"scatter\", \"x\": [0.017472], \"y\": [2797.0]}, {\"line\": {\"color\": \"orange\", \"width\": 2}, \"mode\": \"markers\", \"name\": \"The Informer\", \"type\": \"scatter\", \"x\": [0.334464], \"y\": [76334.0]}, {\"line\": {\"color\": \"white\", \"width\": 2}, \"mode\": \"markers\", \"name\": \"Spell\", \"type\": \"scatter\", \"x\": [1.96], \"y\": [58739.0]}, {\"line\": {\"color\": \"red\", \"width\": 2}, \"mode\": \"markers\", \"name\": \"Pray: The Story of Patrick Peyton\", \"type\": \"scatter\", \"x\": [0.569088], \"y\": [2885.0]}, {\"line\": {\"color\": \"blue\", \"width\": 2}, \"mode\": \"markers\", \"name\": \"Infidel\", \"type\": \"scatter\", \"x\": [0.14754098360655735], \"y\": [1427.0]}, {\"line\": {\"color\": \"orange\", \"width\": 2}, \"mode\": \"markers\", \"name\": \"Heaven\", \"type\": \"scatter\", \"x\": [0.56], \"y\": [174.0]}, {\"line\": {\"color\": \"white\", \"width\": 2}, \"mode\": \"markers\", \"name\": \"The Addams Family2020 Re-release\", \"type\": \"scatter\", \"x\": [0.12], \"y\": [4708.0]}, {\"line\": {\"color\": \"red\", \"width\": 2}, \"mode\": \"markers\", \"name\": \"Kindred\", \"type\": \"scatter\", \"x\": [0.09495652173913044], \"y\": [1343.0]}, {\"line\": {\"color\": \"blue\", \"width\": 2}, \"mode\": \"markers\", \"name\": \"Honest Thief\", \"type\": \"scatter\", \"x\": [1.92], \"y\": [739388.0]}, {\"line\": {\"color\": \"orange\", \"width\": 2}, \"mode\": \"markers\", \"name\": \"The Empty Man\", \"type\": \"scatter\", \"x\": [0.63], \"y\": [130508.0]}, {\"line\": {\"color\": \"white\", \"width\": 2}, \"mode\": \"markers\", \"name\": \"Freaky\", \"type\": \"scatter\", \"x\": [6.1904761904761925], \"y\": [2203240.0]}, {\"line\": {\"color\": \"red\", \"width\": 2}, \"mode\": \"markers\", \"name\": \"The Call\", \"type\": \"scatter\", \"x\": [2.040816326530612], \"y\": [2525.0]}, {\"line\": {\"color\": \"blue\", \"width\": 2}, \"mode\": \"markers\", \"name\": \"Love and Monsters\", \"type\": \"scatter\", \"x\": [1.92], \"y\": [75321.0]}, {\"line\": {\"color\": \"orange\", \"width\": 2}, \"mode\": \"markers\", \"name\": \"Let Him Go\", \"type\": \"scatter\", \"x\": [3.1500000000000004], \"y\": [1843485.0]}, {\"line\": {\"color\": \"white\", \"width\": 2}, \"mode\": \"markers\", \"name\": \"The Broken Hearts Gallery\", \"type\": \"scatter\", \"x\": [0.19860645161290325], \"y\": [4702.0]}, {\"line\": {\"color\": \"red\", \"width\": 2}, \"mode\": \"markers\", \"name\": \"Guardians of the Galaxy2020 Re-release\", \"type\": \"scatter\", \"x\": [0.23462399999999997], \"y\": [221000.0]}, {\"line\": {\"color\": \"orange\", \"width\": 2}, \"mode\": \"markers\", \"name\": \"The War with Grandpa\", \"type\": \"scatter\", \"x\": [0.6716509090909091], \"y\": [428367.0]}, {\"line\": {\"color\": \"white\", \"width\": 2}, \"mode\": \"markers\", \"name\": \"After We Collided\", \"type\": \"scatter\", \"x\": [7.380952380952383], \"y\": [4454.0]}, {\"line\": {\"color\": \"red\", \"width\": 2}, \"mode\": \"markers\", \"name\": \"Spell\", \"type\": \"scatter\", \"x\": [0.9], \"y\": [15391.0]}, {\"line\": {\"color\": \"orange\", \"width\": 2}, \"mode\": \"markers\", \"name\": \"Elf2020 Re-release\", \"type\": \"scatter\", \"x\": [0.8604651162790697], \"y\": [50000.0]}, {\"line\": {\"color\": \"white\", \"width\": 2}, \"mode\": \"markers\", \"name\": \"The Broken Hearts Gallery\", \"type\": \"scatter\", \"x\": [0.18787096774193549], \"y\": [1273.0]}, {\"line\": {\"color\": \"red\", \"width\": 2}, \"mode\": \"markers\", \"name\": \"Buddy Games\", \"type\": \"scatter\", \"x\": [0.214656], \"y\": [35045.0]}, {\"line\": {\"color\": \"blue\", \"width\": 2}, \"mode\": \"markers\", \"name\": \"The Santa Clause2020 Re-release\", \"type\": \"scatter\", \"x\": [0.6000000000000001], \"y\": [106000.0]}, {\"line\": {\"color\": \"orange\", \"width\": 2}, \"mode\": \"markers\", \"name\": \"Come Away\", \"type\": \"scatter\", \"x\": [0.5607452054794521], \"y\": [33336.0]}, {\"line\": {\"color\": \"white\", \"width\": 2}, \"mode\": \"markers\", \"name\": \"Ammonite\", \"type\": \"scatter\", \"x\": [0.13], \"y\": [7075.0]}, {\"line\": {\"color\": \"red\", \"width\": 2}, \"mode\": \"markers\", \"name\": \"True to the Game 2\", \"type\": \"scatter\", \"x\": [1.3596631578947367], \"y\": [134732.0]}, {\"line\": {\"color\": \"blue\", \"width\": 2}, \"mode\": \"markers\", \"name\": \"The Empty Man\", \"type\": \"scatter\", \"x\": [0.27], \"y\": [25551.0]}, {\"line\": {\"color\": \"orange\", \"width\": 2}, \"mode\": \"markers\", \"name\": \"Guardians of the Galaxy2020 Re-release\", \"type\": \"scatter\", \"x\": [0.364416], \"y\": [33000.0]}, {\"line\": {\"color\": \"white\", \"width\": 2}, \"mode\": \"markers\", \"name\": \"Freaky\", \"type\": \"scatter\", \"x\": [5.238095238095238], \"y\": [1078200.0]}, {\"line\": {\"color\": \"red\", \"width\": 2}, \"mode\": \"markers\", \"name\": \"Love and Monsters\", \"type\": \"scatter\", \"x\": [1.02], \"y\": [22201.0]}, {\"line\": {\"color\": \"blue\", \"width\": 2}, \"mode\": \"markers\", \"name\": \"Come Play\", \"type\": \"scatter\", \"x\": [2.3], \"y\": [354335.0]}, {\"line\": {\"color\": \"orange\", \"width\": 2}, \"mode\": \"markers\", \"name\": \"The Call\", \"type\": \"scatter\", \"x\": [3.0204081632653064], \"y\": [759.0]}, {\"line\": {\"color\": \"white\", \"width\": 2}, \"mode\": \"markers\", \"name\": \"2 Hearts\", \"type\": \"scatter\", \"x\": [0.17644137931034481], \"y\": [5647.0]}, {\"line\": {\"color\": \"blue\", \"width\": 2}, \"mode\": \"markers\", \"name\": \"Embattled\", \"type\": \"scatter\", \"x\": [0.09727058823529412], \"y\": [2803.0]}, {\"line\": {\"color\": \"orange\", \"width\": 2}, \"mode\": \"markers\", \"name\": \"Honest Thief\", \"type\": \"scatter\", \"x\": [0.92], \"y\": [307101.0]}, {\"line\": {\"color\": \"white\", \"width\": 2}, \"mode\": \"markers\", \"name\": \"The Informer\", \"type\": \"scatter\", \"x\": [0.23711999999999997], \"y\": [26157.0]}, {\"line\": {\"color\": \"red\", \"width\": 2}, \"mode\": \"markers\", \"name\": \"Let Him Go\", \"type\": \"scatter\", \"x\": [2.34], \"y\": [563645.0]}, {\"line\": {\"color\": \"blue\", \"width\": 2}, \"mode\": \"markers\", \"name\": \"The New Mutants\", \"type\": \"scatter\", \"x\": [2.31], \"y\": [45496.0]}, {\"line\": {\"color\": \"orange\", \"width\": 2}, \"mode\": \"markers\", \"name\": \"Vanguard\", \"type\": \"scatter\", \"x\": [0.49], \"y\": [97652.0]}, {\"line\": {\"color\": \"white\", \"width\": 2}, \"mode\": \"markers\", \"name\": \"The Last Vermeer\", \"type\": \"scatter\", \"x\": [0.063648], \"y\": [55891.0]}, {\"line\": {\"color\": \"red\", \"width\": 2}, \"mode\": \"markers\", \"name\": \"Infidel\", \"type\": \"scatter\", \"x\": [0.1639344262295082], \"y\": [222.0]}, {\"line\": {\"color\": \"blue\", \"width\": 2}, \"mode\": \"markers\", \"name\": \"Pray: The Story of Patrick Peyton\", \"type\": \"scatter\", \"x\": [0.7188479999999999], \"y\": [859.0]}, {\"line\": {\"color\": \"red\", \"width\": 2}, \"mode\": \"markers\", \"name\": \"Words on Bathroom Walls\", \"type\": \"scatter\", \"x\": [0.38826666666666665], \"y\": [101.0]}, {\"line\": {\"color\": \"blue\", \"width\": 2}, \"mode\": \"markers\", \"name\": \"Words on Bathroom Walls\", \"type\": \"scatter\", \"x\": [0.11597575757575758], \"y\": [18.0]}, {\"line\": {\"color\": \"orange\", \"width\": 2}, \"mode\": \"markers\", \"name\": \"Let Him Go\", \"type\": \"scatter\", \"x\": [5.79], \"y\": [511465.0]}, {\"line\": {\"color\": \"white\", \"width\": 2}, \"mode\": \"markers\", \"name\": \"Ammonite\", \"type\": \"scatter\", \"x\": [0.09], \"y\": [4500.0]}, {\"line\": {\"color\": \"red\", \"width\": 2}, \"mode\": \"markers\", \"name\": \"The War with Grandpa\", \"type\": \"scatter\", \"x\": [0.8077963636363635], \"y\": [671014.0]}, {\"line\": {\"color\": \"blue\", \"width\": 2}, \"mode\": \"markers\", \"name\": \"Frozen2020 Re-release\", \"type\": \"scatter\", \"x\": [1.33], \"y\": [85000.0]}, {\"line\": {\"color\": \"orange\", \"width\": 2}, \"mode\": \"markers\", \"name\": \"Honest Thief\", \"type\": \"scatter\", \"x\": [0.92], \"y\": [354020.0]}, {\"line\": {\"color\": \"white\", \"width\": 2}, \"mode\": \"markers\", \"name\": \"Last Call\", \"type\": \"scatter\", \"x\": [0.03744], \"y\": [1653.0]}, {\"line\": {\"color\": \"red\", \"width\": 2}, \"mode\": \"markers\", \"name\": \"True to the Game 2\", \"type\": \"scatter\", \"x\": [0.8341894736842105], \"y\": [130808.0]}, {\"line\": {\"color\": \"blue\", \"width\": 2}, \"mode\": \"markers\", \"name\": \"Vanguard\", \"type\": \"scatter\", \"x\": [1.2999999999999998], \"y\": [210975.0]}, {\"line\": {\"color\": \"white\", \"width\": 2}, \"mode\": \"markers\", \"name\": \"After We Collided\", \"type\": \"scatter\", \"x\": [6.42857142857143], \"y\": [1619.0]}, {\"line\": {\"color\": \"red\", \"width\": 2}, \"mode\": \"markers\", \"name\": \"Stardust\", \"type\": \"scatter\", \"x\": [0.128544], \"y\": [2972.0]}, {\"line\": {\"color\": \"blue\", \"width\": 2}, \"mode\": \"markers\", \"name\": \"Pray: The Story of Patrick Peyton\", \"type\": \"scatter\", \"x\": [0.344448], \"y\": [110.0]}, {\"line\": {\"color\": \"white\", \"width\": 2}, \"mode\": \"markers\", \"name\": \"2 Hearts\", \"type\": \"scatter\", \"x\": [0.09037241379310346], \"y\": [1976.0]}, {\"line\": {\"color\": \"red\", \"width\": 2}, \"mode\": \"markers\", \"name\": \"Elf2020 Re-release\", \"type\": \"scatter\", \"x\": [3.581395348837209], \"y\": [260000.0]}, {\"line\": {\"color\": \"blue\", \"width\": 2}, \"mode\": \"markers\", \"name\": \"The Empty Man\", \"type\": \"scatter\", \"x\": [0.42000000000000004], \"y\": [9757.0]}, {\"line\": {\"color\": \"orange\", \"width\": 2}, \"mode\": \"markers\", \"name\": \"Come Play\", \"type\": \"scatter\", \"x\": [2.4], \"y\": [368045.0]}, {\"line\": {\"color\": \"white\", \"width\": 2}, \"mode\": \"markers\", \"name\": \"Come Away\", \"type\": \"scatter\", \"x\": [0.5026191780821917], \"y\": [12996.0]}, {\"line\": {\"color\": \"red\", \"width\": 2}, \"mode\": \"markers\", \"name\": \"The Call\", \"type\": \"scatter\", \"x\": [1.0612244897959184], \"y\": [250.0]}, {\"line\": {\"color\": \"blue\", \"width\": 2}, \"mode\": \"markers\", \"name\": \"The Santa Clause2020 Re-release\", \"type\": \"scatter\", \"x\": [1.17], \"y\": [140000.0]}, {\"line\": {\"color\": \"orange\", \"width\": 2}, \"mode\": \"markers\", \"name\": \"Embattled\", \"type\": \"scatter\", \"x\": [0.1963764705882353], \"y\": [7902.0]}, {\"line\": {\"color\": \"white\", \"width\": 2}, \"mode\": \"markers\", \"name\": \"The New Mutants\", \"type\": \"scatter\", \"x\": [1.5299999999999998], \"y\": [10316.0]}, {\"line\": {\"color\": \"red\", \"width\": 2}, \"mode\": \"markers\", \"name\": \"The Grinch\", \"type\": \"scatter\", \"x\": [1.52], \"y\": [50000.0]}, {\"line\": {\"color\": \"blue\", \"width\": 2}, \"mode\": \"markers\", \"name\": \"The Informer\", \"type\": \"scatter\", \"x\": [0.154752], \"y\": [9313.0]}, {\"line\": {\"color\": \"white\", \"width\": 2}, \"mode\": \"markers\", \"name\": \"Freaky\", \"type\": \"scatter\", \"x\": [3.7301587301587302], \"y\": [898670.0]}, {\"line\": {\"color\": \"red\", \"width\": 2}, \"mode\": \"markers\", \"name\": \"The Last Vermeer\", \"type\": \"scatter\", \"x\": [0.344448], \"y\": [176694.0]}, {\"line\": {\"color\": \"blue\", \"width\": 2}, \"mode\": \"markers\", \"name\": \"The Croods: A New Age\", \"type\": \"scatter\", \"x\": [11.35], \"y\": [8778895.0]}, {\"line\": {\"color\": \"orange\", \"width\": 2}, \"mode\": \"markers\", \"name\": \"Buddy Games\", \"type\": \"scatter\", \"x\": [0.6864], \"y\": [112664.0]}, {\"line\": {\"color\": \"white\", \"width\": 2}, \"mode\": \"markers\", \"name\": \"Die Hard2020 Re-release\", \"type\": \"scatter\", \"x\": [2.48], \"y\": [189000.0]}, {\"line\": {\"color\": \"red\", \"width\": 2}, \"mode\": \"markers\", \"name\": \"Let Him Go\", \"type\": \"scatter\", \"x\": [5.4], \"y\": [317885.0]}, {\"line\": {\"color\": \"blue\", \"width\": 2}, \"mode\": \"markers\", \"name\": \"Come Play\", \"type\": \"scatter\", \"x\": [2.28], \"y\": [316900.0]}, {\"line\": {\"color\": \"orange\", \"width\": 2}, \"mode\": \"markers\", \"name\": \"Honest Thief\", \"type\": \"scatter\", \"x\": [2.0599999999999996], \"y\": [282588.0]}, {\"line\": {\"color\": \"white\", \"width\": 2}, \"mode\": \"markers\", \"name\": \"The Last Vermeer\", \"type\": \"scatter\", \"x\": [0.321984], \"y\": [115299.0]}, {\"line\": {\"color\": \"red\", \"width\": 2}, \"mode\": \"markers\", \"name\": \"Pray: The Story of Patrick Peyton\", \"type\": \"scatter\", \"x\": [0.42681600000000003], \"y\": [257.0]}, {\"line\": {\"color\": \"blue\", \"width\": 2}, \"mode\": \"markers\", \"name\": \"Elf2020 Re-release\", \"type\": \"scatter\", \"x\": [4.883720930232559], \"y\": [315000.0]}, {\"line\": {\"color\": \"orange\", \"width\": 2}, \"mode\": \"markers\", \"name\": \"The Godfather: Part III2020 Re-release\", \"type\": \"scatter\", \"x\": [0.89856], \"y\": [54602.0]}, {\"line\": {\"color\": \"red\", \"width\": 2}, \"mode\": \"markers\", \"name\": \"Last Call\", \"type\": \"scatter\", \"x\": [0.21964799999999995], \"y\": [1515.0]}, {\"line\": {\"color\": \"blue\", \"width\": 2}, \"mode\": \"markers\", \"name\": \"The Grinch\", \"type\": \"scatter\", \"x\": [4.06], \"y\": [81000.0]}, {\"line\": {\"color\": \"white\", \"width\": 2}, \"mode\": \"markers\", \"name\": \"Vanguard\", \"type\": \"scatter\", \"x\": [1.2000000000000002], \"y\": [85227.0]}, {\"line\": {\"color\": \"red\", \"width\": 2}, \"mode\": \"markers\", \"name\": \"The Grinch2020 Re-release\", \"type\": \"scatter\", \"x\": [4.06], \"y\": [81000.0]}, {\"line\": {\"color\": \"blue\", \"width\": 2}, \"mode\": \"markers\", \"name\": \"2 Hearts\", \"type\": \"scatter\", \"x\": [0.1807448275862069], \"y\": [862.0]}, {\"line\": {\"color\": \"orange\", \"width\": 2}, \"mode\": \"markers\", \"name\": \"The New Mutants\", \"type\": \"scatter\", \"x\": [1.9500000000000002], \"y\": [5348.0]}, {\"line\": {\"color\": \"white\", \"width\": 2}, \"mode\": \"markers\", \"name\": \"The Climb\", \"type\": \"scatter\", \"x\": [0.09508571428571427], \"y\": [2148.0]}, {\"line\": {\"color\": \"red\", \"width\": 2}, \"mode\": \"markers\", \"name\": \"Freaky\", \"type\": \"scatter\", \"x\": [8.492063492063494], \"y\": [713195.0]}, {\"line\": {\"color\": \"blue\", \"width\": 2}, \"mode\": \"markers\", \"name\": \"Buddy Games\", \"type\": \"scatter\", \"x\": [0.4592639999999999], \"y\": [70860.0]}, {\"line\": {\"color\": \"orange\", \"width\": 2}, \"mode\": \"markers\", \"name\": \"The Polar Express2020 Re-release\", \"type\": \"scatter\", \"x\": [0.8483240506329114], \"y\": [155000.0]}, {\"line\": {\"color\": \"white\", \"width\": 2}, \"mode\": \"markers\", \"name\": \"Embattled\", \"type\": \"scatter\", \"x\": [0.04588235294117647], \"y\": [1197.0]}, {\"line\": {\"color\": \"red\", \"width\": 2}, \"mode\": \"markers\", \"name\": \"Stardust\", \"type\": \"scatter\", \"x\": [0.102336], \"y\": [1749.0]}, {\"line\": {\"color\": \"blue\", \"width\": 2}, \"mode\": \"markers\", \"name\": \"After We Collided\", \"type\": \"scatter\", \"x\": [9.285714285714288], \"y\": [957.0]}, {\"line\": {\"color\": \"orange\", \"width\": 2}, \"mode\": \"markers\", \"name\": \"Come Away\", \"type\": \"scatter\", \"x\": [0.03761095890410959], \"y\": [1418.0]}, {\"line\": {\"color\": \"white\", \"width\": 2}, \"mode\": \"markers\", \"name\": \"The War with Grandpa\", \"type\": \"scatter\", \"x\": [0.7351854545454544], \"y\": [414811.0]}, {\"line\": {\"color\": \"red\", \"width\": 2}, \"mode\": \"markers\", \"name\": \"All My Life\", \"type\": \"scatter\", \"x\": [2.25], \"y\": [370315.0]}, {\"line\": {\"color\": \"blue\", \"width\": 2}, \"mode\": \"markers\", \"name\": \"Half Brothers\", \"type\": \"scatter\", \"x\": [0.35443199999999997], \"y\": [700160.0]}, {\"line\": {\"color\": \"orange\", \"width\": 2}, \"mode\": \"markers\", \"name\": \"Frozen2020 Re-release\", \"type\": \"scatter\", \"x\": [1.73], \"y\": [60000.0]}, {\"line\": {\"color\": \"white\", \"width\": 2}, \"mode\": \"markers\", \"name\": \"The Empty Man\", \"type\": \"scatter\", \"x\": [0.15000000000000002], \"y\": [3631.0]}, {\"line\": {\"color\": \"red\", \"width\": 2}, \"mode\": \"markers\", \"name\": \"True to the Game 2\", \"type\": \"scatter\", \"x\": [0.3087157894736842], \"y\": [83064.0]}, {\"line\": {\"color\": \"blue\", \"width\": 2}, \"mode\": \"markers\", \"name\": \"The Croods: A New Age\", \"type\": \"scatter\", \"x\": [11.45], \"y\": [6065810.0]}, {\"line\": {\"color\": \"orange\", \"width\": 2}, \"mode\": \"markers\", \"name\": \"The Croods: A New Age\", \"type\": \"scatter\", \"x\": [10.600000000000001], \"y\": [3970375.0]}, {\"line\": {\"color\": \"white\", \"width\": 2}, \"mode\": \"markers\", \"name\": \"National Lampoon's Christmas Vacation2020 Re-release\", \"type\": \"scatter\", \"x\": [0.0821184], \"y\": [239000.0]}, {\"line\": {\"color\": \"red\", \"width\": 2}, \"mode\": \"markers\", \"name\": \"The Forgotten Carols\", \"type\": \"scatter\", \"x\": [0.0563472], \"y\": [61846.0]}, {\"line\": {\"color\": \"orange\", \"width\": 2}, \"mode\": \"markers\", \"name\": \"Freaky\", \"type\": \"scatter\", \"x\": [7.380952380952383], \"y\": [477130.0]}, {\"line\": {\"color\": \"white\", \"width\": 2}, \"mode\": \"markers\", \"name\": \"The Last Vermeer\", \"type\": \"scatter\", \"x\": [0.295776], \"y\": [57223.0]}, {\"line\": {\"color\": \"red\", \"width\": 2}, \"mode\": \"markers\", \"name\": \"The War with Grandpa\", \"type\": \"scatter\", \"x\": [0.8259490909090909], \"y\": [341629.0]}, {\"line\": {\"color\": \"blue\", \"width\": 2}, \"mode\": \"markers\", \"name\": \"The Climb\", \"type\": \"scatter\", \"x\": [0.09508571428571427], \"y\": [1137.0]}, {\"line\": {\"color\": \"orange\", \"width\": 2}, \"mode\": \"markers\", \"name\": \"Let Him Go\", \"type\": \"scatter\", \"x\": [4.35], \"y\": [184925.0]}, {\"line\": {\"color\": \"white\", \"width\": 2}, \"mode\": \"markers\", \"name\": \"Die Hard2020 Re-release\", \"type\": \"scatter\", \"x\": [2.42], \"y\": [136000.0]}, {\"line\": {\"color\": \"red\", \"width\": 2}, \"mode\": \"markers\", \"name\": \"Elf2020 Re-release\", \"type\": \"scatter\", \"x\": [5.325581395348838], \"y\": [400000.0]}, {\"line\": {\"color\": \"blue\", \"width\": 2}, \"mode\": \"markers\", \"name\": \"Wonder Woman2020 Re-release\", \"type\": \"scatter\", \"x\": [3.18], \"y\": [189000.0]}, {\"line\": {\"color\": \"orange\", \"width\": 2}, \"mode\": \"markers\", \"name\": \"2 Hearts\", \"type\": \"scatter\", \"x\": [0.08606896551724137], \"y\": [114.0]}, {\"line\": {\"color\": \"white\", \"width\": 2}, \"mode\": \"markers\", \"name\": \"The Grinch2020 Re-release\", \"type\": \"scatter\", \"x\": [4.94], \"y\": [160000.0]}, {\"line\": {\"color\": \"red\", \"width\": 2}, \"mode\": \"markers\", \"name\": \"Wild Mountain Thyme\", \"type\": \"scatter\", \"x\": [1.0764], \"y\": [95360.0]}, {\"line\": {\"color\": \"blue\", \"width\": 2}, \"mode\": \"markers\", \"name\": \"Vanguard\", \"type\": \"scatter\", \"x\": [0.93], \"y\": [26861.0]}, {\"line\": {\"color\": \"orange\", \"width\": 2}, \"mode\": \"markers\", \"name\": \"The Empty Man\", \"type\": \"scatter\", \"x\": [0.36], \"y\": [5843.0]}, {\"line\": {\"color\": \"white\", \"width\": 2}, \"mode\": \"markers\", \"name\": \"Half Brothers\", \"type\": \"scatter\", \"x\": [0.631488], \"y\": [686390.0]}, {\"line\": {\"color\": \"red\", \"width\": 2}, \"mode\": \"markers\", \"name\": \"The New Mutants\", \"type\": \"scatter\", \"x\": [1.32], \"y\": [12788.0]}, {\"line\": {\"color\": \"blue\", \"width\": 2}, \"mode\": \"markers\", \"name\": \"The Godfather: Part III2020 Re-release\", \"type\": \"scatter\", \"x\": [1.737216], \"y\": [33288.0]}, {\"line\": {\"color\": \"orange\", \"width\": 2}, \"mode\": \"markers\", \"name\": \"All My Life\", \"type\": \"scatter\", \"x\": [2.8499999999999996], \"y\": [320510.0]}, {\"line\": {\"color\": \"white\", \"width\": 2}, \"mode\": \"markers\", \"name\": \"After We Collided\", \"type\": \"scatter\", \"x\": [7.8571428571428585], \"y\": [179.0]}, {\"line\": {\"color\": \"red\", \"width\": 2}, \"mode\": \"markers\", \"name\": \"Come Play\", \"type\": \"scatter\", \"x\": [1.6], \"y\": [234140.0]}, {\"line\": {\"color\": \"blue\", \"width\": 2}, \"mode\": \"markers\", \"name\": \"Pray: The Story of Patrick Peyton\", \"type\": \"scatter\", \"x\": [0.164736], \"y\": [145.0]}, {\"line\": {\"color\": \"orange\", \"width\": 2}, \"mode\": \"markers\", \"name\": \"How the Grinch Stole Christmas2020 Re-release\", \"type\": \"scatter\", \"x\": [1.08576], \"y\": [134000.0]}, {\"line\": {\"color\": \"white\", \"width\": 2}, \"mode\": \"markers\", \"name\": \"The Polar Express2020 Re-release\", \"type\": \"scatter\", \"x\": [0.6066227848101267], \"y\": [245000.0]}, {\"line\": {\"color\": \"red\", \"width\": 2}, \"mode\": \"markers\", \"name\": \"Buddy Games\", \"type\": \"scatter\", \"x\": [0.16723200000000002], \"y\": [10390.0]}, {\"line\": {\"color\": \"blue\", \"width\": 2}, \"mode\": \"markers\", \"name\": \"Honest Thief\", \"type\": \"scatter\", \"x\": [2.1], \"y\": [196871.0]}],                        {\"paper_bgcolor\": \"#23272c\", \"plot_bgcolor\": \"#23272c\", \"template\": {\"data\": {\"bar\": [{\"error_x\": {\"color\": \"#f2f5fa\"}, \"error_y\": {\"color\": \"#f2f5fa\"}, \"marker\": {\"line\": {\"color\": \"rgb(17,17,17)\", \"width\": 0.5}}, \"type\": \"bar\"}], \"barpolar\": [{\"marker\": {\"line\": {\"color\": \"rgb(17,17,17)\", \"width\": 0.5}}, \"type\": \"barpolar\"}], \"carpet\": [{\"aaxis\": {\"endlinecolor\": \"#A2B1C6\", \"gridcolor\": \"#506784\", \"linecolor\": \"#506784\", \"minorgridcolor\": \"#506784\", \"startlinecolor\": \"#A2B1C6\"}, \"baxis\": {\"endlinecolor\": \"#A2B1C6\", \"gridcolor\": \"#506784\", \"linecolor\": \"#506784\", \"minorgridcolor\": \"#506784\", \"startlinecolor\": \"#A2B1C6\"}, \"type\": \"carpet\"}], \"choropleth\": [{\"colorbar\": {\"outlinewidth\": 0, \"ticks\": \"\"}, \"type\": \"choropleth\"}], \"contour\": [{\"colorbar\": {\"outlinewidth\": 0, \"ticks\": \"\"}, \"colorscale\": [[0.0, \"#0d0887\"], [0.1111111111111111, \"#46039f\"], [0.2222222222222222, \"#7201a8\"], [0.3333333333333333, \"#9c179e\"], [0.4444444444444444, \"#bd3786\"], [0.5555555555555556, \"#d8576b\"], [0.6666666666666666, \"#ed7953\"], [0.7777777777777778, \"#fb9f3a\"], [0.8888888888888888, \"#fdca26\"], [1.0, \"#f0f921\"]], \"type\": \"contour\"}], \"contourcarpet\": [{\"colorbar\": {\"outlinewidth\": 0, \"ticks\": \"\"}, \"type\": \"contourcarpet\"}], \"heatmap\": [{\"colorbar\": {\"outlinewidth\": 0, \"ticks\": \"\"}, \"colorscale\": [[0.0, \"#0d0887\"], [0.1111111111111111, \"#46039f\"], [0.2222222222222222, \"#7201a8\"], [0.3333333333333333, \"#9c179e\"], [0.4444444444444444, \"#bd3786\"], [0.5555555555555556, \"#d8576b\"], [0.6666666666666666, \"#ed7953\"], [0.7777777777777778, \"#fb9f3a\"], [0.8888888888888888, \"#fdca26\"], [1.0, \"#f0f921\"]], \"type\": \"heatmap\"}], \"heatmapgl\": [{\"colorbar\": {\"outlinewidth\": 0, \"ticks\": \"\"}, \"colorscale\": [[0.0, \"#0d0887\"], [0.1111111111111111, \"#46039f\"], [0.2222222222222222, \"#7201a8\"], [0.3333333333333333, \"#9c179e\"], [0.4444444444444444, \"#bd3786\"], [0.5555555555555556, \"#d8576b\"], [0.6666666666666666, \"#ed7953\"], [0.7777777777777778, \"#fb9f3a\"], [0.8888888888888888, \"#fdca26\"], [1.0, \"#f0f921\"]], \"type\": \"heatmapgl\"}], \"histogram\": [{\"marker\": {\"colorbar\": {\"outlinewidth\": 0, \"ticks\": \"\"}}, \"type\": \"histogram\"}], \"histogram2d\": [{\"colorbar\": {\"outlinewidth\": 0, \"ticks\": \"\"}, \"colorscale\": [[0.0, \"#0d0887\"], [0.1111111111111111, \"#46039f\"], [0.2222222222222222, \"#7201a8\"], [0.3333333333333333, \"#9c179e\"], [0.4444444444444444, \"#bd3786\"], [0.5555555555555556, \"#d8576b\"], [0.6666666666666666, \"#ed7953\"], [0.7777777777777778, \"#fb9f3a\"], [0.8888888888888888, \"#fdca26\"], [1.0, \"#f0f921\"]], \"type\": \"histogram2d\"}], \"histogram2dcontour\": [{\"colorbar\": {\"outlinewidth\": 0, \"ticks\": \"\"}, \"colorscale\": [[0.0, \"#0d0887\"], [0.1111111111111111, \"#46039f\"], [0.2222222222222222, \"#7201a8\"], [0.3333333333333333, \"#9c179e\"], [0.4444444444444444, \"#bd3786\"], [0.5555555555555556, \"#d8576b\"], [0.6666666666666666, \"#ed7953\"], [0.7777777777777778, \"#fb9f3a\"], [0.8888888888888888, \"#fdca26\"], [1.0, \"#f0f921\"]], \"type\": \"histogram2dcontour\"}], \"mesh3d\": [{\"colorbar\": {\"outlinewidth\": 0, \"ticks\": \"\"}, \"type\": \"mesh3d\"}], \"parcoords\": [{\"line\": {\"colorbar\": {\"outlinewidth\": 0, \"ticks\": \"\"}}, \"type\": \"parcoords\"}], \"pie\": [{\"automargin\": true, \"type\": \"pie\"}], \"scatter\": [{\"marker\": {\"line\": {\"color\": \"#283442\"}}, \"type\": \"scatter\"}], \"scatter3d\": [{\"line\": {\"colorbar\": {\"outlinewidth\": 0, \"ticks\": \"\"}}, \"marker\": {\"colorbar\": {\"outlinewidth\": 0, \"ticks\": \"\"}}, \"type\": \"scatter3d\"}], \"scattercarpet\": [{\"marker\": {\"colorbar\": {\"outlinewidth\": 0, \"ticks\": \"\"}}, \"type\": \"scattercarpet\"}], \"scattergeo\": [{\"marker\": {\"colorbar\": {\"outlinewidth\": 0, \"ticks\": \"\"}}, \"type\": \"scattergeo\"}], \"scattergl\": [{\"marker\": {\"line\": {\"color\": \"#283442\"}}, \"type\": \"scattergl\"}], \"scattermapbox\": [{\"marker\": {\"colorbar\": {\"outlinewidth\": 0, \"ticks\": \"\"}}, \"type\": \"scattermapbox\"}], \"scatterpolar\": [{\"marker\": {\"colorbar\": {\"outlinewidth\": 0, \"ticks\": \"\"}}, \"type\": \"scatterpolar\"}], \"scatterpolargl\": [{\"marker\": {\"colorbar\": {\"outlinewidth\": 0, \"ticks\": \"\"}}, \"type\": \"scatterpolargl\"}], \"scatterternary\": [{\"marker\": {\"colorbar\": {\"outlinewidth\": 0, \"ticks\": \"\"}}, \"type\": \"scatterternary\"}], \"surface\": [{\"colorbar\": {\"outlinewidth\": 0, \"ticks\": \"\"}, \"colorscale\": [[0.0, \"#0d0887\"], [0.1111111111111111, \"#46039f\"], [0.2222222222222222, \"#7201a8\"], [0.3333333333333333, \"#9c179e\"], [0.4444444444444444, \"#bd3786\"], [0.5555555555555556, \"#d8576b\"], [0.6666666666666666, \"#ed7953\"], [0.7777777777777778, \"#fb9f3a\"], [0.8888888888888888, \"#fdca26\"], [1.0, \"#f0f921\"]], \"type\": \"surface\"}], \"table\": [{\"cells\": {\"fill\": {\"color\": \"#506784\"}, \"line\": {\"color\": \"rgb(17,17,17)\"}}, \"header\": {\"fill\": {\"color\": \"#2a3f5f\"}, \"line\": {\"color\": \"rgb(17,17,17)\"}}, \"type\": \"table\"}]}, \"layout\": {\"annotationdefaults\": {\"arrowcolor\": \"#f2f5fa\", \"arrowhead\": 0, \"arrowwidth\": 1}, \"coloraxis\": {\"colorbar\": {\"outlinewidth\": 0, \"ticks\": \"\"}}, \"colorscale\": {\"diverging\": [[0, \"#8e0152\"], [0.1, \"#c51b7d\"], [0.2, \"#de77ae\"], [0.3, \"#f1b6da\"], [0.4, \"#fde0ef\"], [0.5, \"#f7f7f7\"], [0.6, \"#e6f5d0\"], [0.7, \"#b8e186\"], [0.8, \"#7fbc41\"], [0.9, \"#4d9221\"], [1, \"#276419\"]], \"sequential\": [[0.0, \"#0d0887\"], [0.1111111111111111, \"#46039f\"], [0.2222222222222222, \"#7201a8\"], [0.3333333333333333, \"#9c179e\"], [0.4444444444444444, \"#bd3786\"], [0.5555555555555556, \"#d8576b\"], [0.6666666666666666, \"#ed7953\"], [0.7777777777777778, \"#fb9f3a\"], [0.8888888888888888, \"#fdca26\"], [1.0, \"#f0f921\"]], \"sequentialminus\": [[0.0, \"#0d0887\"], [0.1111111111111111, \"#46039f\"], [0.2222222222222222, \"#7201a8\"], [0.3333333333333333, \"#9c179e\"], [0.4444444444444444, \"#bd3786\"], [0.5555555555555556, \"#d8576b\"], [0.6666666666666666, \"#ed7953\"], [0.7777777777777778, \"#fb9f3a\"], [0.8888888888888888, \"#fdca26\"], [1.0, \"#f0f921\"]]}, \"colorway\": [\"#636efa\", \"#EF553B\", \"#00cc96\", \"#ab63fa\", \"#FFA15A\", \"#19d3f3\", \"#FF6692\", \"#B6E880\", \"#FF97FF\", \"#FECB52\"], \"font\": {\"color\": \"#f2f5fa\"}, \"geo\": {\"bgcolor\": \"rgb(17,17,17)\", \"lakecolor\": \"rgb(17,17,17)\", \"landcolor\": \"rgb(17,17,17)\", \"showlakes\": true, \"showland\": true, \"subunitcolor\": \"#506784\"}, \"hoverlabel\": {\"align\": \"left\"}, \"hovermode\": \"closest\", \"mapbox\": {\"style\": \"dark\"}, \"paper_bgcolor\": \"rgb(17,17,17)\", \"plot_bgcolor\": \"rgb(17,17,17)\", \"polar\": {\"angularaxis\": {\"gridcolor\": \"#506784\", \"linecolor\": \"#506784\", \"ticks\": \"\"}, \"bgcolor\": \"rgb(17,17,17)\", \"radialaxis\": {\"gridcolor\": \"#506784\", \"linecolor\": \"#506784\", \"ticks\": \"\"}}, \"scene\": {\"xaxis\": {\"backgroundcolor\": \"rgb(17,17,17)\", \"gridcolor\": \"#506784\", \"gridwidth\": 2, \"linecolor\": \"#506784\", \"showbackground\": true, \"ticks\": \"\", \"zerolinecolor\": \"#C8D4E3\"}, \"yaxis\": {\"backgroundcolor\": \"rgb(17,17,17)\", \"gridcolor\": \"#506784\", \"gridwidth\": 2, \"linecolor\": \"#506784\", \"showbackground\": true, \"ticks\": \"\", \"zerolinecolor\": \"#C8D4E3\"}, \"zaxis\": {\"backgroundcolor\": \"rgb(17,17,17)\", \"gridcolor\": \"#506784\", \"gridwidth\": 2, \"linecolor\": \"#506784\", \"showbackground\": true, \"ticks\": \"\", \"zerolinecolor\": \"#C8D4E3\"}}, \"shapedefaults\": {\"line\": {\"color\": \"#f2f5fa\"}}, \"sliderdefaults\": {\"bgcolor\": \"#C8D4E3\", \"bordercolor\": \"rgb(17,17,17)\", \"borderwidth\": 1, \"tickwidth\": 0}, \"ternary\": {\"aaxis\": {\"gridcolor\": \"#506784\", \"linecolor\": \"#506784\", \"ticks\": \"\"}, \"baxis\": {\"gridcolor\": \"#506784\", \"linecolor\": \"#506784\", \"ticks\": \"\"}, \"bgcolor\": \"rgb(17,17,17)\", \"caxis\": {\"gridcolor\": \"#506784\", \"linecolor\": \"#506784\", \"ticks\": \"\"}}, \"title\": {\"x\": 0.05}, \"updatemenudefaults\": {\"bgcolor\": \"#506784\", \"borderwidth\": 0}, \"xaxis\": {\"automargin\": true, \"gridcolor\": \"#283442\", \"linecolor\": \"#506784\", \"ticks\": \"\", \"title\": {\"standoff\": 15}, \"zerolinecolor\": \"#283442\", \"zerolinewidth\": 2}, \"yaxis\": {\"automargin\": true, \"gridcolor\": \"#283442\", \"linecolor\": \"#506784\", \"ticks\": \"\", \"title\": {\"standoff\": 15}, \"zerolinecolor\": \"#283442\", \"zerolinewidth\": 2}}}, \"title\": {\"text\": \"Google Trends vs Weekly Gross: Correlation = 0.25681619437015135\"}, \"xaxis\": {\"title\": {\"text\": \"Google Trend\"}}, \"yaxis\": {\"title\": {\"text\": \"Weekly Gross\"}}},                        {\"responsive\": true}                    ).then(function(){\n",
       "                            \n",
       "var gd = document.getElementById('4ea43e5f-fdd4-4b48-ab94-51aea595f578');\n",
       "var x = new MutationObserver(function (mutations, observer) {{\n",
       "        var display = window.getComputedStyle(gd).display;\n",
       "        if (!display || display === 'none') {{\n",
       "            console.log([gd, 'removed!']);\n",
       "            Plotly.purge(gd);\n",
       "            observer.disconnect();\n",
       "        }}\n",
       "}});\n",
       "\n",
       "// Listen for the removal of the full notebook cells\n",
       "var notebookContainer = gd.closest('#notebook-container');\n",
       "if (notebookContainer) {{\n",
       "    x.observe(notebookContainer, {childList: true});\n",
       "}}\n",
       "\n",
       "// Listen for the clearing of the current output cell\n",
       "var outputEl = gd.closest('.output');\n",
       "if (outputEl) {{\n",
       "    x.observe(outputEl, {childList: true});\n",
       "}}\n",
       "\n",
       "                        })                };                });            </script>        </div>"
      ]
     },
     "metadata": {},
     "output_type": "display_data"
    }
   ],
   "source": [
    "import plotly.graph_objects as go\n",
    "import pandas as pd\n",
    "from datetime import timedelta\n",
    "\n",
    "\n",
    "COLORS = ['rgb(67,67,67)', 'rgb(115,115,115)', 'rgb(49,130,189)', 'rgb(189,189,189)']\n",
    "c = ['red', 'blue', 'orange', 'white']\n",
    "def static_stacked_trend_graph(stack=False):\n",
    "    \"\"\"\n",
    "    Returns scatter line plot of all power sources and power load.\n",
    "    If `stack` is `True`, the 4 power sources are stacked together to show the overall power\n",
    "    production.\n",
    "    \"\"\"\n",
    "    trends = []\n",
    "    revenues = []\n",
    "    \n",
    "    stack=False\n",
    "    df = pd.read_csv('3_mo_weekly2.csv', sep='\\t')\n",
    "    df['Date_dt'] = df['Date'].astype('datetime64[ns]')\n",
    "    df['google trends'] = df['google trends'] * df['Release'].apply(lambda x: len(re.sub('2020 Re-release', '', x).split(' ')))\n",
    "\n",
    "    date = df['Date_dt'].iloc[-1]\n",
    "    if df is None:\n",
    "        return go.Figure()\n",
    "    \n",
    "    fig = go.Figure()\n",
    "    movie_list = df[df['Date_dt'] == date].sort_values(by=['Weekly'], ascending=False)['Release'][0:20]\n",
    "    for row in range(df.shape[0]):\n",
    "        date = df['Date_dt'].iloc[-1]\n",
    "        trend = df.iloc[row]['google trends']\n",
    "        #if trend > 40:\n",
    "        #    continue\n",
    "        rev = df.iloc[row]['Weekly']\n",
    "        #if trend > 1 and rev <1e6:\n",
    "        #    continue\n",
    "        if trend == 0:\n",
    "            continue\n",
    "        if rev == 0:\n",
    "            continue\n",
    "        trends.append(trend)\n",
    "        revenues.append(rev)\n",
    "        fig.add_trace(go.Scatter(x=[trend], y=[rev], mode='markers', name=df.iloc[row][\"Release\"],\n",
    "                         line={'width': 2, 'color': c[row%4]},\n",
    "                         stackgroup='stack' if stack else None))\n",
    "    trends, revenues = pd.Series(trends), pd.Series(revenues)\n",
    "    corr = trends.corr(revenues)\n",
    "    \n",
    "    title = f'Google Trends vs Weekly Gross: Correlation = {corr}'\n",
    "    if stack:\n",
    "        title += ' [Stacked]'\n",
    "    fig.update_layout(template='plotly_dark',\n",
    "                      title=title,\n",
    "                      plot_bgcolor='#23272c',\n",
    "                      paper_bgcolor='#23272c',\n",
    "                      yaxis_title='Weekly Gross',\n",
    "                      xaxis_title='Google Trend')\n",
    "    return fig\n",
    "static_stacked_trend_graph()"
   ]
  },
  {
   "cell_type": "code",
   "execution_count": 47,
   "metadata": {
    "scrolled": false
   },
   "outputs": [
    {
     "data": {
      "application/vnd.plotly.v1+json": {
       "config": {
        "plotlyServerURL": "https://plot.ly"
       },
       "data": [
        {
         "line": {
          "color": "red",
          "width": 2
         },
         "mode": "markers",
         "name": "The Secrets We Keep",
         "type": "scatter",
         "x": [
          2212
         ],
         "y": [
          0
         ]
        },
        {
         "line": {
          "color": "blue",
          "width": 2
         },
         "mode": "markers",
         "name": "No Escape",
         "type": "scatter",
         "x": [
          10594
         ],
         "y": [
          5910
         ]
        },
        {
         "line": {
          "color": "orange",
          "width": 2
         },
         "mode": "markers",
         "name": "Ava",
         "type": "scatter",
         "x": [
          86490
         ],
         "y": [
          39759
         ]
        },
        {
         "line": {
          "color": "white",
          "width": 2
         },
         "mode": "markers",
         "name": "My Brothers' Crossing",
         "type": "scatter",
         "x": [
          1343
         ],
         "y": [
          306
         ]
        },
        {
         "line": {
          "color": "red",
          "width": 2
         },
         "mode": "markers",
         "name": "Tulsa",
         "type": "scatter",
         "x": [
          19676
         ],
         "y": [
          7685
         ]
        },
        {
         "line": {
          "color": "blue",
          "width": 2
         },
         "mode": "markers",
         "name": "Bill & Ted Face the Music",
         "type": "scatter",
         "x": [
          87855
         ],
         "y": [
          12352
         ]
        },
        {
         "line": {
          "color": "orange",
          "width": 2
         },
         "mode": "markers",
         "name": "The New Mutants",
         "type": "scatter",
         "x": [
          1055664
         ],
         "y": [
          712921
         ]
        },
        {
         "line": {
          "color": "white",
          "width": 2
         },
         "mode": "markers",
         "name": "Unhinged",
         "type": "scatter",
         "x": [
          996172
         ],
         "y": [
          661309
         ]
        },
        {
         "line": {
          "color": "red",
          "width": 2
         },
         "mode": "markers",
         "name": "Kajillionaire",
         "type": "scatter",
         "x": [
          82645
         ],
         "y": [
          31940
         ]
        },
        {
         "line": {
          "color": "blue",
          "width": 2
         },
         "mode": "markers",
         "name": "Possessor",
         "type": "scatter",
         "x": [
          264534
         ],
         "y": [
          143954
         ]
        },
        {
         "line": {
          "color": "orange",
          "width": 2
         },
         "mode": "markers",
         "name": "Infidel",
         "type": "scatter",
         "x": [
          387576
         ],
         "y": [
          150540
         ]
        },
        {
         "line": {
          "color": "white",
          "width": 2
         },
         "mode": "markers",
         "name": "Coco",
         "type": "scatter",
         "x": [
          603000
         ],
         "y": [
          131000
         ]
        },
        {
         "line": {
          "color": "red",
          "width": 2
         },
         "mode": "markers",
         "name": "The SpongeBob Movie: Sponge on the Run",
         "type": "scatter",
         "x": [
          75090
         ],
         "y": [
          69201
         ]
        },
        {
         "line": {
          "color": "blue",
          "width": 2
         },
         "mode": "markers",
         "name": "Hocus Pocus2020 Re-release",
         "type": "scatter",
         "x": [
          1161000
         ],
         "y": [
          756000
         ]
        },
        {
         "line": {
          "color": "orange",
          "width": 2
         },
         "mode": "markers",
         "name": "Henchmen2020 Re-release",
         "type": "scatter",
         "x": [
          30223
         ],
         "y": [
          17177
         ]
        },
        {
         "line": {
          "color": "white",
          "width": 2
         },
         "mode": "markers",
         "name": "Heaven",
         "type": "scatter",
         "x": [
          10935
         ],
         "y": [
          18899
         ]
        },
        {
         "line": {
          "color": "red",
          "width": 2
         },
         "mode": "markers",
         "name": "The War with Grandpa",
         "type": "scatter",
         "x": [
          3623880
         ],
         "y": [
          3636975
         ]
        },
        {
         "line": {
          "color": "blue",
          "width": 2
         },
         "mode": "markers",
         "name": "Foster Boy",
         "type": "scatter",
         "x": [
          10
         ],
         "y": [
          0
         ]
        },
        {
         "line": {
          "color": "orange",
          "width": 2
         },
         "mode": "markers",
         "name": "The Wolf of Snow Hollow",
         "type": "scatter",
         "x": [
          91943
         ],
         "y": [
          76665
         ]
        },
        {
         "line": {
          "color": "white",
          "width": 2
         },
         "mode": "markers",
         "name": "The Personal History of David Copperfield",
         "type": "scatter",
         "x": [
          21712
         ],
         "y": [
          8533
         ]
        },
        {
         "line": {
          "color": "red",
          "width": 2
         },
         "mode": "markers",
         "name": "Words on Bathroom Walls",
         "type": "scatter",
         "x": [
          60919
         ],
         "y": [
          22995
         ]
        },
        {
         "line": {
          "color": "blue",
          "width": 2
         },
         "mode": "markers",
         "name": "Dreaming Grand Avenue",
         "type": "scatter",
         "x": [
          101
         ],
         "y": [
          36
         ]
        },
        {
         "line": {
          "color": "orange",
          "width": 2
         },
         "mode": "markers",
         "name": "Pray: The Story of Patrick Peyton",
         "type": "scatter",
         "x": [
          24397
         ],
         "y": [
          20385
         ]
        },
        {
         "line": {
          "color": "white",
          "width": 2
         },
         "mode": "markers",
         "name": "The Call",
         "type": "scatter",
         "x": [
          139081
         ],
         "y": [
          88555
         ]
        },
        {
         "line": {
          "color": "red",
          "width": 2
         },
         "mode": "markers",
         "name": "The Broken Hearts Gallery",
         "type": "scatter",
         "x": [
          214015
         ],
         "y": [
          60054
         ]
        },
        {
         "line": {
          "color": "blue",
          "width": 2
         },
         "mode": "markers",
         "name": "Yellow Rose",
         "type": "scatter",
         "x": [
          150330
         ],
         "y": [
          140059
         ]
        },
        {
         "line": {
          "color": "orange",
          "width": 2
         },
         "mode": "markers",
         "name": "A Call to Spy",
         "type": "scatter",
         "x": [
          44250
         ],
         "y": [
          23932
         ]
        },
        {
         "line": {
          "color": "white",
          "width": 2
         },
         "mode": "markers",
         "name": "Shortcut",
         "type": "scatter",
         "x": [
          103773
         ],
         "y": [
          28879
         ]
        },
        {
         "line": {
          "color": "red",
          "width": 2
         },
         "mode": "markers",
         "name": "She Dies Tomorrow",
         "type": "scatter",
         "x": [
          18968
         ],
         "y": [
          15482
         ]
        },
        {
         "line": {
          "color": "blue",
          "width": 2
         },
         "mode": "markers",
         "name": "Star Wars: Episode V - The Empire Strikes Back2020 Re-release",
         "type": "scatter",
         "x": [
          145000
         ],
         "y": [
          79000
         ]
        },
        {
         "line": {
          "color": "orange",
          "width": 2
         },
         "mode": "markers",
         "name": "Save Yourselves!",
         "type": "scatter",
         "x": [
          113701
         ],
         "y": [
          39664
         ]
        },
        {
         "line": {
          "color": "white",
          "width": 2
         },
         "mode": "markers",
         "name": "The Last Shift",
         "type": "scatter",
         "x": [
          102433
         ],
         "y": [
          22022
         ]
        },
        {
         "line": {
          "color": "red",
          "width": 2
         },
         "mode": "markers",
         "name": "Save Yourselves!",
         "type": "scatter",
         "x": [
          39664
         ],
         "y": [
          3855
         ]
        },
        {
         "line": {
          "color": "blue",
          "width": 2
         },
         "mode": "markers",
         "name": "Dreaming Grand Avenue",
         "type": "scatter",
         "x": [
          36
         ],
         "y": [
          964
         ]
        },
        {
         "line": {
          "color": "orange",
          "width": 2
         },
         "mode": "markers",
         "name": "The Wolf of Snow Hollow",
         "type": "scatter",
         "x": [
          76665
         ],
         "y": [
          14632
         ]
        },
        {
         "line": {
          "color": "white",
          "width": 2
         },
         "mode": "markers",
         "name": "The Call",
         "type": "scatter",
         "x": [
          88555
         ],
         "y": [
          63839
         ]
        },
        {
         "line": {
          "color": "red",
          "width": 2
         },
         "mode": "markers",
         "name": "Pray: The Story of Patrick Peyton",
         "type": "scatter",
         "x": [
          20385
         ],
         "y": [
          11459
         ]
        },
        {
         "line": {
          "color": "blue",
          "width": 2
         },
         "mode": "markers",
         "name": "The War with Grandpa",
         "type": "scatter",
         "x": [
          3636975
         ],
         "y": [
          2489361
         ]
        },
        {
         "line": {
          "color": "orange",
          "width": 2
         },
         "mode": "markers",
         "name": "The Broken Hearts Gallery",
         "type": "scatter",
         "x": [
          60054
         ],
         "y": [
          23776
         ]
        },
        {
         "line": {
          "color": "white",
          "width": 2
         },
         "mode": "markers",
         "name": "No Escape",
         "type": "scatter",
         "x": [
          5910
         ],
         "y": [
          3221
         ]
        },
        {
         "line": {
          "color": "red",
          "width": 2
         },
         "mode": "markers",
         "name": "Heaven",
         "type": "scatter",
         "x": [
          18899
         ],
         "y": [
          5019
         ]
        },
        {
         "line": {
          "color": "blue",
          "width": 2
         },
         "mode": "markers",
         "name": "The SpongeBob Movie: Sponge on the Run",
         "type": "scatter",
         "x": [
          69201
         ],
         "y": [
          44521
         ]
        },
        {
         "line": {
          "color": "orange",
          "width": 2
         },
         "mode": "markers",
         "name": "The Kid Detective",
         "type": "scatter",
         "x": [
          140218
         ],
         "y": [
          162473
         ]
        },
        {
         "line": {
          "color": "white",
          "width": 2
         },
         "mode": "markers",
         "name": "Henchmen2020 Re-release",
         "type": "scatter",
         "x": [
          17177
         ],
         "y": [
          2276
         ]
        },
        {
         "line": {
          "color": "red",
          "width": 2
         },
         "mode": "markers",
         "name": "Star Wars: Episode V - The Empire Strikes Back2020 Re-release",
         "type": "scatter",
         "x": [
          79000
         ],
         "y": [
          0
         ]
        },
        {
         "line": {
          "color": "blue",
          "width": 2
         },
         "mode": "markers",
         "name": "Hocus Pocus2020 Re-release",
         "type": "scatter",
         "x": [
          756000
         ],
         "y": [
          530000
         ]
        },
        {
         "line": {
          "color": "orange",
          "width": 2
         },
         "mode": "markers",
         "name": "Honest Thief",
         "type": "scatter",
         "x": [
          3607966
         ],
         "y": [
          3364941
         ]
        },
        {
         "line": {
          "color": "white",
          "width": 2
         },
         "mode": "markers",
         "name": "The Last Shift",
         "type": "scatter",
         "x": [
          22022
         ],
         "y": [
          10493
         ]
        },
        {
         "line": {
          "color": "red",
          "width": 2
         },
         "mode": "markers",
         "name": "The Personal History of David Copperfield",
         "type": "scatter",
         "x": [
          8533
         ],
         "y": [
          2273
         ]
        },
        {
         "line": {
          "color": "blue",
          "width": 2
         },
         "mode": "markers",
         "name": "Possessor",
         "type": "scatter",
         "x": [
          143954
         ],
         "y": [
          53946
         ]
        },
        {
         "line": {
          "color": "orange",
          "width": 2
         },
         "mode": "markers",
         "name": "Shortcut",
         "type": "scatter",
         "x": [
          28879
         ],
         "y": [
          5237
         ]
        },
        {
         "line": {
          "color": "white",
          "width": 2
         },
         "mode": "markers",
         "name": "Infidel",
         "type": "scatter",
         "x": [
          150540
         ],
         "y": [
          53317
         ]
        },
        {
         "line": {
          "color": "red",
          "width": 2
         },
         "mode": "markers",
         "name": "The Nightmare Before Christmas2020 Re-release",
         "type": "scatter",
         "x": [
          1323000
         ],
         "y": [
          577000
         ]
        },
        {
         "line": {
          "color": "blue",
          "width": 2
         },
         "mode": "markers",
         "name": "My Brothers' Crossing",
         "type": "scatter",
         "x": [
          306
         ],
         "y": [
          0
         ]
        },
        {
         "line": {
          "color": "orange",
          "width": 2
         },
         "mode": "markers",
         "name": "Shithouse",
         "type": "scatter",
         "x": [
          5545
         ],
         "y": [
          9559
         ]
        },
        {
         "line": {
          "color": "white",
          "width": 2
         },
         "mode": "markers",
         "name": "Kajillionaire",
         "type": "scatter",
         "x": [
          31940
         ],
         "y": [
          7440
         ]
        },
        {
         "line": {
          "color": "red",
          "width": 2
         },
         "mode": "markers",
         "name": "The New Mutants",
         "type": "scatter",
         "x": [
          712921
         ],
         "y": [
          425312
         ]
        },
        {
         "line": {
          "color": "blue",
          "width": 2
         },
         "mode": "markers",
         "name": "She Dies Tomorrow",
         "type": "scatter",
         "x": [
          15482
         ],
         "y": [
          10353
         ]
        },
        {
         "line": {
          "color": "orange",
          "width": 2
         },
         "mode": "markers",
         "name": "Love and Monsters",
         "type": "scatter",
         "x": [
          270302
         ],
         "y": [
          308776
         ]
        },
        {
         "line": {
          "color": "white",
          "width": 2
         },
         "mode": "markers",
         "name": "Mermaid in Paris",
         "type": "scatter",
         "x": [
          1202
         ],
         "y": [
          786
         ]
        },
        {
         "line": {
          "color": "red",
          "width": 2
         },
         "mode": "markers",
         "name": "Lupin III: The First",
         "type": "scatter",
         "x": [
          83295
         ],
         "y": [
          50890
         ]
        },
        {
         "line": {
          "color": "blue",
          "width": 2
         },
         "mode": "markers",
         "name": "2 Hearts",
         "type": "scatter",
         "x": [
          522937
         ],
         "y": [
          466255
         ]
        },
        {
         "line": {
          "color": "orange",
          "width": 2
         },
         "mode": "markers",
         "name": "Tulsa",
         "type": "scatter",
         "x": [
          7685
         ],
         "y": [
          1753
         ]
        },
        {
         "line": {
          "color": "white",
          "width": 2
         },
         "mode": "markers",
         "name": "Bump Kowalski and the Ten Commandments",
         "type": "scatter",
         "x": [
          256
         ],
         "y": [
          0
         ]
        },
        {
         "line": {
          "color": "red",
          "width": 2
         },
         "mode": "markers",
         "name": "Unhinged",
         "type": "scatter",
         "x": [
          661309
         ],
         "y": [
          397372
         ]
        },
        {
         "line": {
          "color": "blue",
          "width": 2
         },
         "mode": "markers",
         "name": "Twiceborn",
         "type": "scatter",
         "x": [
          5217
         ],
         "y": [
          4186
         ]
        },
        {
         "line": {
          "color": "orange",
          "width": 2
         },
         "mode": "markers",
         "name": "Bill & Ted Face the Music",
         "type": "scatter",
         "x": [
          12352
         ],
         "y": [
          3655
         ]
        },
        {
         "line": {
          "color": "white",
          "width": 2
         },
         "mode": "markers",
         "name": "Ava",
         "type": "scatter",
         "x": [
          39759
         ],
         "y": [
          19452
         ]
        },
        {
         "line": {
          "color": "red",
          "width": 2
         },
         "mode": "markers",
         "name": "Counter Column",
         "type": "scatter",
         "x": [
          6455
         ],
         "y": [
          5236
         ]
        },
        {
         "line": {
          "color": "blue",
          "width": 2
         },
         "mode": "markers",
         "name": "A Call to Spy",
         "type": "scatter",
         "x": [
          23932
         ],
         "y": [
          15944
         ]
        },
        {
         "line": {
          "color": "orange",
          "width": 2
         },
         "mode": "markers",
         "name": "Words on Bathroom Walls",
         "type": "scatter",
         "x": [
          22995
         ],
         "y": [
          7085
         ]
        },
        {
         "line": {
          "color": "white",
          "width": 2
         },
         "mode": "markers",
         "name": "Coco",
         "type": "scatter",
         "x": [
          131000
         ],
         "y": [
          0
         ]
        },
        {
         "line": {
          "color": "red",
          "width": 2
         },
         "mode": "markers",
         "name": "Yellow Rose",
         "type": "scatter",
         "x": [
          140059
         ],
         "y": [
          38979
         ]
        },
        {
         "line": {
          "color": "blue",
          "width": 2
         },
         "mode": "markers",
         "name": "The Nightmare Before Christmas2020 Re-release",
         "type": "scatter",
         "x": [
          577000
         ],
         "y": [
          386000
         ]
        },
        {
         "line": {
          "color": "orange",
          "width": 2
         },
         "mode": "markers",
         "name": "The Call",
         "type": "scatter",
         "x": [
          63839
         ],
         "y": [
          47866
         ]
        },
        {
         "line": {
          "color": "white",
          "width": 2
         },
         "mode": "markers",
         "name": "2 Hearts",
         "type": "scatter",
         "x": [
          466255
         ],
         "y": [
          205570
         ]
        },
        {
         "line": {
          "color": "red",
          "width": 2
         },
         "mode": "markers",
         "name": "Kajillionaire",
         "type": "scatter",
         "x": [
          7440
         ],
         "y": [
          0
         ]
        },
        {
         "line": {
          "color": "blue",
          "width": 2
         },
         "mode": "markers",
         "name": "The New Mutants",
         "type": "scatter",
         "x": [
          425312
         ],
         "y": [
          243580
         ]
        },
        {
         "line": {
          "color": "orange",
          "width": 2
         },
         "mode": "markers",
         "name": "Unhinged",
         "type": "scatter",
         "x": [
          397372
         ],
         "y": [
          197986
         ]
        },
        {
         "line": {
          "color": "white",
          "width": 2
         },
         "mode": "markers",
         "name": "Bill & Ted Face the Music",
         "type": "scatter",
         "x": [
          3655
         ],
         "y": [
          0
         ]
        },
        {
         "line": {
          "color": "red",
          "width": 2
         },
         "mode": "markers",
         "name": "The Broken Hearts Gallery",
         "type": "scatter",
         "x": [
          23776
         ],
         "y": [
          11618
         ]
        },
        {
         "line": {
          "color": "blue",
          "width": 2
         },
         "mode": "markers",
         "name": "Yellow Rose",
         "type": "scatter",
         "x": [
          38979
         ],
         "y": [
          7485
         ]
        },
        {
         "line": {
          "color": "orange",
          "width": 2
         },
         "mode": "markers",
         "name": "Love and Monsters",
         "type": "scatter",
         "x": [
          308776
         ],
         "y": [
          194214
         ]
        },
        {
         "line": {
          "color": "white",
          "width": 2
         },
         "mode": "markers",
         "name": "Mermaid in Paris",
         "type": "scatter",
         "x": [
          786
         ],
         "y": [
          0
         ]
        },
        {
         "line": {
          "color": "red",
          "width": 2
         },
         "mode": "markers",
         "name": "Monsters Inc.2020 Re-release",
         "type": "scatter",
         "x": [
          494000
         ],
         "y": [
          232000
         ]
        },
        {
         "line": {
          "color": "blue",
          "width": 2
         },
         "mode": "markers",
         "name": "The Kid Detective",
         "type": "scatter",
         "x": [
          162473
         ],
         "y": [
          51554
         ]
        },
        {
         "line": {
          "color": "orange",
          "width": 2
         },
         "mode": "markers",
         "name": "The Last Shift",
         "type": "scatter",
         "x": [
          10493
         ],
         "y": [
          3411
         ]
        },
        {
         "line": {
          "color": "white",
          "width": 2
         },
         "mode": "markers",
         "name": "No Escape",
         "type": "scatter",
         "x": [
          3221
         ],
         "y": [
          1742
         ]
        },
        {
         "line": {
          "color": "red",
          "width": 2
         },
         "mode": "markers",
         "name": "Possessor",
         "type": "scatter",
         "x": [
          53946
         ],
         "y": [
          30698
         ]
        },
        {
         "line": {
          "color": "blue",
          "width": 2
         },
         "mode": "markers",
         "name": "Infidel",
         "type": "scatter",
         "x": [
          53317
         ],
         "y": [
          19436
         ]
        },
        {
         "line": {
          "color": "orange",
          "width": 2
         },
         "mode": "markers",
         "name": "Words on Bathroom Walls",
         "type": "scatter",
         "x": [
          7085
         ],
         "y": [
          2218
         ]
        },
        {
         "line": {
          "color": "white",
          "width": 2
         },
         "mode": "markers",
         "name": "Pray: The Story of Patrick Peyton",
         "type": "scatter",
         "x": [
          11459
         ],
         "y": [
          4331
         ]
        },
        {
         "line": {
          "color": "red",
          "width": 2
         },
         "mode": "markers",
         "name": "After We Collided",
         "type": "scatter",
         "x": [
          422899
         ],
         "y": [
          169429
         ]
        },
        {
         "line": {
          "color": "blue",
          "width": 2
         },
         "mode": "markers",
         "name": "Save Yourselves!",
         "type": "scatter",
         "x": [
          3855
         ],
         "y": [
          0
         ]
        },
        {
         "line": {
          "color": "orange",
          "width": 2
         },
         "mode": "markers",
         "name": "Stevie Nicks 24 Karat Gold the Concert",
         "type": "scatter",
         "x": [
          404489
         ],
         "y": [
          5776
         ]
        },
        {
         "line": {
          "color": "white",
          "width": 2
         },
         "mode": "markers",
         "name": "She Dies Tomorrow",
         "type": "scatter",
         "x": [
          10353
         ],
         "y": [
          10909
         ]
        },
        {
         "line": {
          "color": "red",
          "width": 2
         },
         "mode": "markers",
         "name": "Shithouse",
         "type": "scatter",
         "x": [
          9559
         ],
         "y": [
          2181
         ]
        },
        {
         "line": {
          "color": "blue",
          "width": 2
         },
         "mode": "markers",
         "name": "A Call to Spy",
         "type": "scatter",
         "x": [
          15944
         ],
         "y": [
          10840
         ]
        },
        {
         "line": {
          "color": "orange",
          "width": 2
         },
         "mode": "markers",
         "name": "Shortcut",
         "type": "scatter",
         "x": [
          5237
         ],
         "y": [
          0
         ]
        },
        {
         "line": {
          "color": "white",
          "width": 2
         },
         "mode": "markers",
         "name": "The Addams Family2020 Re-release",
         "type": "scatter",
         "x": [
          282841
         ],
         "y": [
          302696
         ]
        },
        {
         "line": {
          "color": "red",
          "width": 2
         },
         "mode": "markers",
         "name": "Ava",
         "type": "scatter",
         "x": [
          19452
         ],
         "y": [
          11810
         ]
        },
        {
         "line": {
          "color": "blue",
          "width": 2
         },
         "mode": "markers",
         "name": "Lupin III: The First",
         "type": "scatter",
         "x": [
          50890
         ],
         "y": [
          2183
         ]
        },
        {
         "line": {
          "color": "orange",
          "width": 2
         },
         "mode": "markers",
         "name": "The Empty Man",
         "type": "scatter",
         "x": [
          1310326
         ],
         "y": [
          974702
         ]
        },
        {
         "line": {
          "color": "white",
          "width": 2
         },
         "mode": "markers",
         "name": "Henchmen2020 Re-release",
         "type": "scatter",
         "x": [
          2276
         ],
         "y": [
          0
         ]
        },
        {
         "line": {
          "color": "red",
          "width": 2
         },
         "mode": "markers",
         "name": "Counter Column",
         "type": "scatter",
         "x": [
          5236
         ],
         "y": [
          2060
         ]
        },
        {
         "line": {
          "color": "blue",
          "width": 2
         },
         "mode": "markers",
         "name": "The SpongeBob Movie: Sponge on the Run",
         "type": "scatter",
         "x": [
          44521
         ],
         "y": [
          20611
         ]
        },
        {
         "line": {
          "color": "orange",
          "width": 2
         },
         "mode": "markers",
         "name": "The Personal History of David Copperfield",
         "type": "scatter",
         "x": [
          2273
         ],
         "y": [
          0
         ]
        },
        {
         "line": {
          "color": "white",
          "width": 2
         },
         "mode": "markers",
         "name": "Honest Thief",
         "type": "scatter",
         "x": [
          3364941
         ],
         "y": [
          2078045
         ]
        },
        {
         "line": {
          "color": "red",
          "width": 2
         },
         "mode": "markers",
         "name": "Twiceborn",
         "type": "scatter",
         "x": [
          4186
         ],
         "y": [
          1004
         ]
        },
        {
         "line": {
          "color": "blue",
          "width": 2
         },
         "mode": "markers",
         "name": "Dreaming Grand Avenue",
         "type": "scatter",
         "x": [
          964
         ],
         "y": [
          0
         ]
        },
        {
         "line": {
          "color": "orange",
          "width": 2
         },
         "mode": "markers",
         "name": "Hocus Pocus2020 Re-release",
         "type": "scatter",
         "x": [
          530000
         ],
         "y": [
          456000
         ]
        },
        {
         "line": {
          "color": "white",
          "width": 2
         },
         "mode": "markers",
         "name": "Heaven",
         "type": "scatter",
         "x": [
          5019
         ],
         "y": [
          1159
         ]
        },
        {
         "line": {
          "color": "red",
          "width": 2
         },
         "mode": "markers",
         "name": "Tulsa",
         "type": "scatter",
         "x": [
          1753
         ],
         "y": [
          1260
         ]
        },
        {
         "line": {
          "color": "blue",
          "width": 2
         },
         "mode": "markers",
         "name": "The War with Grandpa",
         "type": "scatter",
         "x": [
          2489361
         ],
         "y": [
          1728709
         ]
        },
        {
         "line": {
          "color": "orange",
          "width": 2
         },
         "mode": "markers",
         "name": "The Wolf of Snow Hollow",
         "type": "scatter",
         "x": [
          14632
         ],
         "y": [
          1786
         ]
        },
        {
         "line": {
          "color": "white",
          "width": 2
         },
         "mode": "markers",
         "name": "Unhinged",
         "type": "scatter",
         "x": [
          197986
         ],
         "y": [
          129664
         ]
        },
        {
         "line": {
          "color": "red",
          "width": 2
         },
         "mode": "markers",
         "name": "The Kid Detective",
         "type": "scatter",
         "x": [
          51554
         ],
         "y": [
          8938
         ]
        },
        {
         "line": {
          "color": "blue",
          "width": 2
         },
         "mode": "markers",
         "name": "Heaven",
         "type": "scatter",
         "x": [
          1159
         ],
         "y": [
          803
         ]
        },
        {
         "line": {
          "color": "orange",
          "width": 2
         },
         "mode": "markers",
         "name": "Stevie Nicks 24 Karat Gold the Concert",
         "type": "scatter",
         "x": [
          5776
         ],
         "y": [
          0
         ]
        },
        {
         "line": {
          "color": "white",
          "width": 2
         },
         "mode": "markers",
         "name": "Counter Column",
         "type": "scatter",
         "x": [
          2060
         ],
         "y": [
          756
         ]
        },
        {
         "line": {
          "color": "red",
          "width": 2
         },
         "mode": "markers",
         "name": "No Escape",
         "type": "scatter",
         "x": [
          1742
         ],
         "y": [
          465
         ]
        },
        {
         "line": {
          "color": "blue",
          "width": 2
         },
         "mode": "markers",
         "name": "Possessor",
         "type": "scatter",
         "x": [
          30698
         ],
         "y": [
          6318
         ]
        },
        {
         "line": {
          "color": "orange",
          "width": 2
         },
         "mode": "markers",
         "name": "Tulsa",
         "type": "scatter",
         "x": [
          1260
         ],
         "y": [
          1566
         ]
        },
        {
         "line": {
          "color": "white",
          "width": 2
         },
         "mode": "markers",
         "name": "Monsters Inc.2020 Re-release",
         "type": "scatter",
         "x": [
          232000
         ],
         "y": [
          0
         ]
        },
        {
         "line": {
          "color": "red",
          "width": 2
         },
         "mode": "markers",
         "name": "The SpongeBob Movie: Sponge on the Run",
         "type": "scatter",
         "x": [
          20611
         ],
         "y": [
          20332
         ]
        },
        {
         "line": {
          "color": "blue",
          "width": 2
         },
         "mode": "markers",
         "name": "Pray: The Story of Patrick Peyton",
         "type": "scatter",
         "x": [
          4331
         ],
         "y": [
          4898
         ]
        },
        {
         "line": {
          "color": "orange",
          "width": 2
         },
         "mode": "markers",
         "name": "Words on Bathroom Walls",
         "type": "scatter",
         "x": [
          2218
         ],
         "y": [
          2480
         ]
        },
        {
         "line": {
          "color": "white",
          "width": 2
         },
         "mode": "markers",
         "name": "Spell",
         "type": "scatter",
         "x": [
          206591
         ],
         "y": [
          186303
         ]
        },
        {
         "line": {
          "color": "red",
          "width": 2
         },
         "mode": "markers",
         "name": "After We Collided",
         "type": "scatter",
         "x": [
          169429
         ],
         "y": [
          99246
         ]
        },
        {
         "line": {
          "color": "blue",
          "width": 2
         },
         "mode": "markers",
         "name": "A Call to Spy",
         "type": "scatter",
         "x": [
          10840
         ],
         "y": [
          11237
         ]
        },
        {
         "line": {
          "color": "orange",
          "width": 2
         },
         "mode": "markers",
         "name": "Shithouse",
         "type": "scatter",
         "x": [
          2181
         ],
         "y": [
          0
         ]
        },
        {
         "line": {
          "color": "white",
          "width": 2
         },
         "mode": "markers",
         "name": "Alita: Battle Angel",
         "type": "scatter",
         "x": [
          128000
         ],
         "y": [
          0
         ]
        },
        {
         "line": {
          "color": "red",
          "width": 2
         },
         "mode": "markers",
         "name": "The Wolf of Snow Hollow",
         "type": "scatter",
         "x": [
          1786
         ],
         "y": [
          0
         ]
        },
        {
         "line": {
          "color": "blue",
          "width": 2
         },
         "mode": "markers",
         "name": "The Addams Family2020 Re-release",
         "type": "scatter",
         "x": [
          302696
         ],
         "y": [
          87471
         ]
        },
        {
         "line": {
          "color": "orange",
          "width": 2
         },
         "mode": "markers",
         "name": "Ava",
         "type": "scatter",
         "x": [
          11810
         ],
         "y": [
          4176
         ]
        },
        {
         "line": {
          "color": "white",
          "width": 2
         },
         "mode": "markers",
         "name": "Bump Kowalski and the Ten Commandments",
         "type": "scatter",
         "x": [
          419
         ],
         "y": [
          0
         ]
        },
        {
         "line": {
          "color": "red",
          "width": 2
         },
         "mode": "markers",
         "name": "The Empty Man",
         "type": "scatter",
         "x": [
          974702
         ],
         "y": [
          456799
         ]
        },
        {
         "line": {
          "color": "blue",
          "width": 2
         },
         "mode": "markers",
         "name": "Infidel",
         "type": "scatter",
         "x": [
          19436
         ],
         "y": [
          5881
         ]
        },
        {
         "line": {
          "color": "orange",
          "width": 2
         },
         "mode": "markers",
         "name": "The Nightmare Before Christmas2020 Re-release",
         "type": "scatter",
         "x": [
          386000
         ],
         "y": [
          0
         ]
        },
        {
         "line": {
          "color": "white",
          "width": 2
         },
         "mode": "markers",
         "name": "The Call",
         "type": "scatter",
         "x": [
          47866
         ],
         "y": [
          21864
         ]
        },
        {
         "line": {
          "color": "red",
          "width": 2
         },
         "mode": "markers",
         "name": "Honest Thief",
         "type": "scatter",
         "x": [
          2078045
         ],
         "y": [
          1619272
         ]
        },
        {
         "line": {
          "color": "blue",
          "width": 2
         },
         "mode": "markers",
         "name": "Twiceborn",
         "type": "scatter",
         "x": [
          1004
         ],
         "y": [
          567
         ]
        },
        {
         "line": {
          "color": "orange",
          "width": 2
         },
         "mode": "markers",
         "name": "She Dies Tomorrow",
         "type": "scatter",
         "x": [
          10909
         ],
         "y": [
          1595
         ]
        },
        {
         "line": {
          "color": "white",
          "width": 2
         },
         "mode": "markers",
         "name": "The New Mutants",
         "type": "scatter",
         "x": [
          243580
         ],
         "y": [
          191423
         ]
        },
        {
         "line": {
          "color": "red",
          "width": 2
         },
         "mode": "markers",
         "name": "Hocus Pocus2020 Re-release",
         "type": "scatter",
         "x": [
          456000
         ],
         "y": [
          0
         ]
        },
        {
         "line": {
          "color": "blue",
          "width": 2
         },
         "mode": "markers",
         "name": "2 Hearts",
         "type": "scatter",
         "x": [
          205570
         ],
         "y": [
          102804
         ]
        },
        {
         "line": {
          "color": "orange",
          "width": 2
         },
         "mode": "markers",
         "name": "The War with Grandpa",
         "type": "scatter",
         "x": [
          1728709
         ],
         "y": [
          1930168
         ]
        },
        {
         "line": {
          "color": "white",
          "width": 2
         },
         "mode": "markers",
         "name": "Come Play",
         "type": "scatter",
         "x": [
          3119875
         ],
         "y": [
          2605030
         ]
        },
        {
         "line": {
          "color": "red",
          "width": 2
         },
         "mode": "markers",
         "name": "Love and Monsters",
         "type": "scatter",
         "x": [
          194214
         ],
         "y": [
          154533
         ]
        },
        {
         "line": {
          "color": "blue",
          "width": 2
         },
         "mode": "markers",
         "name": "Lupin III: The First",
         "type": "scatter",
         "x": [
          2183
         ],
         "y": [
          0
         ]
        },
        {
         "line": {
          "color": "orange",
          "width": 2
         },
         "mode": "markers",
         "name": "Yellow Rose",
         "type": "scatter",
         "x": [
          7485
         ],
         "y": [
          7430
         ]
        },
        {
         "line": {
          "color": "white",
          "width": 2
         },
         "mode": "markers",
         "name": "The Broken Hearts Gallery",
         "type": "scatter",
         "x": [
          11618
         ],
         "y": [
          15541
         ]
        },
        {
         "line": {
          "color": "red",
          "width": 2
         },
         "mode": "markers",
         "name": "The Last Shift",
         "type": "scatter",
         "x": [
          3411
         ],
         "y": [
          725
         ]
        },
        {
         "line": {
          "color": "blue",
          "width": 2
         },
         "mode": "markers",
         "name": "The Empty Man",
         "type": "scatter",
         "x": [
          456799
         ],
         "y": [
          179811
         ]
        },
        {
         "line": {
          "color": "orange",
          "width": 2
         },
         "mode": "markers",
         "name": "The Addams Family2020 Re-release",
         "type": "scatter",
         "x": [
          87471
         ],
         "y": [
          5918
         ]
        },
        {
         "line": {
          "color": "white",
          "width": 2
         },
         "mode": "markers",
         "name": "Toy Story2020 Re-release",
         "type": "scatter",
         "x": [
          505000
         ],
         "y": [
          222000
         ]
        },
        {
         "line": {
          "color": "red",
          "width": 2
         },
         "mode": "markers",
         "name": "The War with Grandpa",
         "type": "scatter",
         "x": [
          1930168
         ],
         "y": [
          1814182
         ]
        },
        {
         "line": {
          "color": "blue",
          "width": 2
         },
         "mode": "markers",
         "name": "The Broken Hearts Gallery",
         "type": "scatter",
         "x": [
          15541
         ],
         "y": [
          6428
         ]
        },
        {
         "line": {
          "color": "orange",
          "width": 2
         },
         "mode": "markers",
         "name": "The Kid Detective",
         "type": "scatter",
         "x": [
          8938
         ],
         "y": [
          955
         ]
        },
        {
         "line": {
          "color": "white",
          "width": 2
         },
         "mode": "markers",
         "name": "2 Hearts",
         "type": "scatter",
         "x": [
          102804
         ],
         "y": [
          39604
         ]
        },
        {
         "line": {
          "color": "red",
          "width": 2
         },
         "mode": "markers",
         "name": "Counter Column",
         "type": "scatter",
         "x": [
          756
         ],
         "y": [
          257
         ]
        },
        {
         "line": {
          "color": "blue",
          "width": 2
         },
         "mode": "markers",
         "name": "True to the Game 2",
         "type": "scatter",
         "x": [
          274631
         ],
         "y": [
          404260
         ]
        },
        {
         "line": {
          "color": "orange",
          "width": 2
         },
         "mode": "markers",
         "name": "The Informer",
         "type": "scatter",
         "x": [
          133475
         ],
         "y": [
          115256
         ]
        },
        {
         "line": {
          "color": "white",
          "width": 2
         },
         "mode": "markers",
         "name": "The Call",
         "type": "scatter",
         "x": [
          21864
         ],
         "y": [
          4960
         ]
        },
        {
         "line": {
          "color": "red",
          "width": 2
         },
         "mode": "markers",
         "name": "Spell",
         "type": "scatter",
         "x": [
          186303
         ],
         "y": [
          91819
         ]
        },
        {
         "line": {
          "color": "blue",
          "width": 2
         },
         "mode": "markers",
         "name": "The SpongeBob Movie: Sponge on the Run",
         "type": "scatter",
         "x": [
          20332
         ],
         "y": [
          8092
         ]
        },
        {
         "line": {
          "color": "orange",
          "width": 2
         },
         "mode": "markers",
         "name": "She Dies Tomorrow",
         "type": "scatter",
         "x": [
          1595
         ],
         "y": [
          0
         ]
        },
        {
         "line": {
          "color": "white",
          "width": 2
         },
         "mode": "markers",
         "name": "Love and Monsters",
         "type": "scatter",
         "x": [
          154533
         ],
         "y": [
          120688
         ]
        },
        {
         "line": {
          "color": "red",
          "width": 2
         },
         "mode": "markers",
         "name": "The Last Shift",
         "type": "scatter",
         "x": [
          725
         ],
         "y": [
          152122
         ]
        },
        {
         "line": {
          "color": "blue",
          "width": 2
         },
         "mode": "markers",
         "name": "Ava",
         "type": "scatter",
         "x": [
          4176
         ],
         "y": [
          0
         ]
        },
        {
         "line": {
          "color": "orange",
          "width": 2
         },
         "mode": "markers",
         "name": "A Call to Spy",
         "type": "scatter",
         "x": [
          11237
         ],
         "y": [
          8056
         ]
        },
        {
         "line": {
          "color": "white",
          "width": 2
         },
         "mode": "markers",
         "name": "Come Play",
         "type": "scatter",
         "x": [
          2605030
         ],
         "y": [
          1564990
         ]
        },
        {
         "line": {
          "color": "red",
          "width": 2
         },
         "mode": "markers",
         "name": "Heaven",
         "type": "scatter",
         "x": [
          803
         ],
         "y": [
          220
         ]
        },
        {
         "line": {
          "color": "blue",
          "width": 2
         },
         "mode": "markers",
         "name": "Unhinged",
         "type": "scatter",
         "x": [
          129664
         ],
         "y": [
          60833
         ]
        },
        {
         "line": {
          "color": "orange",
          "width": 2
         },
         "mode": "markers",
         "name": "Tulsa",
         "type": "scatter",
         "x": [
          1566
         ],
         "y": [
          1109
         ]
        },
        {
         "line": {
          "color": "white",
          "width": 2
         },
         "mode": "markers",
         "name": "The New Mutants",
         "type": "scatter",
         "x": [
          191423
         ],
         "y": [
          154511
         ]
        },
        {
         "line": {
          "color": "red",
          "width": 2
         },
         "mode": "markers",
         "name": "No Escape",
         "type": "scatter",
         "x": [
          465
         ],
         "y": [
          0
         ]
        },
        {
         "line": {
          "color": "blue",
          "width": 2
         },
         "mode": "markers",
         "name": "Possessor",
         "type": "scatter",
         "x": [
          6318
         ],
         "y": [
          0
         ]
        },
        {
         "line": {
          "color": "orange",
          "width": 2
         },
         "mode": "markers",
         "name": "Pray: The Story of Patrick Peyton",
         "type": "scatter",
         "x": [
          4898
         ],
         "y": [
          3742
         ]
        },
        {
         "line": {
          "color": "white",
          "width": 2
         },
         "mode": "markers",
         "name": "Honest Thief",
         "type": "scatter",
         "x": [
          1619272
         ],
         "y": [
          1184504
         ]
        },
        {
         "line": {
          "color": "red",
          "width": 2
         },
         "mode": "markers",
         "name": "Yellow Rose",
         "type": "scatter",
         "x": [
          7430
         ],
         "y": [
          3728
         ]
        },
        {
         "line": {
          "color": "blue",
          "width": 2
         },
         "mode": "markers",
         "name": "After We Collided",
         "type": "scatter",
         "x": [
          99246
         ],
         "y": [
          33124
         ]
        },
        {
         "line": {
          "color": "orange",
          "width": 2
         },
         "mode": "markers",
         "name": "Twiceborn",
         "type": "scatter",
         "x": [
          567
         ],
         "y": [
          553
         ]
        },
        {
         "line": {
          "color": "white",
          "width": 2
         },
         "mode": "markers",
         "name": "Infidel",
         "type": "scatter",
         "x": [
          5881
         ],
         "y": [
          1868
         ]
        },
        {
         "line": {
          "color": "red",
          "width": 2
         },
         "mode": "markers",
         "name": "Words on Bathroom Walls",
         "type": "scatter",
         "x": [
          2480
         ],
         "y": [
          2141
         ]
        },
        {
         "line": {
          "color": "blue",
          "width": 2
         },
         "mode": "markers",
         "name": "Kindred",
         "type": "scatter",
         "x": [
          6795
         ],
         "y": [
          1667
         ]
        },
        {
         "line": {
          "color": "orange",
          "width": 2
         },
         "mode": "markers",
         "name": "Let Him Go",
         "type": "scatter",
         "x": [
          4000470
         ],
         "y": [
          2832430
         ]
        },
        {
         "line": {
          "color": "white",
          "width": 2
         },
         "mode": "markers",
         "name": "The New Mutants",
         "type": "scatter",
         "x": [
          154511
         ],
         "y": [
          73449
         ]
        },
        {
         "line": {
          "color": "red",
          "width": 2
         },
         "mode": "markers",
         "name": "The Empty Man",
         "type": "scatter",
         "x": [
          179811
         ],
         "y": [
          44281
         ]
        },
        {
         "line": {
          "color": "blue",
          "width": 2
         },
         "mode": "markers",
         "name": "True to the Game 2",
         "type": "scatter",
         "x": [
          404260
         ],
         "y": [
          248896
         ]
        },
        {
         "line": {
          "color": "orange",
          "width": 2
         },
         "mode": "markers",
         "name": "Toy Story2020 Re-release",
         "type": "scatter",
         "x": [
          222000
         ],
         "y": [
          0
         ]
        },
        {
         "line": {
          "color": "white",
          "width": 2
         },
         "mode": "markers",
         "name": "The Informer",
         "type": "scatter",
         "x": [
          115256
         ],
         "y": [
          37442
         ]
        },
        {
         "line": {
          "color": "red",
          "width": 2
         },
         "mode": "markers",
         "name": "Tulsa",
         "type": "scatter",
         "x": [
          1109
         ],
         "y": [
          0
         ]
        },
        {
         "line": {
          "color": "blue",
          "width": 2
         },
         "mode": "markers",
         "name": "Unhinged",
         "type": "scatter",
         "x": [
          60833
         ],
         "y": [
          0
         ]
        },
        {
         "line": {
          "color": "orange",
          "width": 2
         },
         "mode": "markers",
         "name": "The Kid Detective",
         "type": "scatter",
         "x": [
          955
         ],
         "y": [
          0
         ]
        },
        {
         "line": {
          "color": "white",
          "width": 2
         },
         "mode": "markers",
         "name": "The War with Grandpa",
         "type": "scatter",
         "x": [
          1814182
         ],
         "y": [
          973453
         ]
        },
        {
         "line": {
          "color": "red",
          "width": 2
         },
         "mode": "markers",
         "name": "The SpongeBob Movie: Sponge on the Run",
         "type": "scatter",
         "x": [
          8092
         ],
         "y": [
          0
         ]
        },
        {
         "line": {
          "color": "blue",
          "width": 2
         },
         "mode": "markers",
         "name": "Words on Bathroom Walls",
         "type": "scatter",
         "x": [
          2141
         ],
         "y": [
          150
         ]
        },
        {
         "line": {
          "color": "orange",
          "width": 2
         },
         "mode": "markers",
         "name": "The Last Shift",
         "type": "scatter",
         "x": [
          152122
         ],
         "y": [
          237863
         ]
        },
        {
         "line": {
          "color": "white",
          "width": 2
         },
         "mode": "markers",
         "name": "Twiceborn",
         "type": "scatter",
         "x": [
          553
         ],
         "y": [
          0
         ]
        },
        {
         "line": {
          "color": "red",
          "width": 2
         },
         "mode": "markers",
         "name": "Yellow Rose",
         "type": "scatter",
         "x": [
          3728
         ],
         "y": [
          0
         ]
        },
        {
         "line": {
          "color": "blue",
          "width": 2
         },
         "mode": "markers",
         "name": "Counter Column",
         "type": "scatter",
         "x": [
          257
         ],
         "y": [
          25
         ]
        },
        {
         "line": {
          "color": "orange",
          "width": 2
         },
         "mode": "markers",
         "name": "Elf2020 Re-release",
         "type": "scatter",
         "x": [
          170000
         ],
         "y": [
          180000
         ]
        },
        {
         "line": {
          "color": "white",
          "width": 2
         },
         "mode": "markers",
         "name": "Pray: The Story of Patrick Peyton",
         "type": "scatter",
         "x": [
          3742
         ],
         "y": [
          1494
         ]
        },
        {
         "line": {
          "color": "red",
          "width": 2
         },
         "mode": "markers",
         "name": "Spell",
         "type": "scatter",
         "x": [
          91819
         ],
         "y": [
          15391
         ]
        },
        {
         "line": {
          "color": "blue",
          "width": 2
         },
         "mode": "markers",
         "name": "Freaky",
         "type": "scatter",
         "x": [
          3600355
         ],
         "y": [
          2053090
         ]
        },
        {
         "line": {
          "color": "orange",
          "width": 2
         },
         "mode": "markers",
         "name": "Infidel",
         "type": "scatter",
         "x": [
          1868
         ],
         "y": [
          768
         ]
        },
        {
         "line": {
          "color": "white",
          "width": 2
         },
         "mode": "markers",
         "name": "The Addams Family2020 Re-release",
         "type": "scatter",
         "x": [
          5918
         ],
         "y": [
          0
         ]
        },
        {
         "line": {
          "color": "red",
          "width": 2
         },
         "mode": "markers",
         "name": "Come Play",
         "type": "scatter",
         "x": [
          1564990
         ],
         "y": [
          777275
         ]
        },
        {
         "line": {
          "color": "blue",
          "width": 2
         },
         "mode": "markers",
         "name": "Come Away",
         "type": "scatter",
         "x": [
          106084
         ],
         "y": [
          59472
         ]
        },
        {
         "line": {
          "color": "orange",
          "width": 2
         },
         "mode": "markers",
         "name": "The Broken Hearts Gallery",
         "type": "scatter",
         "x": [
          6428
         ],
         "y": [
          1273
         ]
        },
        {
         "line": {
          "color": "white",
          "width": 2
         },
         "mode": "markers",
         "name": "Guardians of the Galaxy2020 Re-release",
         "type": "scatter",
         "x": [
          406000
         ],
         "y": [
          136000
         ]
        },
        {
         "line": {
          "color": "red",
          "width": 2
         },
         "mode": "markers",
         "name": "Bump Kowalski and the Ten Commandments",
         "type": "scatter",
         "x": [
          378
         ],
         "y": [
          0
         ]
        },
        {
         "line": {
          "color": "blue",
          "width": 2
         },
         "mode": "markers",
         "name": "Ammonite",
         "type": "scatter",
         "x": [
          87552
         ],
         "y": [
          23383
         ]
        },
        {
         "line": {
          "color": "orange",
          "width": 2
         },
         "mode": "markers",
         "name": "Let Him Go",
         "type": "scatter",
         "x": [
          2832430
         ],
         "y": [
          1110540
         ]
        },
        {
         "line": {
          "color": "white",
          "width": 2
         },
         "mode": "markers",
         "name": "Honest Thief",
         "type": "scatter",
         "x": [
          1184504
         ],
         "y": [
          642302
         ]
        },
        {
         "line": {
          "color": "red",
          "width": 2
         },
         "mode": "markers",
         "name": "After We Collided",
         "type": "scatter",
         "x": [
          33124
         ],
         "y": [
          6047
         ]
        },
        {
         "line": {
          "color": "blue",
          "width": 2
         },
         "mode": "markers",
         "name": "A Call to Spy",
         "type": "scatter",
         "x": [
          8056
         ],
         "y": [
          2168
         ]
        },
        {
         "line": {
          "color": "orange",
          "width": 2
         },
         "mode": "markers",
         "name": "The Call",
         "type": "scatter",
         "x": [
          4960
         ],
         "y": [
          1014
         ]
        },
        {
         "line": {
          "color": "white",
          "width": 2
         },
         "mode": "markers",
         "name": "Kindred",
         "type": "scatter",
         "x": [
          1667
         ],
         "y": [
          0
         ]
        },
        {
         "line": {
          "color": "red",
          "width": 2
         },
         "mode": "markers",
         "name": "2 Hearts",
         "type": "scatter",
         "x": [
          39604
         ],
         "y": [
          8781
         ]
        },
        {
         "line": {
          "color": "blue",
          "width": 2
         },
         "mode": "markers",
         "name": "Heaven",
         "type": "scatter",
         "x": [
          220
         ],
         "y": [
          0
         ]
        },
        {
         "line": {
          "color": "orange",
          "width": 2
         },
         "mode": "markers",
         "name": "Love and Monsters",
         "type": "scatter",
         "x": [
          120688
         ],
         "y": [
          22201
         ]
        },
        {
         "line": {
          "color": "white",
          "width": 2
         },
         "mode": "markers",
         "name": "Embattled",
         "type": "scatter",
         "x": [
          15141
         ],
         "y": [
          10662
         ]
        },
        {
         "line": {
          "color": "red",
          "width": 2
         },
         "mode": "markers",
         "name": "Gekijouban Fate/Stay Night: Heaven's Feel - III. Spring Song",
         "type": "scatter",
         "x": [
          200000
         ],
         "y": [
          0
         ]
        },
        {
         "line": {
          "color": "blue",
          "width": 2
         },
         "mode": "markers",
         "name": "Honest Thief",
         "type": "scatter",
         "x": [
          642302
         ],
         "y": [
          537113
         ]
        },
        {
         "line": {
          "color": "orange",
          "width": 2
         },
         "mode": "markers",
         "name": "Freaky",
         "type": "scatter",
         "x": [
          2053090
         ],
         "y": [
          1389310
         ]
        },
        {
         "line": {
          "color": "white",
          "width": 2
         },
         "mode": "markers",
         "name": "The War with Grandpa",
         "type": "scatter",
         "x": [
          973453
         ],
         "y": [
          1009656
         ]
        },
        {
         "line": {
          "color": "red",
          "width": 2
         },
         "mode": "markers",
         "name": "The Santa Clause2020 Re-release",
         "type": "scatter",
         "x": [
          461000
         ],
         "y": [
          245000
         ]
        },
        {
         "line": {
          "color": "blue",
          "width": 2
         },
         "mode": "markers",
         "name": "Guardians of the Galaxy2020 Re-release",
         "type": "scatter",
         "x": [
          136000
         ],
         "y": [
          0
         ]
        },
        {
         "line": {
          "color": "orange",
          "width": 2
         },
         "mode": "markers",
         "name": "True to the Game 2",
         "type": "scatter",
         "x": [
          248896
         ],
         "y": [
          190020
         ]
        },
        {
         "line": {
          "color": "white",
          "width": 2
         },
         "mode": "markers",
         "name": "Counter Column",
         "type": "scatter",
         "x": [
          25
         ],
         "y": [
          0
         ]
        },
        {
         "line": {
          "color": "red",
          "width": 2
         },
         "mode": "markers",
         "name": "Come Play",
         "type": "scatter",
         "x": [
          777275
         ],
         "y": [
          591625
         ]
        },
        {
         "line": {
          "color": "blue",
          "width": 2
         },
         "mode": "markers",
         "name": "Come Away",
         "type": "scatter",
         "x": [
          59472
         ],
         "y": [
          16449
         ]
        },
        {
         "line": {
          "color": "orange",
          "width": 2
         },
         "mode": "markers",
         "name": "Buddy Games",
         "type": "scatter",
         "x": [
          150497
         ],
         "y": [
          174157
         ]
        },
        {
         "line": {
          "color": "white",
          "width": 2
         },
         "mode": "markers",
         "name": "Ammonite",
         "type": "scatter",
         "x": [
          23383
         ],
         "y": [
          7250
         ]
        },
        {
         "line": {
          "color": "red",
          "width": 2
         },
         "mode": "markers",
         "name": "Vanguard",
         "type": "scatter",
         "x": [
          380428
         ],
         "y": [
          305523
         ]
        },
        {
         "line": {
          "color": "blue",
          "width": 2
         },
         "mode": "markers",
         "name": "After We Collided",
         "type": "scatter",
         "x": [
          6047
         ],
         "y": [
          2290
         ]
        },
        {
         "line": {
          "color": "orange",
          "width": 2
         },
         "mode": "markers",
         "name": "A Call to Spy",
         "type": "scatter",
         "x": [
          2168
         ],
         "y": [
          0
         ]
        },
        {
         "line": {
          "color": "white",
          "width": 2
         },
         "mode": "markers",
         "name": "Words on Bathroom Walls",
         "type": "scatter",
         "x": [
          150
         ],
         "y": [
          24
         ]
        },
        {
         "line": {
          "color": "red",
          "width": 2
         },
         "mode": "markers",
         "name": "2 Hearts",
         "type": "scatter",
         "x": [
          8781
         ],
         "y": [
          2718
         ]
        },
        {
         "line": {
          "color": "blue",
          "width": 2
         },
         "mode": "markers",
         "name": "Elf2020 Re-release",
         "type": "scatter",
         "x": [
          180000
         ],
         "y": [
          430000
         ]
        },
        {
         "line": {
          "color": "orange",
          "width": 2
         },
         "mode": "markers",
         "name": "Infidel",
         "type": "scatter",
         "x": [
          768
         ],
         "y": [
          189
         ]
        },
        {
         "line": {
          "color": "white",
          "width": 2
         },
         "mode": "markers",
         "name": "Pray: The Story of Patrick Peyton",
         "type": "scatter",
         "x": [
          1494
         ],
         "y": [
          136
         ]
        },
        {
         "line": {
          "color": "red",
          "width": 2
         },
         "mode": "markers",
         "name": "Love and Monsters",
         "type": "scatter",
         "x": [
          22201
         ],
         "y": [
          0
         ]
        },
        {
         "line": {
          "color": "blue",
          "width": 2
         },
         "mode": "markers",
         "name": "The Last Vermeer",
         "type": "scatter",
         "x": [
          225691
         ],
         "y": [
          263144
         ]
        },
        {
         "line": {
          "color": "orange",
          "width": 2
         },
         "mode": "markers",
         "name": "The Last Shift",
         "type": "scatter",
         "x": [
          237863
         ],
         "y": [
          0
         ]
        },
        {
         "line": {
          "color": "white",
          "width": 2
         },
         "mode": "markers",
         "name": "The Forgotten Carols",
         "type": "scatter",
         "x": [
          103839
         ],
         "y": [
          156728
         ]
        },
        {
         "line": {
          "color": "red",
          "width": 2
         },
         "mode": "markers",
         "name": "Let Him Go",
         "type": "scatter",
         "x": [
          1110540
         ],
         "y": [
          763680
         ]
        },
        {
         "line": {
          "color": "blue",
          "width": 2
         },
         "mode": "markers",
         "name": "The Empty Man",
         "type": "scatter",
         "x": [
          44281
         ],
         "y": [
          13296
         ]
        },
        {
         "line": {
          "color": "orange",
          "width": 2
         },
         "mode": "markers",
         "name": "The Informer",
         "type": "scatter",
         "x": [
          37442
         ],
         "y": [
          14287
         ]
        },
        {
         "line": {
          "color": "white",
          "width": 2
         },
         "mode": "markers",
         "name": "The New Mutants",
         "type": "scatter",
         "x": [
          73449
         ],
         "y": [
          13873
         ]
        },
        {
         "line": {
          "color": "red",
          "width": 2
         },
         "mode": "markers",
         "name": "The Call",
         "type": "scatter",
         "x": [
          1014
         ],
         "y": [
          330
         ]
        },
        {
         "line": {
          "color": "blue",
          "width": 2
         },
         "mode": "markers",
         "name": "Spell",
         "type": "scatter",
         "x": [
          15391
         ],
         "y": [
          0
         ]
        },
        {
         "line": {
          "color": "orange",
          "width": 2
         },
         "mode": "markers",
         "name": "The Broken Hearts Gallery",
         "type": "scatter",
         "x": [
          1273
         ],
         "y": [
          0
         ]
        },
        {
         "line": {
          "color": "white",
          "width": 2
         },
         "mode": "markers",
         "name": "Come Away",
         "type": "scatter",
         "x": [
          16449
         ],
         "y": [
          1418
         ]
        },
        {
         "line": {
          "color": "red",
          "width": 2
         },
         "mode": "markers",
         "name": "Come Play",
         "type": "scatter",
         "x": [
          591625
         ],
         "y": [
          265035
         ]
        },
        {
         "line": {
          "color": "blue",
          "width": 2
         },
         "mode": "markers",
         "name": "The Informer",
         "type": "scatter",
         "x": [
          14287
         ],
         "y": [
          0
         ]
        },
        {
         "line": {
          "color": "orange",
          "width": 2
         },
         "mode": "markers",
         "name": "Infidel",
         "type": "scatter",
         "x": [
          189
         ],
         "y": [
          0
         ]
        },
        {
         "line": {
          "color": "white",
          "width": 2
         },
         "mode": "markers",
         "name": "Pray: The Story of Patrick Peyton",
         "type": "scatter",
         "x": [
          136
         ],
         "y": [
          0
         ]
        },
        {
         "line": {
          "color": "red",
          "width": 2
         },
         "mode": "markers",
         "name": "Stardust",
         "type": "scatter",
         "x": [
          5964
         ],
         "y": [
          1749
         ]
        },
        {
         "line": {
          "color": "blue",
          "width": 2
         },
         "mode": "markers",
         "name": "True to the Game 2",
         "type": "scatter",
         "x": [
          190020
         ],
         "y": [
          0
         ]
        },
        {
         "line": {
          "color": "orange",
          "width": 2
         },
         "mode": "markers",
         "name": "Buddy Games",
         "type": "scatter",
         "x": [
          174157
         ],
         "y": [
          36914
         ]
        },
        {
         "line": {
          "color": "white",
          "width": 2
         },
         "mode": "markers",
         "name": "The Grinch",
         "type": "scatter",
         "x": [
          82000
         ],
         "y": [
          46000
         ]
        },
        {
         "line": {
          "color": "red",
          "width": 2
         },
         "mode": "markers",
         "name": "National Lampoon's Christmas Vacation2020 Re-release",
         "type": "scatter",
         "x": [
          220000
         ],
         "y": [
          0
         ]
        },
        {
         "line": {
          "color": "blue",
          "width": 2
         },
         "mode": "markers",
         "name": "The Forgotten Carols",
         "type": "scatter",
         "x": [
          156728
         ],
         "y": [
          36180
         ]
        },
        {
         "line": {
          "color": "orange",
          "width": 2
         },
         "mode": "markers",
         "name": "Vanguard",
         "type": "scatter",
         "x": [
          305523
         ],
         "y": [
          27390
         ]
        },
        {
         "line": {
          "color": "white",
          "width": 2
         },
         "mode": "markers",
         "name": "After We Collided",
         "type": "scatter",
         "x": [
          2290
         ],
         "y": [
          0
         ]
        },
        {
         "line": {
          "color": "red",
          "width": 2
         },
         "mode": "markers",
         "name": "The Empty Man",
         "type": "scatter",
         "x": [
          13296
         ],
         "y": [
          2889
         ]
        },
        {
         "line": {
          "color": "blue",
          "width": 2
         },
         "mode": "markers",
         "name": "Words on Bathroom Walls",
         "type": "scatter",
         "x": [
          24
         ],
         "y": [
          0
         ]
        },
        {
         "line": {
          "color": "orange",
          "width": 2
         },
         "mode": "markers",
         "name": "2 Hearts",
         "type": "scatter",
         "x": [
          2718
         ],
         "y": [
          657
         ]
        },
        {
         "line": {
          "color": "white",
          "width": 2
         },
         "mode": "markers",
         "name": "The Call",
         "type": "scatter",
         "x": [
          330
         ],
         "y": [
          0
         ]
        },
        {
         "line": {
          "color": "red",
          "width": 2
         },
         "mode": "markers",
         "name": "The Bra",
         "type": "scatter",
         "x": [
          88
         ],
         "y": [
          0
         ]
        },
        {
         "line": {
          "color": "blue",
          "width": 2
         },
         "mode": "markers",
         "name": "Ammonite",
         "type": "scatter",
         "x": [
          7250
         ],
         "y": [
          0
         ]
        },
        {
         "line": {
          "color": "orange",
          "width": 2
         },
         "mode": "markers",
         "name": "The Croods: A New Age",
         "type": "scatter",
         "x": [
          14274455
         ],
         "y": [
          4785955
         ]
        },
        {
         "line": {
          "color": "white",
          "width": 2
         },
         "mode": "markers",
         "name": "The Last Vermeer",
         "type": "scatter",
         "x": [
          263144
         ],
         "y": [
          54065
         ]
        },
        {
         "line": {
          "color": "red",
          "width": 2
         },
         "mode": "markers",
         "name": "Let Him Go",
         "type": "scatter",
         "x": [
          763680
         ],
         "y": [
          268275
         ]
        },
        {
         "line": {
          "color": "blue",
          "width": 2
         },
         "mode": "markers",
         "name": "Embattled",
         "type": "scatter",
         "x": [
          10662
         ],
         "y": [
          1197
         ]
        },
        {
         "line": {
          "color": "orange",
          "width": 2
         },
         "mode": "markers",
         "name": "The New Mutants",
         "type": "scatter",
         "x": [
          13873
         ],
         "y": [
          3128
         ]
        },
        {
         "line": {
          "color": "white",
          "width": 2
         },
         "mode": "markers",
         "name": "Find Your Voice",
         "type": "scatter",
         "x": [
          157
         ],
         "y": [
          0
         ]
        },
        {
         "line": {
          "color": "red",
          "width": 2
         },
         "mode": "markers",
         "name": "In the Life of Music",
         "type": "scatter",
         "x": [
          112
         ],
         "y": [
          0
         ]
        },
        {
         "line": {
          "color": "blue",
          "width": 2
         },
         "mode": "markers",
         "name": "Elf2020 Re-release",
         "type": "scatter",
         "x": [
          430000
         ],
         "y": [
          0
         ]
        },
        {
         "line": {
          "color": "orange",
          "width": 2
         },
         "mode": "markers",
         "name": "The War with Grandpa",
         "type": "scatter",
         "x": [
          1009656
         ],
         "y": [
          346917
         ]
        },
        {
         "line": {
          "color": "white",
          "width": 2
         },
         "mode": "markers",
         "name": "Honest Thief",
         "type": "scatter",
         "x": [
          537113
         ],
         "y": [
          146832
         ]
        },
        {
         "line": {
          "color": "red",
          "width": 2
         },
         "mode": "markers",
         "name": "Freaky",
         "type": "scatter",
         "x": [
          1389310
         ],
         "y": [
          578585
         ]
        },
        {
         "line": {
          "color": "blue",
          "width": 2
         },
         "mode": "markers",
         "name": "The Santa Clause2020 Re-release",
         "type": "scatter",
         "x": [
          245000
         ],
         "y": [
          0
         ]
        },
        {
         "line": {
          "color": "orange",
          "width": 2
         },
         "mode": "markers",
         "name": "Last Call",
         "type": "scatter",
         "x": [
          2994
         ],
         "y": [
          1120
         ]
        },
        {
         "line": {
          "color": "white",
          "width": 2
         },
         "mode": "markers",
         "name": "The Shade Shepherd",
         "type": "scatter",
         "x": [
          101
         ],
         "y": [
          0
         ]
        },
        {
         "line": {
          "color": "red",
          "width": 2
         },
         "mode": "markers",
         "name": "Frozen2020 Re-release",
         "type": "scatter",
         "x": [
          155000
         ],
         "y": [
          41000
         ]
        },
        {
         "line": {
          "color": "blue",
          "width": 2
         },
         "mode": "markers",
         "name": "Last Call",
         "type": "scatter",
         "x": [
          1120
         ],
         "y": [
          0
         ]
        },
        {
         "line": {
          "color": "orange",
          "width": 2
         },
         "mode": "markers",
         "name": "The Empty Man",
         "type": "scatter",
         "x": [
          2889
         ],
         "y": [
          0
         ]
        },
        {
         "line": {
          "color": "white",
          "width": 2
         },
         "mode": "markers",
         "name": "Die Hard2020 Re-release",
         "type": "scatter",
         "x": [
          62000
         ],
         "y": [
          0
         ]
        },
        {
         "line": {
          "color": "red",
          "width": 2
         },
         "mode": "markers",
         "name": "Honest Thief",
         "type": "scatter",
         "x": [
          146832
         ],
         "y": [
          0
         ]
        },
        {
         "line": {
          "color": "blue",
          "width": 2
         },
         "mode": "markers",
         "name": "2 Hearts",
         "type": "scatter",
         "x": [
          657
         ],
         "y": [
          0
         ]
        },
        {
         "line": {
          "color": "orange",
          "width": 2
         },
         "mode": "markers",
         "name": "The Croods: A New Age",
         "type": "scatter",
         "x": [
          4785955
         ],
         "y": [
          0
         ]
        },
        {
         "line": {
          "color": "white",
          "width": 2
         },
         "mode": "markers",
         "name": "All My Life",
         "type": "scatter",
         "x": [
          280000
         ],
         "y": [
          0
         ]
        },
        {
         "line": {
          "color": "red",
          "width": 2
         },
         "mode": "markers",
         "name": "Vanguard",
         "type": "scatter",
         "x": [
          27390
         ],
         "y": [
          0
         ]
        },
        {
         "line": {
          "color": "blue",
          "width": 2
         },
         "mode": "markers",
         "name": "The Forgotten Carols",
         "type": "scatter",
         "x": [
          36180
         ],
         "y": [
          0
         ]
        },
        {
         "line": {
          "color": "orange",
          "width": 2
         },
         "mode": "markers",
         "name": "The Climb",
         "type": "scatter",
         "x": [
          2148
         ],
         "y": [
          0
         ]
        },
        {
         "line": {
          "color": "white",
          "width": 2
         },
         "mode": "markers",
         "name": "The Last Vermeer",
         "type": "scatter",
         "x": [
          54065
         ],
         "y": [
          0
         ]
        },
        {
         "line": {
          "color": "red",
          "width": 2
         },
         "mode": "markers",
         "name": "Frozen2020 Re-release",
         "type": "scatter",
         "x": [
          41000
         ],
         "y": [
          0
         ]
        },
        {
         "line": {
          "color": "blue",
          "width": 2
         },
         "mode": "markers",
         "name": "Buddy Games",
         "type": "scatter",
         "x": [
          36914
         ],
         "y": [
          0
         ]
        },
        {
         "line": {
          "color": "orange",
          "width": 2
         },
         "mode": "markers",
         "name": "The Grinch",
         "type": "scatter",
         "x": [
          46000
         ],
         "y": [
          0
         ]
        },
        {
         "line": {
          "color": "white",
          "width": 2
         },
         "mode": "markers",
         "name": "Freaky",
         "type": "scatter",
         "x": [
          578585
         ],
         "y": [
          0
         ]
        },
        {
         "line": {
          "color": "red",
          "width": 2
         },
         "mode": "markers",
         "name": "Come Away",
         "type": "scatter",
         "x": [
          1418
         ],
         "y": [
          0
         ]
        },
        {
         "line": {
          "color": "blue",
          "width": 2
         },
         "mode": "markers",
         "name": "Stardust",
         "type": "scatter",
         "x": [
          1749
         ],
         "y": [
          0
         ]
        },
        {
         "line": {
          "color": "orange",
          "width": 2
         },
         "mode": "markers",
         "name": "The War with Grandpa",
         "type": "scatter",
         "x": [
          346917
         ],
         "y": [
          0
         ]
        },
        {
         "line": {
          "color": "white",
          "width": 2
         },
         "mode": "markers",
         "name": "Come Play",
         "type": "scatter",
         "x": [
          265035
         ],
         "y": [
          0
         ]
        },
        {
         "line": {
          "color": "red",
          "width": 2
         },
         "mode": "markers",
         "name": "Embattled",
         "type": "scatter",
         "x": [
          1197
         ],
         "y": [
          0
         ]
        },
        {
         "line": {
          "color": "blue",
          "width": 2
         },
         "mode": "markers",
         "name": "Let Him Go",
         "type": "scatter",
         "x": [
          268275
         ],
         "y": [
          0
         ]
        },
        {
         "line": {
          "color": "orange",
          "width": 2
         },
         "mode": "markers",
         "name": "Half Brothers",
         "type": "scatter",
         "x": [
          470000
         ],
         "y": [
          0
         ]
        },
        {
         "line": {
          "color": "white",
          "width": 2
         },
         "mode": "markers",
         "name": "The New Mutants",
         "type": "scatter",
         "x": [
          3128
         ],
         "y": [
          0
         ]
        }
       ],
       "layout": {
        "paper_bgcolor": "#23272c",
        "plot_bgcolor": "#23272c",
        "template": {
         "data": {
          "bar": [
           {
            "error_x": {
             "color": "#f2f5fa"
            },
            "error_y": {
             "color": "#f2f5fa"
            },
            "marker": {
             "line": {
              "color": "rgb(17,17,17)",
              "width": 0.5
             }
            },
            "type": "bar"
           }
          ],
          "barpolar": [
           {
            "marker": {
             "line": {
              "color": "rgb(17,17,17)",
              "width": 0.5
             }
            },
            "type": "barpolar"
           }
          ],
          "carpet": [
           {
            "aaxis": {
             "endlinecolor": "#A2B1C6",
             "gridcolor": "#506784",
             "linecolor": "#506784",
             "minorgridcolor": "#506784",
             "startlinecolor": "#A2B1C6"
            },
            "baxis": {
             "endlinecolor": "#A2B1C6",
             "gridcolor": "#506784",
             "linecolor": "#506784",
             "minorgridcolor": "#506784",
             "startlinecolor": "#A2B1C6"
            },
            "type": "carpet"
           }
          ],
          "choropleth": [
           {
            "colorbar": {
             "outlinewidth": 0,
             "ticks": ""
            },
            "type": "choropleth"
           }
          ],
          "contour": [
           {
            "colorbar": {
             "outlinewidth": 0,
             "ticks": ""
            },
            "colorscale": [
             [
              0,
              "#0d0887"
             ],
             [
              0.1111111111111111,
              "#46039f"
             ],
             [
              0.2222222222222222,
              "#7201a8"
             ],
             [
              0.3333333333333333,
              "#9c179e"
             ],
             [
              0.4444444444444444,
              "#bd3786"
             ],
             [
              0.5555555555555556,
              "#d8576b"
             ],
             [
              0.6666666666666666,
              "#ed7953"
             ],
             [
              0.7777777777777778,
              "#fb9f3a"
             ],
             [
              0.8888888888888888,
              "#fdca26"
             ],
             [
              1,
              "#f0f921"
             ]
            ],
            "type": "contour"
           }
          ],
          "contourcarpet": [
           {
            "colorbar": {
             "outlinewidth": 0,
             "ticks": ""
            },
            "type": "contourcarpet"
           }
          ],
          "heatmap": [
           {
            "colorbar": {
             "outlinewidth": 0,
             "ticks": ""
            },
            "colorscale": [
             [
              0,
              "#0d0887"
             ],
             [
              0.1111111111111111,
              "#46039f"
             ],
             [
              0.2222222222222222,
              "#7201a8"
             ],
             [
              0.3333333333333333,
              "#9c179e"
             ],
             [
              0.4444444444444444,
              "#bd3786"
             ],
             [
              0.5555555555555556,
              "#d8576b"
             ],
             [
              0.6666666666666666,
              "#ed7953"
             ],
             [
              0.7777777777777778,
              "#fb9f3a"
             ],
             [
              0.8888888888888888,
              "#fdca26"
             ],
             [
              1,
              "#f0f921"
             ]
            ],
            "type": "heatmap"
           }
          ],
          "heatmapgl": [
           {
            "colorbar": {
             "outlinewidth": 0,
             "ticks": ""
            },
            "colorscale": [
             [
              0,
              "#0d0887"
             ],
             [
              0.1111111111111111,
              "#46039f"
             ],
             [
              0.2222222222222222,
              "#7201a8"
             ],
             [
              0.3333333333333333,
              "#9c179e"
             ],
             [
              0.4444444444444444,
              "#bd3786"
             ],
             [
              0.5555555555555556,
              "#d8576b"
             ],
             [
              0.6666666666666666,
              "#ed7953"
             ],
             [
              0.7777777777777778,
              "#fb9f3a"
             ],
             [
              0.8888888888888888,
              "#fdca26"
             ],
             [
              1,
              "#f0f921"
             ]
            ],
            "type": "heatmapgl"
           }
          ],
          "histogram": [
           {
            "marker": {
             "colorbar": {
              "outlinewidth": 0,
              "ticks": ""
             }
            },
            "type": "histogram"
           }
          ],
          "histogram2d": [
           {
            "colorbar": {
             "outlinewidth": 0,
             "ticks": ""
            },
            "colorscale": [
             [
              0,
              "#0d0887"
             ],
             [
              0.1111111111111111,
              "#46039f"
             ],
             [
              0.2222222222222222,
              "#7201a8"
             ],
             [
              0.3333333333333333,
              "#9c179e"
             ],
             [
              0.4444444444444444,
              "#bd3786"
             ],
             [
              0.5555555555555556,
              "#d8576b"
             ],
             [
              0.6666666666666666,
              "#ed7953"
             ],
             [
              0.7777777777777778,
              "#fb9f3a"
             ],
             [
              0.8888888888888888,
              "#fdca26"
             ],
             [
              1,
              "#f0f921"
             ]
            ],
            "type": "histogram2d"
           }
          ],
          "histogram2dcontour": [
           {
            "colorbar": {
             "outlinewidth": 0,
             "ticks": ""
            },
            "colorscale": [
             [
              0,
              "#0d0887"
             ],
             [
              0.1111111111111111,
              "#46039f"
             ],
             [
              0.2222222222222222,
              "#7201a8"
             ],
             [
              0.3333333333333333,
              "#9c179e"
             ],
             [
              0.4444444444444444,
              "#bd3786"
             ],
             [
              0.5555555555555556,
              "#d8576b"
             ],
             [
              0.6666666666666666,
              "#ed7953"
             ],
             [
              0.7777777777777778,
              "#fb9f3a"
             ],
             [
              0.8888888888888888,
              "#fdca26"
             ],
             [
              1,
              "#f0f921"
             ]
            ],
            "type": "histogram2dcontour"
           }
          ],
          "mesh3d": [
           {
            "colorbar": {
             "outlinewidth": 0,
             "ticks": ""
            },
            "type": "mesh3d"
           }
          ],
          "parcoords": [
           {
            "line": {
             "colorbar": {
              "outlinewidth": 0,
              "ticks": ""
             }
            },
            "type": "parcoords"
           }
          ],
          "pie": [
           {
            "automargin": true,
            "type": "pie"
           }
          ],
          "scatter": [
           {
            "marker": {
             "line": {
              "color": "#283442"
             }
            },
            "type": "scatter"
           }
          ],
          "scatter3d": [
           {
            "line": {
             "colorbar": {
              "outlinewidth": 0,
              "ticks": ""
             }
            },
            "marker": {
             "colorbar": {
              "outlinewidth": 0,
              "ticks": ""
             }
            },
            "type": "scatter3d"
           }
          ],
          "scattercarpet": [
           {
            "marker": {
             "colorbar": {
              "outlinewidth": 0,
              "ticks": ""
             }
            },
            "type": "scattercarpet"
           }
          ],
          "scattergeo": [
           {
            "marker": {
             "colorbar": {
              "outlinewidth": 0,
              "ticks": ""
             }
            },
            "type": "scattergeo"
           }
          ],
          "scattergl": [
           {
            "marker": {
             "line": {
              "color": "#283442"
             }
            },
            "type": "scattergl"
           }
          ],
          "scattermapbox": [
           {
            "marker": {
             "colorbar": {
              "outlinewidth": 0,
              "ticks": ""
             }
            },
            "type": "scattermapbox"
           }
          ],
          "scatterpolar": [
           {
            "marker": {
             "colorbar": {
              "outlinewidth": 0,
              "ticks": ""
             }
            },
            "type": "scatterpolar"
           }
          ],
          "scatterpolargl": [
           {
            "marker": {
             "colorbar": {
              "outlinewidth": 0,
              "ticks": ""
             }
            },
            "type": "scatterpolargl"
           }
          ],
          "scatterternary": [
           {
            "marker": {
             "colorbar": {
              "outlinewidth": 0,
              "ticks": ""
             }
            },
            "type": "scatterternary"
           }
          ],
          "surface": [
           {
            "colorbar": {
             "outlinewidth": 0,
             "ticks": ""
            },
            "colorscale": [
             [
              0,
              "#0d0887"
             ],
             [
              0.1111111111111111,
              "#46039f"
             ],
             [
              0.2222222222222222,
              "#7201a8"
             ],
             [
              0.3333333333333333,
              "#9c179e"
             ],
             [
              0.4444444444444444,
              "#bd3786"
             ],
             [
              0.5555555555555556,
              "#d8576b"
             ],
             [
              0.6666666666666666,
              "#ed7953"
             ],
             [
              0.7777777777777778,
              "#fb9f3a"
             ],
             [
              0.8888888888888888,
              "#fdca26"
             ],
             [
              1,
              "#f0f921"
             ]
            ],
            "type": "surface"
           }
          ],
          "table": [
           {
            "cells": {
             "fill": {
              "color": "#506784"
             },
             "line": {
              "color": "rgb(17,17,17)"
             }
            },
            "header": {
             "fill": {
              "color": "#2a3f5f"
             },
             "line": {
              "color": "rgb(17,17,17)"
             }
            },
            "type": "table"
           }
          ]
         },
         "layout": {
          "annotationdefaults": {
           "arrowcolor": "#f2f5fa",
           "arrowhead": 0,
           "arrowwidth": 1
          },
          "coloraxis": {
           "colorbar": {
            "outlinewidth": 0,
            "ticks": ""
           }
          },
          "colorscale": {
           "diverging": [
            [
             0,
             "#8e0152"
            ],
            [
             0.1,
             "#c51b7d"
            ],
            [
             0.2,
             "#de77ae"
            ],
            [
             0.3,
             "#f1b6da"
            ],
            [
             0.4,
             "#fde0ef"
            ],
            [
             0.5,
             "#f7f7f7"
            ],
            [
             0.6,
             "#e6f5d0"
            ],
            [
             0.7,
             "#b8e186"
            ],
            [
             0.8,
             "#7fbc41"
            ],
            [
             0.9,
             "#4d9221"
            ],
            [
             1,
             "#276419"
            ]
           ],
           "sequential": [
            [
             0,
             "#0d0887"
            ],
            [
             0.1111111111111111,
             "#46039f"
            ],
            [
             0.2222222222222222,
             "#7201a8"
            ],
            [
             0.3333333333333333,
             "#9c179e"
            ],
            [
             0.4444444444444444,
             "#bd3786"
            ],
            [
             0.5555555555555556,
             "#d8576b"
            ],
            [
             0.6666666666666666,
             "#ed7953"
            ],
            [
             0.7777777777777778,
             "#fb9f3a"
            ],
            [
             0.8888888888888888,
             "#fdca26"
            ],
            [
             1,
             "#f0f921"
            ]
           ],
           "sequentialminus": [
            [
             0,
             "#0d0887"
            ],
            [
             0.1111111111111111,
             "#46039f"
            ],
            [
             0.2222222222222222,
             "#7201a8"
            ],
            [
             0.3333333333333333,
             "#9c179e"
            ],
            [
             0.4444444444444444,
             "#bd3786"
            ],
            [
             0.5555555555555556,
             "#d8576b"
            ],
            [
             0.6666666666666666,
             "#ed7953"
            ],
            [
             0.7777777777777778,
             "#fb9f3a"
            ],
            [
             0.8888888888888888,
             "#fdca26"
            ],
            [
             1,
             "#f0f921"
            ]
           ]
          },
          "colorway": [
           "#636efa",
           "#EF553B",
           "#00cc96",
           "#ab63fa",
           "#FFA15A",
           "#19d3f3",
           "#FF6692",
           "#B6E880",
           "#FF97FF",
           "#FECB52"
          ],
          "font": {
           "color": "#f2f5fa"
          },
          "geo": {
           "bgcolor": "rgb(17,17,17)",
           "lakecolor": "rgb(17,17,17)",
           "landcolor": "rgb(17,17,17)",
           "showlakes": true,
           "showland": true,
           "subunitcolor": "#506784"
          },
          "hoverlabel": {
           "align": "left"
          },
          "hovermode": "closest",
          "mapbox": {
           "style": "dark"
          },
          "paper_bgcolor": "rgb(17,17,17)",
          "plot_bgcolor": "rgb(17,17,17)",
          "polar": {
           "angularaxis": {
            "gridcolor": "#506784",
            "linecolor": "#506784",
            "ticks": ""
           },
           "bgcolor": "rgb(17,17,17)",
           "radialaxis": {
            "gridcolor": "#506784",
            "linecolor": "#506784",
            "ticks": ""
           }
          },
          "scene": {
           "xaxis": {
            "backgroundcolor": "rgb(17,17,17)",
            "gridcolor": "#506784",
            "gridwidth": 2,
            "linecolor": "#506784",
            "showbackground": true,
            "ticks": "",
            "zerolinecolor": "#C8D4E3"
           },
           "yaxis": {
            "backgroundcolor": "rgb(17,17,17)",
            "gridcolor": "#506784",
            "gridwidth": 2,
            "linecolor": "#506784",
            "showbackground": true,
            "ticks": "",
            "zerolinecolor": "#C8D4E3"
           },
           "zaxis": {
            "backgroundcolor": "rgb(17,17,17)",
            "gridcolor": "#506784",
            "gridwidth": 2,
            "linecolor": "#506784",
            "showbackground": true,
            "ticks": "",
            "zerolinecolor": "#C8D4E3"
           }
          },
          "shapedefaults": {
           "line": {
            "color": "#f2f5fa"
           }
          },
          "sliderdefaults": {
           "bgcolor": "#C8D4E3",
           "bordercolor": "rgb(17,17,17)",
           "borderwidth": 1,
           "tickwidth": 0
          },
          "ternary": {
           "aaxis": {
            "gridcolor": "#506784",
            "linecolor": "#506784",
            "ticks": ""
           },
           "baxis": {
            "gridcolor": "#506784",
            "linecolor": "#506784",
            "ticks": ""
           },
           "bgcolor": "rgb(17,17,17)",
           "caxis": {
            "gridcolor": "#506784",
            "linecolor": "#506784",
            "ticks": ""
           }
          },
          "title": {
           "x": 0.05
          },
          "updatemenudefaults": {
           "bgcolor": "#506784",
           "borderwidth": 0
          },
          "xaxis": {
           "automargin": true,
           "gridcolor": "#283442",
           "linecolor": "#506784",
           "ticks": "",
           "title": {
            "standoff": 15
           },
           "zerolinecolor": "#283442",
           "zerolinewidth": 2
          },
          "yaxis": {
           "automargin": true,
           "gridcolor": "#283442",
           "linecolor": "#506784",
           "ticks": "",
           "title": {
            "standoff": 15
           },
           "zerolinecolor": "#283442",
           "zerolinewidth": 2
          }
         }
        },
        "title": {
         "text": "Weekly vs Week + 1: Correlation = 0.8697401671869476"
        },
        "xaxis": {
         "title": {
          "text": "Week + 1"
         }
        },
        "yaxis": {
         "title": {
          "text": "Weekly Gross"
         }
        }
       }
      },
      "text/html": [
       "<div>                            <div id=\"305eb6ea-d773-4c8a-abdf-b9582e0a7fbe\" class=\"plotly-graph-div\" style=\"height:525px; width:100%;\"></div>            <script type=\"text/javascript\">                require([\"plotly\"], function(Plotly) {                    window.PLOTLYENV=window.PLOTLYENV || {};                                    if (document.getElementById(\"305eb6ea-d773-4c8a-abdf-b9582e0a7fbe\")) {                    Plotly.newPlot(                        \"305eb6ea-d773-4c8a-abdf-b9582e0a7fbe\",                        [{\"line\": {\"color\": \"red\", \"width\": 2}, \"mode\": \"markers\", \"name\": \"The Secrets We Keep\", \"type\": \"scatter\", \"x\": [2212.0], \"y\": [0.0]}, {\"line\": {\"color\": \"blue\", \"width\": 2}, \"mode\": \"markers\", \"name\": \"No Escape\", \"type\": \"scatter\", \"x\": [10594.0], \"y\": [5910.0]}, {\"line\": {\"color\": \"orange\", \"width\": 2}, \"mode\": \"markers\", \"name\": \"Ava\", \"type\": \"scatter\", \"x\": [86490.0], \"y\": [39759.0]}, {\"line\": {\"color\": \"white\", \"width\": 2}, \"mode\": \"markers\", \"name\": \"My Brothers' Crossing\", \"type\": \"scatter\", \"x\": [1343.0], \"y\": [306.0]}, {\"line\": {\"color\": \"red\", \"width\": 2}, \"mode\": \"markers\", \"name\": \"Tulsa\", \"type\": \"scatter\", \"x\": [19676.0], \"y\": [7685.0]}, {\"line\": {\"color\": \"blue\", \"width\": 2}, \"mode\": \"markers\", \"name\": \"Bill & Ted Face the Music\", \"type\": \"scatter\", \"x\": [87855.0], \"y\": [12352.0]}, {\"line\": {\"color\": \"orange\", \"width\": 2}, \"mode\": \"markers\", \"name\": \"The New Mutants\", \"type\": \"scatter\", \"x\": [1055664.0], \"y\": [712921.0]}, {\"line\": {\"color\": \"white\", \"width\": 2}, \"mode\": \"markers\", \"name\": \"Unhinged\", \"type\": \"scatter\", \"x\": [996172.0], \"y\": [661309.0]}, {\"line\": {\"color\": \"red\", \"width\": 2}, \"mode\": \"markers\", \"name\": \"Kajillionaire\", \"type\": \"scatter\", \"x\": [82645.0], \"y\": [31940.0]}, {\"line\": {\"color\": \"blue\", \"width\": 2}, \"mode\": \"markers\", \"name\": \"Possessor\", \"type\": \"scatter\", \"x\": [264534.0], \"y\": [143954.0]}, {\"line\": {\"color\": \"orange\", \"width\": 2}, \"mode\": \"markers\", \"name\": \"Infidel\", \"type\": \"scatter\", \"x\": [387576.0], \"y\": [150540.0]}, {\"line\": {\"color\": \"white\", \"width\": 2}, \"mode\": \"markers\", \"name\": \"Coco\", \"type\": \"scatter\", \"x\": [603000.0], \"y\": [131000.0]}, {\"line\": {\"color\": \"red\", \"width\": 2}, \"mode\": \"markers\", \"name\": \"The SpongeBob Movie: Sponge on the Run\", \"type\": \"scatter\", \"x\": [75090.0], \"y\": [69201.0]}, {\"line\": {\"color\": \"blue\", \"width\": 2}, \"mode\": \"markers\", \"name\": \"Hocus Pocus2020 Re-release\", \"type\": \"scatter\", \"x\": [1161000.0], \"y\": [756000.0]}, {\"line\": {\"color\": \"orange\", \"width\": 2}, \"mode\": \"markers\", \"name\": \"Henchmen2020 Re-release\", \"type\": \"scatter\", \"x\": [30223.0], \"y\": [17177.0]}, {\"line\": {\"color\": \"white\", \"width\": 2}, \"mode\": \"markers\", \"name\": \"Heaven\", \"type\": \"scatter\", \"x\": [10935.0], \"y\": [18899.0]}, {\"line\": {\"color\": \"red\", \"width\": 2}, \"mode\": \"markers\", \"name\": \"The War with Grandpa\", \"type\": \"scatter\", \"x\": [3623880.0], \"y\": [3636975.0]}, {\"line\": {\"color\": \"blue\", \"width\": 2}, \"mode\": \"markers\", \"name\": \"Foster Boy\", \"type\": \"scatter\", \"x\": [10.0], \"y\": [0.0]}, {\"line\": {\"color\": \"orange\", \"width\": 2}, \"mode\": \"markers\", \"name\": \"The Wolf of Snow Hollow\", \"type\": \"scatter\", \"x\": [91943.0], \"y\": [76665.0]}, {\"line\": {\"color\": \"white\", \"width\": 2}, \"mode\": \"markers\", \"name\": \"The Personal History of David Copperfield\", \"type\": \"scatter\", \"x\": [21712.0], \"y\": [8533.0]}, {\"line\": {\"color\": \"red\", \"width\": 2}, \"mode\": \"markers\", \"name\": \"Words on Bathroom Walls\", \"type\": \"scatter\", \"x\": [60919.0], \"y\": [22995.0]}, {\"line\": {\"color\": \"blue\", \"width\": 2}, \"mode\": \"markers\", \"name\": \"Dreaming Grand Avenue\", \"type\": \"scatter\", \"x\": [101.0], \"y\": [36.0]}, {\"line\": {\"color\": \"orange\", \"width\": 2}, \"mode\": \"markers\", \"name\": \"Pray: The Story of Patrick Peyton\", \"type\": \"scatter\", \"x\": [24397.0], \"y\": [20385.0]}, {\"line\": {\"color\": \"white\", \"width\": 2}, \"mode\": \"markers\", \"name\": \"The Call\", \"type\": \"scatter\", \"x\": [139081.0], \"y\": [88555.0]}, {\"line\": {\"color\": \"red\", \"width\": 2}, \"mode\": \"markers\", \"name\": \"The Broken Hearts Gallery\", \"type\": \"scatter\", \"x\": [214015.0], \"y\": [60054.0]}, {\"line\": {\"color\": \"blue\", \"width\": 2}, \"mode\": \"markers\", \"name\": \"Yellow Rose\", \"type\": \"scatter\", \"x\": [150330.0], \"y\": [140059.0]}, {\"line\": {\"color\": \"orange\", \"width\": 2}, \"mode\": \"markers\", \"name\": \"A Call to Spy\", \"type\": \"scatter\", \"x\": [44250.0], \"y\": [23932.0]}, {\"line\": {\"color\": \"white\", \"width\": 2}, \"mode\": \"markers\", \"name\": \"Shortcut\", \"type\": \"scatter\", \"x\": [103773.0], \"y\": [28879.0]}, {\"line\": {\"color\": \"red\", \"width\": 2}, \"mode\": \"markers\", \"name\": \"She Dies Tomorrow\", \"type\": \"scatter\", \"x\": [18968.0], \"y\": [15482.0]}, {\"line\": {\"color\": \"blue\", \"width\": 2}, \"mode\": \"markers\", \"name\": \"Star Wars: Episode V - The Empire Strikes Back2020 Re-release\", \"type\": \"scatter\", \"x\": [145000.0], \"y\": [79000.0]}, {\"line\": {\"color\": \"orange\", \"width\": 2}, \"mode\": \"markers\", \"name\": \"Save Yourselves!\", \"type\": \"scatter\", \"x\": [113701.0], \"y\": [39664.0]}, {\"line\": {\"color\": \"white\", \"width\": 2}, \"mode\": \"markers\", \"name\": \"The Last Shift\", \"type\": \"scatter\", \"x\": [102433.0], \"y\": [22022.0]}, {\"line\": {\"color\": \"red\", \"width\": 2}, \"mode\": \"markers\", \"name\": \"Save Yourselves!\", \"type\": \"scatter\", \"x\": [39664.0], \"y\": [3855.0]}, {\"line\": {\"color\": \"blue\", \"width\": 2}, \"mode\": \"markers\", \"name\": \"Dreaming Grand Avenue\", \"type\": \"scatter\", \"x\": [36.0], \"y\": [964.0]}, {\"line\": {\"color\": \"orange\", \"width\": 2}, \"mode\": \"markers\", \"name\": \"The Wolf of Snow Hollow\", \"type\": \"scatter\", \"x\": [76665.0], \"y\": [14632.0]}, {\"line\": {\"color\": \"white\", \"width\": 2}, \"mode\": \"markers\", \"name\": \"The Call\", \"type\": \"scatter\", \"x\": [88555.0], \"y\": [63839.0]}, {\"line\": {\"color\": \"red\", \"width\": 2}, \"mode\": \"markers\", \"name\": \"Pray: The Story of Patrick Peyton\", \"type\": \"scatter\", \"x\": [20385.0], \"y\": [11459.0]}, {\"line\": {\"color\": \"blue\", \"width\": 2}, \"mode\": \"markers\", \"name\": \"The War with Grandpa\", \"type\": \"scatter\", \"x\": [3636975.0], \"y\": [2489361.0]}, {\"line\": {\"color\": \"orange\", \"width\": 2}, \"mode\": \"markers\", \"name\": \"The Broken Hearts Gallery\", \"type\": \"scatter\", \"x\": [60054.0], \"y\": [23776.0]}, {\"line\": {\"color\": \"white\", \"width\": 2}, \"mode\": \"markers\", \"name\": \"No Escape\", \"type\": \"scatter\", \"x\": [5910.0], \"y\": [3221.0]}, {\"line\": {\"color\": \"red\", \"width\": 2}, \"mode\": \"markers\", \"name\": \"Heaven\", \"type\": \"scatter\", \"x\": [18899.0], \"y\": [5019.0]}, {\"line\": {\"color\": \"blue\", \"width\": 2}, \"mode\": \"markers\", \"name\": \"The SpongeBob Movie: Sponge on the Run\", \"type\": \"scatter\", \"x\": [69201.0], \"y\": [44521.0]}, {\"line\": {\"color\": \"orange\", \"width\": 2}, \"mode\": \"markers\", \"name\": \"The Kid Detective\", \"type\": \"scatter\", \"x\": [140218.0], \"y\": [162473.0]}, {\"line\": {\"color\": \"white\", \"width\": 2}, \"mode\": \"markers\", \"name\": \"Henchmen2020 Re-release\", \"type\": \"scatter\", \"x\": [17177.0], \"y\": [2276.0]}, {\"line\": {\"color\": \"red\", \"width\": 2}, \"mode\": \"markers\", \"name\": \"Star Wars: Episode V - The Empire Strikes Back2020 Re-release\", \"type\": \"scatter\", \"x\": [79000.0], \"y\": [0.0]}, {\"line\": {\"color\": \"blue\", \"width\": 2}, \"mode\": \"markers\", \"name\": \"Hocus Pocus2020 Re-release\", \"type\": \"scatter\", \"x\": [756000.0], \"y\": [530000.0]}, {\"line\": {\"color\": \"orange\", \"width\": 2}, \"mode\": \"markers\", \"name\": \"Honest Thief\", \"type\": \"scatter\", \"x\": [3607966.0], \"y\": [3364941.0]}, {\"line\": {\"color\": \"white\", \"width\": 2}, \"mode\": \"markers\", \"name\": \"The Last Shift\", \"type\": \"scatter\", \"x\": [22022.0], \"y\": [10493.0]}, {\"line\": {\"color\": \"red\", \"width\": 2}, \"mode\": \"markers\", \"name\": \"The Personal History of David Copperfield\", \"type\": \"scatter\", \"x\": [8533.0], \"y\": [2273.0]}, {\"line\": {\"color\": \"blue\", \"width\": 2}, \"mode\": \"markers\", \"name\": \"Possessor\", \"type\": \"scatter\", \"x\": [143954.0], \"y\": [53946.0]}, {\"line\": {\"color\": \"orange\", \"width\": 2}, \"mode\": \"markers\", \"name\": \"Shortcut\", \"type\": \"scatter\", \"x\": [28879.0], \"y\": [5237.0]}, {\"line\": {\"color\": \"white\", \"width\": 2}, \"mode\": \"markers\", \"name\": \"Infidel\", \"type\": \"scatter\", \"x\": [150540.0], \"y\": [53317.0]}, {\"line\": {\"color\": \"red\", \"width\": 2}, \"mode\": \"markers\", \"name\": \"The Nightmare Before Christmas2020 Re-release\", \"type\": \"scatter\", \"x\": [1323000.0], \"y\": [577000.0]}, {\"line\": {\"color\": \"blue\", \"width\": 2}, \"mode\": \"markers\", \"name\": \"My Brothers' Crossing\", \"type\": \"scatter\", \"x\": [306.0], \"y\": [0.0]}, {\"line\": {\"color\": \"orange\", \"width\": 2}, \"mode\": \"markers\", \"name\": \"Shithouse\", \"type\": \"scatter\", \"x\": [5545.0], \"y\": [9559.0]}, {\"line\": {\"color\": \"white\", \"width\": 2}, \"mode\": \"markers\", \"name\": \"Kajillionaire\", \"type\": \"scatter\", \"x\": [31940.0], \"y\": [7440.0]}, {\"line\": {\"color\": \"red\", \"width\": 2}, \"mode\": \"markers\", \"name\": \"The New Mutants\", \"type\": \"scatter\", \"x\": [712921.0], \"y\": [425312.0]}, {\"line\": {\"color\": \"blue\", \"width\": 2}, \"mode\": \"markers\", \"name\": \"She Dies Tomorrow\", \"type\": \"scatter\", \"x\": [15482.0], \"y\": [10353.0]}, {\"line\": {\"color\": \"orange\", \"width\": 2}, \"mode\": \"markers\", \"name\": \"Love and Monsters\", \"type\": \"scatter\", \"x\": [270302.0], \"y\": [308776.0]}, {\"line\": {\"color\": \"white\", \"width\": 2}, \"mode\": \"markers\", \"name\": \"Mermaid in Paris\", \"type\": \"scatter\", \"x\": [1202.0], \"y\": [786.0]}, {\"line\": {\"color\": \"red\", \"width\": 2}, \"mode\": \"markers\", \"name\": \"Lupin III: The First\", \"type\": \"scatter\", \"x\": [83295.0], \"y\": [50890.0]}, {\"line\": {\"color\": \"blue\", \"width\": 2}, \"mode\": \"markers\", \"name\": \"2 Hearts\", \"type\": \"scatter\", \"x\": [522937.0], \"y\": [466255.0]}, {\"line\": {\"color\": \"orange\", \"width\": 2}, \"mode\": \"markers\", \"name\": \"Tulsa\", \"type\": \"scatter\", \"x\": [7685.0], \"y\": [1753.0]}, {\"line\": {\"color\": \"white\", \"width\": 2}, \"mode\": \"markers\", \"name\": \"Bump Kowalski and the Ten Commandments\", \"type\": \"scatter\", \"x\": [256.0], \"y\": [0.0]}, {\"line\": {\"color\": \"red\", \"width\": 2}, \"mode\": \"markers\", \"name\": \"Unhinged\", \"type\": \"scatter\", \"x\": [661309.0], \"y\": [397372.0]}, {\"line\": {\"color\": \"blue\", \"width\": 2}, \"mode\": \"markers\", \"name\": \"Twiceborn\", \"type\": \"scatter\", \"x\": [5217.0], \"y\": [4186.0]}, {\"line\": {\"color\": \"orange\", \"width\": 2}, \"mode\": \"markers\", \"name\": \"Bill & Ted Face the Music\", \"type\": \"scatter\", \"x\": [12352.0], \"y\": [3655.0]}, {\"line\": {\"color\": \"white\", \"width\": 2}, \"mode\": \"markers\", \"name\": \"Ava\", \"type\": \"scatter\", \"x\": [39759.0], \"y\": [19452.0]}, {\"line\": {\"color\": \"red\", \"width\": 2}, \"mode\": \"markers\", \"name\": \"Counter Column\", \"type\": \"scatter\", \"x\": [6455.0], \"y\": [5236.0]}, {\"line\": {\"color\": \"blue\", \"width\": 2}, \"mode\": \"markers\", \"name\": \"A Call to Spy\", \"type\": \"scatter\", \"x\": [23932.0], \"y\": [15944.0]}, {\"line\": {\"color\": \"orange\", \"width\": 2}, \"mode\": \"markers\", \"name\": \"Words on Bathroom Walls\", \"type\": \"scatter\", \"x\": [22995.0], \"y\": [7085.0]}, {\"line\": {\"color\": \"white\", \"width\": 2}, \"mode\": \"markers\", \"name\": \"Coco\", \"type\": \"scatter\", \"x\": [131000.0], \"y\": [0.0]}, {\"line\": {\"color\": \"red\", \"width\": 2}, \"mode\": \"markers\", \"name\": \"Yellow Rose\", \"type\": \"scatter\", \"x\": [140059.0], \"y\": [38979.0]}, {\"line\": {\"color\": \"blue\", \"width\": 2}, \"mode\": \"markers\", \"name\": \"The Nightmare Before Christmas2020 Re-release\", \"type\": \"scatter\", \"x\": [577000.0], \"y\": [386000.0]}, {\"line\": {\"color\": \"orange\", \"width\": 2}, \"mode\": \"markers\", \"name\": \"The Call\", \"type\": \"scatter\", \"x\": [63839.0], \"y\": [47866.0]}, {\"line\": {\"color\": \"white\", \"width\": 2}, \"mode\": \"markers\", \"name\": \"2 Hearts\", \"type\": \"scatter\", \"x\": [466255.0], \"y\": [205570.0]}, {\"line\": {\"color\": \"red\", \"width\": 2}, \"mode\": \"markers\", \"name\": \"Kajillionaire\", \"type\": \"scatter\", \"x\": [7440.0], \"y\": [0.0]}, {\"line\": {\"color\": \"blue\", \"width\": 2}, \"mode\": \"markers\", \"name\": \"The New Mutants\", \"type\": \"scatter\", \"x\": [425312.0], \"y\": [243580.0]}, {\"line\": {\"color\": \"orange\", \"width\": 2}, \"mode\": \"markers\", \"name\": \"Unhinged\", \"type\": \"scatter\", \"x\": [397372.0], \"y\": [197986.0]}, {\"line\": {\"color\": \"white\", \"width\": 2}, \"mode\": \"markers\", \"name\": \"Bill & Ted Face the Music\", \"type\": \"scatter\", \"x\": [3655.0], \"y\": [0.0]}, {\"line\": {\"color\": \"red\", \"width\": 2}, \"mode\": \"markers\", \"name\": \"The Broken Hearts Gallery\", \"type\": \"scatter\", \"x\": [23776.0], \"y\": [11618.0]}, {\"line\": {\"color\": \"blue\", \"width\": 2}, \"mode\": \"markers\", \"name\": \"Yellow Rose\", \"type\": \"scatter\", \"x\": [38979.0], \"y\": [7485.0]}, {\"line\": {\"color\": \"orange\", \"width\": 2}, \"mode\": \"markers\", \"name\": \"Love and Monsters\", \"type\": \"scatter\", \"x\": [308776.0], \"y\": [194214.0]}, {\"line\": {\"color\": \"white\", \"width\": 2}, \"mode\": \"markers\", \"name\": \"Mermaid in Paris\", \"type\": \"scatter\", \"x\": [786.0], \"y\": [0.0]}, {\"line\": {\"color\": \"red\", \"width\": 2}, \"mode\": \"markers\", \"name\": \"Monsters Inc.2020 Re-release\", \"type\": \"scatter\", \"x\": [494000.0], \"y\": [232000.0]}, {\"line\": {\"color\": \"blue\", \"width\": 2}, \"mode\": \"markers\", \"name\": \"The Kid Detective\", \"type\": \"scatter\", \"x\": [162473.0], \"y\": [51554.0]}, {\"line\": {\"color\": \"orange\", \"width\": 2}, \"mode\": \"markers\", \"name\": \"The Last Shift\", \"type\": \"scatter\", \"x\": [10493.0], \"y\": [3411.0]}, {\"line\": {\"color\": \"white\", \"width\": 2}, \"mode\": \"markers\", \"name\": \"No Escape\", \"type\": \"scatter\", \"x\": [3221.0], \"y\": [1742.0]}, {\"line\": {\"color\": \"red\", \"width\": 2}, \"mode\": \"markers\", \"name\": \"Possessor\", \"type\": \"scatter\", \"x\": [53946.0], \"y\": [30698.0]}, {\"line\": {\"color\": \"blue\", \"width\": 2}, \"mode\": \"markers\", \"name\": \"Infidel\", \"type\": \"scatter\", \"x\": [53317.0], \"y\": [19436.0]}, {\"line\": {\"color\": \"orange\", \"width\": 2}, \"mode\": \"markers\", \"name\": \"Words on Bathroom Walls\", \"type\": \"scatter\", \"x\": [7085.0], \"y\": [2218.0]}, {\"line\": {\"color\": \"white\", \"width\": 2}, \"mode\": \"markers\", \"name\": \"Pray: The Story of Patrick Peyton\", \"type\": \"scatter\", \"x\": [11459.0], \"y\": [4331.0]}, {\"line\": {\"color\": \"red\", \"width\": 2}, \"mode\": \"markers\", \"name\": \"After We Collided\", \"type\": \"scatter\", \"x\": [422899.0], \"y\": [169429.0]}, {\"line\": {\"color\": \"blue\", \"width\": 2}, \"mode\": \"markers\", \"name\": \"Save Yourselves!\", \"type\": \"scatter\", \"x\": [3855.0], \"y\": [0.0]}, {\"line\": {\"color\": \"orange\", \"width\": 2}, \"mode\": \"markers\", \"name\": \"Stevie Nicks 24 Karat Gold the Concert\", \"type\": \"scatter\", \"x\": [404489.0], \"y\": [5776.0]}, {\"line\": {\"color\": \"white\", \"width\": 2}, \"mode\": \"markers\", \"name\": \"She Dies Tomorrow\", \"type\": \"scatter\", \"x\": [10353.0], \"y\": [10909.0]}, {\"line\": {\"color\": \"red\", \"width\": 2}, \"mode\": \"markers\", \"name\": \"Shithouse\", \"type\": \"scatter\", \"x\": [9559.0], \"y\": [2181.0]}, {\"line\": {\"color\": \"blue\", \"width\": 2}, \"mode\": \"markers\", \"name\": \"A Call to Spy\", \"type\": \"scatter\", \"x\": [15944.0], \"y\": [10840.0]}, {\"line\": {\"color\": \"orange\", \"width\": 2}, \"mode\": \"markers\", \"name\": \"Shortcut\", \"type\": \"scatter\", \"x\": [5237.0], \"y\": [0.0]}, {\"line\": {\"color\": \"white\", \"width\": 2}, \"mode\": \"markers\", \"name\": \"The Addams Family2020 Re-release\", \"type\": \"scatter\", \"x\": [282841.0], \"y\": [302696.0]}, {\"line\": {\"color\": \"red\", \"width\": 2}, \"mode\": \"markers\", \"name\": \"Ava\", \"type\": \"scatter\", \"x\": [19452.0], \"y\": [11810.0]}, {\"line\": {\"color\": \"blue\", \"width\": 2}, \"mode\": \"markers\", \"name\": \"Lupin III: The First\", \"type\": \"scatter\", \"x\": [50890.0], \"y\": [2183.0]}, {\"line\": {\"color\": \"orange\", \"width\": 2}, \"mode\": \"markers\", \"name\": \"The Empty Man\", \"type\": \"scatter\", \"x\": [1310326.0], \"y\": [974702.0]}, {\"line\": {\"color\": \"white\", \"width\": 2}, \"mode\": \"markers\", \"name\": \"Henchmen2020 Re-release\", \"type\": \"scatter\", \"x\": [2276.0], \"y\": [0.0]}, {\"line\": {\"color\": \"red\", \"width\": 2}, \"mode\": \"markers\", \"name\": \"Counter Column\", \"type\": \"scatter\", \"x\": [5236.0], \"y\": [2060.0]}, {\"line\": {\"color\": \"blue\", \"width\": 2}, \"mode\": \"markers\", \"name\": \"The SpongeBob Movie: Sponge on the Run\", \"type\": \"scatter\", \"x\": [44521.0], \"y\": [20611.0]}, {\"line\": {\"color\": \"orange\", \"width\": 2}, \"mode\": \"markers\", \"name\": \"The Personal History of David Copperfield\", \"type\": \"scatter\", \"x\": [2273.0], \"y\": [0.0]}, {\"line\": {\"color\": \"white\", \"width\": 2}, \"mode\": \"markers\", \"name\": \"Honest Thief\", \"type\": \"scatter\", \"x\": [3364941.0], \"y\": [2078045.0]}, {\"line\": {\"color\": \"red\", \"width\": 2}, \"mode\": \"markers\", \"name\": \"Twiceborn\", \"type\": \"scatter\", \"x\": [4186.0], \"y\": [1004.0]}, {\"line\": {\"color\": \"blue\", \"width\": 2}, \"mode\": \"markers\", \"name\": \"Dreaming Grand Avenue\", \"type\": \"scatter\", \"x\": [964.0], \"y\": [0.0]}, {\"line\": {\"color\": \"orange\", \"width\": 2}, \"mode\": \"markers\", \"name\": \"Hocus Pocus2020 Re-release\", \"type\": \"scatter\", \"x\": [530000.0], \"y\": [456000.0]}, {\"line\": {\"color\": \"white\", \"width\": 2}, \"mode\": \"markers\", \"name\": \"Heaven\", \"type\": \"scatter\", \"x\": [5019.0], \"y\": [1159.0]}, {\"line\": {\"color\": \"red\", \"width\": 2}, \"mode\": \"markers\", \"name\": \"Tulsa\", \"type\": \"scatter\", \"x\": [1753.0], \"y\": [1260.0]}, {\"line\": {\"color\": \"blue\", \"width\": 2}, \"mode\": \"markers\", \"name\": \"The War with Grandpa\", \"type\": \"scatter\", \"x\": [2489361.0], \"y\": [1728709.0]}, {\"line\": {\"color\": \"orange\", \"width\": 2}, \"mode\": \"markers\", \"name\": \"The Wolf of Snow Hollow\", \"type\": \"scatter\", \"x\": [14632.0], \"y\": [1786.0]}, {\"line\": {\"color\": \"white\", \"width\": 2}, \"mode\": \"markers\", \"name\": \"Unhinged\", \"type\": \"scatter\", \"x\": [197986.0], \"y\": [129664.0]}, {\"line\": {\"color\": \"red\", \"width\": 2}, \"mode\": \"markers\", \"name\": \"The Kid Detective\", \"type\": \"scatter\", \"x\": [51554.0], \"y\": [8938.0]}, {\"line\": {\"color\": \"blue\", \"width\": 2}, \"mode\": \"markers\", \"name\": \"Heaven\", \"type\": \"scatter\", \"x\": [1159.0], \"y\": [803.0]}, {\"line\": {\"color\": \"orange\", \"width\": 2}, \"mode\": \"markers\", \"name\": \"Stevie Nicks 24 Karat Gold the Concert\", \"type\": \"scatter\", \"x\": [5776.0], \"y\": [0.0]}, {\"line\": {\"color\": \"white\", \"width\": 2}, \"mode\": \"markers\", \"name\": \"Counter Column\", \"type\": \"scatter\", \"x\": [2060.0], \"y\": [756.0]}, {\"line\": {\"color\": \"red\", \"width\": 2}, \"mode\": \"markers\", \"name\": \"No Escape\", \"type\": \"scatter\", \"x\": [1742.0], \"y\": [465.0]}, {\"line\": {\"color\": \"blue\", \"width\": 2}, \"mode\": \"markers\", \"name\": \"Possessor\", \"type\": \"scatter\", \"x\": [30698.0], \"y\": [6318.0]}, {\"line\": {\"color\": \"orange\", \"width\": 2}, \"mode\": \"markers\", \"name\": \"Tulsa\", \"type\": \"scatter\", \"x\": [1260.0], \"y\": [1566.0]}, {\"line\": {\"color\": \"white\", \"width\": 2}, \"mode\": \"markers\", \"name\": \"Monsters Inc.2020 Re-release\", \"type\": \"scatter\", \"x\": [232000.0], \"y\": [0.0]}, {\"line\": {\"color\": \"red\", \"width\": 2}, \"mode\": \"markers\", \"name\": \"The SpongeBob Movie: Sponge on the Run\", \"type\": \"scatter\", \"x\": [20611.0], \"y\": [20332.0]}, {\"line\": {\"color\": \"blue\", \"width\": 2}, \"mode\": \"markers\", \"name\": \"Pray: The Story of Patrick Peyton\", \"type\": \"scatter\", \"x\": [4331.0], \"y\": [4898.0]}, {\"line\": {\"color\": \"orange\", \"width\": 2}, \"mode\": \"markers\", \"name\": \"Words on Bathroom Walls\", \"type\": \"scatter\", \"x\": [2218.0], \"y\": [2480.0]}, {\"line\": {\"color\": \"white\", \"width\": 2}, \"mode\": \"markers\", \"name\": \"Spell\", \"type\": \"scatter\", \"x\": [206591.0], \"y\": [186303.0]}, {\"line\": {\"color\": \"red\", \"width\": 2}, \"mode\": \"markers\", \"name\": \"After We Collided\", \"type\": \"scatter\", \"x\": [169429.0], \"y\": [99246.0]}, {\"line\": {\"color\": \"blue\", \"width\": 2}, \"mode\": \"markers\", \"name\": \"A Call to Spy\", \"type\": \"scatter\", \"x\": [10840.0], \"y\": [11237.0]}, {\"line\": {\"color\": \"orange\", \"width\": 2}, \"mode\": \"markers\", \"name\": \"Shithouse\", \"type\": \"scatter\", \"x\": [2181.0], \"y\": [0.0]}, {\"line\": {\"color\": \"white\", \"width\": 2}, \"mode\": \"markers\", \"name\": \"Alita: Battle Angel\", \"type\": \"scatter\", \"x\": [128000.0], \"y\": [0.0]}, {\"line\": {\"color\": \"red\", \"width\": 2}, \"mode\": \"markers\", \"name\": \"The Wolf of Snow Hollow\", \"type\": \"scatter\", \"x\": [1786.0], \"y\": [0.0]}, {\"line\": {\"color\": \"blue\", \"width\": 2}, \"mode\": \"markers\", \"name\": \"The Addams Family2020 Re-release\", \"type\": \"scatter\", \"x\": [302696.0], \"y\": [87471.0]}, {\"line\": {\"color\": \"orange\", \"width\": 2}, \"mode\": \"markers\", \"name\": \"Ava\", \"type\": \"scatter\", \"x\": [11810.0], \"y\": [4176.0]}, {\"line\": {\"color\": \"white\", \"width\": 2}, \"mode\": \"markers\", \"name\": \"Bump Kowalski and the Ten Commandments\", \"type\": \"scatter\", \"x\": [419.0], \"y\": [0.0]}, {\"line\": {\"color\": \"red\", \"width\": 2}, \"mode\": \"markers\", \"name\": \"The Empty Man\", \"type\": \"scatter\", \"x\": [974702.0], \"y\": [456799.0]}, {\"line\": {\"color\": \"blue\", \"width\": 2}, \"mode\": \"markers\", \"name\": \"Infidel\", \"type\": \"scatter\", \"x\": [19436.0], \"y\": [5881.0]}, {\"line\": {\"color\": \"orange\", \"width\": 2}, \"mode\": \"markers\", \"name\": \"The Nightmare Before Christmas2020 Re-release\", \"type\": \"scatter\", \"x\": [386000.0], \"y\": [0.0]}, {\"line\": {\"color\": \"white\", \"width\": 2}, \"mode\": \"markers\", \"name\": \"The Call\", \"type\": \"scatter\", \"x\": [47866.0], \"y\": [21864.0]}, {\"line\": {\"color\": \"red\", \"width\": 2}, \"mode\": \"markers\", \"name\": \"Honest Thief\", \"type\": \"scatter\", \"x\": [2078045.0], \"y\": [1619272.0]}, {\"line\": {\"color\": \"blue\", \"width\": 2}, \"mode\": \"markers\", \"name\": \"Twiceborn\", \"type\": \"scatter\", \"x\": [1004.0], \"y\": [567.0]}, {\"line\": {\"color\": \"orange\", \"width\": 2}, \"mode\": \"markers\", \"name\": \"She Dies Tomorrow\", \"type\": \"scatter\", \"x\": [10909.0], \"y\": [1595.0]}, {\"line\": {\"color\": \"white\", \"width\": 2}, \"mode\": \"markers\", \"name\": \"The New Mutants\", \"type\": \"scatter\", \"x\": [243580.0], \"y\": [191423.0]}, {\"line\": {\"color\": \"red\", \"width\": 2}, \"mode\": \"markers\", \"name\": \"Hocus Pocus2020 Re-release\", \"type\": \"scatter\", \"x\": [456000.0], \"y\": [0.0]}, {\"line\": {\"color\": \"blue\", \"width\": 2}, \"mode\": \"markers\", \"name\": \"2 Hearts\", \"type\": \"scatter\", \"x\": [205570.0], \"y\": [102804.0]}, {\"line\": {\"color\": \"orange\", \"width\": 2}, \"mode\": \"markers\", \"name\": \"The War with Grandpa\", \"type\": \"scatter\", \"x\": [1728709.0], \"y\": [1930168.0]}, {\"line\": {\"color\": \"white\", \"width\": 2}, \"mode\": \"markers\", \"name\": \"Come Play\", \"type\": \"scatter\", \"x\": [3119875.0], \"y\": [2605030.0]}, {\"line\": {\"color\": \"red\", \"width\": 2}, \"mode\": \"markers\", \"name\": \"Love and Monsters\", \"type\": \"scatter\", \"x\": [194214.0], \"y\": [154533.0]}, {\"line\": {\"color\": \"blue\", \"width\": 2}, \"mode\": \"markers\", \"name\": \"Lupin III: The First\", \"type\": \"scatter\", \"x\": [2183.0], \"y\": [0.0]}, {\"line\": {\"color\": \"orange\", \"width\": 2}, \"mode\": \"markers\", \"name\": \"Yellow Rose\", \"type\": \"scatter\", \"x\": [7485.0], \"y\": [7430.0]}, {\"line\": {\"color\": \"white\", \"width\": 2}, \"mode\": \"markers\", \"name\": \"The Broken Hearts Gallery\", \"type\": \"scatter\", \"x\": [11618.0], \"y\": [15541.0]}, {\"line\": {\"color\": \"red\", \"width\": 2}, \"mode\": \"markers\", \"name\": \"The Last Shift\", \"type\": \"scatter\", \"x\": [3411.0], \"y\": [725.0]}, {\"line\": {\"color\": \"blue\", \"width\": 2}, \"mode\": \"markers\", \"name\": \"The Empty Man\", \"type\": \"scatter\", \"x\": [456799.0], \"y\": [179811.0]}, {\"line\": {\"color\": \"orange\", \"width\": 2}, \"mode\": \"markers\", \"name\": \"The Addams Family2020 Re-release\", \"type\": \"scatter\", \"x\": [87471.0], \"y\": [5918.0]}, {\"line\": {\"color\": \"white\", \"width\": 2}, \"mode\": \"markers\", \"name\": \"Toy Story2020 Re-release\", \"type\": \"scatter\", \"x\": [505000.0], \"y\": [222000.0]}, {\"line\": {\"color\": \"red\", \"width\": 2}, \"mode\": \"markers\", \"name\": \"The War with Grandpa\", \"type\": \"scatter\", \"x\": [1930168.0], \"y\": [1814182.0]}, {\"line\": {\"color\": \"blue\", \"width\": 2}, \"mode\": \"markers\", \"name\": \"The Broken Hearts Gallery\", \"type\": \"scatter\", \"x\": [15541.0], \"y\": [6428.0]}, {\"line\": {\"color\": \"orange\", \"width\": 2}, \"mode\": \"markers\", \"name\": \"The Kid Detective\", \"type\": \"scatter\", \"x\": [8938.0], \"y\": [955.0]}, {\"line\": {\"color\": \"white\", \"width\": 2}, \"mode\": \"markers\", \"name\": \"2 Hearts\", \"type\": \"scatter\", \"x\": [102804.0], \"y\": [39604.0]}, {\"line\": {\"color\": \"red\", \"width\": 2}, \"mode\": \"markers\", \"name\": \"Counter Column\", \"type\": \"scatter\", \"x\": [756.0], \"y\": [257.0]}, {\"line\": {\"color\": \"blue\", \"width\": 2}, \"mode\": \"markers\", \"name\": \"True to the Game 2\", \"type\": \"scatter\", \"x\": [274631.0], \"y\": [404260.0]}, {\"line\": {\"color\": \"orange\", \"width\": 2}, \"mode\": \"markers\", \"name\": \"The Informer\", \"type\": \"scatter\", \"x\": [133475.0], \"y\": [115256.0]}, {\"line\": {\"color\": \"white\", \"width\": 2}, \"mode\": \"markers\", \"name\": \"The Call\", \"type\": \"scatter\", \"x\": [21864.0], \"y\": [4960.0]}, {\"line\": {\"color\": \"red\", \"width\": 2}, \"mode\": \"markers\", \"name\": \"Spell\", \"type\": \"scatter\", \"x\": [186303.0], \"y\": [91819.0]}, {\"line\": {\"color\": \"blue\", \"width\": 2}, \"mode\": \"markers\", \"name\": \"The SpongeBob Movie: Sponge on the Run\", \"type\": \"scatter\", \"x\": [20332.0], \"y\": [8092.0]}, {\"line\": {\"color\": \"orange\", \"width\": 2}, \"mode\": \"markers\", \"name\": \"She Dies Tomorrow\", \"type\": \"scatter\", \"x\": [1595.0], \"y\": [0.0]}, {\"line\": {\"color\": \"white\", \"width\": 2}, \"mode\": \"markers\", \"name\": \"Love and Monsters\", \"type\": \"scatter\", \"x\": [154533.0], \"y\": [120688.0]}, {\"line\": {\"color\": \"red\", \"width\": 2}, \"mode\": \"markers\", \"name\": \"The Last Shift\", \"type\": \"scatter\", \"x\": [725.0], \"y\": [152122.0]}, {\"line\": {\"color\": \"blue\", \"width\": 2}, \"mode\": \"markers\", \"name\": \"Ava\", \"type\": \"scatter\", \"x\": [4176.0], \"y\": [0.0]}, {\"line\": {\"color\": \"orange\", \"width\": 2}, \"mode\": \"markers\", \"name\": \"A Call to Spy\", \"type\": \"scatter\", \"x\": [11237.0], \"y\": [8056.0]}, {\"line\": {\"color\": \"white\", \"width\": 2}, \"mode\": \"markers\", \"name\": \"Come Play\", \"type\": \"scatter\", \"x\": [2605030.0], \"y\": [1564990.0]}, {\"line\": {\"color\": \"red\", \"width\": 2}, \"mode\": \"markers\", \"name\": \"Heaven\", \"type\": \"scatter\", \"x\": [803.0], \"y\": [220.0]}, {\"line\": {\"color\": \"blue\", \"width\": 2}, \"mode\": \"markers\", \"name\": \"Unhinged\", \"type\": \"scatter\", \"x\": [129664.0], \"y\": [60833.0]}, {\"line\": {\"color\": \"orange\", \"width\": 2}, \"mode\": \"markers\", \"name\": \"Tulsa\", \"type\": \"scatter\", \"x\": [1566.0], \"y\": [1109.0]}, {\"line\": {\"color\": \"white\", \"width\": 2}, \"mode\": \"markers\", \"name\": \"The New Mutants\", \"type\": \"scatter\", \"x\": [191423.0], \"y\": [154511.0]}, {\"line\": {\"color\": \"red\", \"width\": 2}, \"mode\": \"markers\", \"name\": \"No Escape\", \"type\": \"scatter\", \"x\": [465.0], \"y\": [0.0]}, {\"line\": {\"color\": \"blue\", \"width\": 2}, \"mode\": \"markers\", \"name\": \"Possessor\", \"type\": \"scatter\", \"x\": [6318.0], \"y\": [0.0]}, {\"line\": {\"color\": \"orange\", \"width\": 2}, \"mode\": \"markers\", \"name\": \"Pray: The Story of Patrick Peyton\", \"type\": \"scatter\", \"x\": [4898.0], \"y\": [3742.0]}, {\"line\": {\"color\": \"white\", \"width\": 2}, \"mode\": \"markers\", \"name\": \"Honest Thief\", \"type\": \"scatter\", \"x\": [1619272.0], \"y\": [1184504.0]}, {\"line\": {\"color\": \"red\", \"width\": 2}, \"mode\": \"markers\", \"name\": \"Yellow Rose\", \"type\": \"scatter\", \"x\": [7430.0], \"y\": [3728.0]}, {\"line\": {\"color\": \"blue\", \"width\": 2}, \"mode\": \"markers\", \"name\": \"After We Collided\", \"type\": \"scatter\", \"x\": [99246.0], \"y\": [33124.0]}, {\"line\": {\"color\": \"orange\", \"width\": 2}, \"mode\": \"markers\", \"name\": \"Twiceborn\", \"type\": \"scatter\", \"x\": [567.0], \"y\": [553.0]}, {\"line\": {\"color\": \"white\", \"width\": 2}, \"mode\": \"markers\", \"name\": \"Infidel\", \"type\": \"scatter\", \"x\": [5881.0], \"y\": [1868.0]}, {\"line\": {\"color\": \"red\", \"width\": 2}, \"mode\": \"markers\", \"name\": \"Words on Bathroom Walls\", \"type\": \"scatter\", \"x\": [2480.0], \"y\": [2141.0]}, {\"line\": {\"color\": \"blue\", \"width\": 2}, \"mode\": \"markers\", \"name\": \"Kindred\", \"type\": \"scatter\", \"x\": [6795.0], \"y\": [1667.0]}, {\"line\": {\"color\": \"orange\", \"width\": 2}, \"mode\": \"markers\", \"name\": \"Let Him Go\", \"type\": \"scatter\", \"x\": [4000470.0], \"y\": [2832430.0]}, {\"line\": {\"color\": \"white\", \"width\": 2}, \"mode\": \"markers\", \"name\": \"The New Mutants\", \"type\": \"scatter\", \"x\": [154511.0], \"y\": [73449.0]}, {\"line\": {\"color\": \"red\", \"width\": 2}, \"mode\": \"markers\", \"name\": \"The Empty Man\", \"type\": \"scatter\", \"x\": [179811.0], \"y\": [44281.0]}, {\"line\": {\"color\": \"blue\", \"width\": 2}, \"mode\": \"markers\", \"name\": \"True to the Game 2\", \"type\": \"scatter\", \"x\": [404260.0], \"y\": [248896.0]}, {\"line\": {\"color\": \"orange\", \"width\": 2}, \"mode\": \"markers\", \"name\": \"Toy Story2020 Re-release\", \"type\": \"scatter\", \"x\": [222000.0], \"y\": [0.0]}, {\"line\": {\"color\": \"white\", \"width\": 2}, \"mode\": \"markers\", \"name\": \"The Informer\", \"type\": \"scatter\", \"x\": [115256.0], \"y\": [37442.0]}, {\"line\": {\"color\": \"red\", \"width\": 2}, \"mode\": \"markers\", \"name\": \"Tulsa\", \"type\": \"scatter\", \"x\": [1109.0], \"y\": [0.0]}, {\"line\": {\"color\": \"blue\", \"width\": 2}, \"mode\": \"markers\", \"name\": \"Unhinged\", \"type\": \"scatter\", \"x\": [60833.0], \"y\": [0.0]}, {\"line\": {\"color\": \"orange\", \"width\": 2}, \"mode\": \"markers\", \"name\": \"The Kid Detective\", \"type\": \"scatter\", \"x\": [955.0], \"y\": [0.0]}, {\"line\": {\"color\": \"white\", \"width\": 2}, \"mode\": \"markers\", \"name\": \"The War with Grandpa\", \"type\": \"scatter\", \"x\": [1814182.0], \"y\": [973453.0]}, {\"line\": {\"color\": \"red\", \"width\": 2}, \"mode\": \"markers\", \"name\": \"The SpongeBob Movie: Sponge on the Run\", \"type\": \"scatter\", \"x\": [8092.0], \"y\": [0.0]}, {\"line\": {\"color\": \"blue\", \"width\": 2}, \"mode\": \"markers\", \"name\": \"Words on Bathroom Walls\", \"type\": \"scatter\", \"x\": [2141.0], \"y\": [150.0]}, {\"line\": {\"color\": \"orange\", \"width\": 2}, \"mode\": \"markers\", \"name\": \"The Last Shift\", \"type\": \"scatter\", \"x\": [152122.0], \"y\": [237863.0]}, {\"line\": {\"color\": \"white\", \"width\": 2}, \"mode\": \"markers\", \"name\": \"Twiceborn\", \"type\": \"scatter\", \"x\": [553.0], \"y\": [0.0]}, {\"line\": {\"color\": \"red\", \"width\": 2}, \"mode\": \"markers\", \"name\": \"Yellow Rose\", \"type\": \"scatter\", \"x\": [3728.0], \"y\": [0.0]}, {\"line\": {\"color\": \"blue\", \"width\": 2}, \"mode\": \"markers\", \"name\": \"Counter Column\", \"type\": \"scatter\", \"x\": [257.0], \"y\": [25.0]}, {\"line\": {\"color\": \"orange\", \"width\": 2}, \"mode\": \"markers\", \"name\": \"Elf2020 Re-release\", \"type\": \"scatter\", \"x\": [170000.0], \"y\": [180000.0]}, {\"line\": {\"color\": \"white\", \"width\": 2}, \"mode\": \"markers\", \"name\": \"Pray: The Story of Patrick Peyton\", \"type\": \"scatter\", \"x\": [3742.0], \"y\": [1494.0]}, {\"line\": {\"color\": \"red\", \"width\": 2}, \"mode\": \"markers\", \"name\": \"Spell\", \"type\": \"scatter\", \"x\": [91819.0], \"y\": [15391.0]}, {\"line\": {\"color\": \"blue\", \"width\": 2}, \"mode\": \"markers\", \"name\": \"Freaky\", \"type\": \"scatter\", \"x\": [3600355.0], \"y\": [2053090.0]}, {\"line\": {\"color\": \"orange\", \"width\": 2}, \"mode\": \"markers\", \"name\": \"Infidel\", \"type\": \"scatter\", \"x\": [1868.0], \"y\": [768.0]}, {\"line\": {\"color\": \"white\", \"width\": 2}, \"mode\": \"markers\", \"name\": \"The Addams Family2020 Re-release\", \"type\": \"scatter\", \"x\": [5918.0], \"y\": [0.0]}, {\"line\": {\"color\": \"red\", \"width\": 2}, \"mode\": \"markers\", \"name\": \"Come Play\", \"type\": \"scatter\", \"x\": [1564990.0], \"y\": [777275.0]}, {\"line\": {\"color\": \"blue\", \"width\": 2}, \"mode\": \"markers\", \"name\": \"Come Away\", \"type\": \"scatter\", \"x\": [106084.0], \"y\": [59472.0]}, {\"line\": {\"color\": \"orange\", \"width\": 2}, \"mode\": \"markers\", \"name\": \"The Broken Hearts Gallery\", \"type\": \"scatter\", \"x\": [6428.0], \"y\": [1273.0]}, {\"line\": {\"color\": \"white\", \"width\": 2}, \"mode\": \"markers\", \"name\": \"Guardians of the Galaxy2020 Re-release\", \"type\": \"scatter\", \"x\": [406000.0], \"y\": [136000.0]}, {\"line\": {\"color\": \"red\", \"width\": 2}, \"mode\": \"markers\", \"name\": \"Bump Kowalski and the Ten Commandments\", \"type\": \"scatter\", \"x\": [378.0], \"y\": [0.0]}, {\"line\": {\"color\": \"blue\", \"width\": 2}, \"mode\": \"markers\", \"name\": \"Ammonite\", \"type\": \"scatter\", \"x\": [87552.0], \"y\": [23383.0]}, {\"line\": {\"color\": \"orange\", \"width\": 2}, \"mode\": \"markers\", \"name\": \"Let Him Go\", \"type\": \"scatter\", \"x\": [2832430.0], \"y\": [1110540.0]}, {\"line\": {\"color\": \"white\", \"width\": 2}, \"mode\": \"markers\", \"name\": \"Honest Thief\", \"type\": \"scatter\", \"x\": [1184504.0], \"y\": [642302.0]}, {\"line\": {\"color\": \"red\", \"width\": 2}, \"mode\": \"markers\", \"name\": \"After We Collided\", \"type\": \"scatter\", \"x\": [33124.0], \"y\": [6047.0]}, {\"line\": {\"color\": \"blue\", \"width\": 2}, \"mode\": \"markers\", \"name\": \"A Call to Spy\", \"type\": \"scatter\", \"x\": [8056.0], \"y\": [2168.0]}, {\"line\": {\"color\": \"orange\", \"width\": 2}, \"mode\": \"markers\", \"name\": \"The Call\", \"type\": \"scatter\", \"x\": [4960.0], \"y\": [1014.0]}, {\"line\": {\"color\": \"white\", \"width\": 2}, \"mode\": \"markers\", \"name\": \"Kindred\", \"type\": \"scatter\", \"x\": [1667.0], \"y\": [0.0]}, {\"line\": {\"color\": \"red\", \"width\": 2}, \"mode\": \"markers\", \"name\": \"2 Hearts\", \"type\": \"scatter\", \"x\": [39604.0], \"y\": [8781.0]}, {\"line\": {\"color\": \"blue\", \"width\": 2}, \"mode\": \"markers\", \"name\": \"Heaven\", \"type\": \"scatter\", \"x\": [220.0], \"y\": [0.0]}, {\"line\": {\"color\": \"orange\", \"width\": 2}, \"mode\": \"markers\", \"name\": \"Love and Monsters\", \"type\": \"scatter\", \"x\": [120688.0], \"y\": [22201.0]}, {\"line\": {\"color\": \"white\", \"width\": 2}, \"mode\": \"markers\", \"name\": \"Embattled\", \"type\": \"scatter\", \"x\": [15141.0], \"y\": [10662.0]}, {\"line\": {\"color\": \"red\", \"width\": 2}, \"mode\": \"markers\", \"name\": \"Gekijouban Fate/Stay Night: Heaven's Feel - III. Spring Song\", \"type\": \"scatter\", \"x\": [200000.0], \"y\": [0.0]}, {\"line\": {\"color\": \"blue\", \"width\": 2}, \"mode\": \"markers\", \"name\": \"Honest Thief\", \"type\": \"scatter\", \"x\": [642302.0], \"y\": [537113.0]}, {\"line\": {\"color\": \"orange\", \"width\": 2}, \"mode\": \"markers\", \"name\": \"Freaky\", \"type\": \"scatter\", \"x\": [2053090.0], \"y\": [1389310.0]}, {\"line\": {\"color\": \"white\", \"width\": 2}, \"mode\": \"markers\", \"name\": \"The War with Grandpa\", \"type\": \"scatter\", \"x\": [973453.0], \"y\": [1009656.0]}, {\"line\": {\"color\": \"red\", \"width\": 2}, \"mode\": \"markers\", \"name\": \"The Santa Clause2020 Re-release\", \"type\": \"scatter\", \"x\": [461000.0], \"y\": [245000.0]}, {\"line\": {\"color\": \"blue\", \"width\": 2}, \"mode\": \"markers\", \"name\": \"Guardians of the Galaxy2020 Re-release\", \"type\": \"scatter\", \"x\": [136000.0], \"y\": [0.0]}, {\"line\": {\"color\": \"orange\", \"width\": 2}, \"mode\": \"markers\", \"name\": \"True to the Game 2\", \"type\": \"scatter\", \"x\": [248896.0], \"y\": [190020.0]}, {\"line\": {\"color\": \"white\", \"width\": 2}, \"mode\": \"markers\", \"name\": \"Counter Column\", \"type\": \"scatter\", \"x\": [25.0], \"y\": [0.0]}, {\"line\": {\"color\": \"red\", \"width\": 2}, \"mode\": \"markers\", \"name\": \"Come Play\", \"type\": \"scatter\", \"x\": [777275.0], \"y\": [591625.0]}, {\"line\": {\"color\": \"blue\", \"width\": 2}, \"mode\": \"markers\", \"name\": \"Come Away\", \"type\": \"scatter\", \"x\": [59472.0], \"y\": [16449.0]}, {\"line\": {\"color\": \"orange\", \"width\": 2}, \"mode\": \"markers\", \"name\": \"Buddy Games\", \"type\": \"scatter\", \"x\": [150497.0], \"y\": [174157.0]}, {\"line\": {\"color\": \"white\", \"width\": 2}, \"mode\": \"markers\", \"name\": \"Ammonite\", \"type\": \"scatter\", \"x\": [23383.0], \"y\": [7250.0]}, {\"line\": {\"color\": \"red\", \"width\": 2}, \"mode\": \"markers\", \"name\": \"Vanguard\", \"type\": \"scatter\", \"x\": [380428.0], \"y\": [305523.0]}, {\"line\": {\"color\": \"blue\", \"width\": 2}, \"mode\": \"markers\", \"name\": \"After We Collided\", \"type\": \"scatter\", \"x\": [6047.0], \"y\": [2290.0]}, {\"line\": {\"color\": \"orange\", \"width\": 2}, \"mode\": \"markers\", \"name\": \"A Call to Spy\", \"type\": \"scatter\", \"x\": [2168.0], \"y\": [0.0]}, {\"line\": {\"color\": \"white\", \"width\": 2}, \"mode\": \"markers\", \"name\": \"Words on Bathroom Walls\", \"type\": \"scatter\", \"x\": [150.0], \"y\": [24.0]}, {\"line\": {\"color\": \"red\", \"width\": 2}, \"mode\": \"markers\", \"name\": \"2 Hearts\", \"type\": \"scatter\", \"x\": [8781.0], \"y\": [2718.0]}, {\"line\": {\"color\": \"blue\", \"width\": 2}, \"mode\": \"markers\", \"name\": \"Elf2020 Re-release\", \"type\": \"scatter\", \"x\": [180000.0], \"y\": [430000.0]}, {\"line\": {\"color\": \"orange\", \"width\": 2}, \"mode\": \"markers\", \"name\": \"Infidel\", \"type\": \"scatter\", \"x\": [768.0], \"y\": [189.0]}, {\"line\": {\"color\": \"white\", \"width\": 2}, \"mode\": \"markers\", \"name\": \"Pray: The Story of Patrick Peyton\", \"type\": \"scatter\", \"x\": [1494.0], \"y\": [136.0]}, {\"line\": {\"color\": \"red\", \"width\": 2}, \"mode\": \"markers\", \"name\": \"Love and Monsters\", \"type\": \"scatter\", \"x\": [22201.0], \"y\": [0.0]}, {\"line\": {\"color\": \"blue\", \"width\": 2}, \"mode\": \"markers\", \"name\": \"The Last Vermeer\", \"type\": \"scatter\", \"x\": [225691.0], \"y\": [263144.0]}, {\"line\": {\"color\": \"orange\", \"width\": 2}, \"mode\": \"markers\", \"name\": \"The Last Shift\", \"type\": \"scatter\", \"x\": [237863.0], \"y\": [0.0]}, {\"line\": {\"color\": \"white\", \"width\": 2}, \"mode\": \"markers\", \"name\": \"The Forgotten Carols\", \"type\": \"scatter\", \"x\": [103839.0], \"y\": [156728.0]}, {\"line\": {\"color\": \"red\", \"width\": 2}, \"mode\": \"markers\", \"name\": \"Let Him Go\", \"type\": \"scatter\", \"x\": [1110540.0], \"y\": [763680.0]}, {\"line\": {\"color\": \"blue\", \"width\": 2}, \"mode\": \"markers\", \"name\": \"The Empty Man\", \"type\": \"scatter\", \"x\": [44281.0], \"y\": [13296.0]}, {\"line\": {\"color\": \"orange\", \"width\": 2}, \"mode\": \"markers\", \"name\": \"The Informer\", \"type\": \"scatter\", \"x\": [37442.0], \"y\": [14287.0]}, {\"line\": {\"color\": \"white\", \"width\": 2}, \"mode\": \"markers\", \"name\": \"The New Mutants\", \"type\": \"scatter\", \"x\": [73449.0], \"y\": [13873.0]}, {\"line\": {\"color\": \"red\", \"width\": 2}, \"mode\": \"markers\", \"name\": \"The Call\", \"type\": \"scatter\", \"x\": [1014.0], \"y\": [330.0]}, {\"line\": {\"color\": \"blue\", \"width\": 2}, \"mode\": \"markers\", \"name\": \"Spell\", \"type\": \"scatter\", \"x\": [15391.0], \"y\": [0.0]}, {\"line\": {\"color\": \"orange\", \"width\": 2}, \"mode\": \"markers\", \"name\": \"The Broken Hearts Gallery\", \"type\": \"scatter\", \"x\": [1273.0], \"y\": [0.0]}, {\"line\": {\"color\": \"white\", \"width\": 2}, \"mode\": \"markers\", \"name\": \"Come Away\", \"type\": \"scatter\", \"x\": [16449.0], \"y\": [1418.0]}, {\"line\": {\"color\": \"red\", \"width\": 2}, \"mode\": \"markers\", \"name\": \"Come Play\", \"type\": \"scatter\", \"x\": [591625.0], \"y\": [265035.0]}, {\"line\": {\"color\": \"blue\", \"width\": 2}, \"mode\": \"markers\", \"name\": \"The Informer\", \"type\": \"scatter\", \"x\": [14287.0], \"y\": [0.0]}, {\"line\": {\"color\": \"orange\", \"width\": 2}, \"mode\": \"markers\", \"name\": \"Infidel\", \"type\": \"scatter\", \"x\": [189.0], \"y\": [0.0]}, {\"line\": {\"color\": \"white\", \"width\": 2}, \"mode\": \"markers\", \"name\": \"Pray: The Story of Patrick Peyton\", \"type\": \"scatter\", \"x\": [136.0], \"y\": [0.0]}, {\"line\": {\"color\": \"red\", \"width\": 2}, \"mode\": \"markers\", \"name\": \"Stardust\", \"type\": \"scatter\", \"x\": [5964.0], \"y\": [1749.0]}, {\"line\": {\"color\": \"blue\", \"width\": 2}, \"mode\": \"markers\", \"name\": \"True to the Game 2\", \"type\": \"scatter\", \"x\": [190020.0], \"y\": [0.0]}, {\"line\": {\"color\": \"orange\", \"width\": 2}, \"mode\": \"markers\", \"name\": \"Buddy Games\", \"type\": \"scatter\", \"x\": [174157.0], \"y\": [36914.0]}, {\"line\": {\"color\": \"white\", \"width\": 2}, \"mode\": \"markers\", \"name\": \"The Grinch\", \"type\": \"scatter\", \"x\": [82000.0], \"y\": [46000.0]}, {\"line\": {\"color\": \"red\", \"width\": 2}, \"mode\": \"markers\", \"name\": \"National Lampoon's Christmas Vacation2020 Re-release\", \"type\": \"scatter\", \"x\": [220000.0], \"y\": [0.0]}, {\"line\": {\"color\": \"blue\", \"width\": 2}, \"mode\": \"markers\", \"name\": \"The Forgotten Carols\", \"type\": \"scatter\", \"x\": [156728.0], \"y\": [36180.0]}, {\"line\": {\"color\": \"orange\", \"width\": 2}, \"mode\": \"markers\", \"name\": \"Vanguard\", \"type\": \"scatter\", \"x\": [305523.0], \"y\": [27390.0]}, {\"line\": {\"color\": \"white\", \"width\": 2}, \"mode\": \"markers\", \"name\": \"After We Collided\", \"type\": \"scatter\", \"x\": [2290.0], \"y\": [0.0]}, {\"line\": {\"color\": \"red\", \"width\": 2}, \"mode\": \"markers\", \"name\": \"The Empty Man\", \"type\": \"scatter\", \"x\": [13296.0], \"y\": [2889.0]}, {\"line\": {\"color\": \"blue\", \"width\": 2}, \"mode\": \"markers\", \"name\": \"Words on Bathroom Walls\", \"type\": \"scatter\", \"x\": [24.0], \"y\": [0.0]}, {\"line\": {\"color\": \"orange\", \"width\": 2}, \"mode\": \"markers\", \"name\": \"2 Hearts\", \"type\": \"scatter\", \"x\": [2718.0], \"y\": [657.0]}, {\"line\": {\"color\": \"white\", \"width\": 2}, \"mode\": \"markers\", \"name\": \"The Call\", \"type\": \"scatter\", \"x\": [330.0], \"y\": [0.0]}, {\"line\": {\"color\": \"red\", \"width\": 2}, \"mode\": \"markers\", \"name\": \"The Bra\", \"type\": \"scatter\", \"x\": [88.0], \"y\": [0.0]}, {\"line\": {\"color\": \"blue\", \"width\": 2}, \"mode\": \"markers\", \"name\": \"Ammonite\", \"type\": \"scatter\", \"x\": [7250.0], \"y\": [0.0]}, {\"line\": {\"color\": \"orange\", \"width\": 2}, \"mode\": \"markers\", \"name\": \"The Croods: A New Age\", \"type\": \"scatter\", \"x\": [14274455.0], \"y\": [4785955.0]}, {\"line\": {\"color\": \"white\", \"width\": 2}, \"mode\": \"markers\", \"name\": \"The Last Vermeer\", \"type\": \"scatter\", \"x\": [263144.0], \"y\": [54065.0]}, {\"line\": {\"color\": \"red\", \"width\": 2}, \"mode\": \"markers\", \"name\": \"Let Him Go\", \"type\": \"scatter\", \"x\": [763680.0], \"y\": [268275.0]}, {\"line\": {\"color\": \"blue\", \"width\": 2}, \"mode\": \"markers\", \"name\": \"Embattled\", \"type\": \"scatter\", \"x\": [10662.0], \"y\": [1197.0]}, {\"line\": {\"color\": \"orange\", \"width\": 2}, \"mode\": \"markers\", \"name\": \"The New Mutants\", \"type\": \"scatter\", \"x\": [13873.0], \"y\": [3128.0]}, {\"line\": {\"color\": \"white\", \"width\": 2}, \"mode\": \"markers\", \"name\": \"Find Your Voice\", \"type\": \"scatter\", \"x\": [157.0], \"y\": [0.0]}, {\"line\": {\"color\": \"red\", \"width\": 2}, \"mode\": \"markers\", \"name\": \"In the Life of Music\", \"type\": \"scatter\", \"x\": [112.0], \"y\": [0.0]}, {\"line\": {\"color\": \"blue\", \"width\": 2}, \"mode\": \"markers\", \"name\": \"Elf2020 Re-release\", \"type\": \"scatter\", \"x\": [430000.0], \"y\": [0.0]}, {\"line\": {\"color\": \"orange\", \"width\": 2}, \"mode\": \"markers\", \"name\": \"The War with Grandpa\", \"type\": \"scatter\", \"x\": [1009656.0], \"y\": [346917.0]}, {\"line\": {\"color\": \"white\", \"width\": 2}, \"mode\": \"markers\", \"name\": \"Honest Thief\", \"type\": \"scatter\", \"x\": [537113.0], \"y\": [146832.0]}, {\"line\": {\"color\": \"red\", \"width\": 2}, \"mode\": \"markers\", \"name\": \"Freaky\", \"type\": \"scatter\", \"x\": [1389310.0], \"y\": [578585.0]}, {\"line\": {\"color\": \"blue\", \"width\": 2}, \"mode\": \"markers\", \"name\": \"The Santa Clause2020 Re-release\", \"type\": \"scatter\", \"x\": [245000.0], \"y\": [0.0]}, {\"line\": {\"color\": \"orange\", \"width\": 2}, \"mode\": \"markers\", \"name\": \"Last Call\", \"type\": \"scatter\", \"x\": [2994.0], \"y\": [1120.0]}, {\"line\": {\"color\": \"white\", \"width\": 2}, \"mode\": \"markers\", \"name\": \"The Shade Shepherd\", \"type\": \"scatter\", \"x\": [101.0], \"y\": [0.0]}, {\"line\": {\"color\": \"red\", \"width\": 2}, \"mode\": \"markers\", \"name\": \"Frozen2020 Re-release\", \"type\": \"scatter\", \"x\": [155000.0], \"y\": [41000.0]}, {\"line\": {\"color\": \"blue\", \"width\": 2}, \"mode\": \"markers\", \"name\": \"Last Call\", \"type\": \"scatter\", \"x\": [1120.0], \"y\": [0.0]}, {\"line\": {\"color\": \"orange\", \"width\": 2}, \"mode\": \"markers\", \"name\": \"The Empty Man\", \"type\": \"scatter\", \"x\": [2889.0], \"y\": [0.0]}, {\"line\": {\"color\": \"white\", \"width\": 2}, \"mode\": \"markers\", \"name\": \"Die Hard2020 Re-release\", \"type\": \"scatter\", \"x\": [62000.0], \"y\": [0.0]}, {\"line\": {\"color\": \"red\", \"width\": 2}, \"mode\": \"markers\", \"name\": \"Honest Thief\", \"type\": \"scatter\", \"x\": [146832.0], \"y\": [0.0]}, {\"line\": {\"color\": \"blue\", \"width\": 2}, \"mode\": \"markers\", \"name\": \"2 Hearts\", \"type\": \"scatter\", \"x\": [657.0], \"y\": [0.0]}, {\"line\": {\"color\": \"orange\", \"width\": 2}, \"mode\": \"markers\", \"name\": \"The Croods: A New Age\", \"type\": \"scatter\", \"x\": [4785955.0], \"y\": [0.0]}, {\"line\": {\"color\": \"white\", \"width\": 2}, \"mode\": \"markers\", \"name\": \"All My Life\", \"type\": \"scatter\", \"x\": [280000.0], \"y\": [0.0]}, {\"line\": {\"color\": \"red\", \"width\": 2}, \"mode\": \"markers\", \"name\": \"Vanguard\", \"type\": \"scatter\", \"x\": [27390.0], \"y\": [0.0]}, {\"line\": {\"color\": \"blue\", \"width\": 2}, \"mode\": \"markers\", \"name\": \"The Forgotten Carols\", \"type\": \"scatter\", \"x\": [36180.0], \"y\": [0.0]}, {\"line\": {\"color\": \"orange\", \"width\": 2}, \"mode\": \"markers\", \"name\": \"The Climb\", \"type\": \"scatter\", \"x\": [2148.0], \"y\": [0.0]}, {\"line\": {\"color\": \"white\", \"width\": 2}, \"mode\": \"markers\", \"name\": \"The Last Vermeer\", \"type\": \"scatter\", \"x\": [54065.0], \"y\": [0.0]}, {\"line\": {\"color\": \"red\", \"width\": 2}, \"mode\": \"markers\", \"name\": \"Frozen2020 Re-release\", \"type\": \"scatter\", \"x\": [41000.0], \"y\": [0.0]}, {\"line\": {\"color\": \"blue\", \"width\": 2}, \"mode\": \"markers\", \"name\": \"Buddy Games\", \"type\": \"scatter\", \"x\": [36914.0], \"y\": [0.0]}, {\"line\": {\"color\": \"orange\", \"width\": 2}, \"mode\": \"markers\", \"name\": \"The Grinch\", \"type\": \"scatter\", \"x\": [46000.0], \"y\": [0.0]}, {\"line\": {\"color\": \"white\", \"width\": 2}, \"mode\": \"markers\", \"name\": \"Freaky\", \"type\": \"scatter\", \"x\": [578585.0], \"y\": [0.0]}, {\"line\": {\"color\": \"red\", \"width\": 2}, \"mode\": \"markers\", \"name\": \"Come Away\", \"type\": \"scatter\", \"x\": [1418.0], \"y\": [0.0]}, {\"line\": {\"color\": \"blue\", \"width\": 2}, \"mode\": \"markers\", \"name\": \"Stardust\", \"type\": \"scatter\", \"x\": [1749.0], \"y\": [0.0]}, {\"line\": {\"color\": \"orange\", \"width\": 2}, \"mode\": \"markers\", \"name\": \"The War with Grandpa\", \"type\": \"scatter\", \"x\": [346917.0], \"y\": [0.0]}, {\"line\": {\"color\": \"white\", \"width\": 2}, \"mode\": \"markers\", \"name\": \"Come Play\", \"type\": \"scatter\", \"x\": [265035.0], \"y\": [0.0]}, {\"line\": {\"color\": \"red\", \"width\": 2}, \"mode\": \"markers\", \"name\": \"Embattled\", \"type\": \"scatter\", \"x\": [1197.0], \"y\": [0.0]}, {\"line\": {\"color\": \"blue\", \"width\": 2}, \"mode\": \"markers\", \"name\": \"Let Him Go\", \"type\": \"scatter\", \"x\": [268275.0], \"y\": [0.0]}, {\"line\": {\"color\": \"orange\", \"width\": 2}, \"mode\": \"markers\", \"name\": \"Half Brothers\", \"type\": \"scatter\", \"x\": [470000.0], \"y\": [0.0]}, {\"line\": {\"color\": \"white\", \"width\": 2}, \"mode\": \"markers\", \"name\": \"The New Mutants\", \"type\": \"scatter\", \"x\": [3128.0], \"y\": [0.0]}],                        {\"paper_bgcolor\": \"#23272c\", \"plot_bgcolor\": \"#23272c\", \"template\": {\"data\": {\"bar\": [{\"error_x\": {\"color\": \"#f2f5fa\"}, \"error_y\": {\"color\": \"#f2f5fa\"}, \"marker\": {\"line\": {\"color\": \"rgb(17,17,17)\", \"width\": 0.5}}, \"type\": \"bar\"}], \"barpolar\": [{\"marker\": {\"line\": {\"color\": \"rgb(17,17,17)\", \"width\": 0.5}}, \"type\": \"barpolar\"}], \"carpet\": [{\"aaxis\": {\"endlinecolor\": \"#A2B1C6\", \"gridcolor\": \"#506784\", \"linecolor\": \"#506784\", \"minorgridcolor\": \"#506784\", \"startlinecolor\": \"#A2B1C6\"}, \"baxis\": {\"endlinecolor\": \"#A2B1C6\", \"gridcolor\": \"#506784\", \"linecolor\": \"#506784\", \"minorgridcolor\": \"#506784\", \"startlinecolor\": \"#A2B1C6\"}, \"type\": \"carpet\"}], \"choropleth\": [{\"colorbar\": {\"outlinewidth\": 0, \"ticks\": \"\"}, \"type\": \"choropleth\"}], \"contour\": [{\"colorbar\": {\"outlinewidth\": 0, \"ticks\": \"\"}, \"colorscale\": [[0.0, \"#0d0887\"], [0.1111111111111111, \"#46039f\"], [0.2222222222222222, \"#7201a8\"], [0.3333333333333333, \"#9c179e\"], [0.4444444444444444, \"#bd3786\"], [0.5555555555555556, \"#d8576b\"], [0.6666666666666666, \"#ed7953\"], [0.7777777777777778, \"#fb9f3a\"], [0.8888888888888888, \"#fdca26\"], [1.0, \"#f0f921\"]], \"type\": \"contour\"}], \"contourcarpet\": [{\"colorbar\": {\"outlinewidth\": 0, \"ticks\": \"\"}, \"type\": \"contourcarpet\"}], \"heatmap\": [{\"colorbar\": {\"outlinewidth\": 0, \"ticks\": \"\"}, \"colorscale\": [[0.0, \"#0d0887\"], [0.1111111111111111, \"#46039f\"], [0.2222222222222222, \"#7201a8\"], [0.3333333333333333, \"#9c179e\"], [0.4444444444444444, \"#bd3786\"], [0.5555555555555556, \"#d8576b\"], [0.6666666666666666, \"#ed7953\"], [0.7777777777777778, \"#fb9f3a\"], [0.8888888888888888, \"#fdca26\"], [1.0, \"#f0f921\"]], \"type\": \"heatmap\"}], \"heatmapgl\": [{\"colorbar\": {\"outlinewidth\": 0, \"ticks\": \"\"}, \"colorscale\": [[0.0, \"#0d0887\"], [0.1111111111111111, \"#46039f\"], [0.2222222222222222, \"#7201a8\"], [0.3333333333333333, \"#9c179e\"], [0.4444444444444444, \"#bd3786\"], [0.5555555555555556, \"#d8576b\"], [0.6666666666666666, \"#ed7953\"], [0.7777777777777778, \"#fb9f3a\"], [0.8888888888888888, \"#fdca26\"], [1.0, \"#f0f921\"]], \"type\": \"heatmapgl\"}], \"histogram\": [{\"marker\": {\"colorbar\": {\"outlinewidth\": 0, \"ticks\": \"\"}}, \"type\": \"histogram\"}], \"histogram2d\": [{\"colorbar\": {\"outlinewidth\": 0, \"ticks\": \"\"}, \"colorscale\": [[0.0, \"#0d0887\"], [0.1111111111111111, \"#46039f\"], [0.2222222222222222, \"#7201a8\"], [0.3333333333333333, \"#9c179e\"], [0.4444444444444444, \"#bd3786\"], [0.5555555555555556, \"#d8576b\"], [0.6666666666666666, \"#ed7953\"], [0.7777777777777778, \"#fb9f3a\"], [0.8888888888888888, \"#fdca26\"], [1.0, \"#f0f921\"]], \"type\": \"histogram2d\"}], \"histogram2dcontour\": [{\"colorbar\": {\"outlinewidth\": 0, \"ticks\": \"\"}, \"colorscale\": [[0.0, \"#0d0887\"], [0.1111111111111111, \"#46039f\"], [0.2222222222222222, \"#7201a8\"], [0.3333333333333333, \"#9c179e\"], [0.4444444444444444, \"#bd3786\"], [0.5555555555555556, \"#d8576b\"], [0.6666666666666666, \"#ed7953\"], [0.7777777777777778, \"#fb9f3a\"], [0.8888888888888888, \"#fdca26\"], [1.0, \"#f0f921\"]], \"type\": \"histogram2dcontour\"}], \"mesh3d\": [{\"colorbar\": {\"outlinewidth\": 0, \"ticks\": \"\"}, \"type\": \"mesh3d\"}], \"parcoords\": [{\"line\": {\"colorbar\": {\"outlinewidth\": 0, \"ticks\": \"\"}}, \"type\": \"parcoords\"}], \"pie\": [{\"automargin\": true, \"type\": \"pie\"}], \"scatter\": [{\"marker\": {\"line\": {\"color\": \"#283442\"}}, \"type\": \"scatter\"}], \"scatter3d\": [{\"line\": {\"colorbar\": {\"outlinewidth\": 0, \"ticks\": \"\"}}, \"marker\": {\"colorbar\": {\"outlinewidth\": 0, \"ticks\": \"\"}}, \"type\": \"scatter3d\"}], \"scattercarpet\": [{\"marker\": {\"colorbar\": {\"outlinewidth\": 0, \"ticks\": \"\"}}, \"type\": \"scattercarpet\"}], \"scattergeo\": [{\"marker\": {\"colorbar\": {\"outlinewidth\": 0, \"ticks\": \"\"}}, \"type\": \"scattergeo\"}], \"scattergl\": [{\"marker\": {\"line\": {\"color\": \"#283442\"}}, \"type\": \"scattergl\"}], \"scattermapbox\": [{\"marker\": {\"colorbar\": {\"outlinewidth\": 0, \"ticks\": \"\"}}, \"type\": \"scattermapbox\"}], \"scatterpolar\": [{\"marker\": {\"colorbar\": {\"outlinewidth\": 0, \"ticks\": \"\"}}, \"type\": \"scatterpolar\"}], \"scatterpolargl\": [{\"marker\": {\"colorbar\": {\"outlinewidth\": 0, \"ticks\": \"\"}}, \"type\": \"scatterpolargl\"}], \"scatterternary\": [{\"marker\": {\"colorbar\": {\"outlinewidth\": 0, \"ticks\": \"\"}}, \"type\": \"scatterternary\"}], \"surface\": [{\"colorbar\": {\"outlinewidth\": 0, \"ticks\": \"\"}, \"colorscale\": [[0.0, \"#0d0887\"], [0.1111111111111111, \"#46039f\"], [0.2222222222222222, \"#7201a8\"], [0.3333333333333333, \"#9c179e\"], [0.4444444444444444, \"#bd3786\"], [0.5555555555555556, \"#d8576b\"], [0.6666666666666666, \"#ed7953\"], [0.7777777777777778, \"#fb9f3a\"], [0.8888888888888888, \"#fdca26\"], [1.0, \"#f0f921\"]], \"type\": \"surface\"}], \"table\": [{\"cells\": {\"fill\": {\"color\": \"#506784\"}, \"line\": {\"color\": \"rgb(17,17,17)\"}}, \"header\": {\"fill\": {\"color\": \"#2a3f5f\"}, \"line\": {\"color\": \"rgb(17,17,17)\"}}, \"type\": \"table\"}]}, \"layout\": {\"annotationdefaults\": {\"arrowcolor\": \"#f2f5fa\", \"arrowhead\": 0, \"arrowwidth\": 1}, \"coloraxis\": {\"colorbar\": {\"outlinewidth\": 0, \"ticks\": \"\"}}, \"colorscale\": {\"diverging\": [[0, \"#8e0152\"], [0.1, \"#c51b7d\"], [0.2, \"#de77ae\"], [0.3, \"#f1b6da\"], [0.4, \"#fde0ef\"], [0.5, \"#f7f7f7\"], [0.6, \"#e6f5d0\"], [0.7, \"#b8e186\"], [0.8, \"#7fbc41\"], [0.9, \"#4d9221\"], [1, \"#276419\"]], \"sequential\": [[0.0, \"#0d0887\"], [0.1111111111111111, \"#46039f\"], [0.2222222222222222, \"#7201a8\"], [0.3333333333333333, \"#9c179e\"], [0.4444444444444444, \"#bd3786\"], [0.5555555555555556, \"#d8576b\"], [0.6666666666666666, \"#ed7953\"], [0.7777777777777778, \"#fb9f3a\"], [0.8888888888888888, \"#fdca26\"], [1.0, \"#f0f921\"]], \"sequentialminus\": [[0.0, \"#0d0887\"], [0.1111111111111111, \"#46039f\"], [0.2222222222222222, \"#7201a8\"], [0.3333333333333333, \"#9c179e\"], [0.4444444444444444, \"#bd3786\"], [0.5555555555555556, \"#d8576b\"], [0.6666666666666666, \"#ed7953\"], [0.7777777777777778, \"#fb9f3a\"], [0.8888888888888888, \"#fdca26\"], [1.0, \"#f0f921\"]]}, \"colorway\": [\"#636efa\", \"#EF553B\", \"#00cc96\", \"#ab63fa\", \"#FFA15A\", \"#19d3f3\", \"#FF6692\", \"#B6E880\", \"#FF97FF\", \"#FECB52\"], \"font\": {\"color\": \"#f2f5fa\"}, \"geo\": {\"bgcolor\": \"rgb(17,17,17)\", \"lakecolor\": \"rgb(17,17,17)\", \"landcolor\": \"rgb(17,17,17)\", \"showlakes\": true, \"showland\": true, \"subunitcolor\": \"#506784\"}, \"hoverlabel\": {\"align\": \"left\"}, \"hovermode\": \"closest\", \"mapbox\": {\"style\": \"dark\"}, \"paper_bgcolor\": \"rgb(17,17,17)\", \"plot_bgcolor\": \"rgb(17,17,17)\", \"polar\": {\"angularaxis\": {\"gridcolor\": \"#506784\", \"linecolor\": \"#506784\", \"ticks\": \"\"}, \"bgcolor\": \"rgb(17,17,17)\", \"radialaxis\": {\"gridcolor\": \"#506784\", \"linecolor\": \"#506784\", \"ticks\": \"\"}}, \"scene\": {\"xaxis\": {\"backgroundcolor\": \"rgb(17,17,17)\", \"gridcolor\": \"#506784\", \"gridwidth\": 2, \"linecolor\": \"#506784\", \"showbackground\": true, \"ticks\": \"\", \"zerolinecolor\": \"#C8D4E3\"}, \"yaxis\": {\"backgroundcolor\": \"rgb(17,17,17)\", \"gridcolor\": \"#506784\", \"gridwidth\": 2, \"linecolor\": \"#506784\", \"showbackground\": true, \"ticks\": \"\", \"zerolinecolor\": \"#C8D4E3\"}, \"zaxis\": {\"backgroundcolor\": \"rgb(17,17,17)\", \"gridcolor\": \"#506784\", \"gridwidth\": 2, \"linecolor\": \"#506784\", \"showbackground\": true, \"ticks\": \"\", \"zerolinecolor\": \"#C8D4E3\"}}, \"shapedefaults\": {\"line\": {\"color\": \"#f2f5fa\"}}, \"sliderdefaults\": {\"bgcolor\": \"#C8D4E3\", \"bordercolor\": \"rgb(17,17,17)\", \"borderwidth\": 1, \"tickwidth\": 0}, \"ternary\": {\"aaxis\": {\"gridcolor\": \"#506784\", \"linecolor\": \"#506784\", \"ticks\": \"\"}, \"baxis\": {\"gridcolor\": \"#506784\", \"linecolor\": \"#506784\", \"ticks\": \"\"}, \"bgcolor\": \"rgb(17,17,17)\", \"caxis\": {\"gridcolor\": \"#506784\", \"linecolor\": \"#506784\", \"ticks\": \"\"}}, \"title\": {\"x\": 0.05}, \"updatemenudefaults\": {\"bgcolor\": \"#506784\", \"borderwidth\": 0}, \"xaxis\": {\"automargin\": true, \"gridcolor\": \"#283442\", \"linecolor\": \"#506784\", \"ticks\": \"\", \"title\": {\"standoff\": 15}, \"zerolinecolor\": \"#283442\", \"zerolinewidth\": 2}, \"yaxis\": {\"automargin\": true, \"gridcolor\": \"#283442\", \"linecolor\": \"#506784\", \"ticks\": \"\", \"title\": {\"standoff\": 15}, \"zerolinecolor\": \"#283442\", \"zerolinewidth\": 2}}}, \"title\": {\"text\": \"Weekly vs Week + 1: Correlation = 0.8697401671869476\"}, \"xaxis\": {\"title\": {\"text\": \"Week + 1\"}}, \"yaxis\": {\"title\": {\"text\": \"Weekly Gross\"}}},                        {\"responsive\": true}                    ).then(function(){\n",
       "                            \n",
       "var gd = document.getElementById('305eb6ea-d773-4c8a-abdf-b9582e0a7fbe');\n",
       "var x = new MutationObserver(function (mutations, observer) {{\n",
       "        var display = window.getComputedStyle(gd).display;\n",
       "        if (!display || display === 'none') {{\n",
       "            console.log([gd, 'removed!']);\n",
       "            Plotly.purge(gd);\n",
       "            observer.disconnect();\n",
       "        }}\n",
       "}});\n",
       "\n",
       "// Listen for the removal of the full notebook cells\n",
       "var notebookContainer = gd.closest('#notebook-container');\n",
       "if (notebookContainer) {{\n",
       "    x.observe(notebookContainer, {childList: true});\n",
       "}}\n",
       "\n",
       "// Listen for the clearing of the current output cell\n",
       "var outputEl = gd.closest('.output');\n",
       "if (outputEl) {{\n",
       "    x.observe(outputEl, {childList: true});\n",
       "}}\n",
       "\n",
       "                        })                };                });            </script>        </div>"
      ]
     },
     "metadata": {},
     "output_type": "display_data"
    }
   ],
   "source": [
    "import plotly.graph_objects as go\n",
    "import pandas as pd\n",
    "from datetime import timedelta\n",
    "\n",
    "\n",
    "COLORS = ['rgb(67,67,67)', 'rgb(115,115,115)', 'rgb(49,130,189)', 'rgb(189,189,189)']\n",
    "c = ['red', 'blue', 'orange', 'white']\n",
    "def static_stacked_trend_graph(stack=False):\n",
    "    \"\"\"\n",
    "    Returns scatter line plot of all power sources and power load.\n",
    "    If `stack` is `True`, the 4 power sources are stacked together to show the overall power\n",
    "    production.\n",
    "    \"\"\"\n",
    "    trends = []\n",
    "    revenues = []\n",
    "    \n",
    "    stack=False\n",
    "    df = pd.read_csv('2_mo_weekly.csv', sep='\\t')\n",
    "    df['Date_dt'] = df['Date'].astype('datetime64[ns]')\n",
    "    date = df['Date_dt'].iloc[-1]\n",
    "    if df is None:\n",
    "        return go.Figure()\n",
    "    \n",
    "    fig = go.Figure()\n",
    "    movie_list = df[df['Date_dt'] == date].sort_values(by=['Weekly'], ascending=False)['Release'][0:20]\n",
    "    for row in range(df.shape[0]):\n",
    "        date = df['Date_dt'].iloc[-1]\n",
    "        trend = df.iloc[row]['Weekly']\n",
    "        #if trend > 40:\n",
    "        #    continue\n",
    "        rev = df.iloc[row]['Week + 1']\n",
    "        #if trend > 1 and rev <1e6:\n",
    "        #    continue\n",
    "        #if trend == 0:\n",
    "        #    continue\n",
    "        trends.append(trend)\n",
    "        revenues.append(rev)\n",
    "        fig.add_trace(go.Scatter(x=[trend], y=[rev], mode='markers', name=df.iloc[row][\"Release\"],\n",
    "                         line={'width': 2, 'color': c[row%4]},\n",
    "                         stackgroup='stack' if stack else None))\n",
    "    trends, revenues = pd.Series(trends), pd.Series(revenues)\n",
    "    corr = trends.corr(revenues)\n",
    "    \n",
    "    title = f'Weekly vs Week + 1: Correlation = {corr}'\n",
    "    if stack:\n",
    "        title += ' [Stacked]'\n",
    "    fig.update_layout(template='plotly_dark',\n",
    "                      title=title,\n",
    "                      plot_bgcolor='#23272c',\n",
    "                      paper_bgcolor='#23272c',\n",
    "                      yaxis_title='Weekly Gross',\n",
    "                      xaxis_title='Week + 1')\n",
    "    return fig\n",
    "static_stacked_trend_graph()"
   ]
  },
  {
   "cell_type": "code",
   "execution_count": 33,
   "metadata": {
    "scrolled": true
   },
   "outputs": [
    {
     "name": "stdout",
     "output_type": "stream",
     "text": [
      "0.41037587135014253\n",
      "0.7194935800258426\n",
      "0.6506533154018306\n",
      "0.4305436384157956\n",
      "0.31896437197444805\n",
      "-0.027364522535755727\n",
      "-0.013952650934437682\n",
      "0.09421258149106075\n",
      "-0.11738711937268864\n",
      "-0.1338400485409121\n",
      "0.08540554010796937\n",
      "0.8378120873181539\n",
      "0.8702130302810439\n",
      "0.859311248055649\n",
      "0.7200875932162227\n",
      "0.6805825730787766\n"
     ]
    }
   ],
   "source": [
    "import plotly.graph_objects as go\n",
    "\n",
    "df = pd.read_csv('3_mo_weekly.csv', sep='\\t')\n",
    "df['Date_dt'] = df['Date'].astype('datetime64[ns]')\n",
    "df['google trends'] = df['google trends'] * df['Release'].apply(lambda x: len(re.sub('2020 Re-release', '', x).split(' ')))\n",
    "\n",
    "\n",
    "for i in range(len(df['Date_dt'].unique())):\n",
    "    date = df['Date_dt'].unique()[i]  #.iloc[-10]\n",
    "    \n",
    "    corr_list = []\n",
    "    fig = go.Figure()\n",
    "    sorted_df = df[df['Date_dt'] == date].sort_values(by=['Weekly'], ascending=False)[0:15][::-1]\n",
    "    y = sorted_df['Release']\n",
    "    x_rev = sorted_df['Weekly'] / np.sum(sorted_df['Weekly'])\n",
    "    x_trend = sorted_df['google trends'] / np.sum(sorted_df['google trends'])\n",
    "    trends, revenues = pd.Series(x_trend), pd.Series(x_rev)\n",
    "    corr = trends.corr(revenues)\n",
    "    print(corr)\n",
    "    #plt.scatter(x_rev, x_trend)\n",
    "    #plt.show()\n",
    "    corr_list.append(corr)\n",
    "    continue\n",
    "    \n",
    "    fig = go.Figure()\n",
    "    fig.add_trace(go.Bar(\n",
    "        y=y,\n",
    "        x=x_rev,\n",
    "        name='Gross',\n",
    "        orientation='h',\n",
    "        marker=dict(\n",
    "            color='blue', #rgba(246, 78, 139, 0.6)',\n",
    "            line=dict(color='rgba(246, 78, 139, 1.0)', width=3)\n",
    "        )\n",
    "    ))\n",
    "    fig.add_trace(go.Bar(\n",
    "        y=y,\n",
    "        x=x_trend,\n",
    "        name='Google Trends',\n",
    "        orientation='h',\n",
    "        marker=dict(\n",
    "            color='red', #rgba(58, 71, 80, 0.6)',\n",
    "            line=dict(color='rgba(58, 71, 80, 1.0)', width=3)\n",
    "        )\n",
    "    ))\n",
    "    title = f'Normalized Gross and Google Trends for top 15 Movies: Correlation = {corr}'\n",
    "\n",
    "    #fig.update_layout(barmode='stack')\n",
    "    fig.update_layout(template='plotly_dark',\n",
    "                      title=title,\n",
    "                      plot_bgcolor='#23272c',\n",
    "                      paper_bgcolor='#23272c',\n",
    "                      yaxis_title='Movies',\n",
    "                      xaxis_title='Normalized Quantities',barmode='stack')\n",
    "\n",
    "\n",
    "    fig.show()\n"
   ]
  },
  {
   "cell_type": "code",
   "execution_count": 38,
   "metadata": {},
   "outputs": [
    {
     "name": "stdout",
     "output_type": "stream",
     "text": [
      "2020-12-07T00:00:00.000000000\n"
     ]
    },
    {
     "data": {
      "application/vnd.plotly.v1+json": {
       "config": {
        "plotlyServerURL": "https://plot.ly"
       },
       "data": [
        {
         "marker": {
          "color": "blue",
          "line": {
           "color": "rgba(246, 78, 139, 1.0)",
           "width": 3
          }
         },
         "name": "Gross",
         "orientation": "h",
         "type": "bar",
         "x": [
          0.016929944143818612,
          0.017182629877308443,
          0.020214858679186404,
          0.02336395463280341,
          0.02387880181478894,
          0.024873246518938165,
          0.029581918819654402,
          0.03019594515203469,
          0.03095400235250418,
          0.040494152220412714,
          0.043162387223198574,
          0.05053714669796601,
          0.0602819720100013,
          0.08672048030504222,
          0.501628559552342
         ],
         "y": [
          "How the Grinch Stole Christmas2020 Re-release",
          "Die Hard2020 Re-release",
          "The Grinch2020 Re-release",
          "Let Him Go",
          "Wonder Woman2020 Re-release",
          "Honest Thief",
          "Come Play",
          "National Lampoon's Christmas Vacation2020 Re-release",
          "The Polar Express2020 Re-release",
          "All My Life",
          "The War with Grandpa",
          "Elf2020 Re-release",
          "Freaky",
          "Half Brothers",
          "The Croods: A New Age"
         ]
        },
        {
         "marker": {
          "color": "red",
          "line": {
           "color": "rgba(58, 71, 80, 1.0)",
           "width": 3
          }
         },
         "name": "Google Trends",
         "orientation": "h",
         "type": "bar",
         "x": [
          0.008559217112269073,
          0.07153080452626162,
          0.08494283037493568,
          0.06523609372795061,
          0.0807503304429798,
          0,
          0.029825815992334512,
          0,
          0.017087024253483952,
          0.04469880496174393,
          0.0062945581992613665,
          0.25168246037017983,
          0.24800402441092337,
          0.0065207099908515965,
          0.08486732563682463
         ],
         "y": [
          "How the Grinch Stole Christmas2020 Re-release",
          "Die Hard2020 Re-release",
          "The Grinch2020 Re-release",
          "Let Him Go",
          "Wonder Woman2020 Re-release",
          "Honest Thief",
          "Come Play",
          "National Lampoon's Christmas Vacation2020 Re-release",
          "The Polar Express2020 Re-release",
          "All My Life",
          "The War with Grandpa",
          "Elf2020 Re-release",
          "Freaky",
          "Half Brothers",
          "The Croods: A New Age"
         ]
        }
       ],
       "layout": {
        "barmode": "stack",
        "paper_bgcolor": "#23272c",
        "plot_bgcolor": "#23272c",
        "template": {
         "data": {
          "bar": [
           {
            "error_x": {
             "color": "#f2f5fa"
            },
            "error_y": {
             "color": "#f2f5fa"
            },
            "marker": {
             "line": {
              "color": "rgb(17,17,17)",
              "width": 0.5
             }
            },
            "type": "bar"
           }
          ],
          "barpolar": [
           {
            "marker": {
             "line": {
              "color": "rgb(17,17,17)",
              "width": 0.5
             }
            },
            "type": "barpolar"
           }
          ],
          "carpet": [
           {
            "aaxis": {
             "endlinecolor": "#A2B1C6",
             "gridcolor": "#506784",
             "linecolor": "#506784",
             "minorgridcolor": "#506784",
             "startlinecolor": "#A2B1C6"
            },
            "baxis": {
             "endlinecolor": "#A2B1C6",
             "gridcolor": "#506784",
             "linecolor": "#506784",
             "minorgridcolor": "#506784",
             "startlinecolor": "#A2B1C6"
            },
            "type": "carpet"
           }
          ],
          "choropleth": [
           {
            "colorbar": {
             "outlinewidth": 0,
             "ticks": ""
            },
            "type": "choropleth"
           }
          ],
          "contour": [
           {
            "colorbar": {
             "outlinewidth": 0,
             "ticks": ""
            },
            "colorscale": [
             [
              0,
              "#0d0887"
             ],
             [
              0.1111111111111111,
              "#46039f"
             ],
             [
              0.2222222222222222,
              "#7201a8"
             ],
             [
              0.3333333333333333,
              "#9c179e"
             ],
             [
              0.4444444444444444,
              "#bd3786"
             ],
             [
              0.5555555555555556,
              "#d8576b"
             ],
             [
              0.6666666666666666,
              "#ed7953"
             ],
             [
              0.7777777777777778,
              "#fb9f3a"
             ],
             [
              0.8888888888888888,
              "#fdca26"
             ],
             [
              1,
              "#f0f921"
             ]
            ],
            "type": "contour"
           }
          ],
          "contourcarpet": [
           {
            "colorbar": {
             "outlinewidth": 0,
             "ticks": ""
            },
            "type": "contourcarpet"
           }
          ],
          "heatmap": [
           {
            "colorbar": {
             "outlinewidth": 0,
             "ticks": ""
            },
            "colorscale": [
             [
              0,
              "#0d0887"
             ],
             [
              0.1111111111111111,
              "#46039f"
             ],
             [
              0.2222222222222222,
              "#7201a8"
             ],
             [
              0.3333333333333333,
              "#9c179e"
             ],
             [
              0.4444444444444444,
              "#bd3786"
             ],
             [
              0.5555555555555556,
              "#d8576b"
             ],
             [
              0.6666666666666666,
              "#ed7953"
             ],
             [
              0.7777777777777778,
              "#fb9f3a"
             ],
             [
              0.8888888888888888,
              "#fdca26"
             ],
             [
              1,
              "#f0f921"
             ]
            ],
            "type": "heatmap"
           }
          ],
          "heatmapgl": [
           {
            "colorbar": {
             "outlinewidth": 0,
             "ticks": ""
            },
            "colorscale": [
             [
              0,
              "#0d0887"
             ],
             [
              0.1111111111111111,
              "#46039f"
             ],
             [
              0.2222222222222222,
              "#7201a8"
             ],
             [
              0.3333333333333333,
              "#9c179e"
             ],
             [
              0.4444444444444444,
              "#bd3786"
             ],
             [
              0.5555555555555556,
              "#d8576b"
             ],
             [
              0.6666666666666666,
              "#ed7953"
             ],
             [
              0.7777777777777778,
              "#fb9f3a"
             ],
             [
              0.8888888888888888,
              "#fdca26"
             ],
             [
              1,
              "#f0f921"
             ]
            ],
            "type": "heatmapgl"
           }
          ],
          "histogram": [
           {
            "marker": {
             "colorbar": {
              "outlinewidth": 0,
              "ticks": ""
             }
            },
            "type": "histogram"
           }
          ],
          "histogram2d": [
           {
            "colorbar": {
             "outlinewidth": 0,
             "ticks": ""
            },
            "colorscale": [
             [
              0,
              "#0d0887"
             ],
             [
              0.1111111111111111,
              "#46039f"
             ],
             [
              0.2222222222222222,
              "#7201a8"
             ],
             [
              0.3333333333333333,
              "#9c179e"
             ],
             [
              0.4444444444444444,
              "#bd3786"
             ],
             [
              0.5555555555555556,
              "#d8576b"
             ],
             [
              0.6666666666666666,
              "#ed7953"
             ],
             [
              0.7777777777777778,
              "#fb9f3a"
             ],
             [
              0.8888888888888888,
              "#fdca26"
             ],
             [
              1,
              "#f0f921"
             ]
            ],
            "type": "histogram2d"
           }
          ],
          "histogram2dcontour": [
           {
            "colorbar": {
             "outlinewidth": 0,
             "ticks": ""
            },
            "colorscale": [
             [
              0,
              "#0d0887"
             ],
             [
              0.1111111111111111,
              "#46039f"
             ],
             [
              0.2222222222222222,
              "#7201a8"
             ],
             [
              0.3333333333333333,
              "#9c179e"
             ],
             [
              0.4444444444444444,
              "#bd3786"
             ],
             [
              0.5555555555555556,
              "#d8576b"
             ],
             [
              0.6666666666666666,
              "#ed7953"
             ],
             [
              0.7777777777777778,
              "#fb9f3a"
             ],
             [
              0.8888888888888888,
              "#fdca26"
             ],
             [
              1,
              "#f0f921"
             ]
            ],
            "type": "histogram2dcontour"
           }
          ],
          "mesh3d": [
           {
            "colorbar": {
             "outlinewidth": 0,
             "ticks": ""
            },
            "type": "mesh3d"
           }
          ],
          "parcoords": [
           {
            "line": {
             "colorbar": {
              "outlinewidth": 0,
              "ticks": ""
             }
            },
            "type": "parcoords"
           }
          ],
          "pie": [
           {
            "automargin": true,
            "type": "pie"
           }
          ],
          "scatter": [
           {
            "marker": {
             "line": {
              "color": "#283442"
             }
            },
            "type": "scatter"
           }
          ],
          "scatter3d": [
           {
            "line": {
             "colorbar": {
              "outlinewidth": 0,
              "ticks": ""
             }
            },
            "marker": {
             "colorbar": {
              "outlinewidth": 0,
              "ticks": ""
             }
            },
            "type": "scatter3d"
           }
          ],
          "scattercarpet": [
           {
            "marker": {
             "colorbar": {
              "outlinewidth": 0,
              "ticks": ""
             }
            },
            "type": "scattercarpet"
           }
          ],
          "scattergeo": [
           {
            "marker": {
             "colorbar": {
              "outlinewidth": 0,
              "ticks": ""
             }
            },
            "type": "scattergeo"
           }
          ],
          "scattergl": [
           {
            "marker": {
             "line": {
              "color": "#283442"
             }
            },
            "type": "scattergl"
           }
          ],
          "scattermapbox": [
           {
            "marker": {
             "colorbar": {
              "outlinewidth": 0,
              "ticks": ""
             }
            },
            "type": "scattermapbox"
           }
          ],
          "scatterpolar": [
           {
            "marker": {
             "colorbar": {
              "outlinewidth": 0,
              "ticks": ""
             }
            },
            "type": "scatterpolar"
           }
          ],
          "scatterpolargl": [
           {
            "marker": {
             "colorbar": {
              "outlinewidth": 0,
              "ticks": ""
             }
            },
            "type": "scatterpolargl"
           }
          ],
          "scatterternary": [
           {
            "marker": {
             "colorbar": {
              "outlinewidth": 0,
              "ticks": ""
             }
            },
            "type": "scatterternary"
           }
          ],
          "surface": [
           {
            "colorbar": {
             "outlinewidth": 0,
             "ticks": ""
            },
            "colorscale": [
             [
              0,
              "#0d0887"
             ],
             [
              0.1111111111111111,
              "#46039f"
             ],
             [
              0.2222222222222222,
              "#7201a8"
             ],
             [
              0.3333333333333333,
              "#9c179e"
             ],
             [
              0.4444444444444444,
              "#bd3786"
             ],
             [
              0.5555555555555556,
              "#d8576b"
             ],
             [
              0.6666666666666666,
              "#ed7953"
             ],
             [
              0.7777777777777778,
              "#fb9f3a"
             ],
             [
              0.8888888888888888,
              "#fdca26"
             ],
             [
              1,
              "#f0f921"
             ]
            ],
            "type": "surface"
           }
          ],
          "table": [
           {
            "cells": {
             "fill": {
              "color": "#506784"
             },
             "line": {
              "color": "rgb(17,17,17)"
             }
            },
            "header": {
             "fill": {
              "color": "#2a3f5f"
             },
             "line": {
              "color": "rgb(17,17,17)"
             }
            },
            "type": "table"
           }
          ]
         },
         "layout": {
          "annotationdefaults": {
           "arrowcolor": "#f2f5fa",
           "arrowhead": 0,
           "arrowwidth": 1
          },
          "coloraxis": {
           "colorbar": {
            "outlinewidth": 0,
            "ticks": ""
           }
          },
          "colorscale": {
           "diverging": [
            [
             0,
             "#8e0152"
            ],
            [
             0.1,
             "#c51b7d"
            ],
            [
             0.2,
             "#de77ae"
            ],
            [
             0.3,
             "#f1b6da"
            ],
            [
             0.4,
             "#fde0ef"
            ],
            [
             0.5,
             "#f7f7f7"
            ],
            [
             0.6,
             "#e6f5d0"
            ],
            [
             0.7,
             "#b8e186"
            ],
            [
             0.8,
             "#7fbc41"
            ],
            [
             0.9,
             "#4d9221"
            ],
            [
             1,
             "#276419"
            ]
           ],
           "sequential": [
            [
             0,
             "#0d0887"
            ],
            [
             0.1111111111111111,
             "#46039f"
            ],
            [
             0.2222222222222222,
             "#7201a8"
            ],
            [
             0.3333333333333333,
             "#9c179e"
            ],
            [
             0.4444444444444444,
             "#bd3786"
            ],
            [
             0.5555555555555556,
             "#d8576b"
            ],
            [
             0.6666666666666666,
             "#ed7953"
            ],
            [
             0.7777777777777778,
             "#fb9f3a"
            ],
            [
             0.8888888888888888,
             "#fdca26"
            ],
            [
             1,
             "#f0f921"
            ]
           ],
           "sequentialminus": [
            [
             0,
             "#0d0887"
            ],
            [
             0.1111111111111111,
             "#46039f"
            ],
            [
             0.2222222222222222,
             "#7201a8"
            ],
            [
             0.3333333333333333,
             "#9c179e"
            ],
            [
             0.4444444444444444,
             "#bd3786"
            ],
            [
             0.5555555555555556,
             "#d8576b"
            ],
            [
             0.6666666666666666,
             "#ed7953"
            ],
            [
             0.7777777777777778,
             "#fb9f3a"
            ],
            [
             0.8888888888888888,
             "#fdca26"
            ],
            [
             1,
             "#f0f921"
            ]
           ]
          },
          "colorway": [
           "#636efa",
           "#EF553B",
           "#00cc96",
           "#ab63fa",
           "#FFA15A",
           "#19d3f3",
           "#FF6692",
           "#B6E880",
           "#FF97FF",
           "#FECB52"
          ],
          "font": {
           "color": "#f2f5fa"
          },
          "geo": {
           "bgcolor": "rgb(17,17,17)",
           "lakecolor": "rgb(17,17,17)",
           "landcolor": "rgb(17,17,17)",
           "showlakes": true,
           "showland": true,
           "subunitcolor": "#506784"
          },
          "hoverlabel": {
           "align": "left"
          },
          "hovermode": "closest",
          "mapbox": {
           "style": "dark"
          },
          "paper_bgcolor": "rgb(17,17,17)",
          "plot_bgcolor": "rgb(17,17,17)",
          "polar": {
           "angularaxis": {
            "gridcolor": "#506784",
            "linecolor": "#506784",
            "ticks": ""
           },
           "bgcolor": "rgb(17,17,17)",
           "radialaxis": {
            "gridcolor": "#506784",
            "linecolor": "#506784",
            "ticks": ""
           }
          },
          "scene": {
           "xaxis": {
            "backgroundcolor": "rgb(17,17,17)",
            "gridcolor": "#506784",
            "gridwidth": 2,
            "linecolor": "#506784",
            "showbackground": true,
            "ticks": "",
            "zerolinecolor": "#C8D4E3"
           },
           "yaxis": {
            "backgroundcolor": "rgb(17,17,17)",
            "gridcolor": "#506784",
            "gridwidth": 2,
            "linecolor": "#506784",
            "showbackground": true,
            "ticks": "",
            "zerolinecolor": "#C8D4E3"
           },
           "zaxis": {
            "backgroundcolor": "rgb(17,17,17)",
            "gridcolor": "#506784",
            "gridwidth": 2,
            "linecolor": "#506784",
            "showbackground": true,
            "ticks": "",
            "zerolinecolor": "#C8D4E3"
           }
          },
          "shapedefaults": {
           "line": {
            "color": "#f2f5fa"
           }
          },
          "sliderdefaults": {
           "bgcolor": "#C8D4E3",
           "bordercolor": "rgb(17,17,17)",
           "borderwidth": 1,
           "tickwidth": 0
          },
          "ternary": {
           "aaxis": {
            "gridcolor": "#506784",
            "linecolor": "#506784",
            "ticks": ""
           },
           "baxis": {
            "gridcolor": "#506784",
            "linecolor": "#506784",
            "ticks": ""
           },
           "bgcolor": "rgb(17,17,17)",
           "caxis": {
            "gridcolor": "#506784",
            "linecolor": "#506784",
            "ticks": ""
           }
          },
          "title": {
           "x": 0.05
          },
          "updatemenudefaults": {
           "bgcolor": "#506784",
           "borderwidth": 0
          },
          "xaxis": {
           "automargin": true,
           "gridcolor": "#283442",
           "linecolor": "#506784",
           "ticks": "",
           "title": {
            "standoff": 15
           },
           "zerolinecolor": "#283442",
           "zerolinewidth": 2
          },
          "yaxis": {
           "automargin": true,
           "gridcolor": "#283442",
           "linecolor": "#506784",
           "ticks": "",
           "title": {
            "standoff": 15
           },
           "zerolinecolor": "#283442",
           "zerolinewidth": 2
          }
         }
        },
        "title": {
         "text": "Normalized Gross and Google Trends for top 15 Movies: Correlation = 0.10266457070565793"
        },
        "xaxis": {
         "title": {
          "text": "Normalized Quantities"
         }
        },
        "yaxis": {
         "title": {
          "text": "Movies"
         }
        }
       }
      },
      "text/html": [
       "<div>                            <div id=\"9265a537-4c20-4b1d-a40f-6b1767d7b2a3\" class=\"plotly-graph-div\" style=\"height:525px; width:100%;\"></div>            <script type=\"text/javascript\">                require([\"plotly\"], function(Plotly) {                    window.PLOTLYENV=window.PLOTLYENV || {};                                    if (document.getElementById(\"9265a537-4c20-4b1d-a40f-6b1767d7b2a3\")) {                    Plotly.newPlot(                        \"9265a537-4c20-4b1d-a40f-6b1767d7b2a3\",                        [{\"marker\": {\"color\": \"blue\", \"line\": {\"color\": \"rgba(246, 78, 139, 1.0)\", \"width\": 3}}, \"name\": \"Gross\", \"orientation\": \"h\", \"type\": \"bar\", \"x\": [0.016929944143818612, 0.017182629877308443, 0.020214858679186404, 0.02336395463280341, 0.02387880181478894, 0.024873246518938165, 0.029581918819654402, 0.03019594515203469, 0.03095400235250418, 0.040494152220412714, 0.043162387223198574, 0.05053714669796601, 0.0602819720100013, 0.08672048030504222, 0.501628559552342], \"y\": [\"How the Grinch Stole Christmas2020 Re-release\", \"Die Hard2020 Re-release\", \"The Grinch2020 Re-release\", \"Let Him Go\", \"Wonder Woman2020 Re-release\", \"Honest Thief\", \"Come Play\", \"National Lampoon's Christmas Vacation2020 Re-release\", \"The Polar Express2020 Re-release\", \"All My Life\", \"The War with Grandpa\", \"Elf2020 Re-release\", \"Freaky\", \"Half Brothers\", \"The Croods: A New Age\"]}, {\"marker\": {\"color\": \"red\", \"line\": {\"color\": \"rgba(58, 71, 80, 1.0)\", \"width\": 3}}, \"name\": \"Google Trends\", \"orientation\": \"h\", \"type\": \"bar\", \"x\": [0.008559217112269073, 0.07153080452626162, 0.08494283037493568, 0.06523609372795061, 0.0807503304429798, 0.0, 0.029825815992334512, 0.0, 0.017087024253483952, 0.04469880496174393, 0.0062945581992613665, 0.25168246037017983, 0.24800402441092337, 0.0065207099908515965, 0.08486732563682463], \"y\": [\"How the Grinch Stole Christmas2020 Re-release\", \"Die Hard2020 Re-release\", \"The Grinch2020 Re-release\", \"Let Him Go\", \"Wonder Woman2020 Re-release\", \"Honest Thief\", \"Come Play\", \"National Lampoon's Christmas Vacation2020 Re-release\", \"The Polar Express2020 Re-release\", \"All My Life\", \"The War with Grandpa\", \"Elf2020 Re-release\", \"Freaky\", \"Half Brothers\", \"The Croods: A New Age\"]}],                        {\"barmode\": \"stack\", \"paper_bgcolor\": \"#23272c\", \"plot_bgcolor\": \"#23272c\", \"template\": {\"data\": {\"bar\": [{\"error_x\": {\"color\": \"#f2f5fa\"}, \"error_y\": {\"color\": \"#f2f5fa\"}, \"marker\": {\"line\": {\"color\": \"rgb(17,17,17)\", \"width\": 0.5}}, \"type\": \"bar\"}], \"barpolar\": [{\"marker\": {\"line\": {\"color\": \"rgb(17,17,17)\", \"width\": 0.5}}, \"type\": \"barpolar\"}], \"carpet\": [{\"aaxis\": {\"endlinecolor\": \"#A2B1C6\", \"gridcolor\": \"#506784\", \"linecolor\": \"#506784\", \"minorgridcolor\": \"#506784\", \"startlinecolor\": \"#A2B1C6\"}, \"baxis\": {\"endlinecolor\": \"#A2B1C6\", \"gridcolor\": \"#506784\", \"linecolor\": \"#506784\", \"minorgridcolor\": \"#506784\", \"startlinecolor\": \"#A2B1C6\"}, \"type\": \"carpet\"}], \"choropleth\": [{\"colorbar\": {\"outlinewidth\": 0, \"ticks\": \"\"}, \"type\": \"choropleth\"}], \"contour\": [{\"colorbar\": {\"outlinewidth\": 0, \"ticks\": \"\"}, \"colorscale\": [[0.0, \"#0d0887\"], [0.1111111111111111, \"#46039f\"], [0.2222222222222222, \"#7201a8\"], [0.3333333333333333, \"#9c179e\"], [0.4444444444444444, \"#bd3786\"], [0.5555555555555556, \"#d8576b\"], [0.6666666666666666, \"#ed7953\"], [0.7777777777777778, \"#fb9f3a\"], [0.8888888888888888, \"#fdca26\"], [1.0, \"#f0f921\"]], \"type\": \"contour\"}], \"contourcarpet\": [{\"colorbar\": {\"outlinewidth\": 0, \"ticks\": \"\"}, \"type\": \"contourcarpet\"}], \"heatmap\": [{\"colorbar\": {\"outlinewidth\": 0, \"ticks\": \"\"}, \"colorscale\": [[0.0, \"#0d0887\"], [0.1111111111111111, \"#46039f\"], [0.2222222222222222, \"#7201a8\"], [0.3333333333333333, \"#9c179e\"], [0.4444444444444444, \"#bd3786\"], [0.5555555555555556, \"#d8576b\"], [0.6666666666666666, \"#ed7953\"], [0.7777777777777778, \"#fb9f3a\"], [0.8888888888888888, \"#fdca26\"], [1.0, \"#f0f921\"]], \"type\": \"heatmap\"}], \"heatmapgl\": [{\"colorbar\": {\"outlinewidth\": 0, \"ticks\": \"\"}, \"colorscale\": [[0.0, \"#0d0887\"], [0.1111111111111111, \"#46039f\"], [0.2222222222222222, \"#7201a8\"], [0.3333333333333333, \"#9c179e\"], [0.4444444444444444, \"#bd3786\"], [0.5555555555555556, \"#d8576b\"], [0.6666666666666666, \"#ed7953\"], [0.7777777777777778, \"#fb9f3a\"], [0.8888888888888888, \"#fdca26\"], [1.0, \"#f0f921\"]], \"type\": \"heatmapgl\"}], \"histogram\": [{\"marker\": {\"colorbar\": {\"outlinewidth\": 0, \"ticks\": \"\"}}, \"type\": \"histogram\"}], \"histogram2d\": [{\"colorbar\": {\"outlinewidth\": 0, \"ticks\": \"\"}, \"colorscale\": [[0.0, \"#0d0887\"], [0.1111111111111111, \"#46039f\"], [0.2222222222222222, \"#7201a8\"], [0.3333333333333333, \"#9c179e\"], [0.4444444444444444, \"#bd3786\"], [0.5555555555555556, \"#d8576b\"], [0.6666666666666666, \"#ed7953\"], [0.7777777777777778, \"#fb9f3a\"], [0.8888888888888888, \"#fdca26\"], [1.0, \"#f0f921\"]], \"type\": \"histogram2d\"}], \"histogram2dcontour\": [{\"colorbar\": {\"outlinewidth\": 0, \"ticks\": \"\"}, \"colorscale\": [[0.0, \"#0d0887\"], [0.1111111111111111, \"#46039f\"], [0.2222222222222222, \"#7201a8\"], [0.3333333333333333, \"#9c179e\"], [0.4444444444444444, \"#bd3786\"], [0.5555555555555556, \"#d8576b\"], [0.6666666666666666, \"#ed7953\"], [0.7777777777777778, \"#fb9f3a\"], [0.8888888888888888, \"#fdca26\"], [1.0, \"#f0f921\"]], \"type\": \"histogram2dcontour\"}], \"mesh3d\": [{\"colorbar\": {\"outlinewidth\": 0, \"ticks\": \"\"}, \"type\": \"mesh3d\"}], \"parcoords\": [{\"line\": {\"colorbar\": {\"outlinewidth\": 0, \"ticks\": \"\"}}, \"type\": \"parcoords\"}], \"pie\": [{\"automargin\": true, \"type\": \"pie\"}], \"scatter\": [{\"marker\": {\"line\": {\"color\": \"#283442\"}}, \"type\": \"scatter\"}], \"scatter3d\": [{\"line\": {\"colorbar\": {\"outlinewidth\": 0, \"ticks\": \"\"}}, \"marker\": {\"colorbar\": {\"outlinewidth\": 0, \"ticks\": \"\"}}, \"type\": \"scatter3d\"}], \"scattercarpet\": [{\"marker\": {\"colorbar\": {\"outlinewidth\": 0, \"ticks\": \"\"}}, \"type\": \"scattercarpet\"}], \"scattergeo\": [{\"marker\": {\"colorbar\": {\"outlinewidth\": 0, \"ticks\": \"\"}}, \"type\": \"scattergeo\"}], \"scattergl\": [{\"marker\": {\"line\": {\"color\": \"#283442\"}}, \"type\": \"scattergl\"}], \"scattermapbox\": [{\"marker\": {\"colorbar\": {\"outlinewidth\": 0, \"ticks\": \"\"}}, \"type\": \"scattermapbox\"}], \"scatterpolar\": [{\"marker\": {\"colorbar\": {\"outlinewidth\": 0, \"ticks\": \"\"}}, \"type\": \"scatterpolar\"}], \"scatterpolargl\": [{\"marker\": {\"colorbar\": {\"outlinewidth\": 0, \"ticks\": \"\"}}, \"type\": \"scatterpolargl\"}], \"scatterternary\": [{\"marker\": {\"colorbar\": {\"outlinewidth\": 0, \"ticks\": \"\"}}, \"type\": \"scatterternary\"}], \"surface\": [{\"colorbar\": {\"outlinewidth\": 0, \"ticks\": \"\"}, \"colorscale\": [[0.0, \"#0d0887\"], [0.1111111111111111, \"#46039f\"], [0.2222222222222222, \"#7201a8\"], [0.3333333333333333, \"#9c179e\"], [0.4444444444444444, \"#bd3786\"], [0.5555555555555556, \"#d8576b\"], [0.6666666666666666, \"#ed7953\"], [0.7777777777777778, \"#fb9f3a\"], [0.8888888888888888, \"#fdca26\"], [1.0, \"#f0f921\"]], \"type\": \"surface\"}], \"table\": [{\"cells\": {\"fill\": {\"color\": \"#506784\"}, \"line\": {\"color\": \"rgb(17,17,17)\"}}, \"header\": {\"fill\": {\"color\": \"#2a3f5f\"}, \"line\": {\"color\": \"rgb(17,17,17)\"}}, \"type\": \"table\"}]}, \"layout\": {\"annotationdefaults\": {\"arrowcolor\": \"#f2f5fa\", \"arrowhead\": 0, \"arrowwidth\": 1}, \"coloraxis\": {\"colorbar\": {\"outlinewidth\": 0, \"ticks\": \"\"}}, \"colorscale\": {\"diverging\": [[0, \"#8e0152\"], [0.1, \"#c51b7d\"], [0.2, \"#de77ae\"], [0.3, \"#f1b6da\"], [0.4, \"#fde0ef\"], [0.5, \"#f7f7f7\"], [0.6, \"#e6f5d0\"], [0.7, \"#b8e186\"], [0.8, \"#7fbc41\"], [0.9, \"#4d9221\"], [1, \"#276419\"]], \"sequential\": [[0.0, \"#0d0887\"], [0.1111111111111111, \"#46039f\"], [0.2222222222222222, \"#7201a8\"], [0.3333333333333333, \"#9c179e\"], [0.4444444444444444, \"#bd3786\"], [0.5555555555555556, \"#d8576b\"], [0.6666666666666666, \"#ed7953\"], [0.7777777777777778, \"#fb9f3a\"], [0.8888888888888888, \"#fdca26\"], [1.0, \"#f0f921\"]], \"sequentialminus\": [[0.0, \"#0d0887\"], [0.1111111111111111, \"#46039f\"], [0.2222222222222222, \"#7201a8\"], [0.3333333333333333, \"#9c179e\"], [0.4444444444444444, \"#bd3786\"], [0.5555555555555556, \"#d8576b\"], [0.6666666666666666, \"#ed7953\"], [0.7777777777777778, \"#fb9f3a\"], [0.8888888888888888, \"#fdca26\"], [1.0, \"#f0f921\"]]}, \"colorway\": [\"#636efa\", \"#EF553B\", \"#00cc96\", \"#ab63fa\", \"#FFA15A\", \"#19d3f3\", \"#FF6692\", \"#B6E880\", \"#FF97FF\", \"#FECB52\"], \"font\": {\"color\": \"#f2f5fa\"}, \"geo\": {\"bgcolor\": \"rgb(17,17,17)\", \"lakecolor\": \"rgb(17,17,17)\", \"landcolor\": \"rgb(17,17,17)\", \"showlakes\": true, \"showland\": true, \"subunitcolor\": \"#506784\"}, \"hoverlabel\": {\"align\": \"left\"}, \"hovermode\": \"closest\", \"mapbox\": {\"style\": \"dark\"}, \"paper_bgcolor\": \"rgb(17,17,17)\", \"plot_bgcolor\": \"rgb(17,17,17)\", \"polar\": {\"angularaxis\": {\"gridcolor\": \"#506784\", \"linecolor\": \"#506784\", \"ticks\": \"\"}, \"bgcolor\": \"rgb(17,17,17)\", \"radialaxis\": {\"gridcolor\": \"#506784\", \"linecolor\": \"#506784\", \"ticks\": \"\"}}, \"scene\": {\"xaxis\": {\"backgroundcolor\": \"rgb(17,17,17)\", \"gridcolor\": \"#506784\", \"gridwidth\": 2, \"linecolor\": \"#506784\", \"showbackground\": true, \"ticks\": \"\", \"zerolinecolor\": \"#C8D4E3\"}, \"yaxis\": {\"backgroundcolor\": \"rgb(17,17,17)\", \"gridcolor\": \"#506784\", \"gridwidth\": 2, \"linecolor\": \"#506784\", \"showbackground\": true, \"ticks\": \"\", \"zerolinecolor\": \"#C8D4E3\"}, \"zaxis\": {\"backgroundcolor\": \"rgb(17,17,17)\", \"gridcolor\": \"#506784\", \"gridwidth\": 2, \"linecolor\": \"#506784\", \"showbackground\": true, \"ticks\": \"\", \"zerolinecolor\": \"#C8D4E3\"}}, \"shapedefaults\": {\"line\": {\"color\": \"#f2f5fa\"}}, \"sliderdefaults\": {\"bgcolor\": \"#C8D4E3\", \"bordercolor\": \"rgb(17,17,17)\", \"borderwidth\": 1, \"tickwidth\": 0}, \"ternary\": {\"aaxis\": {\"gridcolor\": \"#506784\", \"linecolor\": \"#506784\", \"ticks\": \"\"}, \"baxis\": {\"gridcolor\": \"#506784\", \"linecolor\": \"#506784\", \"ticks\": \"\"}, \"bgcolor\": \"rgb(17,17,17)\", \"caxis\": {\"gridcolor\": \"#506784\", \"linecolor\": \"#506784\", \"ticks\": \"\"}}, \"title\": {\"x\": 0.05}, \"updatemenudefaults\": {\"bgcolor\": \"#506784\", \"borderwidth\": 0}, \"xaxis\": {\"automargin\": true, \"gridcolor\": \"#283442\", \"linecolor\": \"#506784\", \"ticks\": \"\", \"title\": {\"standoff\": 15}, \"zerolinecolor\": \"#283442\", \"zerolinewidth\": 2}, \"yaxis\": {\"automargin\": true, \"gridcolor\": \"#283442\", \"linecolor\": \"#506784\", \"ticks\": \"\", \"title\": {\"standoff\": 15}, \"zerolinecolor\": \"#283442\", \"zerolinewidth\": 2}}}, \"title\": {\"text\": \"Normalized Gross and Google Trends for top 15 Movies: Correlation = 0.10266457070565793\"}, \"xaxis\": {\"title\": {\"text\": \"Normalized Quantities\"}}, \"yaxis\": {\"title\": {\"text\": \"Movies\"}}},                        {\"responsive\": true}                    ).then(function(){\n",
       "                            \n",
       "var gd = document.getElementById('9265a537-4c20-4b1d-a40f-6b1767d7b2a3');\n",
       "var x = new MutationObserver(function (mutations, observer) {{\n",
       "        var display = window.getComputedStyle(gd).display;\n",
       "        if (!display || display === 'none') {{\n",
       "            console.log([gd, 'removed!']);\n",
       "            Plotly.purge(gd);\n",
       "            observer.disconnect();\n",
       "        }}\n",
       "}});\n",
       "\n",
       "// Listen for the removal of the full notebook cells\n",
       "var notebookContainer = gd.closest('#notebook-container');\n",
       "if (notebookContainer) {{\n",
       "    x.observe(notebookContainer, {childList: true});\n",
       "}}\n",
       "\n",
       "// Listen for the clearing of the current output cell\n",
       "var outputEl = gd.closest('.output');\n",
       "if (outputEl) {{\n",
       "    x.observe(outputEl, {childList: true});\n",
       "}}\n",
       "\n",
       "                        })                };                });            </script>        </div>"
      ]
     },
     "metadata": {},
     "output_type": "display_data"
    }
   ],
   "source": [
    "import plotly.graph_objects as go\n",
    "import numpy as np\n",
    "import re\n",
    "\n",
    "df = pd.read_csv('3_mo_weekly.csv', sep='\\t')\n",
    "df['Date_dt'] = df['Date'].astype('datetime64[ns]')\n",
    "#df['google trends'] = df['google trends'] * df['Release'].apply(lambda x: len(re.sub('2020 Re-release', '', x).split(' ')))\n",
    "\n",
    "date = df['Date_dt'].unique()[-1]#.iloc[-10]\n",
    "print(date)\n",
    "\n",
    "fig = go.Figure()\n",
    "sorted_df = df[df['Date_dt'] == date].sort_values(by=['Weekly'], ascending=False)[0:15][::-1]\n",
    "y = sorted_df['Release']\n",
    "x_rev = sorted_df['Weekly'] / np.sum(sorted_df['Weekly'])\n",
    "x_trend = sorted_df['google trends'] / np.sum(sorted_df['google trends'])\n",
    "trends, revenues = pd.Series(x_trend), pd.Series(x_rev)\n",
    "corr = trends.corr(revenues)\n",
    "\n",
    "fig = go.Figure()\n",
    "fig.add_trace(go.Bar(\n",
    "    y=y,\n",
    "    x=x_rev,\n",
    "    name='Gross',\n",
    "    orientation='h',\n",
    "    marker=dict(\n",
    "        color='blue', #rgba(246, 78, 139, 0.6)',\n",
    "        line=dict(color='rgba(246, 78, 139, 1.0)', width=3)\n",
    "    )\n",
    "))\n",
    "fig.add_trace(go.Bar(\n",
    "    y=y,\n",
    "    x=x_trend,\n",
    "    name='Google Trends',\n",
    "    orientation='h',\n",
    "    marker=dict(\n",
    "        color='red', #rgba(58, 71, 80, 0.6)',\n",
    "        line=dict(color='rgba(58, 71, 80, 1.0)', width=3)\n",
    "    )\n",
    "))\n",
    "title = f'Normalized Gross and Google Trends for top 15 Movies: Correlation = {corr}'\n",
    "\n",
    "#fig.update_layout(barmode='stack')\n",
    "fig.update_layout(template='plotly_dark',\n",
    "                  title=title,\n",
    "                  plot_bgcolor='#23272c',\n",
    "                  paper_bgcolor='#23272c',\n",
    "                  yaxis_title='Movies',\n",
    "                  xaxis_title='Normalized Quantities',barmode='stack')\n",
    "\n",
    "\n",
    "#fig.show()"
   ]
  },
  {
   "cell_type": "code",
   "execution_count": 65,
   "metadata": {
    "scrolled": false
   },
   "outputs": [
    {
     "name": "stdout",
     "output_type": "stream",
     "text": [
      "2020-06-22T00:00:00.000000000\n"
     ]
    },
    {
     "data": {
      "application/vnd.plotly.v1+json": {
       "config": {
        "plotlyServerURL": "https://plot.ly"
       },
       "data": [
        {
         "marker": {
          "color": "blue",
          "line": {
           "color": "rgba(246, 78, 139, 1.0)",
           "width": 3
          }
         },
         "name": "Gross",
         "orientation": "h",
         "type": "bar",
         "x": [
          0.0023669114544999626,
          0.0075573145051858375,
          0.013244476750026025,
          0.04446360051794451,
          0.1497509811907245,
          0.15164852825957129,
          0.3124030908649272,
          0.3185650964571207
         ],
         "y": [
          "Babyteeth",
          "The Gentlemen",
          "Max Winslow and the House of Secrets",
          "Miss Juneteenth",
          "Infamous",
          "The Wretched",
          "Becky",
          "Followed"
         ]
        },
        {
         "marker": {
          "color": "red",
          "line": {
           "color": "rgba(58, 71, 80, 1.0)",
           "width": 3
          }
         },
         "name": "Google Trends",
         "orientation": "h",
         "type": "bar",
         "x": [
          0.012521238812903375,
          0.128768185200247,
          0.0016802694665057432,
          0.013329060671800367,
          0.12822569188841146,
          0.02638884739063507,
          0.45614336630554964,
          0.23294334026394745
         ],
         "y": [
          "Babyteeth",
          "The Gentlemen",
          "Max Winslow and the House of Secrets",
          "Miss Juneteenth",
          "Infamous",
          "The Wretched",
          "Becky",
          "Followed"
         ]
        }
       ],
       "layout": {
        "barmode": "stack",
        "paper_bgcolor": "#23272c",
        "plot_bgcolor": "#23272c",
        "template": {
         "data": {
          "bar": [
           {
            "error_x": {
             "color": "#f2f5fa"
            },
            "error_y": {
             "color": "#f2f5fa"
            },
            "marker": {
             "line": {
              "color": "rgb(17,17,17)",
              "width": 0.5
             }
            },
            "type": "bar"
           }
          ],
          "barpolar": [
           {
            "marker": {
             "line": {
              "color": "rgb(17,17,17)",
              "width": 0.5
             }
            },
            "type": "barpolar"
           }
          ],
          "carpet": [
           {
            "aaxis": {
             "endlinecolor": "#A2B1C6",
             "gridcolor": "#506784",
             "linecolor": "#506784",
             "minorgridcolor": "#506784",
             "startlinecolor": "#A2B1C6"
            },
            "baxis": {
             "endlinecolor": "#A2B1C6",
             "gridcolor": "#506784",
             "linecolor": "#506784",
             "minorgridcolor": "#506784",
             "startlinecolor": "#A2B1C6"
            },
            "type": "carpet"
           }
          ],
          "choropleth": [
           {
            "colorbar": {
             "outlinewidth": 0,
             "ticks": ""
            },
            "type": "choropleth"
           }
          ],
          "contour": [
           {
            "colorbar": {
             "outlinewidth": 0,
             "ticks": ""
            },
            "colorscale": [
             [
              0,
              "#0d0887"
             ],
             [
              0.1111111111111111,
              "#46039f"
             ],
             [
              0.2222222222222222,
              "#7201a8"
             ],
             [
              0.3333333333333333,
              "#9c179e"
             ],
             [
              0.4444444444444444,
              "#bd3786"
             ],
             [
              0.5555555555555556,
              "#d8576b"
             ],
             [
              0.6666666666666666,
              "#ed7953"
             ],
             [
              0.7777777777777778,
              "#fb9f3a"
             ],
             [
              0.8888888888888888,
              "#fdca26"
             ],
             [
              1,
              "#f0f921"
             ]
            ],
            "type": "contour"
           }
          ],
          "contourcarpet": [
           {
            "colorbar": {
             "outlinewidth": 0,
             "ticks": ""
            },
            "type": "contourcarpet"
           }
          ],
          "heatmap": [
           {
            "colorbar": {
             "outlinewidth": 0,
             "ticks": ""
            },
            "colorscale": [
             [
              0,
              "#0d0887"
             ],
             [
              0.1111111111111111,
              "#46039f"
             ],
             [
              0.2222222222222222,
              "#7201a8"
             ],
             [
              0.3333333333333333,
              "#9c179e"
             ],
             [
              0.4444444444444444,
              "#bd3786"
             ],
             [
              0.5555555555555556,
              "#d8576b"
             ],
             [
              0.6666666666666666,
              "#ed7953"
             ],
             [
              0.7777777777777778,
              "#fb9f3a"
             ],
             [
              0.8888888888888888,
              "#fdca26"
             ],
             [
              1,
              "#f0f921"
             ]
            ],
            "type": "heatmap"
           }
          ],
          "heatmapgl": [
           {
            "colorbar": {
             "outlinewidth": 0,
             "ticks": ""
            },
            "colorscale": [
             [
              0,
              "#0d0887"
             ],
             [
              0.1111111111111111,
              "#46039f"
             ],
             [
              0.2222222222222222,
              "#7201a8"
             ],
             [
              0.3333333333333333,
              "#9c179e"
             ],
             [
              0.4444444444444444,
              "#bd3786"
             ],
             [
              0.5555555555555556,
              "#d8576b"
             ],
             [
              0.6666666666666666,
              "#ed7953"
             ],
             [
              0.7777777777777778,
              "#fb9f3a"
             ],
             [
              0.8888888888888888,
              "#fdca26"
             ],
             [
              1,
              "#f0f921"
             ]
            ],
            "type": "heatmapgl"
           }
          ],
          "histogram": [
           {
            "marker": {
             "colorbar": {
              "outlinewidth": 0,
              "ticks": ""
             }
            },
            "type": "histogram"
           }
          ],
          "histogram2d": [
           {
            "colorbar": {
             "outlinewidth": 0,
             "ticks": ""
            },
            "colorscale": [
             [
              0,
              "#0d0887"
             ],
             [
              0.1111111111111111,
              "#46039f"
             ],
             [
              0.2222222222222222,
              "#7201a8"
             ],
             [
              0.3333333333333333,
              "#9c179e"
             ],
             [
              0.4444444444444444,
              "#bd3786"
             ],
             [
              0.5555555555555556,
              "#d8576b"
             ],
             [
              0.6666666666666666,
              "#ed7953"
             ],
             [
              0.7777777777777778,
              "#fb9f3a"
             ],
             [
              0.8888888888888888,
              "#fdca26"
             ],
             [
              1,
              "#f0f921"
             ]
            ],
            "type": "histogram2d"
           }
          ],
          "histogram2dcontour": [
           {
            "colorbar": {
             "outlinewidth": 0,
             "ticks": ""
            },
            "colorscale": [
             [
              0,
              "#0d0887"
             ],
             [
              0.1111111111111111,
              "#46039f"
             ],
             [
              0.2222222222222222,
              "#7201a8"
             ],
             [
              0.3333333333333333,
              "#9c179e"
             ],
             [
              0.4444444444444444,
              "#bd3786"
             ],
             [
              0.5555555555555556,
              "#d8576b"
             ],
             [
              0.6666666666666666,
              "#ed7953"
             ],
             [
              0.7777777777777778,
              "#fb9f3a"
             ],
             [
              0.8888888888888888,
              "#fdca26"
             ],
             [
              1,
              "#f0f921"
             ]
            ],
            "type": "histogram2dcontour"
           }
          ],
          "mesh3d": [
           {
            "colorbar": {
             "outlinewidth": 0,
             "ticks": ""
            },
            "type": "mesh3d"
           }
          ],
          "parcoords": [
           {
            "line": {
             "colorbar": {
              "outlinewidth": 0,
              "ticks": ""
             }
            },
            "type": "parcoords"
           }
          ],
          "pie": [
           {
            "automargin": true,
            "type": "pie"
           }
          ],
          "scatter": [
           {
            "marker": {
             "line": {
              "color": "#283442"
             }
            },
            "type": "scatter"
           }
          ],
          "scatter3d": [
           {
            "line": {
             "colorbar": {
              "outlinewidth": 0,
              "ticks": ""
             }
            },
            "marker": {
             "colorbar": {
              "outlinewidth": 0,
              "ticks": ""
             }
            },
            "type": "scatter3d"
           }
          ],
          "scattercarpet": [
           {
            "marker": {
             "colorbar": {
              "outlinewidth": 0,
              "ticks": ""
             }
            },
            "type": "scattercarpet"
           }
          ],
          "scattergeo": [
           {
            "marker": {
             "colorbar": {
              "outlinewidth": 0,
              "ticks": ""
             }
            },
            "type": "scattergeo"
           }
          ],
          "scattergl": [
           {
            "marker": {
             "line": {
              "color": "#283442"
             }
            },
            "type": "scattergl"
           }
          ],
          "scattermapbox": [
           {
            "marker": {
             "colorbar": {
              "outlinewidth": 0,
              "ticks": ""
             }
            },
            "type": "scattermapbox"
           }
          ],
          "scatterpolar": [
           {
            "marker": {
             "colorbar": {
              "outlinewidth": 0,
              "ticks": ""
             }
            },
            "type": "scatterpolar"
           }
          ],
          "scatterpolargl": [
           {
            "marker": {
             "colorbar": {
              "outlinewidth": 0,
              "ticks": ""
             }
            },
            "type": "scatterpolargl"
           }
          ],
          "scatterternary": [
           {
            "marker": {
             "colorbar": {
              "outlinewidth": 0,
              "ticks": ""
             }
            },
            "type": "scatterternary"
           }
          ],
          "surface": [
           {
            "colorbar": {
             "outlinewidth": 0,
             "ticks": ""
            },
            "colorscale": [
             [
              0,
              "#0d0887"
             ],
             [
              0.1111111111111111,
              "#46039f"
             ],
             [
              0.2222222222222222,
              "#7201a8"
             ],
             [
              0.3333333333333333,
              "#9c179e"
             ],
             [
              0.4444444444444444,
              "#bd3786"
             ],
             [
              0.5555555555555556,
              "#d8576b"
             ],
             [
              0.6666666666666666,
              "#ed7953"
             ],
             [
              0.7777777777777778,
              "#fb9f3a"
             ],
             [
              0.8888888888888888,
              "#fdca26"
             ],
             [
              1,
              "#f0f921"
             ]
            ],
            "type": "surface"
           }
          ],
          "table": [
           {
            "cells": {
             "fill": {
              "color": "#506784"
             },
             "line": {
              "color": "rgb(17,17,17)"
             }
            },
            "header": {
             "fill": {
              "color": "#2a3f5f"
             },
             "line": {
              "color": "rgb(17,17,17)"
             }
            },
            "type": "table"
           }
          ]
         },
         "layout": {
          "annotationdefaults": {
           "arrowcolor": "#f2f5fa",
           "arrowhead": 0,
           "arrowwidth": 1
          },
          "coloraxis": {
           "colorbar": {
            "outlinewidth": 0,
            "ticks": ""
           }
          },
          "colorscale": {
           "diverging": [
            [
             0,
             "#8e0152"
            ],
            [
             0.1,
             "#c51b7d"
            ],
            [
             0.2,
             "#de77ae"
            ],
            [
             0.3,
             "#f1b6da"
            ],
            [
             0.4,
             "#fde0ef"
            ],
            [
             0.5,
             "#f7f7f7"
            ],
            [
             0.6,
             "#e6f5d0"
            ],
            [
             0.7,
             "#b8e186"
            ],
            [
             0.8,
             "#7fbc41"
            ],
            [
             0.9,
             "#4d9221"
            ],
            [
             1,
             "#276419"
            ]
           ],
           "sequential": [
            [
             0,
             "#0d0887"
            ],
            [
             0.1111111111111111,
             "#46039f"
            ],
            [
             0.2222222222222222,
             "#7201a8"
            ],
            [
             0.3333333333333333,
             "#9c179e"
            ],
            [
             0.4444444444444444,
             "#bd3786"
            ],
            [
             0.5555555555555556,
             "#d8576b"
            ],
            [
             0.6666666666666666,
             "#ed7953"
            ],
            [
             0.7777777777777778,
             "#fb9f3a"
            ],
            [
             0.8888888888888888,
             "#fdca26"
            ],
            [
             1,
             "#f0f921"
            ]
           ],
           "sequentialminus": [
            [
             0,
             "#0d0887"
            ],
            [
             0.1111111111111111,
             "#46039f"
            ],
            [
             0.2222222222222222,
             "#7201a8"
            ],
            [
             0.3333333333333333,
             "#9c179e"
            ],
            [
             0.4444444444444444,
             "#bd3786"
            ],
            [
             0.5555555555555556,
             "#d8576b"
            ],
            [
             0.6666666666666666,
             "#ed7953"
            ],
            [
             0.7777777777777778,
             "#fb9f3a"
            ],
            [
             0.8888888888888888,
             "#fdca26"
            ],
            [
             1,
             "#f0f921"
            ]
           ]
          },
          "colorway": [
           "#636efa",
           "#EF553B",
           "#00cc96",
           "#ab63fa",
           "#FFA15A",
           "#19d3f3",
           "#FF6692",
           "#B6E880",
           "#FF97FF",
           "#FECB52"
          ],
          "font": {
           "color": "#f2f5fa"
          },
          "geo": {
           "bgcolor": "rgb(17,17,17)",
           "lakecolor": "rgb(17,17,17)",
           "landcolor": "rgb(17,17,17)",
           "showlakes": true,
           "showland": true,
           "subunitcolor": "#506784"
          },
          "hoverlabel": {
           "align": "left"
          },
          "hovermode": "closest",
          "mapbox": {
           "style": "dark"
          },
          "paper_bgcolor": "rgb(17,17,17)",
          "plot_bgcolor": "rgb(17,17,17)",
          "polar": {
           "angularaxis": {
            "gridcolor": "#506784",
            "linecolor": "#506784",
            "ticks": ""
           },
           "bgcolor": "rgb(17,17,17)",
           "radialaxis": {
            "gridcolor": "#506784",
            "linecolor": "#506784",
            "ticks": ""
           }
          },
          "scene": {
           "xaxis": {
            "backgroundcolor": "rgb(17,17,17)",
            "gridcolor": "#506784",
            "gridwidth": 2,
            "linecolor": "#506784",
            "showbackground": true,
            "ticks": "",
            "zerolinecolor": "#C8D4E3"
           },
           "yaxis": {
            "backgroundcolor": "rgb(17,17,17)",
            "gridcolor": "#506784",
            "gridwidth": 2,
            "linecolor": "#506784",
            "showbackground": true,
            "ticks": "",
            "zerolinecolor": "#C8D4E3"
           },
           "zaxis": {
            "backgroundcolor": "rgb(17,17,17)",
            "gridcolor": "#506784",
            "gridwidth": 2,
            "linecolor": "#506784",
            "showbackground": true,
            "ticks": "",
            "zerolinecolor": "#C8D4E3"
           }
          },
          "shapedefaults": {
           "line": {
            "color": "#f2f5fa"
           }
          },
          "sliderdefaults": {
           "bgcolor": "#C8D4E3",
           "bordercolor": "rgb(17,17,17)",
           "borderwidth": 1,
           "tickwidth": 0
          },
          "ternary": {
           "aaxis": {
            "gridcolor": "#506784",
            "linecolor": "#506784",
            "ticks": ""
           },
           "baxis": {
            "gridcolor": "#506784",
            "linecolor": "#506784",
            "ticks": ""
           },
           "bgcolor": "rgb(17,17,17)",
           "caxis": {
            "gridcolor": "#506784",
            "linecolor": "#506784",
            "ticks": ""
           }
          },
          "title": {
           "x": 0.05
          },
          "updatemenudefaults": {
           "bgcolor": "#506784",
           "borderwidth": 0
          },
          "xaxis": {
           "automargin": true,
           "gridcolor": "#283442",
           "linecolor": "#506784",
           "ticks": "",
           "title": {
            "standoff": 15
           },
           "zerolinecolor": "#283442",
           "zerolinewidth": 2
          },
          "yaxis": {
           "automargin": true,
           "gridcolor": "#283442",
           "linecolor": "#506784",
           "ticks": "",
           "title": {
            "standoff": 15
           },
           "zerolinecolor": "#283442",
           "zerolinewidth": 2
          }
         }
        },
        "title": {
         "text": "Normalized Gross and Google Trends for top 15 Movies: Correlation = 0.8068127320314725"
        },
        "xaxis": {
         "title": {
          "text": "Normalized Quantities"
         }
        },
        "yaxis": {
         "title": {
          "text": "Movies"
         }
        }
       }
      },
      "text/html": [
       "<div>                            <div id=\"505e2ef3-6638-45f6-b9e0-e253337305d4\" class=\"plotly-graph-div\" style=\"height:525px; width:100%;\"></div>            <script type=\"text/javascript\">                require([\"plotly\"], function(Plotly) {                    window.PLOTLYENV=window.PLOTLYENV || {};                                    if (document.getElementById(\"505e2ef3-6638-45f6-b9e0-e253337305d4\")) {                    Plotly.newPlot(                        \"505e2ef3-6638-45f6-b9e0-e253337305d4\",                        [{\"marker\": {\"color\": \"blue\", \"line\": {\"color\": \"rgba(246, 78, 139, 1.0)\", \"width\": 3}}, \"name\": \"Gross\", \"orientation\": \"h\", \"type\": \"bar\", \"x\": [0.0023669114544999626, 0.0075573145051858375, 0.013244476750026025, 0.04446360051794451, 0.1497509811907245, 0.15164852825957129, 0.3124030908649272, 0.3185650964571207], \"y\": [\"Babyteeth\", \"The Gentlemen\", \"Max Winslow and the House of Secrets\", \"Miss Juneteenth\", \"Infamous\", \"The Wretched\", \"Becky\", \"Followed\"]}, {\"marker\": {\"color\": \"red\", \"line\": {\"color\": \"rgba(58, 71, 80, 1.0)\", \"width\": 3}}, \"name\": \"Google Trends\", \"orientation\": \"h\", \"type\": \"bar\", \"x\": [0.012521238812903375, 0.128768185200247, 0.0016802694665057432, 0.013329060671800367, 0.12822569188841146, 0.02638884739063507, 0.45614336630554964, 0.23294334026394745], \"y\": [\"Babyteeth\", \"The Gentlemen\", \"Max Winslow and the House of Secrets\", \"Miss Juneteenth\", \"Infamous\", \"The Wretched\", \"Becky\", \"Followed\"]}],                        {\"barmode\": \"stack\", \"paper_bgcolor\": \"#23272c\", \"plot_bgcolor\": \"#23272c\", \"template\": {\"data\": {\"bar\": [{\"error_x\": {\"color\": \"#f2f5fa\"}, \"error_y\": {\"color\": \"#f2f5fa\"}, \"marker\": {\"line\": {\"color\": \"rgb(17,17,17)\", \"width\": 0.5}}, \"type\": \"bar\"}], \"barpolar\": [{\"marker\": {\"line\": {\"color\": \"rgb(17,17,17)\", \"width\": 0.5}}, \"type\": \"barpolar\"}], \"carpet\": [{\"aaxis\": {\"endlinecolor\": \"#A2B1C6\", \"gridcolor\": \"#506784\", \"linecolor\": \"#506784\", \"minorgridcolor\": \"#506784\", \"startlinecolor\": \"#A2B1C6\"}, \"baxis\": {\"endlinecolor\": \"#A2B1C6\", \"gridcolor\": \"#506784\", \"linecolor\": \"#506784\", \"minorgridcolor\": \"#506784\", \"startlinecolor\": \"#A2B1C6\"}, \"type\": \"carpet\"}], \"choropleth\": [{\"colorbar\": {\"outlinewidth\": 0, \"ticks\": \"\"}, \"type\": \"choropleth\"}], \"contour\": [{\"colorbar\": {\"outlinewidth\": 0, \"ticks\": \"\"}, \"colorscale\": [[0.0, \"#0d0887\"], [0.1111111111111111, \"#46039f\"], [0.2222222222222222, \"#7201a8\"], [0.3333333333333333, \"#9c179e\"], [0.4444444444444444, \"#bd3786\"], [0.5555555555555556, \"#d8576b\"], [0.6666666666666666, \"#ed7953\"], [0.7777777777777778, \"#fb9f3a\"], [0.8888888888888888, \"#fdca26\"], [1.0, \"#f0f921\"]], \"type\": \"contour\"}], \"contourcarpet\": [{\"colorbar\": {\"outlinewidth\": 0, \"ticks\": \"\"}, \"type\": \"contourcarpet\"}], \"heatmap\": [{\"colorbar\": {\"outlinewidth\": 0, \"ticks\": \"\"}, \"colorscale\": [[0.0, \"#0d0887\"], [0.1111111111111111, \"#46039f\"], [0.2222222222222222, \"#7201a8\"], [0.3333333333333333, \"#9c179e\"], [0.4444444444444444, \"#bd3786\"], [0.5555555555555556, \"#d8576b\"], [0.6666666666666666, \"#ed7953\"], [0.7777777777777778, \"#fb9f3a\"], [0.8888888888888888, \"#fdca26\"], [1.0, \"#f0f921\"]], \"type\": \"heatmap\"}], \"heatmapgl\": [{\"colorbar\": {\"outlinewidth\": 0, \"ticks\": \"\"}, \"colorscale\": [[0.0, \"#0d0887\"], [0.1111111111111111, \"#46039f\"], [0.2222222222222222, \"#7201a8\"], [0.3333333333333333, \"#9c179e\"], [0.4444444444444444, \"#bd3786\"], [0.5555555555555556, \"#d8576b\"], [0.6666666666666666, \"#ed7953\"], [0.7777777777777778, \"#fb9f3a\"], [0.8888888888888888, \"#fdca26\"], [1.0, \"#f0f921\"]], \"type\": \"heatmapgl\"}], \"histogram\": [{\"marker\": {\"colorbar\": {\"outlinewidth\": 0, \"ticks\": \"\"}}, \"type\": \"histogram\"}], \"histogram2d\": [{\"colorbar\": {\"outlinewidth\": 0, \"ticks\": \"\"}, \"colorscale\": [[0.0, \"#0d0887\"], [0.1111111111111111, \"#46039f\"], [0.2222222222222222, \"#7201a8\"], [0.3333333333333333, \"#9c179e\"], [0.4444444444444444, \"#bd3786\"], [0.5555555555555556, \"#d8576b\"], [0.6666666666666666, \"#ed7953\"], [0.7777777777777778, \"#fb9f3a\"], [0.8888888888888888, \"#fdca26\"], [1.0, \"#f0f921\"]], \"type\": \"histogram2d\"}], \"histogram2dcontour\": [{\"colorbar\": {\"outlinewidth\": 0, \"ticks\": \"\"}, \"colorscale\": [[0.0, \"#0d0887\"], [0.1111111111111111, \"#46039f\"], [0.2222222222222222, \"#7201a8\"], [0.3333333333333333, \"#9c179e\"], [0.4444444444444444, \"#bd3786\"], [0.5555555555555556, \"#d8576b\"], [0.6666666666666666, \"#ed7953\"], [0.7777777777777778, \"#fb9f3a\"], [0.8888888888888888, \"#fdca26\"], [1.0, \"#f0f921\"]], \"type\": \"histogram2dcontour\"}], \"mesh3d\": [{\"colorbar\": {\"outlinewidth\": 0, \"ticks\": \"\"}, \"type\": \"mesh3d\"}], \"parcoords\": [{\"line\": {\"colorbar\": {\"outlinewidth\": 0, \"ticks\": \"\"}}, \"type\": \"parcoords\"}], \"pie\": [{\"automargin\": true, \"type\": \"pie\"}], \"scatter\": [{\"marker\": {\"line\": {\"color\": \"#283442\"}}, \"type\": \"scatter\"}], \"scatter3d\": [{\"line\": {\"colorbar\": {\"outlinewidth\": 0, \"ticks\": \"\"}}, \"marker\": {\"colorbar\": {\"outlinewidth\": 0, \"ticks\": \"\"}}, \"type\": \"scatter3d\"}], \"scattercarpet\": [{\"marker\": {\"colorbar\": {\"outlinewidth\": 0, \"ticks\": \"\"}}, \"type\": \"scattercarpet\"}], \"scattergeo\": [{\"marker\": {\"colorbar\": {\"outlinewidth\": 0, \"ticks\": \"\"}}, \"type\": \"scattergeo\"}], \"scattergl\": [{\"marker\": {\"line\": {\"color\": \"#283442\"}}, \"type\": \"scattergl\"}], \"scattermapbox\": [{\"marker\": {\"colorbar\": {\"outlinewidth\": 0, \"ticks\": \"\"}}, \"type\": \"scattermapbox\"}], \"scatterpolar\": [{\"marker\": {\"colorbar\": {\"outlinewidth\": 0, \"ticks\": \"\"}}, \"type\": \"scatterpolar\"}], \"scatterpolargl\": [{\"marker\": {\"colorbar\": {\"outlinewidth\": 0, \"ticks\": \"\"}}, \"type\": \"scatterpolargl\"}], \"scatterternary\": [{\"marker\": {\"colorbar\": {\"outlinewidth\": 0, \"ticks\": \"\"}}, \"type\": \"scatterternary\"}], \"surface\": [{\"colorbar\": {\"outlinewidth\": 0, \"ticks\": \"\"}, \"colorscale\": [[0.0, \"#0d0887\"], [0.1111111111111111, \"#46039f\"], [0.2222222222222222, \"#7201a8\"], [0.3333333333333333, \"#9c179e\"], [0.4444444444444444, \"#bd3786\"], [0.5555555555555556, \"#d8576b\"], [0.6666666666666666, \"#ed7953\"], [0.7777777777777778, \"#fb9f3a\"], [0.8888888888888888, \"#fdca26\"], [1.0, \"#f0f921\"]], \"type\": \"surface\"}], \"table\": [{\"cells\": {\"fill\": {\"color\": \"#506784\"}, \"line\": {\"color\": \"rgb(17,17,17)\"}}, \"header\": {\"fill\": {\"color\": \"#2a3f5f\"}, \"line\": {\"color\": \"rgb(17,17,17)\"}}, \"type\": \"table\"}]}, \"layout\": {\"annotationdefaults\": {\"arrowcolor\": \"#f2f5fa\", \"arrowhead\": 0, \"arrowwidth\": 1}, \"coloraxis\": {\"colorbar\": {\"outlinewidth\": 0, \"ticks\": \"\"}}, \"colorscale\": {\"diverging\": [[0, \"#8e0152\"], [0.1, \"#c51b7d\"], [0.2, \"#de77ae\"], [0.3, \"#f1b6da\"], [0.4, \"#fde0ef\"], [0.5, \"#f7f7f7\"], [0.6, \"#e6f5d0\"], [0.7, \"#b8e186\"], [0.8, \"#7fbc41\"], [0.9, \"#4d9221\"], [1, \"#276419\"]], \"sequential\": [[0.0, \"#0d0887\"], [0.1111111111111111, \"#46039f\"], [0.2222222222222222, \"#7201a8\"], [0.3333333333333333, \"#9c179e\"], [0.4444444444444444, \"#bd3786\"], [0.5555555555555556, \"#d8576b\"], [0.6666666666666666, \"#ed7953\"], [0.7777777777777778, \"#fb9f3a\"], [0.8888888888888888, \"#fdca26\"], [1.0, \"#f0f921\"]], \"sequentialminus\": [[0.0, \"#0d0887\"], [0.1111111111111111, \"#46039f\"], [0.2222222222222222, \"#7201a8\"], [0.3333333333333333, \"#9c179e\"], [0.4444444444444444, \"#bd3786\"], [0.5555555555555556, \"#d8576b\"], [0.6666666666666666, \"#ed7953\"], [0.7777777777777778, \"#fb9f3a\"], [0.8888888888888888, \"#fdca26\"], [1.0, \"#f0f921\"]]}, \"colorway\": [\"#636efa\", \"#EF553B\", \"#00cc96\", \"#ab63fa\", \"#FFA15A\", \"#19d3f3\", \"#FF6692\", \"#B6E880\", \"#FF97FF\", \"#FECB52\"], \"font\": {\"color\": \"#f2f5fa\"}, \"geo\": {\"bgcolor\": \"rgb(17,17,17)\", \"lakecolor\": \"rgb(17,17,17)\", \"landcolor\": \"rgb(17,17,17)\", \"showlakes\": true, \"showland\": true, \"subunitcolor\": \"#506784\"}, \"hoverlabel\": {\"align\": \"left\"}, \"hovermode\": \"closest\", \"mapbox\": {\"style\": \"dark\"}, \"paper_bgcolor\": \"rgb(17,17,17)\", \"plot_bgcolor\": \"rgb(17,17,17)\", \"polar\": {\"angularaxis\": {\"gridcolor\": \"#506784\", \"linecolor\": \"#506784\", \"ticks\": \"\"}, \"bgcolor\": \"rgb(17,17,17)\", \"radialaxis\": {\"gridcolor\": \"#506784\", \"linecolor\": \"#506784\", \"ticks\": \"\"}}, \"scene\": {\"xaxis\": {\"backgroundcolor\": \"rgb(17,17,17)\", \"gridcolor\": \"#506784\", \"gridwidth\": 2, \"linecolor\": \"#506784\", \"showbackground\": true, \"ticks\": \"\", \"zerolinecolor\": \"#C8D4E3\"}, \"yaxis\": {\"backgroundcolor\": \"rgb(17,17,17)\", \"gridcolor\": \"#506784\", \"gridwidth\": 2, \"linecolor\": \"#506784\", \"showbackground\": true, \"ticks\": \"\", \"zerolinecolor\": \"#C8D4E3\"}, \"zaxis\": {\"backgroundcolor\": \"rgb(17,17,17)\", \"gridcolor\": \"#506784\", \"gridwidth\": 2, \"linecolor\": \"#506784\", \"showbackground\": true, \"ticks\": \"\", \"zerolinecolor\": \"#C8D4E3\"}}, \"shapedefaults\": {\"line\": {\"color\": \"#f2f5fa\"}}, \"sliderdefaults\": {\"bgcolor\": \"#C8D4E3\", \"bordercolor\": \"rgb(17,17,17)\", \"borderwidth\": 1, \"tickwidth\": 0}, \"ternary\": {\"aaxis\": {\"gridcolor\": \"#506784\", \"linecolor\": \"#506784\", \"ticks\": \"\"}, \"baxis\": {\"gridcolor\": \"#506784\", \"linecolor\": \"#506784\", \"ticks\": \"\"}, \"bgcolor\": \"rgb(17,17,17)\", \"caxis\": {\"gridcolor\": \"#506784\", \"linecolor\": \"#506784\", \"ticks\": \"\"}}, \"title\": {\"x\": 0.05}, \"updatemenudefaults\": {\"bgcolor\": \"#506784\", \"borderwidth\": 0}, \"xaxis\": {\"automargin\": true, \"gridcolor\": \"#283442\", \"linecolor\": \"#506784\", \"ticks\": \"\", \"title\": {\"standoff\": 15}, \"zerolinecolor\": \"#283442\", \"zerolinewidth\": 2}, \"yaxis\": {\"automargin\": true, \"gridcolor\": \"#283442\", \"linecolor\": \"#506784\", \"ticks\": \"\", \"title\": {\"standoff\": 15}, \"zerolinecolor\": \"#283442\", \"zerolinewidth\": 2}}}, \"title\": {\"text\": \"Normalized Gross and Google Trends for top 15 Movies: Correlation = 0.8068127320314725\"}, \"xaxis\": {\"title\": {\"text\": \"Normalized Quantities\"}}, \"yaxis\": {\"title\": {\"text\": \"Movies\"}}},                        {\"responsive\": true}                    ).then(function(){\n",
       "                            \n",
       "var gd = document.getElementById('505e2ef3-6638-45f6-b9e0-e253337305d4');\n",
       "var x = new MutationObserver(function (mutations, observer) {{\n",
       "        var display = window.getComputedStyle(gd).display;\n",
       "        if (!display || display === 'none') {{\n",
       "            console.log([gd, 'removed!']);\n",
       "            Plotly.purge(gd);\n",
       "            observer.disconnect();\n",
       "        }}\n",
       "}});\n",
       "\n",
       "// Listen for the removal of the full notebook cells\n",
       "var notebookContainer = gd.closest('#notebook-container');\n",
       "if (notebookContainer) {{\n",
       "    x.observe(notebookContainer, {childList: true});\n",
       "}}\n",
       "\n",
       "// Listen for the clearing of the current output cell\n",
       "var outputEl = gd.closest('.output');\n",
       "if (outputEl) {{\n",
       "    x.observe(outputEl, {childList: true});\n",
       "}}\n",
       "\n",
       "                        })                };                });            </script>        </div>"
      ]
     },
     "metadata": {},
     "output_type": "display_data"
    }
   ],
   "source": [
    "import plotly.graph_objects as go\n",
    "\n",
    "df = pd.read_csv('6_mo_weekly.csv', sep='\\t')\n",
    "df['Date_dt'] = df['Date'].astype('datetime64[ns]')\n",
    "\n",
    "date = df['Date_dt'].unique()[5]#.iloc[-10]\n",
    "print(date)\n",
    "\n",
    "fig = go.Figure()\n",
    "sorted_df = df[df['Date_dt'] == date].sort_values(by=['Weekly'], ascending=False)[0:15][::-1]\n",
    "y = sorted_df['Release']\n",
    "x_rev = sorted_df['Weekly'] / np.sum(sorted_df['Weekly'])\n",
    "x_trend = sorted_df['google trends'] / np.sum(sorted_df['google trends'])\n",
    "trends, revenues = pd.Series(x_trend), pd.Series(x_rev)\n",
    "corr = trends.corr(revenues)\n",
    "\n",
    "fig = go.Figure()\n",
    "fig.add_trace(go.Bar(\n",
    "    y=y,\n",
    "    x=x_rev,\n",
    "    name='Gross',\n",
    "    orientation='h',\n",
    "    marker=dict(\n",
    "        color='blue', #rgba(246, 78, 139, 0.6)',\n",
    "        line=dict(color='rgba(246, 78, 139, 1.0)', width=3)\n",
    "    )\n",
    "))\n",
    "fig.add_trace(go.Bar(\n",
    "    y=y,\n",
    "    x=x_trend,\n",
    "    name='Google Trends',\n",
    "    orientation='h',\n",
    "    marker=dict(\n",
    "        color='red', #rgba(58, 71, 80, 0.6)',\n",
    "        line=dict(color='rgba(58, 71, 80, 1.0)', width=3)\n",
    "    )\n",
    "))\n",
    "title = f'Normalized Gross and Google Trends for top 15 Movies: Correlation = {corr}'\n",
    "\n",
    "#fig.update_layout(barmode='stack')\n",
    "fig.update_layout(template='plotly_dark',\n",
    "                  title=title,\n",
    "                  plot_bgcolor='#23272c',\n",
    "                  paper_bgcolor='#23272c',\n",
    "                  yaxis_title='Movies',\n",
    "                  xaxis_title='Normalized Quantities',barmode='stack')\n",
    "\n",
    "\n",
    "#fig.show()"
   ]
  },
  {
   "cell_type": "code",
   "execution_count": 6,
   "metadata": {},
   "outputs": [
    {
     "data": {
      "text/plain": [
       "datetime.date(2020, 8, 24)"
      ]
     },
     "execution_count": 6,
     "metadata": {},
     "output_type": "execute_result"
    }
   ],
   "source": [
    "date(2020,8,24)"
   ]
  },
  {
   "cell_type": "code",
   "execution_count": 12,
   "metadata": {},
   "outputs": [
    {
     "name": "stdout",
     "output_type": "stream",
     "text": [
      "Using directory 'C:\\Users\\nclan\\Anaconda3\\lib\\site-packages\\gtab'\n",
      "Active anchorbank changed to: google_anchorbank_geo=_timeframe=2019-01-01 2020-08-01.tsv\n",
      "\n",
      "Using C:\\Users\\nclan\\Anaconda3\\lib\\site-packages\\gtab\\output\\google_anchorbanks\\google_anchorbank_geo=_timeframe=2019-01-01 2020-08-01.tsv\n",
      "New query 'The Croods movie'\n",
      "New query calibrated!\n",
      "Using directory 'C:\\Users\\nclan\\Anaconda3\\lib\\site-packages\\gtab'\n",
      "Active anchorbank changed to: google_anchorbank_geo=_timeframe=2019-01-01 2020-08-01.tsv\n",
      "\n",
      "Using C:\\Users\\nclan\\Anaconda3\\lib\\site-packages\\gtab\\output\\google_anchorbanks\\google_anchorbank_geo=_timeframe=2019-01-01 2020-08-01.tsv\n",
      "New query 'News of the World movie'\n",
      "New query calibrated!\n",
      "Using directory 'C:\\Users\\nclan\\Anaconda3\\lib\\site-packages\\gtab'\n",
      "Active anchorbank changed to: google_anchorbank_geo=_timeframe=2019-01-01 2020-08-01.tsv\n",
      "\n",
      "Using C:\\Users\\nclan\\Anaconda3\\lib\\site-packages\\gtab\\output\\google_anchorbanks\\google_anchorbank_geo=_timeframe=2019-01-01 2020-08-01.tsv\n",
      "New query 'Monster Hunter movie'\n",
      "New query calibrated!\n",
      "Using directory 'C:\\Users\\nclan\\Anaconda3\\lib\\site-packages\\gtab'\n",
      "Active anchorbank changed to: google_anchorbank_geo=_timeframe=2019-01-01 2020-08-01.tsv\n",
      "\n",
      "Using C:\\Users\\nclan\\Anaconda3\\lib\\site-packages\\gtab\\output\\google_anchorbanks\\google_anchorbank_geo=_timeframe=2019-01-01 2020-08-01.tsv\n",
      "New query 'Promising Young Woman movie'\n",
      "New query calibrated!\n",
      "Using directory 'C:\\Users\\nclan\\Anaconda3\\lib\\site-packages\\gtab'\n",
      "Active anchorbank changed to: google_anchorbank_geo=_timeframe=2019-01-01 2020-08-01.tsv\n",
      "\n",
      "Using C:\\Users\\nclan\\Anaconda3\\lib\\site-packages\\gtab\\output\\google_anchorbanks\\google_anchorbank_geo=_timeframe=2019-01-01 2020-08-01.tsv\n",
      "New query 'Fatale movie'\n",
      "New query calibrated!\n",
      "Using directory 'C:\\Users\\nclan\\Anaconda3\\lib\\site-packages\\gtab'\n",
      "Active anchorbank changed to: google_anchorbank_geo=_timeframe=2019-01-01 2020-08-01.tsv\n",
      "\n",
      "Using C:\\Users\\nclan\\Anaconda3\\lib\\site-packages\\gtab\\output\\google_anchorbanks\\google_anchorbank_geo=_timeframe=2019-01-01 2020-08-01.tsv\n",
      "New query 'Pinocchio movie'\n",
      "New query calibrated!\n",
      "Using directory 'C:\\Users\\nclan\\Anaconda3\\lib\\site-packages\\gtab'\n",
      "Active anchorbank changed to: google_anchorbank_geo=_timeframe=2019-01-01 2020-08-01.tsv\n",
      "\n",
      "Using C:\\Users\\nclan\\Anaconda3\\lib\\site-packages\\gtab\\output\\google_anchorbanks\\google_anchorbank_geo=_timeframe=2019-01-01 2020-08-01.tsv\n",
      "New query 'Elf movie'\n",
      "New query calibrated!\n",
      "Using directory 'C:\\Users\\nclan\\Anaconda3\\lib\\site-packages\\gtab'\n",
      "Active anchorbank changed to: google_anchorbank_geo=_timeframe=2019-01-01 2020-08-01.tsv\n",
      "\n",
      "Using C:\\Users\\nclan\\Anaconda3\\lib\\site-packages\\gtab\\output\\google_anchorbanks\\google_anchorbank_geo=_timeframe=2019-01-01 2020-08-01.tsv\n",
      "New query 'The War with Grandpa movie'\n",
      "New query calibrated!\n",
      "Using directory 'C:\\Users\\nclan\\Anaconda3\\lib\\site-packages\\gtab'\n",
      "Active anchorbank changed to: google_anchorbank_geo=_timeframe=2019-01-01 2020-08-01.tsv\n",
      "\n",
      "Using C:\\Users\\nclan\\Anaconda3\\lib\\site-packages\\gtab\\output\\google_anchorbanks\\google_anchorbank_geo=_timeframe=2019-01-01 2020-08-01.tsv\n",
      "New query 'National Lampoon's Christmas Vacation movie'\n",
      "New query calibrated!\n",
      "Using directory 'C:\\Users\\nclan\\Anaconda3\\lib\\site-packages\\gtab'\n",
      "Active anchorbank changed to: google_anchorbank_geo=_timeframe=2019-01-01 2020-08-01.tsv\n",
      "\n",
      "Using C:\\Users\\nclan\\Anaconda3\\lib\\site-packages\\gtab\\output\\google_anchorbanks\\google_anchorbank_geo=_timeframe=2019-01-01 2020-08-01.tsv\n",
      "New query 'Freaky movie'\n",
      "New query calibrated!\n",
      "Using directory 'C:\\Users\\nclan\\Anaconda3\\lib\\site-packages\\gtab'\n",
      "Active anchorbank changed to: google_anchorbank_geo=_timeframe=2019-01-01 2020-08-01.tsv\n",
      "\n",
      "Using C:\\Users\\nclan\\Anaconda3\\lib\\site-packages\\gtab\\output\\google_anchorbanks\\google_anchorbank_geo=_timeframe=2019-01-01 2020-08-01.tsv\n",
      "New query 'The Polar Express movie'\n",
      "New query calibrated!\n",
      "Using directory 'C:\\Users\\nclan\\Anaconda3\\lib\\site-packages\\gtab'\n",
      "Active anchorbank changed to: google_anchorbank_geo=_timeframe=2019-01-01 2020-08-01.tsv\n",
      "\n",
      "Using C:\\Users\\nclan\\Anaconda3\\lib\\site-packages\\gtab\\output\\google_anchorbanks\\google_anchorbank_geo=_timeframe=2019-01-01 2020-08-01.tsv\n",
      "New query 'Come Play movie'\n",
      "New query calibrated!\n",
      "Using directory 'C:\\Users\\nclan\\Anaconda3\\lib\\site-packages\\gtab'\n",
      "Active anchorbank changed to: google_anchorbank_geo=_timeframe=2019-01-01 2020-08-01.tsv\n",
      "\n",
      "Using C:\\Users\\nclan\\Anaconda3\\lib\\site-packages\\gtab\\output\\google_anchorbanks\\google_anchorbank_geo=_timeframe=2019-01-01 2020-08-01.tsv\n",
      "New query 'Half Brothers movie'\n",
      "New query calibrated!\n",
      "Using directory 'C:\\Users\\nclan\\Anaconda3\\lib\\site-packages\\gtab'\n",
      "Active anchorbank changed to: google_anchorbank_geo=_timeframe=2019-01-01 2020-08-01.tsv\n",
      "\n",
      "Using C:\\Users\\nclan\\Anaconda3\\lib\\site-packages\\gtab\\output\\google_anchorbanks\\google_anchorbank_geo=_timeframe=2019-01-01 2020-08-01.tsv\n",
      "New query 'The Grinch movie'\n",
      "New query calibrated!\n",
      "Using directory 'C:\\Users\\nclan\\Anaconda3\\lib\\site-packages\\gtab'\n",
      "Active anchorbank changed to: google_anchorbank_geo=_timeframe=2019-01-01 2020-08-01.tsv\n",
      "\n",
      "Using C:\\Users\\nclan\\Anaconda3\\lib\\site-packages\\gtab\\output\\google_anchorbanks\\google_anchorbank_geo=_timeframe=2019-01-01 2020-08-01.tsv\n",
      "New query 'A Christmas Story movie'\n",
      "New query calibrated!\n",
      "Using directory 'C:\\Users\\nclan\\Anaconda3\\lib\\site-packages\\gtab'\n",
      "Active anchorbank changed to: google_anchorbank_geo=_timeframe=2019-01-01 2020-08-01.tsv\n",
      "\n",
      "Using C:\\Users\\nclan\\Anaconda3\\lib\\site-packages\\gtab\\output\\google_anchorbanks\\google_anchorbank_geo=_timeframe=2019-01-01 2020-08-01.tsv\n",
      "New query 'The Dissident movie'\n",
      "New query calibrated!\n",
      "Using directory 'C:\\Users\\nclan\\Anaconda3\\lib\\site-packages\\gtab'\n",
      "Active anchorbank changed to: google_anchorbank_geo=_timeframe=2019-01-01 2020-08-01.tsv\n",
      "\n",
      "Using C:\\Users\\nclan\\Anaconda3\\lib\\site-packages\\gtab\\output\\google_anchorbanks\\google_anchorbank_geo=_timeframe=2019-01-01 2020-08-01.tsv\n",
      "New query 'How the Grinch Stole Christmas movie'\n",
      "Could not calibrate. Time series for query too low everywhere.\n",
      "Using directory 'C:\\Users\\nclan\\Anaconda3\\lib\\site-packages\\gtab'\n",
      "Active anchorbank changed to: google_anchorbank_geo=_timeframe=2019-01-01 2020-08-01.tsv\n",
      "\n",
      "Using C:\\Users\\nclan\\Anaconda3\\lib\\site-packages\\gtab\\output\\google_anchorbanks\\google_anchorbank_geo=_timeframe=2019-01-01 2020-08-01.tsv\n",
      "New query 'How the Grinch Stole Christmas movie'\n",
      "Could not calibrate. Time series for query too low everywhere.\n",
      "Using directory 'C:\\Users\\nclan\\Anaconda3\\lib\\site-packages\\gtab'\n",
      "Active anchorbank changed to: google_anchorbank_geo=_timeframe=2019-01-01 2020-08-01.tsv\n",
      "\n",
      "Using C:\\Users\\nclan\\Anaconda3\\lib\\site-packages\\gtab\\output\\google_anchorbanks\\google_anchorbank_geo=_timeframe=2019-01-01 2020-08-01.tsv\n",
      "New query 'How the Grinch Stole Christmas movie'\n",
      "Could not calibrate. Time series for query too low everywhere.\n",
      "Using directory 'C:\\Users\\nclan\\Anaconda3\\lib\\site-packages\\gtab'\n",
      "Active anchorbank changed to: google_anchorbank_geo=_timeframe=2019-01-01 2020-08-01.tsv\n",
      "\n",
      "Using C:\\Users\\nclan\\Anaconda3\\lib\\site-packages\\gtab\\output\\google_anchorbanks\\google_anchorbank_geo=_timeframe=2019-01-01 2020-08-01.tsv\n",
      "New query 'How the Grinch Stole Christmas movie'\n",
      "Could not calibrate. Time series for query too low everywhere.\n",
      "Using directory 'C:\\Users\\nclan\\Anaconda3\\lib\\site-packages\\gtab'\n",
      "Active anchorbank changed to: google_anchorbank_geo=_timeframe=2019-01-01 2020-08-01.tsv\n",
      "\n",
      "Using C:\\Users\\nclan\\Anaconda3\\lib\\site-packages\\gtab\\output\\google_anchorbanks\\google_anchorbank_geo=_timeframe=2019-01-01 2020-08-01.tsv\n",
      "New query 'How the Grinch Stole Christmas movie'\n",
      "Could not calibrate. Time series for query too low everywhere.\n",
      "Using directory 'C:\\Users\\nclan\\Anaconda3\\lib\\site-packages\\gtab'\n",
      "Active anchorbank changed to: google_anchorbank_geo=_timeframe=2019-01-01 2020-08-01.tsv\n",
      "\n",
      "Using C:\\Users\\nclan\\Anaconda3\\lib\\site-packages\\gtab\\output\\google_anchorbanks\\google_anchorbank_geo=_timeframe=2019-01-01 2020-08-01.tsv\n",
      "New query 'Solo Brathuke So Better movie'\n",
      "New query calibrated!\n",
      "Using directory 'C:\\Users\\nclan\\Anaconda3\\lib\\site-packages\\gtab'\n",
      "Active anchorbank changed to: google_anchorbank_geo=_timeframe=2019-01-01 2020-08-01.tsv\n",
      "\n",
      "Using C:\\Users\\nclan\\Anaconda3\\lib\\site-packages\\gtab\\output\\google_anchorbanks\\google_anchorbank_geo=_timeframe=2019-01-01 2020-08-01.tsv\n",
      "New query 'Tenet movie'\n"
     ]
    },
    {
     "name": "stdout",
     "output_type": "stream",
     "text": [
      "New query calibrated!\n",
      "Using directory 'C:\\Users\\nclan\\Anaconda3\\lib\\site-packages\\gtab'\n",
      "Active anchorbank changed to: google_anchorbank_geo=_timeframe=2019-01-01 2020-08-01.tsv\n",
      "\n",
      "Using C:\\Users\\nclan\\Anaconda3\\lib\\site-packages\\gtab\\output\\google_anchorbanks\\google_anchorbank_geo=_timeframe=2019-01-01 2020-08-01.tsv\n",
      "New query 'All My Life movie'\n",
      "New query calibrated!\n",
      "Using directory 'C:\\Users\\nclan\\Anaconda3\\lib\\site-packages\\gtab'\n",
      "Active anchorbank changed to: google_anchorbank_geo=_timeframe=2019-01-01 2020-08-01.tsv\n",
      "\n",
      "Using C:\\Users\\nclan\\Anaconda3\\lib\\site-packages\\gtab\\output\\google_anchorbanks\\google_anchorbank_geo=_timeframe=2019-01-01 2020-08-01.tsv\n",
      "New query 'Let Him Go movie'\n",
      "New query calibrated!\n",
      "Using directory 'C:\\Users\\nclan\\Anaconda3\\lib\\site-packages\\gtab'\n",
      "Active anchorbank changed to: google_anchorbank_geo=_timeframe=2019-01-01 2020-08-01.tsv\n",
      "\n",
      "Using C:\\Users\\nclan\\Anaconda3\\lib\\site-packages\\gtab\\output\\google_anchorbanks\\google_anchorbank_geo=_timeframe=2019-01-01 2020-08-01.tsv\n",
      "New query 'The Muppet Christmas Carol movie'\n",
      "New query calibrated!\n",
      "Using directory 'C:\\Users\\nclan\\Anaconda3\\lib\\site-packages\\gtab'\n",
      "Active anchorbank changed to: google_anchorbank_geo=_timeframe=2019-01-01 2020-08-01.tsv\n",
      "\n",
      "Using C:\\Users\\nclan\\Anaconda3\\lib\\site-packages\\gtab\\output\\google_anchorbanks\\google_anchorbank_geo=_timeframe=2019-01-01 2020-08-01.tsv\n",
      "New query 'The Forgotten Carols movie'\n",
      "New query calibrated!\n",
      "Using directory 'C:\\Users\\nclan\\Anaconda3\\lib\\site-packages\\gtab'\n",
      "Active anchorbank changed to: google_anchorbank_geo=_timeframe=2019-01-01 2020-08-01.tsv\n",
      "\n",
      "Using C:\\Users\\nclan\\Anaconda3\\lib\\site-packages\\gtab\\output\\google_anchorbanks\\google_anchorbank_geo=_timeframe=2019-01-01 2020-08-01.tsv\n",
      "New query 'The Rescue movie'\n",
      "New query calibrated!\n",
      "Using directory 'C:\\Users\\nclan\\Anaconda3\\lib\\site-packages\\gtab'\n",
      "Active anchorbank changed to: google_anchorbank_geo=_timeframe=2019-01-01 2020-08-01.tsv\n",
      "\n",
      "Using C:\\Users\\nclan\\Anaconda3\\lib\\site-packages\\gtab\\output\\google_anchorbanks\\google_anchorbank_geo=_timeframe=2019-01-01 2020-08-01.tsv\n",
      "New query 'The Empty Man movie'\n",
      "New query calibrated!\n",
      "Using directory 'C:\\Users\\nclan\\Anaconda3\\lib\\site-packages\\gtab'\n",
      "Active anchorbank changed to: google_anchorbank_geo=_timeframe=2019-01-01 2020-08-01.tsv\n",
      "\n",
      "Using C:\\Users\\nclan\\Anaconda3\\lib\\site-packages\\gtab\\output\\google_anchorbanks\\google_anchorbank_geo=_timeframe=2019-01-01 2020-08-01.tsv\n",
      "New query 'The New Mutants movie'\n",
      "New query calibrated!\n",
      "Using directory 'C:\\Users\\nclan\\Anaconda3\\lib\\site-packages\\gtab'\n",
      "Active anchorbank changed to: google_anchorbank_geo=_timeframe=2019-01-01 2020-08-01.tsv\n",
      "\n",
      "Using C:\\Users\\nclan\\Anaconda3\\lib\\site-packages\\gtab\\output\\google_anchorbanks\\google_anchorbank_geo=_timeframe=2019-01-01 2020-08-01.tsv\n",
      "New query 'Honest Thief movie'\n",
      "New query calibrated!\n",
      "Using directory 'C:\\Users\\nclan\\Anaconda3\\lib\\site-packages\\gtab'\n",
      "Active anchorbank changed to: google_anchorbank_geo=_timeframe=2019-01-01 2020-08-01.tsv\n",
      "\n",
      "Using C:\\Users\\nclan\\Anaconda3\\lib\\site-packages\\gtab\\output\\google_anchorbanks\\google_anchorbank_geo=_timeframe=2019-01-01 2020-08-01.tsv\n",
      "New query 'Wild Mountain Thyme movie'\n",
      "New query calibrated!\n",
      "Using directory 'C:\\Users\\nclan\\Anaconda3\\lib\\site-packages\\gtab'\n",
      "Active anchorbank changed to: google_anchorbank_geo=_timeframe=2019-01-01 2020-08-01.tsv\n",
      "\n",
      "Using C:\\Users\\nclan\\Anaconda3\\lib\\site-packages\\gtab\\output\\google_anchorbanks\\google_anchorbank_geo=_timeframe=2019-01-01 2020-08-01.tsv\n",
      "New query 'The Last Vermeer movie'\n",
      "New query calibrated!\n",
      "Using directory 'C:\\Users\\nclan\\Anaconda3\\lib\\site-packages\\gtab'\n",
      "Active anchorbank changed to: google_anchorbank_geo=_timeframe=2019-01-01 2020-08-01.tsv\n",
      "\n",
      "Using C:\\Users\\nclan\\Anaconda3\\lib\\site-packages\\gtab\\output\\google_anchorbanks\\google_anchorbank_geo=_timeframe=2019-01-01 2020-08-01.tsv\n",
      "New query 'Bolshoi Ballet movie'\n",
      "New query calibrated!\n",
      "Using directory 'C:\\Users\\nclan\\Anaconda3\\lib\\site-packages\\gtab'\n",
      "Active anchorbank changed to: google_anchorbank_geo=_timeframe=2019-01-01 2020-08-01.tsv\n",
      "\n",
      "Using C:\\Users\\nclan\\Anaconda3\\lib\\site-packages\\gtab\\output\\google_anchorbanks\\google_anchorbank_geo=_timeframe=2019-01-01 2020-08-01.tsv\n",
      "New query 'Parallel Policy movie'\n",
      "Keyword Parallel Policy movie is bad!\n",
      "Using directory 'C:\\Users\\nclan\\Anaconda3\\lib\\site-packages\\gtab'\n",
      "Active anchorbank changed to: google_anchorbank_geo=_timeframe=2019-01-01 2020-08-01.tsv\n",
      "\n",
      "Using C:\\Users\\nclan\\Anaconda3\\lib\\site-packages\\gtab\\output\\google_anchorbanks\\google_anchorbank_geo=_timeframe=2019-01-01 2020-08-01.tsv\n",
      "New query 'Parallel Policy movie'\n",
      "Keyword Parallel Policy movie is bad!\n",
      "Using directory 'C:\\Users\\nclan\\Anaconda3\\lib\\site-packages\\gtab'\n",
      "Active anchorbank changed to: google_anchorbank_geo=_timeframe=2019-01-01 2020-08-01.tsv\n",
      "\n",
      "Using C:\\Users\\nclan\\Anaconda3\\lib\\site-packages\\gtab\\output\\google_anchorbanks\\google_anchorbank_geo=_timeframe=2019-01-01 2020-08-01.tsv\n",
      "New query 'Parallel Policy movie'\n",
      "Keyword Parallel Policy movie is bad!\n",
      "Using directory 'C:\\Users\\nclan\\Anaconda3\\lib\\site-packages\\gtab'\n",
      "Active anchorbank changed to: google_anchorbank_geo=_timeframe=2019-01-01 2020-08-01.tsv\n",
      "\n",
      "Using C:\\Users\\nclan\\Anaconda3\\lib\\site-packages\\gtab\\output\\google_anchorbanks\\google_anchorbank_geo=_timeframe=2019-01-01 2020-08-01.tsv\n",
      "New query 'Parallel Policy movie'\n",
      "Keyword Parallel Policy movie is bad!\n",
      "Using directory 'C:\\Users\\nclan\\Anaconda3\\lib\\site-packages\\gtab'\n",
      "Active anchorbank changed to: google_anchorbank_geo=_timeframe=2019-01-01 2020-08-01.tsv\n",
      "\n",
      "Using C:\\Users\\nclan\\Anaconda3\\lib\\site-packages\\gtab\\output\\google_anchorbanks\\google_anchorbank_geo=_timeframe=2019-01-01 2020-08-01.tsv\n",
      "New query 'Parallel Policy movie'\n",
      "Keyword Parallel Policy movie is bad!\n",
      "Using directory 'C:\\Users\\nclan\\Anaconda3\\lib\\site-packages\\gtab'\n",
      "Active anchorbank changed to: google_anchorbank_geo=_timeframe=2019-01-01 2020-08-01.tsv\n",
      "\n",
      "Using C:\\Users\\nclan\\Anaconda3\\lib\\site-packages\\gtab\\output\\google_anchorbanks\\google_anchorbank_geo=_timeframe=2019-01-01 2020-08-01.tsv\n",
      "New query 'Pray movie'\n",
      "New query calibrated!\n",
      "Using directory 'C:\\Users\\nclan\\Anaconda3\\lib\\site-packages\\gtab'\n",
      "Active anchorbank changed to: google_anchorbank_geo=_timeframe=2019-01-01 2020-08-01.tsv\n",
      "\n",
      "Using C:\\Users\\nclan\\Anaconda3\\lib\\site-packages\\gtab\\output\\google_anchorbanks\\google_anchorbank_geo=_timeframe=2019-01-01 2020-08-01.tsv\n",
      "New query 'Wonder Woman movie'\n",
      "New query calibrated!\n",
      "Using directory 'C:\\Users\\nclan\\Anaconda3\\lib\\site-packages\\gtab'\n",
      "Active anchorbank changed to: google_anchorbank_geo=_timeframe=2019-01-01 2020-08-01.tsv\n",
      "\n",
      "Using C:\\Users\\nclan\\Anaconda3\\lib\\site-packages\\gtab\\output\\google_anchorbanks\\google_anchorbank_geo=_timeframe=2019-01-01 2020-08-01.tsv\n",
      "New query 'It's a Wonderful Life movie'\n",
      "New query calibrated!\n",
      "Using directory 'C:\\Users\\nclan\\Anaconda3\\lib\\site-packages\\gtab'\n",
      "Active anchorbank changed to: google_anchorbank_geo=_timeframe=2019-01-01 2020-08-01.tsv\n",
      "\n",
      "Using C:\\Users\\nclan\\Anaconda3\\lib\\site-packages\\gtab\\output\\google_anchorbanks\\google_anchorbank_geo=_timeframe=2019-01-01 2020-08-01.tsv\n",
      "New query 'The Godfather movie'\n",
      "New query calibrated!\n",
      "Using directory 'C:\\Users\\nclan\\Anaconda3\\lib\\site-packages\\gtab'\n",
      "Active anchorbank changed to: google_anchorbank_geo=_timeframe=2019-01-01 2020-08-01.tsv\n",
      "\n",
      "Using C:\\Users\\nclan\\Anaconda3\\lib\\site-packages\\gtab\\output\\google_anchorbanks\\google_anchorbank_geo=_timeframe=2019-01-01 2020-08-01.tsv\n",
      "New query 'After We Collided movie'\n",
      "New query calibrated!\n",
      "                                              Release       Date  %+-YD  \\\n",
      "29                  Pray: The Story of Patrick Peyton 2020-12-14   73.8   \n",
      "22                                     Monster Hunter 2020-12-14  -30.7   \n",
      "24  National Lampoon's Christmas Vacation2020 Re-r... 2020-12-14   40.6   \n",
      "27                                    Parallel Policy 2020-12-14    0.0   \n",
      "32                                              Tenet 2020-12-14  -11.0   \n",
      "34                              The Croods: A New Age 2020-12-14  184.4   \n",
      "37                                      The Empty Man 2020-12-14  -26.6   \n",
      "39                               The Forgotten Carols 2020-12-14  343.5   \n",
      "20                                         Let Him Go 2020-12-14   91.6   \n",
      "41             The Godfather: Part III2020 Re-release 2020-12-14  -47.1   \n",
      "44                                   The Last Vermeer 2020-12-14  -81.1   \n",
      "46          The Muppet Christmas Carol2020 Re-release 2020-12-14    2.4   \n",
      "48                                    The New Mutants 2020-12-14  -58.3   \n",
      "50                   The Polar Express2020 Re-release 2020-12-14   23.2   \n",
      "52                                         The Rescue 2020-12-14   62.2   \n",
      "54                               The War with Grandpa 2020-12-14  205.4   \n",
      "56                                Wild Mountain Thyme 2020-12-14  -19.8   \n",
      "42                          The Grinch2020 Re-release 2020-12-14   53.5   \n",
      "19               It's a Wonderful Life2020 Re-release 2020-12-14   44.4   \n",
      "58                        Wonder Woman2020 Re-release 2020-12-14   42.3   \n",
      "17      How the Grinch Stole Christmas2020 Re-release 2020-12-14   -4.5   \n",
      "11                                             Freaky 2020-12-14   66.3   \n",
      "7                                  Elf2020 Re-release 2020-12-14  -13.6   \n",
      "13                                      Half Brothers 2020-12-14   74.7   \n",
      "5                                           Come Play 2020-12-14  225.3   \n",
      "4                      Bolshoi Ballet: The Nutcracker 2020-12-14    5.5   \n",
      "9                                              Fatale 2020-12-14  -30.8   \n",
      "15                                       Honest Thief 2020-12-14   47.8   \n",
      "2                                         All My Life 2020-12-14   14.7   \n",
      "1                                   After We Collided 2020-12-14  122.3   \n",
      "51                   The Polar Express2020 Re-release 2020-12-21  -32.5   \n",
      "53                                         The Rescue 2020-12-21 -158.8   \n",
      "8                                  Elf2020 Re-release 2020-12-21  -44.5   \n",
      "47          The Muppet Christmas Carol2020 Re-release 2020-12-21  -33.3   \n",
      "6                                           Come Play 2020-12-21  -19.8   \n",
      "45                                   The Last Vermeer 2020-12-21  -61.7   \n",
      "55                               The War with Grandpa 2020-12-21  -21.4   \n",
      "43                          The Grinch2020 Re-release 2020-12-21  -14.8   \n",
      "3                                         All My Life 2020-12-21  -73.7   \n",
      "49                                    The New Mutants 2020-12-21  217.6   \n",
      "10                                             Fatale 2020-12-21   77.2   \n",
      "18      How the Grinch Stole Christmas2020 Re-release 2020-12-21  -36.7   \n",
      "21                                         Let Him Go 2020-12-21  -79.7   \n",
      "16                                       Honest Thief 2020-12-21  -22.3   \n",
      "23                                     Monster Hunter 2020-12-21  -46.0   \n",
      "25  National Lampoon's Christmas Vacation2020 Re-r... 2020-12-21  -51.6   \n",
      "26                                  News of the World 2020-12-21  -60.6   \n",
      "14                                      Half Brothers 2020-12-21 -136.6   \n",
      "28                                          Pinocchio 2020-12-21  -33.0   \n",
      "57                                Wild Mountain Thyme 2020-12-21  -20.6   \n",
      "30                              Promising Young Woman 2020-12-21  -21.7   \n",
      "31                            Solo Brathuke So Better 2020-12-21  -74.8   \n",
      "33                                              Tenet 2020-12-21   16.7   \n",
      "12                                             Freaky 2020-12-21  -56.5   \n",
      "35                              The Croods: A New Age 2020-12-21   23.0   \n",
      "36                                      The Dissident 2020-12-21    1.4   \n",
      "38                                      The Empty Man 2020-12-21  -72.9   \n",
      "40                               The Forgotten Carols 2020-12-21  421.2   \n",
      "0                    A Christmas Story2020 Re-release 2020-12-21  -39.3   \n",
      "\n",
      "     %+-LW    Days  google trends     Avg TD     Avg YD     Weekly  \\\n",
      "29  -220.2   216.0       0.099840  11.285714   7.714286      115.0   \n",
      "22     0.0     6.0      11.349206   0.714286   0.428571  2201269.0   \n",
      "24   -24.6    49.0       0.000000   1.857143   0.857143   166000.0   \n",
      "27     0.0     1.0       0.000000   3.142857   0.000000     1070.0   \n",
      "32     0.0   324.0       4.614035   5.428571   3.714286    95000.0   \n",
      "34  -175.2   161.0       3.310000   1.142857   1.142857  2797865.0   \n",
      "37  1834.8   392.0       0.058656  18.857143  18.571429     3867.0   \n",
      "39  -135.5   196.0       0.000000  14.857143  14.857143    49287.0   \n",
      "20  -318.9   294.0       0.911040  12.857143  12.714286    94840.0   \n",
      "41  -238.4    50.0       0.195411   6.857143   7.714286     7440.0   \n",
      "44  -403.0   196.0       0.056784  16.000000  15.571429    20917.0   \n",
      "46     0.0     6.0       0.076128   5.714286   3.714286    92000.0   \n",
      "48  2358.8   784.0       0.683606  17.857143  17.285714     5950.0   \n",
      "50    -7.1    48.0       0.830000   2.714286   1.857143   231000.0   \n",
      "52     0.0     6.0       0.155109   9.285714   6.571429     9674.0   \n",
      "54  -181.6   490.0       0.351936   6.285714   6.000000   230978.0   \n",
      "56  -151.2    49.0       0.530015  11.857143  11.571429    99781.0   \n",
      "42   -82.1    48.0       2.941176   5.000000   3.571429   115000.0   \n",
      "19     0.0     3.0       0.076267   5.142857   2.571429    44000.0   \n",
      "58  -113.0    17.0       3.978199   4.285714   2.142857    63000.0   \n",
      "17    -8.7    48.0       0.000000   4.428571   2.857143   130000.0   \n",
      "11  -264.0   245.0       3.530000   5.285714   4.714286   283500.0   \n",
      "7    -28.6   111.0      13.227513   1.714286   1.142857   365000.0   \n",
      "13  -214.1    98.0       0.320607   3.285714   2.857143   422485.0   \n",
      "5   -215.6   343.0       0.682814   9.000000   9.285714   158405.0   \n",
      "4      0.0  1113.0       0.000000   8.285714   5.857143    50000.0   \n",
      "9      0.0     6.0       1.800000   1.285714   0.857143   918112.0   \n",
      "15  -272.1   490.0       0.748800  11.285714  11.142857   109479.0   \n",
      "2   -345.2    98.0       1.210000   8.714286   8.000000   142505.0   \n",
      "1   -150.0   165.0       0.800000   6.428571   4.285714       39.0   \n",
      "51  -219.2    69.0       0.930000   4.428571   2.857143    60000.0   \n",
      "53  -275.8    49.0       0.486720  17.000000  16.285714     7802.0   \n",
      "8   -202.1   132.0      13.605442   3.000000   2.000000   115000.0   \n",
      "47  -272.8    27.0       0.104832   9.142857   6.000000     8000.0   \n",
      "6     -8.9   392.0       0.576662   9.714286   9.285714   102040.0   \n",
      "45  -165.5    65.0       0.000000   4.000000   4.857143     1271.0   \n",
      "55   303.5   462.0       0.307008   5.428571   4.857143   200734.0   \n",
      "43  -203.2    69.0       3.117647   6.142857   4.142857    35000.0   \n",
      "3   -405.0   147.0       2.790000  13.285714  12.285714    52985.0   \n",
      "49  -520.5   833.0       0.527140  18.714286  18.285714     1546.0   \n",
      "10   -81.5    49.0       3.330000   3.428571   3.142857  1043235.0   \n",
      "18  -228.6    69.0       0.000000   6.857143   4.428571    30000.0   \n",
      "21  -308.3   343.0       1.088256  14.857143  14.142857    37620.0   \n",
      "16     4.4   225.0       0.207360   3.571429   4.714286    33104.0   \n",
      "23  -144.1    36.0      12.460317   1.857143   1.428571  1590306.0   \n",
      "25  -112.1    96.0       0.052416   3.714286   2.428571    91000.0   \n",
      "26     0.0     6.0       3.472973   0.571429   0.285714  2250430.0   \n",
      "14  -270.8   147.0       0.858538   8.000000   6.857143   181715.0   \n",
      "28     0.0     6.0       0.624000   2.571429   1.714286   268259.0   \n",
      "57  -164.9    36.0       0.166400   5.000000   6.000000    18568.0   \n",
      "30     0.0     6.0       1.350000   1.857143   1.285714   719305.0   \n",
      "31     0.0     6.0      15.873016   6.714286   4.142857    35000.0   \n",
      "33  -255.4   345.0       4.631579   8.142857   5.428571    14000.0   \n",
      "12  -268.7   294.0       3.630000   7.714286   7.428571   144380.0   \n",
      "35   402.6   210.0       3.610000   1.285714   1.285714  3253840.0   \n",
      "36     0.0     6.0       0.152256   7.285714   5.000000    25000.0   \n",
      "38  -543.3   441.0       0.270816  18.857143  18.714286      842.0   \n",
      "40    10.6   245.0       0.012829  14.428571  14.142857    46844.0   \n",
      "0      0.0     6.0       2.166667   6.142857   4.000000    35000.0   \n",
      "\n",
      "    Weekly %+-YD  Weekly %+-LW  Avg Theatre  Avg per Theatre Avg   Avg To Date  \n",
      "29          73.8        -220.2     0.428571            16.428571  3.098743e+04  \n",
      "22         -30.7           0.0   744.000000           181.000000  6.639470e+05  \n",
      "24          40.6         -24.6   142.857143            47.428571  2.090000e+05  \n",
      "27           0.0           0.0     0.000000             0.000000  1.528571e+02  \n",
      "32         -11.0           0.0   150.000000            38.571429  2.479957e+07  \n",
      "34         184.4        -175.2  2025.428571           203.857143  2.545187e+07  \n",
      "37         -26.6        1834.8   134.285714             4.285714  2.990548e+06  \n",
      "39         343.5        -135.5    59.285714           125.000000  4.300563e+05  \n",
      "20          91.6        -318.9   611.142857            26.857143  9.255444e+06  \n",
      "41         -47.1        -238.4    89.142857             6.428571  5.291286e+04  \n",
      "44         -81.1        -403.0   529.142857            13.714286  6.748453e+05  \n",
      "46           2.4           0.0   310.714286            17.857143  2.728571e+04  \n",
      "48         -58.3        2358.8   156.000000             7.428571  2.384887e+07  \n",
      "50          23.2          -7.1   192.857143            73.142857  2.370000e+05  \n",
      "52          62.2           0.0    27.857143            21.000000  2.613857e+03  \n",
      "54         205.4        -181.6   961.285714            37.857143  1.805117e+07  \n",
      "56         -19.8        -151.2   450.000000            31.142857  1.509084e+05  \n",
      "42          53.5         -82.1   107.142857            65.714286  1.480490e+05  \n",
      "19          44.4           0.0    71.428571            25.142857  8.857143e+03  \n",
      "58          42.3        -113.0   160.000000            16.000000  6.671429e+04  \n",
      "17          -4.5          -8.7   128.571429            61.714286  1.497914e+05  \n",
      "11          66.3        -264.0  1042.142857            43.857143  8.370744e+06  \n",
      "7          -13.6         -28.6   257.142857            86.714286  7.515291e+05  \n",
      "13          74.7        -214.1  1281.857143            49.000000  1.582912e+06  \n",
      "5          225.3        -215.6   531.571429            48.714286  9.274936e+06  \n",
      "4            5.5           0.0    85.714286            35.714286  1.231243e+05  \n",
      "9          -30.8           0.0   474.428571           118.285714  2.775370e+05  \n",
      "15          47.8        -272.1   509.285714            36.142857  1.407372e+07  \n",
      "2           14.7        -345.2   812.428571            27.142857  7.658500e+05  \n",
      "1          122.3        -150.0     0.857143             2.714286  1.022773e+06  \n",
      "51         -32.5        -219.2    94.285714            38.714286  2.885714e+05  \n",
      "53        -158.8        -275.8    69.571429            16.142857  1.544986e+04  \n",
      "8          -44.5        -202.1   128.571429            54.571429  8.342434e+05  \n",
      "47         -33.3        -272.8    68.571429             6.857143  4.185714e+04  \n",
      "6          -19.8          -8.9   296.714286            69.000000  9.428687e+06  \n",
      "45         -61.7        -165.5    21.714286             2.285714  1.952100e+05  \n",
      "55         -21.4         303.5   564.857143            44.142857  1.571778e+07  \n",
      "43         -14.8        -203.2    64.285714            33.142857  1.756204e+05  \n",
      "3          -73.7        -405.0   405.000000            20.714286  8.702743e+05  \n",
      "49         217.6        -520.5    34.000000             5.000000  2.385221e+07  \n",
      "10          77.2         -81.5  1133.142857           129.714286  1.412927e+06  \n",
      "18         -36.7        -228.6    64.285714            28.428571  1.763629e+05  \n",
      "21         -79.7        -308.3   255.142857            28.285714  9.329848e+06  \n",
      "16         -22.3           4.4   152.142857            13.142857  6.064978e+06  \n",
      "23         -46.0        -144.1  1274.714286           126.285714  2.373759e+06  \n",
      "25         -51.6        -112.1   128.571429            43.142857  3.628571e+05  \n",
      "26         -60.6           0.0   814.285714           169.000000  7.172800e+05  \n",
      "14        -136.6        -270.8   732.857143            45.428571  1.934549e+06  \n",
      "28         -33.0           0.0   336.857143            48.428571  8.122471e+04  \n",
      "57         -20.6        -164.9   192.857143             5.714286  8.855686e+04  \n",
      "30         -21.7           0.0   561.428571            78.285714  2.136700e+05  \n",
      "31         -74.8           0.0    10.714286           200.000000  1.171429e+04  \n",
      "33          16.7        -255.4    30.000000            28.428571  2.481614e+07  \n",
      "12         -56.5        -268.7   557.857143            44.857143  8.606386e+06  \n",
      "35          23.0         402.6  1828.857143           257.000000  2.878415e+07  \n",
      "36           1.4           0.0    68.571429            22.285714  7.142857e+03  \n",
      "38         -72.9        -543.3    63.714286             1.285714  2.992642e+06  \n",
      "40         421.2          10.6    46.285714           147.142857  4.831386e+05  \n",
      "0          -39.3           0.0    64.285714            33.285714  1.071429e+04  \n",
      "0    876759.0\n",
      "Name: Weekly, dtype: float64\n",
      "22    345000.0\n",
      "Name: Weekly, dtype: float64\n",
      "32    225829.0\n"
     ]
    },
    {
     "name": "stdout",
     "output_type": "stream",
     "text": [
      "Name: Weekly, dtype: float64\n",
      "53    272658.0\n",
      "Name: Weekly, dtype: float64\n",
      "75    198932.0\n",
      "Name: Weekly, dtype: float64\n",
      "102    137208.0\n",
      "Name: Weekly, dtype: float64\n",
      "141    75090.0\n",
      "Name: Weekly, dtype: float64\n",
      "170    69201.0\n",
      "Name: Weekly, dtype: float64\n",
      "191    44521.0\n",
      "Name: Weekly, dtype: float64\n",
      "257    20611.0\n",
      "Name: Weekly, dtype: float64\n",
      "285    20332.0\n",
      "Name: Weekly, dtype: float64\n",
      "302    8092.0\n",
      "Name: Weekly, dtype: float64\n",
      "1    475800.0\n",
      "Name: Weekly, dtype: float64\n",
      "24    515111.0\n",
      "Name: Weekly, dtype: float64\n",
      "35    414661.0\n",
      "Name: Weekly, dtype: float64\n",
      "61    220681.0\n",
      "Name: Weekly, dtype: float64\n",
      "71    130798.0\n",
      "Name: Weekly, dtype: float64\n",
      "111    60467.0\n",
      "Name: Weekly, dtype: float64\n",
      "136    21712.0\n",
      "Name: Weekly, dtype: float64\n",
      "154    8533.0\n",
      "Name: Weekly, dtype: float64\n",
      "202    2273.0\n",
      "Name: Weekly, dtype: float64\n",
      "2    6480.0\n",
      "Name: Weekly, dtype: float64\n",
      "18    3225.0\n",
      "Name: Weekly, dtype: float64\n",
      "3    1125007.0\n",
      "Name: Weekly, dtype: float64\n",
      "25    1142565.0\n",
      "Name: Weekly, dtype: float64\n",
      "39    539717.0\n",
      "Name: Weekly, dtype: float64\n",
      "45    310174.0\n",
      "Name: Weekly, dtype: float64\n",
      "73    152400.0\n",
      "Name: Weekly, dtype: float64\n",
      "105    65935.0\n",
      "Name: Weekly, dtype: float64\n",
      "122    87855.0\n",
      "Name: Weekly, dtype: float64\n",
      "180    12352.0\n",
      "Name: Weekly, dtype: float64\n",
      "213    3655.0\n",
      "Name: Weekly, dtype: float64\n",
      "4    34098.0\n",
      "Name: Weekly, dtype: float64\n",
      "14    4732.0\n",
      "Name: Weekly, dtype: float64\n",
      "5    646438.0\n",
      "Name: Weekly, dtype: float64\n",
      "19    455438.0\n",
      "Name: Weekly, dtype: float64\n",
      "41    407307.0\n",
      "Name: Weekly, dtype: float64\n",
      "44    246859.0\n",
      "Name: Weekly, dtype: float64\n",
      "77    154109.0\n",
      "Name: Weekly, dtype: float64\n",
      "110    99931.0\n",
      "Name: Weekly, dtype: float64\n",
      "133    60919.0\n",
      "Name: Weekly, dtype: float64\n",
      "159    22995.0\n",
      "Name: Weekly, dtype: float64\n",
      "193    7085.0\n",
      "Name: Weekly, dtype: float64\n",
      "255    2218.0\n",
      "Name: Weekly, dtype: float64\n",
      "290    2480.0\n",
      "Name: Weekly, dtype: float64\n",
      "317    2141.0\n",
      "Name: Weekly, dtype: float64\n",
      "345    150.0\n",
      "Name: Weekly, dtype: float64\n",
      "383    24.0\n",
      "Name: Weekly, dtype: float64\n",
      "6    7037017.0\n",
      "Name: Weekly, dtype: float64\n",
      "23    4753312.0\n",
      "Name: Weekly, dtype: float64\n",
      "34    3539243.0\n",
      "Name: Weekly, dtype: float64\n",
      "60    2220235.0\n",
      "Name: Weekly, dtype: float64\n",
      "64    1742824.0\n",
      "Name: Weekly, dtype: float64\n",
      "100    1471973.0\n",
      "Name: Weekly, dtype: float64\n",
      "134    1055664.0\n",
      "Name: Weekly, dtype: float64\n",
      "178    712921.0\n",
      "Name: Weekly, dtype: float64\n",
      "189    425312.0\n",
      "Name: Weekly, dtype: float64\n",
      "239    243580.0\n",
      "Name: Weekly, dtype: float64\n",
      "299    191423.0\n",
      "Name: Weekly, dtype: float64\n",
      "309    154511.0\n",
      "Name: Weekly, dtype: float64\n",
      "358    73449.0\n",
      "Name: Weekly, dtype: float64\n",
      "397    13873.0\n",
      "Name: Weekly, dtype: float64\n",
      "428    5348.0\n",
      "Name: Weekly, dtype: float64\n",
      "438    12788.0\n",
      "Name: Weekly, dtype: float64\n",
      "474    5950.0\n",
      "Name: Weekly, dtype: float64\n",
      "501    1546.0\n",
      "Name: Weekly, dtype: float64\n",
      "7    50276.0\n",
      "Name: Weekly, dtype: float64\n",
      "8    3819220.0\n",
      "Name: Weekly, dtype: float64\n",
      "17    2598055.0\n",
      "Name: Weekly, dtype: float64\n",
      "43    2403341.0\n",
      "Name: Weekly, dtype: float64\n",
      "54    1852498.0\n",
      "Name: Weekly, dtype: float64\n",
      "84    1461974.0\n",
      "Name: Weekly, dtype: float64\n",
      "108    1222582.0\n",
      "Name: Weekly, dtype: float64\n",
      "129    996172.0\n",
      "Name: Weekly, dtype: float64\n",
      "149    661309.0\n",
      "Name: Weekly, dtype: float64\n",
      "203    397372.0\n",
      "Name: Weekly, dtype: float64\n",
      "229    197986.0\n",
      "Name: Weekly, dtype: float64\n",
      "289    129664.0\n",
      "Name: Weekly, dtype: float64\n",
      "326    60833.0\n",
      "Name: Weekly, dtype: float64\n",
      "9    118161.0\n",
      "Name: Weekly, dtype: float64\n",
      "20    132054.0\n",
      "Name: Weekly, dtype: float64\n",
      "31    67253.0\n",
      "Name: Weekly, dtype: float64\n",
      "46    13811.0\n",
      "Name: Weekly, dtype: float64\n",
      "10    1260.0\n",
      "Name: Weekly, dtype: float64\n",
      "11    80500.0\n",
      "Name: Weekly, dtype: float64\n",
      "21    41729.0\n",
      "Name: Weekly, dtype: float64\n",
      "27    42650.0\n",
      "Name: Weekly, dtype: float64\n",
      "58    48372.0\n",
      "Name: Weekly, dtype: float64\n",
      "79    51006.0\n",
      "Name: Weekly, dtype: float64\n",
      "106    37678.0\n",
      "Name: Weekly, dtype: float64\n",
      "125    19676.0\n",
      "Name: Weekly, dtype: float64\n",
      "182    7685.0\n",
      "Name: Weekly, dtype: float64\n",
      "197    1753.0\n",
      "Name: Weekly, dtype: float64\n",
      "242    1260.0\n",
      "Name: Weekly, dtype: float64\n",
      "270    1566.0\n",
      "Name: Weekly, dtype: float64\n",
      "334    1109.0\n",
      "Name: Weekly, dtype: float64\n",
      "12    17272.0\n",
      "Name: Weekly, dtype: float64\n",
      "13    5800.0\n",
      "Name: Weekly, dtype: float64\n",
      "15    2011.0\n",
      "Name: Weekly, dtype: float64\n",
      "16    19386.0\n",
      "Name: Weekly, dtype: float64\n",
      "42    19994.0\n",
      "Name: Weekly, dtype: float64\n",
      "52    9664.0\n",
      "Name: Weekly, dtype: float64\n",
      "83    4915.0\n",
      "Name: Weekly, dtype: float64\n",
      "97    3317.0\n",
      "Name: Weekly, dtype: float64\n",
      "130    1343.0\n",
      "Name: Weekly, dtype: float64\n",
      "150    306.0\n",
      "Name: Weekly, dtype: float64\n",
      "26    540.0\n",
      "Name: Weekly, dtype: float64\n",
      "36    198.0\n",
      "Name: Weekly, dtype: float64\n",
      "169    256.0\n",
      "Name: Weekly, dtype: float64\n",
      "248    419.0\n",
      "Name: Weekly, dtype: float64\n",
      "303    378.0\n",
      "Name: Weekly, dtype: float64\n",
      "28    1126401.0\n",
      "Name: Weekly, dtype: float64\n",
      "57    1282815.0\n",
      "Name: Weekly, dtype: float64\n",
      "74    860404.0\n",
      "Name: Weekly, dtype: float64\n",
      "99    465117.0\n",
      "Name: Weekly, dtype: float64\n",
      "135    214015.0\n",
      "Name: Weekly, dtype: float64\n",
      "176    60054.0\n",
      "Name: Weekly, dtype: float64\n",
      "196    23776.0\n",
      "Name: Weekly, dtype: float64\n",
      "231    11618.0\n",
      "Name: Weekly, dtype: float64\n",
      "291    15541.0\n",
      "Name: Weekly, dtype: float64\n",
      "323    6428.0\n",
      "Name: Weekly, dtype: float64\n",
      "354    1273.0\n",
      "Name: Weekly, dtype: float64\n",
      "29    19650.0\n",
      "Name: Weekly, dtype: float64\n",
      "55    4498.0\n",
      "Name: Weekly, dtype: float64\n",
      "30    167.0\n",
      "Name: Weekly, dtype: float64\n",
      "33    253.0\n",
      "Name: Weekly, dtype: float64\n",
      "385    112.0\n",
      "Name: Weekly, dtype: float64\n",
      "37    430.0\n",
      "Name: Weekly, dtype: float64\n",
      "38    144.0\n",
      "Name: Weekly, dtype: float64\n",
      "40    26914.0\n",
      "Name: Weekly, dtype: float64\n",
      "59    39179.0\n",
      "Name: Weekly, dtype: float64\n",
      "66    26350.0\n",
      "Name: Weekly, dtype: float64\n",
      "96    15190.0\n",
      "Name: Weekly, dtype: float64\n",
      "123    18968.0\n",
      "Name: Weekly, dtype: float64\n",
      "157    15482.0\n",
      "Name: Weekly, dtype: float64\n",
      "204    10353.0\n",
      "Name: Weekly, dtype: float64\n",
      "252    10909.0\n",
      "Name: Weekly, dtype: float64\n",
      "272    1595.0\n",
      "Name: Weekly, dtype: float64\n",
      "47    79182.0\n",
      "Name: Weekly, dtype: float64\n",
      "72    48024.0\n",
      "Name: Weekly, dtype: float64\n",
      "86    18824.0\n",
      "Name: Weekly, dtype: float64\n",
      "132    10594.0\n",
      "Name: Weekly, dtype: float64\n",
      "156    5910.0\n",
      "Name: Weekly, dtype: float64\n",
      "216    3221.0\n",
      "Name: Weekly, dtype: float64\n",
      "251    1742.0\n",
      "Name: Weekly, dtype: float64\n",
      "274    465.0\n",
      "Name: Weekly, dtype: float64\n",
      "48    1384296.0\n",
      "Name: Weekly, dtype: float64\n",
      "78    1306439.0\n",
      "Name: Weekly, dtype: float64\n",
      "94    741680.0\n",
      "Name: Weekly, dtype: float64\n",
      "128    387576.0\n",
      "Name: Weekly, dtype: float64\n",
      "171    150540.0\n",
      "Name: Weekly, dtype: float64\n",
      "228    53317.0\n",
      "Name: Weekly, dtype: float64\n",
      "235    19436.0\n",
      "Name: Weekly, dtype: float64\n",
      "286    5881.0\n",
      "Name: Weekly, dtype: float64\n",
      "313    1868.0\n",
      "Name: Weekly, dtype: float64\n",
      "349    768.0\n",
      "Name: Weekly, dtype: float64\n",
      "377    189.0\n",
      "Name: Weekly, dtype: float64\n",
      "49    25150.0\n",
      "Name: Weekly, dtype: float64\n",
      "80    19365.0\n",
      "Name: Weekly, dtype: float64\n",
      "109    4515.0\n",
      "Name: Weekly, dtype: float64\n",
      "50    65540.0\n",
      "Name: Weekly, dtype: float64\n",
      "62    23666.0\n",
      "Name: Weekly, dtype: float64\n",
      "51    112273.0\n",
      "Name: Weekly, dtype: float64\n",
      "68    69349.0\n",
      "Name: Weekly, dtype: float64\n",
      "107    22837.0\n",
      "Name: Weekly, dtype: float64\n",
      "140    2212.0\n",
      "Name: Weekly, dtype: float64\n",
      "56    5324.0\n",
      "Name: Weekly, dtype: float64\n",
      "69    12234.0\n",
      "Name: Weekly, dtype: float64\n",
      "112    2305.0\n",
      "Name: Weekly, dtype: float64\n",
      "139    10.0\n",
      "Name: Weekly, dtype: float64\n",
      "63    7343.0\n",
      "Name: Weekly, dtype: float64\n",
      "103    768.0\n",
      "Name: Weekly, dtype: float64\n",
      "65    876.0\n",
      "Name: Weekly, dtype: float64\n",
      "104    829.0\n",
      "Name: Weekly, dtype: float64\n",
      "142    101.0\n",
      "Name: Weekly, dtype: float64\n",
      "183    36.0\n",
      "Name: Weekly, dtype: float64\n",
      "225    964.0\n",
      "Name: Weekly, dtype: float64\n",
      "67    246491.0\n",
      "Name: Weekly, dtype: float64\n",
      "95    258907.0\n",
      "Name: Weekly, dtype: float64\n",
      "145    102433.0\n",
      "Name: Weekly, dtype: float64\n",
      "155    22022.0\n",
      "Name: Weekly, dtype: float64\n",
      "194    10493.0\n",
      "Name: Weekly, dtype: float64\n",
      "247    3411.0\n",
      "Name: Weekly, dtype: float64\n",
      "279    725.0\n",
      "Name: Weekly, dtype: float64\n",
      "328    152122.0\n",
      "Name: Weekly, dtype: float64\n",
      "360    237863.0\n",
      "Name: Weekly, dtype: float64\n",
      "70    56210.0\n",
      "Name: Weekly, dtype: float64\n",
      "92    25940.0\n",
      "Name: Weekly, dtype: float64\n",
      "76    279125.0\n",
      "Name: Weekly, dtype: float64\n",
      "89    376070.0\n",
      "Name: Weekly, dtype: float64\n",
      "126    103773.0\n",
      "Name: Weekly, dtype: float64\n",
      "167    28879.0\n",
      "Name: Weekly, dtype: float64\n",
      "207    5237.0\n",
      "Name: Weekly, dtype: float64\n",
      "81    908000.0\n",
      "Name: Weekly, dtype: float64\n",
      "87    335000.0\n",
      "Name: Weekly, dtype: float64\n",
      "124    145000.0\n",
      "Name: Weekly, dtype: float64\n",
      "185    79000.0\n",
      "Name: Weekly, dtype: float64\n",
      "82    170349.0\n",
      "Name: Weekly, dtype: float64\n",
      "101    165711.0\n",
      "Name: Weekly, dtype: float64\n",
      "127    86490.0\n",
      "Name: Weekly, dtype: float64\n",
      "168    39759.0\n"
     ]
    },
    {
     "name": "stdout",
     "output_type": "stream",
     "text": [
      "Name: Weekly, dtype: float64\n",
      "212    19452.0\n",
      "Name: Weekly, dtype: float64\n",
      "243    11810.0\n",
      "Name: Weekly, dtype: float64\n",
      "281    4176.0\n",
      "Name: Weekly, dtype: float64\n",
      "85    215675.0\n",
      "Name: Weekly, dtype: float64\n",
      "98    193730.0\n",
      "Name: Weekly, dtype: float64\n",
      "118    82645.0\n",
      "Name: Weekly, dtype: float64\n",
      "175    31940.0\n",
      "Name: Weekly, dtype: float64\n",
      "220    7440.0\n",
      "Name: Weekly, dtype: float64\n",
      "88    142694.0\n",
      "Name: Weekly, dtype: float64\n",
      "116    113701.0\n",
      "Name: Weekly, dtype: float64\n",
      "165    39664.0\n",
      "Name: Weekly, dtype: float64\n",
      "208    3855.0\n",
      "Name: Weekly, dtype: float64\n",
      "90    1925000.0\n",
      "Name: Weekly, dtype: float64\n",
      "137    1161000.0\n",
      "Name: Weekly, dtype: float64\n",
      "146    756000.0\n",
      "Name: Weekly, dtype: float64\n",
      "226    530000.0\n",
      "Name: Weekly, dtype: float64\n",
      "250    456000.0\n",
      "Name: Weekly, dtype: float64\n",
      "91    252664.0\n",
      "Name: Weekly, dtype: float64\n",
      "121    264534.0\n",
      "Name: Weekly, dtype: float64\n",
      "161    143954.0\n",
      "Name: Weekly, dtype: float64\n",
      "219    53946.0\n",
      "Name: Weekly, dtype: float64\n",
      "266    30698.0\n",
      "Name: Weekly, dtype: float64\n",
      "277    6318.0\n",
      "Name: Weekly, dtype: float64\n",
      "93    138237.0\n",
      "Name: Weekly, dtype: float64\n",
      "114    139081.0\n",
      "Name: Weekly, dtype: float64\n",
      "172    88555.0\n",
      "Name: Weekly, dtype: float64\n",
      "192    63839.0\n",
      "Name: Weekly, dtype: float64\n",
      "230    47866.0\n",
      "Name: Weekly, dtype: float64\n",
      "287    21864.0\n",
      "Name: Weekly, dtype: float64\n",
      "325    4960.0\n",
      "Name: Weekly, dtype: float64\n",
      "352    1014.0\n",
      "Name: Weekly, dtype: float64\n",
      "375    330.0\n",
      "Name: Weekly, dtype: float64\n",
      "113    35098.0\n",
      "Name: Weekly, dtype: float64\n",
      "131    44250.0\n",
      "Name: Weekly, dtype: float64\n",
      "166    23932.0\n",
      "Name: Weekly, dtype: float64\n",
      "209    15944.0\n",
      "Name: Weekly, dtype: float64\n",
      "249    10840.0\n",
      "Name: Weekly, dtype: float64\n",
      "271    11237.0\n",
      "Name: Weekly, dtype: float64\n",
      "322    8056.0\n",
      "Name: Weekly, dtype: float64\n",
      "339    2168.0\n",
      "Name: Weekly, dtype: float64\n",
      "115    603000.0\n",
      "Name: Weekly, dtype: float64\n",
      "173    131000.0\n",
      "Name: Weekly, dtype: float64\n",
      "117    91943.0\n",
      "Name: Weekly, dtype: float64\n",
      "174    76665.0\n",
      "Name: Weekly, dtype: float64\n",
      "198    14632.0\n",
      "Name: Weekly, dtype: float64\n",
      "241    1786.0\n",
      "Name: Weekly, dtype: float64\n",
      "119    24397.0\n",
      "Name: Weekly, dtype: float64\n",
      "164    20385.0\n",
      "Name: Weekly, dtype: float64\n",
      "223    11459.0\n",
      "Name: Weekly, dtype: float64\n",
      "264    4331.0\n",
      "Name: Weekly, dtype: float64\n",
      "280    4898.0\n",
      "Name: Weekly, dtype: float64\n",
      "314    3742.0\n",
      "Name: Weekly, dtype: float64\n",
      "367    1494.0\n",
      "Name: Weekly, dtype: float64\n",
      "398    136.0\n",
      "Name: Weekly, dtype: float64\n",
      "433    257.0\n",
      "Name: Weekly, dtype: float64\n",
      "446    145.0\n",
      "Name: Weekly, dtype: float64\n",
      "462    115.0\n",
      "Name: Weekly, dtype: float64\n",
      "120    150330.0\n",
      "Name: Weekly, dtype: float64\n",
      "162    140059.0\n",
      "Name: Weekly, dtype: float64\n",
      "188    38979.0\n",
      "Name: Weekly, dtype: float64\n",
      "265    7485.0\n",
      "Name: Weekly, dtype: float64\n",
      "278    7430.0\n",
      "Name: Weekly, dtype: float64\n",
      "312    3728.0\n",
      "Name: Weekly, dtype: float64\n",
      "138    30223.0\n",
      "Name: Weekly, dtype: float64\n",
      "158    17177.0\n",
      "Name: Weekly, dtype: float64\n",
      "224    2276.0\n",
      "Name: Weekly, dtype: float64\n",
      "143    10935.0\n",
      "Name: Weekly, dtype: float64\n",
      "160    18899.0\n",
      "Name: Weekly, dtype: float64\n",
      "218    5019.0\n",
      "Name: Weekly, dtype: float64\n",
      "245    1159.0\n",
      "Name: Weekly, dtype: float64\n",
      "275    803.0\n",
      "Name: Weekly, dtype: float64\n",
      "301    220.0\n",
      "Name: Weekly, dtype: float64\n",
      "144    3623880.0\n",
      "Name: Weekly, dtype: float64\n",
      "153    3636975.0\n",
      "Name: Weekly, dtype: float64\n",
      "190    2489361.0\n",
      "Name: Weekly, dtype: float64\n",
      "233    1728709.0\n",
      "Name: Weekly, dtype: float64\n",
      "283    1930168.0\n",
      "Name: Weekly, dtype: float64\n",
      "304    1814182.0\n",
      "Name: Weekly, dtype: float64\n",
      "342    973453.0\n",
      "Name: Weekly, dtype: float64\n",
      "395    1009656.0\n",
      "Name: Weekly, dtype: float64\n",
      "423    414811.0\n",
      "Name: Weekly, dtype: float64\n",
      "436    341629.0\n",
      "Name: Weekly, dtype: float64\n",
      "477    230978.0\n",
      "Name: Weekly, dtype: float64\n",
      "498    200734.0\n",
      "Name: Weekly, dtype: float64\n",
      "147    3607966.0\n",
      "Name: Weekly, dtype: float64\n",
      "221    3364941.0\n",
      "Name: Weekly, dtype: float64\n",
      "246    2078045.0\n",
      "Name: Weekly, dtype: float64\n",
      "276    1619272.0\n",
      "Name: Weekly, dtype: float64\n",
      "329    1184504.0\n",
      "Name: Weekly, dtype: float64\n",
      "353    642302.0\n",
      "Name: Weekly, dtype: float64\n",
      "388    537113.0\n",
      "Name: Weekly, dtype: float64\n",
      "424    282588.0\n",
      "Name: Weekly, dtype: float64\n",
      "451    196871.0\n",
      "Name: Weekly, dtype: float64\n",
      "489    109479.0\n",
      "Name: Weekly, dtype: float64\n",
      "505    33104.0\n",
      "Name: Weekly, dtype: float64\n",
      "148    1202.0\n",
      "Name: Weekly, dtype: float64\n",
      "210    786.0\n",
      "Name: Weekly, dtype: float64\n",
      "151    5217.0\n",
      "Name: Weekly, dtype: float64\n",
      "201    4186.0\n",
      "Name: Weekly, dtype: float64\n",
      "240    1004.0\n",
      "Name: Weekly, dtype: float64\n",
      "282    567.0\n",
      "Name: Weekly, dtype: float64\n",
      "336    553.0\n",
      "Name: Weekly, dtype: float64\n",
      "152    5545.0\n",
      "Name: Weekly, dtype: float64\n",
      "199    9559.0\n",
      "Name: Weekly, dtype: float64\n",
      "258    2181.0\n",
      "Name: Weekly, dtype: float64\n",
      "163    1323000.0\n",
      "Name: Weekly, dtype: float64\n",
      "195    577000.0\n",
      "Name: Weekly, dtype: float64\n",
      "232    386000.0\n",
      "Name: Weekly, dtype: float64\n",
      "177    83295.0\n",
      "Name: Weekly, dtype: float64\n",
      "217    50890.0\n",
      "Name: Weekly, dtype: float64\n",
      "262    2183.0\n",
      "Name: Weekly, dtype: float64\n",
      "179    6455.0\n",
      "Name: Weekly, dtype: float64\n",
      "214    5236.0\n",
      "Name: Weekly, dtype: float64\n",
      "261    2060.0\n",
      "Name: Weekly, dtype: float64\n",
      "295    756.0\n",
      "Name: Weekly, dtype: float64\n",
      "327    257.0\n",
      "Name: Weekly, dtype: float64\n",
      "363    25.0\n",
      "Name: Weekly, dtype: float64\n",
      "181    522937.0\n",
      "Name: Weekly, dtype: float64\n",
      "215    466255.0\n",
      "Name: Weekly, dtype: float64\n",
      "260    205570.0\n",
      "Name: Weekly, dtype: float64\n",
      "269    102804.0\n",
      "Name: Weekly, dtype: float64\n",
      "318    39604.0\n",
      "Name: Weekly, dtype: float64\n",
      "340    8781.0\n",
      "Name: Weekly, dtype: float64\n",
      "380    2718.0\n",
      "Name: Weekly, dtype: float64\n",
      "415    862.0\n",
      "Name: Weekly, dtype: float64\n",
      "434    114.0\n",
      "Name: Weekly, dtype: float64\n",
      "184    270302.0\n",
      "Name: Weekly, dtype: float64\n",
      "222    308776.0\n",
      "Name: Weekly, dtype: float64\n",
      "259    194214.0\n",
      "Name: Weekly, dtype: float64\n",
      "294    154533.0\n",
      "Name: Weekly, dtype: float64\n",
      "316    120688.0\n",
      "Name: Weekly, dtype: float64\n",
      "364    22201.0\n",
      "Name: Weekly, dtype: float64\n",
      "186    140218.0\n",
      "Name: Weekly, dtype: float64\n",
      "205    162473.0\n",
      "Name: Weekly, dtype: float64\n",
      "244    51554.0\n",
      "Name: Weekly, dtype: float64\n",
      "273    8938.0\n",
      "Name: Weekly, dtype: float64\n",
      "330    955.0\n",
      "Name: Weekly, dtype: float64\n",
      "187    282841.0\n",
      "Name: Weekly, dtype: float64\n",
      "263    302696.0\n",
      "Name: Weekly, dtype: float64\n",
      "292    87471.0\n",
      "Name: Weekly, dtype: float64\n",
      "320    5918.0\n",
      "Name: Weekly, dtype: float64\n",
      "200    404489.0\n",
      "Name: Weekly, dtype: float64\n",
      "256    5776.0\n",
      "Name: Weekly, dtype: float64\n",
      "206    1310326.0\n",
      "Name: Weekly, dtype: float64\n",
      "237    974702.0\n",
      "Name: Weekly, dtype: float64\n",
      "297    456799.0\n",
      "Name: Weekly, dtype: float64\n",
      "335    179811.0\n",
      "Name: Weekly, dtype: float64\n",
      "351    44281.0\n",
      "Name: Weekly, dtype: float64\n",
      "370    13296.0\n",
      "Name: Weekly, dtype: float64\n",
      "429    3631.0\n",
      "Name: Weekly, dtype: float64\n",
      "443    5843.0\n",
      "Name: Weekly, dtype: float64\n",
      "468    3867.0\n",
      "Name: Weekly, dtype: float64\n",
      "518    842.0\n",
      "Name: Weekly, dtype: float64\n",
      "211    494000.0\n",
      "Name: Weekly, dtype: float64\n",
      "253    232000.0\n",
      "Name: Weekly, dtype: float64\n",
      "227    422899.0\n",
      "Name: Weekly, dtype: float64\n",
      "236    169429.0\n",
      "Name: Weekly, dtype: float64\n",
      "293    99246.0\n",
      "Name: Weekly, dtype: float64\n",
      "332    33124.0\n",
      "Name: Weekly, dtype: float64\n",
      "337    6047.0\n",
      "Name: Weekly, dtype: float64\n",
      "371    2290.0\n",
      "Name: Weekly, dtype: float64\n",
      "431    957.0\n",
      "Name: Weekly, dtype: float64\n",
      "459    179.0\n",
      "Name: Weekly, dtype: float64\n",
      "491    39.0\n",
      "Name: Weekly, dtype: float64\n",
      "234    3119875.0\n",
      "Name: Weekly, dtype: float64\n",
      "298    2605030.0\n",
      "Name: Weekly, dtype: float64\n",
      "306    1564990.0\n",
      "Name: Weekly, dtype: float64\n",
      "343    777275.0\n",
      "Name: Weekly, dtype: float64\n",
      "390    591625.0\n",
      "Name: Weekly, dtype: float64\n",
      "412    316900.0\n",
      "Name: Weekly, dtype: float64\n",
      "456    234140.0\n",
      "Name: Weekly, dtype: float64\n",
      "486    158405.0\n",
      "Name: Weekly, dtype: float64\n",
      "496    102040.0\n",
      "Name: Weekly, dtype: float64\n",
      "238    128000.0\n",
      "Name: Weekly, dtype: float64\n",
      "254    206591.0\n",
      "Name: Weekly, dtype: float64\n",
      "288    186303.0\n",
      "Name: Weekly, dtype: float64\n",
      "315    91819.0\n",
      "Name: Weekly, dtype: float64\n",
      "361    15391.0\n",
      "Name: Weekly, dtype: float64\n",
      "267    133475.0\n",
      "Name: Weekly, dtype: float64\n",
      "331    115256.0\n",
      "Name: Weekly, dtype: float64\n",
      "365    37442.0\n",
      "Name: Weekly, dtype: float64\n",
      "386    14287.0\n",
      "Name: Weekly, dtype: float64\n",
      "268    505000.0\n",
      "Name: Weekly, dtype: float64\n",
      "307    222000.0\n",
      "Name: Weekly, dtype: float64\n",
      "284    4000470.0\n",
      "Name: Weekly, dtype: float64\n",
      "319    2832430.0\n",
      "Name: Weekly, dtype: float64\n",
      "359    1110540.0\n",
      "Name: Weekly, dtype: float64\n",
      "381    763680.0\n",
      "Name: Weekly, dtype: float64\n",
      "407    317885.0\n",
      "Name: Weekly, dtype: float64\n",
      "448    184925.0\n",
      "Name: Weekly, dtype: float64\n",
      "470    94840.0\n",
      "Name: Weekly, dtype: float64\n",
      "504    37620.0\n",
      "Name: Weekly, dtype: float64\n",
      "296    6795.0\n",
      "Name: Weekly, dtype: float64\n",
      "321    1667.0\n",
      "Name: Weekly, dtype: float64\n",
      "300    274631.0\n",
      "Name: Weekly, dtype: float64\n",
      "324    404260.0\n",
      "Name: Weekly, dtype: float64\n",
      "347    248896.0\n",
      "Name: Weekly, dtype: float64\n",
      "402    190020.0\n",
      "Name: Weekly, dtype: float64\n",
      "417    83064.0\n",
      "Name: Weekly, dtype: float64\n",
      "305    106084.0\n",
      "Name: Weekly, dtype: float64\n",
      "346    59472.0\n",
      "Name: Weekly, dtype: float64\n",
      "399    16449.0\n",
      "Name: Weekly, dtype: float64\n",
      "416    1418.0\n",
      "Name: Weekly, dtype: float64\n",
      "308    406000.0\n",
      "Name: Weekly, dtype: float64\n",
      "348    136000.0\n",
      "Name: Weekly, dtype: float64\n"
     ]
    },
    {
     "name": "stdout",
     "output_type": "stream",
     "text": [
      "310    3600355.0\n",
      "Name: Weekly, dtype: float64\n",
      "355    2053090.0\n",
      "Name: Weekly, dtype: float64\n",
      "394    1389310.0\n",
      "Name: Weekly, dtype: float64\n",
      "420    713195.0\n",
      "Name: Weekly, dtype: float64\n",
      "453    477130.0\n",
      "Name: Weekly, dtype: float64\n",
      "483    283500.0\n",
      "Name: Weekly, dtype: float64\n",
      "515    144380.0\n",
      "Name: Weekly, dtype: float64\n",
      "311    170000.0\n",
      "Name: Weekly, dtype: float64\n",
      "366    180000.0\n",
      "Name: Weekly, dtype: float64\n",
      "391    430000.0\n",
      "Name: Weekly, dtype: float64\n",
      "406    315000.0\n",
      "Name: Weekly, dtype: float64\n",
      "454    400000.0\n",
      "Name: Weekly, dtype: float64\n",
      "484    365000.0\n",
      "Name: Weekly, dtype: float64\n",
      "494    115000.0\n",
      "Name: Weekly, dtype: float64\n",
      "333    87552.0\n",
      "Name: Weekly, dtype: float64\n",
      "338    23383.0\n",
      "Name: Weekly, dtype: float64\n",
      "387    7250.0\n",
      "Name: Weekly, dtype: float64\n",
      "341    380428.0\n",
      "Name: Weekly, dtype: float64\n",
      "376    301009.0\n",
      "Name: Weekly, dtype: float64\n",
      "421    85227.0\n",
      "Name: Weekly, dtype: float64\n",
      "435    26861.0\n",
      "Name: Weekly, dtype: float64\n",
      "344    150497.0\n",
      "Name: Weekly, dtype: float64\n",
      "400    174157.0\n",
      "Name: Weekly, dtype: float64\n",
      "411    70860.0\n",
      "Name: Weekly, dtype: float64\n",
      "457    10390.0\n",
      "Name: Weekly, dtype: float64\n",
      "350    200000.0\n",
      "Name: Weekly, dtype: float64\n",
      "356    103839.0\n",
      "Name: Weekly, dtype: float64\n",
      "372    156728.0\n",
      "Name: Weekly, dtype: float64\n",
      "422    77126.0\n",
      "Name: Weekly, dtype: float64\n",
      "442    61846.0\n",
      "Name: Weekly, dtype: float64\n",
      "469    49287.0\n",
      "Name: Weekly, dtype: float64\n",
      "519    46844.0\n",
      "Name: Weekly, dtype: float64\n",
      "357    225691.0\n",
      "Name: Weekly, dtype: float64\n",
      "401    263144.0\n",
      "Name: Weekly, dtype: float64\n",
      "403    115299.0\n",
      "Name: Weekly, dtype: float64\n",
      "439    57223.0\n",
      "Name: Weekly, dtype: float64\n",
      "472    20917.0\n",
      "Name: Weekly, dtype: float64\n",
      "497    1271.0\n",
      "Name: Weekly, dtype: float64\n",
      "362    461000.0\n",
      "Name: Weekly, dtype: float64\n",
      "389    245000.0\n",
      "Name: Weekly, dtype: float64\n",
      "368    15141.0\n",
      "Name: Weekly, dtype: float64\n",
      "392    10662.0\n",
      "Name: Weekly, dtype: float64\n",
      "404    1197.0\n",
      "Name: Weekly, dtype: float64\n",
      "369    82000.0\n",
      "Name: Weekly, dtype: float64\n",
      "405    81000.0\n",
      "Name: Weekly, dtype: float64\n",
      "373    101.0\n",
      "Name: Weekly, dtype: float64\n",
      "374    14274455.0\n",
      "Name: Weekly, dtype: float64\n",
      "427    6065810.0\n",
      "Name: Weekly, dtype: float64\n",
      "444    3970375.0\n",
      "Name: Weekly, dtype: float64\n",
      "467    2797865.0\n",
      "Name: Weekly, dtype: float64\n",
      "516    3253840.0\n",
      "Name: Weekly, dtype: float64\n",
      "378    2994.0\n",
      "Name: Weekly, dtype: float64\n",
      "432    1515.0\n",
      "Name: Weekly, dtype: float64\n",
      "449    135.0\n",
      "Name: Weekly, dtype: float64\n",
      "379    88.0\n",
      "Name: Weekly, dtype: float64\n",
      "382    5964.0\n",
      "Name: Weekly, dtype: float64\n",
      "408    1749.0\n",
      "Name: Weekly, dtype: float64\n",
      "384    220000.0\n",
      "Name: Weekly, dtype: float64\n",
      "413    155000.0\n",
      "Name: Weekly, dtype: float64\n",
      "447    239000.0\n",
      "Name: Weekly, dtype: float64\n",
      "464    166000.0\n",
      "Name: Weekly, dtype: float64\n",
      "507    91000.0\n",
      "Name: Weekly, dtype: float64\n",
      "393    157.0\n",
      "Name: Weekly, dtype: float64\n",
      "396    155000.0\n",
      "Name: Weekly, dtype: float64\n",
      "426    60000.0\n",
      "Name: Weekly, dtype: float64\n",
      "409    155000.0\n",
      "Name: Weekly, dtype: float64\n",
      "437    245000.0\n",
      "Name: Weekly, dtype: float64\n",
      "475    231000.0\n",
      "Name: Weekly, dtype: float64\n",
      "492    60000.0\n",
      "Name: Weekly, dtype: float64\n",
      "410    81000.0\n",
      "Name: Weekly, dtype: float64\n",
      "440    160000.0\n",
      "Name: Weekly, dtype: float64\n",
      "479    115000.0\n",
      "Name: Weekly, dtype: float64\n",
      "499    35000.0\n",
      "Name: Weekly, dtype: float64\n",
      "414    189000.0\n",
      "Name: Weekly, dtype: float64\n",
      "455    136000.0\n",
      "Name: Weekly, dtype: float64\n",
      "418    370315.0\n",
      "Name: Weekly, dtype: float64\n",
      "458    320510.0\n",
      "Name: Weekly, dtype: float64\n",
      "490    142505.0\n",
      "Name: Weekly, dtype: float64\n",
      "500    52985.0\n",
      "Name: Weekly, dtype: float64\n",
      "419    54602.0\n",
      "Name: Weekly, dtype: float64\n",
      "441    33288.0\n",
      "Name: Weekly, dtype: float64\n",
      "471    7440.0\n",
      "Name: Weekly, dtype: float64\n",
      "425    2148.0\n",
      "Name: Weekly, dtype: float64\n",
      "445    1137.0\n",
      "Name: Weekly, dtype: float64\n",
      "430    700160.0\n",
      "Name: Weekly, dtype: float64\n",
      "452    686390.0\n",
      "Name: Weekly, dtype: float64\n",
      "485    422485.0\n",
      "Name: Weekly, dtype: float64\n",
      "509    181715.0\n",
      "Name: Weekly, dtype: float64\n",
      "450    134000.0\n",
      "Name: Weekly, dtype: float64\n",
      "482    130000.0\n",
      "Name: Weekly, dtype: float64\n",
      "503    30000.0\n",
      "Name: Weekly, dtype: float64\n",
      "460    95360.0\n",
      "Name: Weekly, dtype: float64\n",
      "478    99781.0\n",
      "Name: Weekly, dtype: float64\n",
      "511    18568.0\n",
      "Name: Weekly, dtype: float64\n",
      "461    189000.0\n",
      "Name: Weekly, dtype: float64\n",
      "481    63000.0\n",
      "Name: Weekly, dtype: float64\n",
      "463    2201269.0\n",
      "Name: Weekly, dtype: float64\n",
      "506    1590306.0\n",
      "Name: Weekly, dtype: float64\n",
      "465    1070.0\n",
      "Name: Weekly, dtype: float64\n",
      "466    95000.0\n",
      "Name: Weekly, dtype: float64\n",
      "514    14000.0\n",
      "Name: Weekly, dtype: float64\n",
      "473    92000.0\n",
      "Name: Weekly, dtype: float64\n",
      "495    8000.0\n",
      "Name: Weekly, dtype: float64\n",
      "476    9674.0\n",
      "Name: Weekly, dtype: float64\n",
      "493    7802.0\n",
      "Name: Weekly, dtype: float64\n",
      "480    44000.0\n",
      "Name: Weekly, dtype: float64\n",
      "487    50000.0\n",
      "Name: Weekly, dtype: float64\n",
      "488    918112.0\n",
      "Name: Weekly, dtype: float64\n",
      "502    1043235.0\n",
      "Name: Weekly, dtype: float64\n",
      "508    2250430.0\n",
      "Name: Weekly, dtype: float64\n",
      "510    268259.0\n",
      "Name: Weekly, dtype: float64\n",
      "512    719305.0\n",
      "Name: Weekly, dtype: float64\n",
      "513    35000.0\n",
      "Name: Weekly, dtype: float64\n",
      "517    25000.0\n",
      "Name: Weekly, dtype: float64\n",
      "520    35000.0\n",
      "Name: Weekly, dtype: float64\n",
      "DONE\n"
     ]
    }
   ],
   "source": [
    "import sched, time\n",
    "from datetime import date, timedelta, datetime\n",
    "import pandas as pd\n",
    "from bs4 import BeautifulSoup\n",
    "import requests\n",
    "import gtab\n",
    "import numpy as np\n",
    "import datetime\n",
    "import re\n",
    "\n",
    "\n",
    "#DOWNLOAD_PERIOD = 604800\n",
    "\n",
    "def add_target(df_weekly):\n",
    "    '''Matches a row with the next weeks 'Weekly' columns which is target variable.  Performed in \n",
    "        this way instead of using merge to avoid SettingWithCopyWarning'''  \n",
    "    df_temp = pd.read_csv('3_mo_weekly.csv', sep='\\t')\n",
    "    df_weekly = df_temp.append(df_weekly, ignore_index=True)\n",
    "    df_weekly['Date'] = df_weekly['Date'].astype('datetime64[ns]')\n",
    "    df_weekly['Y'] = df_weekly['Date'].apply(lambda x: x + timedelta(days=7))\n",
    "    df_weekly['Week + 1'] = pd.Series(np.zeros(df_weekly.shape[0]))\n",
    "    for movie in df_weekly['Release'].unique():\n",
    "        for date in df_weekly[df_weekly['Release'] == movie]['Date']:\n",
    "            df_weekly.loc[(df_weekly['Release'] == movie) & (df_weekly['Y'] == date), 'Week + 1'] = float(df_weekly.loc[(df_weekly['Release'] == movie) & (df_weekly['Date'] == date)]['Weekly'])\n",
    "            df_weekly['Week + 1'].fillna(0, inplace=True)\n",
    "    return df_weekly\n",
    "\n",
    "\n",
    "def to_weekly(df):\n",
    "    '''Combines daily into weekly data, divides by 7 where appropriate, removes data points with 'Weekly' == 0'''\n",
    "        #convert date column into datetime object\n",
    "    df['Date'] = df['Date'].astype('datetime64[ns]')\n",
    "    #convert daily data to weekly\n",
    "    df_weekly = df.groupby(\"Release\").resample('W-Mon', label='left', closed = 'left', on='Date').sum().reset_index().sort_values(by='Date')\n",
    "    df_weekly['Avg TD'] = df_weekly['TD'].apply(lambda x: x/7)\n",
    "    df_weekly = df_weekly.drop('TD', axis=1)\n",
    "    df_weekly['Avg YD'] = df_weekly['YD'].apply(lambda x: x/7)\n",
    "    df_weekly = df_weekly.drop('YD', axis=1)\n",
    "    df_weekly['Weekly'] = df_weekly['Daily']  \n",
    "    df_weekly = df_weekly.drop('Daily', axis=1)\n",
    "    df_weekly['Weekly %+-YD'] = df_weekly['%+-YD'] \n",
    "    df_weekly['Weekly %+-LW'] = df_weekly['%+-LW'] \n",
    "    df_weekly['Avg Theatre'] = df_weekly['Theatre'].apply(lambda x: x/7)\n",
    "    df_weekly = df_weekly.drop('Theatre', axis=1)\n",
    "    df_weekly['Avg per Theatre Avg'] = df_weekly['Avg'].apply(lambda x: x/7)\n",
    "    df_weekly = df_weekly.drop('Avg', axis=1)\n",
    "    df_weekly['Avg To Date'] = df_weekly['To Date'].apply(lambda x: x/7)\n",
    "    df_weekly = df_weekly.drop('To Date', axis=1)\n",
    "    df_weekly = df_weekly[df_weekly.Weekly != 0]\n",
    "    \n",
    "    return df_weekly\n",
    "    \n",
    "\n",
    "def edit_df(df):\n",
    "    \"\"\"Removes $,%,- and converts str to int or float\"\"\"\n",
    "    df['Daily'] = df.Daily.apply(lambda x: x.strip('$'))\n",
    "    df['%+-YD'] = df['%+-YD'].apply(lambda x: x.strip('%'))\n",
    "    df['%+-LW'] = df['%+-LW'].apply(lambda x: x.strip('%'))\n",
    "    df['Avg'] = df['Avg'].apply(lambda x: x.strip('$'))\n",
    "    df['To Date'] = df['To Date'].apply(lambda x: x.strip('$'))\n",
    "    df['Distributor'] = df.Distributor.apply(lambda x: x[0:-2])\n",
    "\n",
    "    df = df.replace(',','', regex=True)\n",
    "    df = df.replace('-', '0') #SHOUOLD BE NAN\n",
    "    df = df.replace('<0.1', '0')\n",
    "    \n",
    "    df['Theatre'] = df['Theatre'].astype(float)\n",
    "    df['Days'] = df['Days'].astype(float)\n",
    "    df['Daily'] = df.Daily.astype(float)\n",
    "    df['%+-YD'] = df['%+-YD'].astype(float)\n",
    "    df['%+-LW'] = df['%+-LW'].astype(float)\n",
    "    df['Avg'] = df['Avg'].astype(float)\n",
    "    df['To Date'] = df['To Date'].astype(float)\n",
    "    df['TD'] = df['TD'].astype(float)\n",
    "    df['YD'] = df['YD'].astype(float)\n",
    "    return df\n",
    "\n",
    "def google_trends(df, d1, d2):\n",
    "    \"\"\"Pulls movie data from google trends and merges\"\"\"\n",
    "    df.loc[:, 'google trends'] = 0\n",
    "    for movie in df['Release'].unique():\n",
    "        count = 0\n",
    "        while True:\n",
    "            if count == 5:\n",
    "                break\n",
    "            try:\n",
    "                movie_search_term = re.sub('\\:.*$', '', movie)\n",
    "                movie_search_term = re.sub('2020 Re-release', '', movie_search_term)\n",
    "                movie_search_term = movie_search_term + ' movie'\n",
    "\n",
    "                t = gtab.GTAB();\n",
    "                t.set_options(pytrends_config={\"timeframe\": f\"{str(d1)} {str(d2)}\"}); \n",
    "                query = t.new_query(movie_search_term);\n",
    "\n",
    "                for date in query.index:\n",
    "                    df.loc[df['Release'].eq(movie) & df['Date'].eq(date), 'google trends'] = query.loc[date, 'max_ratio']\n",
    "            except:\n",
    "                count += 1\n",
    "                continue\n",
    "            break\n",
    "    return df\n",
    "\n",
    "def get_data():\n",
    "    '''Scrapes data from boxofficemojo with beautiful soup'''\n",
    "    \n",
    "    #d2 = datetime.date.today() - timedelta(days=2) #Change BACK!\n",
    "    #d1 = d2 - timedelta(days=6)\n",
    "    d2 = datetime.date(2020,12,27)\n",
    "    d1 = datetime.date(2020,12,14)\n",
    "\n",
    "    dd = [d1 + timedelta(days=x) for x in range((d2-d1).days + 1)][::-1]\n",
    "    rows = 0\n",
    "    df = pd.DataFrame(columns = ['Date','TD', 'YD', 'Release', 'Daily', '%+-YD', '%+-LW', 'Theatre', 'Avg', 'To Date', 'Days', 'Distributor'])\n",
    "\n",
    "    for date in dd:\n",
    "        count = 0\n",
    "        while True:\n",
    "            if count == 15:\n",
    "                break\n",
    "            try:\n",
    "                source = requests.get('https://www.boxofficemojo.com/date/'+str(date)+'/').text\n",
    "                soup = BeautifulSoup(source, 'lxml')\n",
    "                table = soup.find('table')\n",
    "                data = table.find_all('tr')\n",
    "\n",
    "            except:\n",
    "                count += 1\n",
    "                continue\n",
    "            break\n",
    "\n",
    "        master_list = []\n",
    "\n",
    "        for row in data:\n",
    "            row_list = [date]\n",
    "            try:\n",
    "                for entry in row.find_all('td'):\n",
    "                    if entry.text == 'false' or entry.text == 'true':\n",
    "                        continue\n",
    "                    row_list.append(entry.text)\n",
    "\n",
    "                if len(row_list) == 12:\n",
    "                    master_list.append(row_list)\n",
    "            except:\n",
    "                continue\n",
    "\n",
    "\n",
    "        for i in range(len(master_list)):\n",
    "            df.loc[rows] = master_list[i]\n",
    "            rows += 1\n",
    "            \n",
    "    df = google_trends(df, d1, d2)\n",
    "    df = edit_df(df) \n",
    "    df_weekly = to_weekly(df)\n",
    "    df_weekly = add_target(df_weekly)\n",
    "\n",
    "        \n",
    "    df_weekly['Date'] = df_weekly['Date'].astype('datetime64[ns]')\n",
    "    df_weekly.to_csv('test.csv', index=False, sep='\\t') \n",
    "    print('DONE')\n",
    "    \n",
    "def is_it_tuesday():\n",
    "    if datetime.datetime.today().weekday() == 4:\n",
    "        get_data() \n",
    "        \n",
    "is_it_tuesday()    \n",
    " \n",
    "#Uncomment this code to use cron job    \n",
    "#def main_loop(timeout=DOWNLOAD_PERIOD):\n",
    "#    scheduler = sched.scheduler(time.time, time.sleep)\n",
    "#    \n",
    "\n",
    "#    def _worker():\n",
    "#        try:\n",
    "#            get_data()\n",
    "#        except Exception as e:\n",
    "#            logger.warning(\"main loop worker ignores exception and continues: {}\".format(e))\n",
    "#        scheduler.enter(timeout, 1, _worker)    # schedule the next event\n",
    "\n",
    "#    scheduler.enter(0, 1, _worker)              # start the first event\n",
    "#    scheduler.run(blocking=True)\n",
    "#main_loop()"
   ]
  },
  {
   "cell_type": "code",
   "execution_count": 5,
   "metadata": {},
   "outputs": [
    {
     "name": "stdout",
     "output_type": "stream",
     "text": [
      "                         Release        Date  %+-YD  %+-LW   Days  \\\n",
      "459            After We Collided  2020-12-07   70.2 -441.0  295.0   \n",
      "460          Wild Mountain Thyme  2020-12-07  -42.4    0.0    6.0   \n",
      "461  Wonder Woman2020 Re-release  2020-12-07  -12.8    0.0    6.0   \n",
      "\n",
      "     google trends     Avg TD     Avg YD    Weekly  Weekly %+-YD  \\\n",
      "459       2.600000  17.428571  14.857143     179.0          70.2   \n",
      "460       0.000000   6.714286   4.428571   95360.0         -42.4   \n",
      "461       2.673684   4.000000   2.571429  189000.0         -12.8   \n",
      "\n",
      "     Weekly %+-LW  Avg Theatre  Avg per Theatre Avg   Avg To Date           Y  \\\n",
      "459        -441.0     4.285714             6.142857  2.045465e+06  2020-12-14   \n",
      "460           0.0   192.857143            30.000000  2.947229e+04  2020-12-14   \n",
      "461           0.0     0.000000             0.000000  5.642857e+04  2020-12-14   \n",
      "\n",
      "     Week + 1  \n",
      "459       0.0  \n",
      "460       0.0  \n",
      "461       0.0  \n"
     ]
    }
   ],
   "source": [
    "import pandas as pd\n",
    "df_weekly = pd.read_csv('3_mo_weekly.csv', sep='\\t')\n",
    "print(df_weekly.tail(3))"
   ]
  },
  {
   "cell_type": "code",
   "execution_count": 11,
   "metadata": {},
   "outputs": [
    {
     "data": {
      "text/plain": [
       "datetime.date(2020, 12, 27)"
      ]
     },
     "execution_count": 11,
     "metadata": {},
     "output_type": "execute_result"
    }
   ],
   "source": [
    "d2 = datetime.date(2020,12,27)\n",
    "d2"
   ]
  },
  {
   "cell_type": "code",
   "execution_count": null,
   "metadata": {},
   "outputs": [],
   "source": []
  }
 ],
 "metadata": {
  "kernelspec": {
   "display_name": "Python 3",
   "language": "python",
   "name": "python3"
  },
  "language_info": {
   "codemirror_mode": {
    "name": "ipython",
    "version": 3
   },
   "file_extension": ".py",
   "mimetype": "text/x-python",
   "name": "python",
   "nbconvert_exporter": "python",
   "pygments_lexer": "ipython3",
   "version": "3.8.3"
  }
 },
 "nbformat": 4,
 "nbformat_minor": 4
}
